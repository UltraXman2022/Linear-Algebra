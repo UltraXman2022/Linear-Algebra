{
 "cells": [
  {
   "cell_type": "markdown",
   "metadata": {},
   "source": [
    "# Statement"
   ]
  },
  {
   "cell_type": "markdown",
   "metadata": {},
   "source": [
    "The Sure Tomorrow insurance company wants to solve several tasks with the help of Machine Learning and you are asked to evaluate that possibility.\n",
    "\n",
    "- Task 1: Find customers who are similar to a given customer. This will help the company's agents with marketing.\n",
    "- Task 2: Predict whether a new customer is likely to receive an insurance benefit. Can a prediction model do better than a dummy model?\n",
    "- Task 3: Predict the number of insurance benefits a new customer is likely to receive using a linear regression model.\n",
    "- Task 4: Protect clients' personal data without breaking the model from the previous task. It's necessary to develop a data transformation algorithm that would make it hard to recover personal information if the data fell into the wrong hands. This is called data masking, or data obfuscation. But the data should be protected in such a way that the quality of machine learning models doesn't suffer. You don't need to pick the best model, just prove that the algorithm works correctly."
   ]
  },
  {
   "cell_type": "markdown",
   "metadata": {},
   "source": [
    "# Data Preprocessing & Exploration\n",
    "\n",
    "## Initialization"
   ]
  },
  {
   "cell_type": "code",
   "execution_count": 1,
   "metadata": {},
   "outputs": [
    {
     "name": "stdout",
     "output_type": "stream",
     "text": [
      "Requirement already satisfied: scikit-learn in /opt/conda/lib/python3.9/site-packages (1.1.1)\n",
      "Requirement already satisfied: numpy>=1.17.3 in /opt/conda/lib/python3.9/site-packages (from scikit-learn) (1.21.1)\n",
      "Requirement already satisfied: joblib>=1.0.0 in /opt/conda/lib/python3.9/site-packages (from scikit-learn) (1.1.0)\n",
      "Requirement already satisfied: scipy>=1.3.2 in /opt/conda/lib/python3.9/site-packages (from scikit-learn) (1.8.0)\n",
      "Requirement already satisfied: threadpoolctl>=2.0.0 in /opt/conda/lib/python3.9/site-packages (from scikit-learn) (3.1.0)\n",
      "Note: you may need to restart the kernel to use updated packages.\n"
     ]
    }
   ],
   "source": [
    "pip install scikit-learn --upgrade"
   ]
  },
  {
   "cell_type": "code",
   "execution_count": 2,
   "metadata": {},
   "outputs": [],
   "source": [
    "import numpy as np\n",
    "import pandas as pd\n",
    "import matplotlib.pyplot as plt\n",
    "from matplotlib.colors import ListedColormap\n",
    "from collections import Counter\n",
    "from scipy.spatial import distance\n",
    "import math\n",
    "\n",
    "import seaborn as sns\n",
    "\n",
    "import sklearn.linear_model\n",
    "import sklearn.metrics\n",
    "import sklearn.neighbors\n",
    "import sklearn.preprocessing\n",
    "from sklearn.preprocessing import MaxAbsScaler\n",
    "from sklearn.preprocessing import StandardScaler\n",
    "from sklearn.pipeline import Pipeline\n",
    "from sklearn.dummy import DummyClassifier\n",
    "\n",
    "from sklearn.model_selection import train_test_split\n",
    "\n",
    "from IPython.display import display\n",
    "\n",
    "import warnings\n",
    "warnings.filterwarnings('ignore')"
   ]
  },
  {
   "cell_type": "markdown",
   "metadata": {},
   "source": [
    "## Load Data"
   ]
  },
  {
   "cell_type": "markdown",
   "metadata": {},
   "source": [
    "Load data and conduct a basic check that it's free from obvious issues."
   ]
  },
  {
   "cell_type": "code",
   "execution_count": 3,
   "metadata": {},
   "outputs": [],
   "source": [
    "df = pd.read_csv('/datasets/insurance_us.csv')"
   ]
  },
  {
   "cell_type": "markdown",
   "metadata": {},
   "source": [
    "We rename the colums to make the code look more consistent with its style."
   ]
  },
  {
   "cell_type": "code",
   "execution_count": 4,
   "metadata": {},
   "outputs": [],
   "source": [
    "df = df.rename(columns={'Gender': 'gender', 'Age': 'age', 'Salary': 'income', 'Family members': 'family_members', 'Insurance benefits': 'insurance_benefits'})"
   ]
  },
  {
   "cell_type": "code",
   "execution_count": 5,
   "metadata": {},
   "outputs": [
    {
     "data": {
      "text/html": [
       "<div>\n",
       "<style scoped>\n",
       "    .dataframe tbody tr th:only-of-type {\n",
       "        vertical-align: middle;\n",
       "    }\n",
       "\n",
       "    .dataframe tbody tr th {\n",
       "        vertical-align: top;\n",
       "    }\n",
       "\n",
       "    .dataframe thead th {\n",
       "        text-align: right;\n",
       "    }\n",
       "</style>\n",
       "<table border=\"1\" class=\"dataframe\">\n",
       "  <thead>\n",
       "    <tr style=\"text-align: right;\">\n",
       "      <th></th>\n",
       "      <th>gender</th>\n",
       "      <th>age</th>\n",
       "      <th>income</th>\n",
       "      <th>family_members</th>\n",
       "      <th>insurance_benefits</th>\n",
       "    </tr>\n",
       "  </thead>\n",
       "  <tbody>\n",
       "    <tr>\n",
       "      <th>398</th>\n",
       "      <td>0</td>\n",
       "      <td>30.0</td>\n",
       "      <td>37700.0</td>\n",
       "      <td>1</td>\n",
       "      <td>0</td>\n",
       "    </tr>\n",
       "    <tr>\n",
       "      <th>3833</th>\n",
       "      <td>1</td>\n",
       "      <td>29.0</td>\n",
       "      <td>43700.0</td>\n",
       "      <td>1</td>\n",
       "      <td>0</td>\n",
       "    </tr>\n",
       "    <tr>\n",
       "      <th>4836</th>\n",
       "      <td>1</td>\n",
       "      <td>38.0</td>\n",
       "      <td>43600.0</td>\n",
       "      <td>1</td>\n",
       "      <td>0</td>\n",
       "    </tr>\n",
       "    <tr>\n",
       "      <th>4572</th>\n",
       "      <td>1</td>\n",
       "      <td>27.0</td>\n",
       "      <td>43400.0</td>\n",
       "      <td>1</td>\n",
       "      <td>0</td>\n",
       "    </tr>\n",
       "    <tr>\n",
       "      <th>636</th>\n",
       "      <td>0</td>\n",
       "      <td>26.0</td>\n",
       "      <td>36100.0</td>\n",
       "      <td>1</td>\n",
       "      <td>0</td>\n",
       "    </tr>\n",
       "    <tr>\n",
       "      <th>2545</th>\n",
       "      <td>0</td>\n",
       "      <td>44.0</td>\n",
       "      <td>38800.0</td>\n",
       "      <td>0</td>\n",
       "      <td>1</td>\n",
       "    </tr>\n",
       "    <tr>\n",
       "      <th>1161</th>\n",
       "      <td>0</td>\n",
       "      <td>19.0</td>\n",
       "      <td>39100.0</td>\n",
       "      <td>3</td>\n",
       "      <td>0</td>\n",
       "    </tr>\n",
       "    <tr>\n",
       "      <th>2230</th>\n",
       "      <td>1</td>\n",
       "      <td>31.0</td>\n",
       "      <td>35400.0</td>\n",
       "      <td>2</td>\n",
       "      <td>0</td>\n",
       "    </tr>\n",
       "    <tr>\n",
       "      <th>148</th>\n",
       "      <td>0</td>\n",
       "      <td>28.0</td>\n",
       "      <td>39000.0</td>\n",
       "      <td>1</td>\n",
       "      <td>0</td>\n",
       "    </tr>\n",
       "    <tr>\n",
       "      <th>2530</th>\n",
       "      <td>1</td>\n",
       "      <td>24.0</td>\n",
       "      <td>43500.0</td>\n",
       "      <td>1</td>\n",
       "      <td>0</td>\n",
       "    </tr>\n",
       "  </tbody>\n",
       "</table>\n",
       "</div>"
      ],
      "text/plain": [
       "      gender   age   income  family_members  insurance_benefits\n",
       "398        0  30.0  37700.0               1                   0\n",
       "3833       1  29.0  43700.0               1                   0\n",
       "4836       1  38.0  43600.0               1                   0\n",
       "4572       1  27.0  43400.0               1                   0\n",
       "636        0  26.0  36100.0               1                   0\n",
       "2545       0  44.0  38800.0               0                   1\n",
       "1161       0  19.0  39100.0               3                   0\n",
       "2230       1  31.0  35400.0               2                   0\n",
       "148        0  28.0  39000.0               1                   0\n",
       "2530       1  24.0  43500.0               1                   0"
      ]
     },
     "metadata": {},
     "output_type": "display_data"
    }
   ],
   "source": [
    "display(df.sample(10, random_state=0))"
   ]
  },
  {
   "cell_type": "code",
   "execution_count": 6,
   "metadata": {},
   "outputs": [
    {
     "name": "stdout",
     "output_type": "stream",
     "text": [
      "<class 'pandas.core.frame.DataFrame'>\n",
      "RangeIndex: 5000 entries, 0 to 4999\n",
      "Data columns (total 5 columns):\n",
      " #   Column              Non-Null Count  Dtype  \n",
      "---  ------              --------------  -----  \n",
      " 0   gender              5000 non-null   int64  \n",
      " 1   age                 5000 non-null   float64\n",
      " 2   income              5000 non-null   float64\n",
      " 3   family_members      5000 non-null   int64  \n",
      " 4   insurance_benefits  5000 non-null   int64  \n",
      "dtypes: float64(2), int64(3)\n",
      "memory usage: 195.4 KB\n"
     ]
    }
   ],
   "source": [
    "df.info()"
   ]
  },
  {
   "cell_type": "code",
   "execution_count": 7,
   "metadata": {},
   "outputs": [],
   "source": [
    "# we may want to fix the age type (from float to int) though this is not critical\n",
    "# write your conversion here if you choose:\n",
    "df.age = df.age.astype('int')"
   ]
  },
  {
   "cell_type": "code",
   "execution_count": 8,
   "metadata": {},
   "outputs": [
    {
     "name": "stdout",
     "output_type": "stream",
     "text": [
      "<class 'pandas.core.frame.DataFrame'>\n",
      "RangeIndex: 5000 entries, 0 to 4999\n",
      "Data columns (total 5 columns):\n",
      " #   Column              Non-Null Count  Dtype  \n",
      "---  ------              --------------  -----  \n",
      " 0   gender              5000 non-null   int64  \n",
      " 1   age                 5000 non-null   int64  \n",
      " 2   income              5000 non-null   float64\n",
      " 3   family_members      5000 non-null   int64  \n",
      " 4   insurance_benefits  5000 non-null   int64  \n",
      "dtypes: float64(1), int64(4)\n",
      "memory usage: 195.4 KB\n"
     ]
    }
   ],
   "source": [
    "# check to see that the conversion was successful\n",
    "df.info()"
   ]
  },
  {
   "cell_type": "code",
   "execution_count": 9,
   "metadata": {},
   "outputs": [],
   "source": [
    "# now have a look at the data's descriptive statistics. \n",
    "# Does everything look okay?"
   ]
  },
  {
   "cell_type": "code",
   "execution_count": 10,
   "metadata": {},
   "outputs": [
    {
     "data": {
      "text/html": [
       "<div>\n",
       "<style scoped>\n",
       "    .dataframe tbody tr th:only-of-type {\n",
       "        vertical-align: middle;\n",
       "    }\n",
       "\n",
       "    .dataframe tbody tr th {\n",
       "        vertical-align: top;\n",
       "    }\n",
       "\n",
       "    .dataframe thead th {\n",
       "        text-align: right;\n",
       "    }\n",
       "</style>\n",
       "<table border=\"1\" class=\"dataframe\">\n",
       "  <thead>\n",
       "    <tr style=\"text-align: right;\">\n",
       "      <th></th>\n",
       "      <th>gender</th>\n",
       "      <th>age</th>\n",
       "      <th>income</th>\n",
       "      <th>family_members</th>\n",
       "      <th>insurance_benefits</th>\n",
       "    </tr>\n",
       "  </thead>\n",
       "  <tbody>\n",
       "    <tr>\n",
       "      <th>count</th>\n",
       "      <td>5000.000000</td>\n",
       "      <td>5000.000000</td>\n",
       "      <td>5000.000000</td>\n",
       "      <td>5000.000000</td>\n",
       "      <td>5000.000000</td>\n",
       "    </tr>\n",
       "    <tr>\n",
       "      <th>mean</th>\n",
       "      <td>0.499000</td>\n",
       "      <td>30.952800</td>\n",
       "      <td>39916.360000</td>\n",
       "      <td>1.194200</td>\n",
       "      <td>0.148000</td>\n",
       "    </tr>\n",
       "    <tr>\n",
       "      <th>std</th>\n",
       "      <td>0.500049</td>\n",
       "      <td>8.440807</td>\n",
       "      <td>9900.083569</td>\n",
       "      <td>1.091387</td>\n",
       "      <td>0.463183</td>\n",
       "    </tr>\n",
       "    <tr>\n",
       "      <th>min</th>\n",
       "      <td>0.000000</td>\n",
       "      <td>18.000000</td>\n",
       "      <td>5300.000000</td>\n",
       "      <td>0.000000</td>\n",
       "      <td>0.000000</td>\n",
       "    </tr>\n",
       "    <tr>\n",
       "      <th>25%</th>\n",
       "      <td>0.000000</td>\n",
       "      <td>24.000000</td>\n",
       "      <td>33300.000000</td>\n",
       "      <td>0.000000</td>\n",
       "      <td>0.000000</td>\n",
       "    </tr>\n",
       "    <tr>\n",
       "      <th>50%</th>\n",
       "      <td>0.000000</td>\n",
       "      <td>30.000000</td>\n",
       "      <td>40200.000000</td>\n",
       "      <td>1.000000</td>\n",
       "      <td>0.000000</td>\n",
       "    </tr>\n",
       "    <tr>\n",
       "      <th>75%</th>\n",
       "      <td>1.000000</td>\n",
       "      <td>37.000000</td>\n",
       "      <td>46600.000000</td>\n",
       "      <td>2.000000</td>\n",
       "      <td>0.000000</td>\n",
       "    </tr>\n",
       "    <tr>\n",
       "      <th>max</th>\n",
       "      <td>1.000000</td>\n",
       "      <td>65.000000</td>\n",
       "      <td>79000.000000</td>\n",
       "      <td>6.000000</td>\n",
       "      <td>5.000000</td>\n",
       "    </tr>\n",
       "  </tbody>\n",
       "</table>\n",
       "</div>"
      ],
      "text/plain": [
       "            gender          age        income  family_members  \\\n",
       "count  5000.000000  5000.000000   5000.000000     5000.000000   \n",
       "mean      0.499000    30.952800  39916.360000        1.194200   \n",
       "std       0.500049     8.440807   9900.083569        1.091387   \n",
       "min       0.000000    18.000000   5300.000000        0.000000   \n",
       "25%       0.000000    24.000000  33300.000000        0.000000   \n",
       "50%       0.000000    30.000000  40200.000000        1.000000   \n",
       "75%       1.000000    37.000000  46600.000000        2.000000   \n",
       "max       1.000000    65.000000  79000.000000        6.000000   \n",
       "\n",
       "       insurance_benefits  \n",
       "count         5000.000000  \n",
       "mean             0.148000  \n",
       "std              0.463183  \n",
       "min              0.000000  \n",
       "25%              0.000000  \n",
       "50%              0.000000  \n",
       "75%              0.000000  \n",
       "max              5.000000  "
      ]
     },
     "metadata": {},
     "output_type": "display_data"
    }
   ],
   "source": [
    "display(df.describe())"
   ]
  },
  {
   "cell_type": "code",
   "execution_count": 11,
   "metadata": {},
   "outputs": [
    {
     "data": {
      "text/plain": [
       "153"
      ]
     },
     "execution_count": 11,
     "metadata": {},
     "output_type": "execute_result"
    }
   ],
   "source": [
    "# check for duplicates\n",
    "df.duplicated().sum()"
   ]
  },
  {
   "cell_type": "code",
   "execution_count": 12,
   "metadata": {},
   "outputs": [
    {
     "data": {
      "text/plain": [
       "0.0306"
      ]
     },
     "execution_count": 12,
     "metadata": {},
     "output_type": "execute_result"
    }
   ],
   "source": [
    "# percentage of duplicates\n",
    "df.duplicated().sum() / df.shape[0]"
   ]
  },
  {
   "cell_type": "code",
   "execution_count": 13,
   "metadata": {},
   "outputs": [
    {
     "data": {
      "text/plain": [
       "('NaNs:', 0)"
      ]
     },
     "execution_count": 13,
     "metadata": {},
     "output_type": "execute_result"
    }
   ],
   "source": [
    "('NaNs:', df.isna().sum().sum())"
   ]
  },
  {
   "cell_type": "markdown",
   "metadata": {},
   "source": [
    "## EDA"
   ]
  },
  {
   "cell_type": "markdown",
   "metadata": {},
   "source": [
    "Let's quickly check whether there are certain groups of customers by looking at the pair plot."
   ]
  },
  {
   "cell_type": "code",
   "execution_count": 14,
   "metadata": {},
   "outputs": [
    {
     "data": {
      "image/png": "[encoded data removed]",
      "text/plain": [
       "<Figure size 864x864 with 30 Axes>"
      ]
     },
     "metadata": {
      "needs_background": "light"
     },
     "output_type": "display_data"
    }
   ],
   "source": [
    "g = sns.pairplot(df, kind='hist')\n",
    "g.fig.set_size_inches(12, 12)"
   ]
  },
  {
   "cell_type": "markdown",
   "metadata": {},
   "source": [
    "Ok, it is a bit difficult to spot obvious groups (clusters) as it is difficult to combine several variables simultaneously (to analyze multivariate distributions). That's where LA and ML can be quite handy."
   ]
  },
  {
   "cell_type": "code",
   "execution_count": 15,
   "metadata": {},
   "outputs": [
    {
     "data": {
      "text/html": [
       "<div>\n",
       "<style scoped>\n",
       "    .dataframe tbody tr th:only-of-type {\n",
       "        vertical-align: middle;\n",
       "    }\n",
       "\n",
       "    .dataframe tbody tr th {\n",
       "        vertical-align: top;\n",
       "    }\n",
       "\n",
       "    .dataframe thead th {\n",
       "        text-align: right;\n",
       "    }\n",
       "</style>\n",
       "<table border=\"1\" class=\"dataframe\">\n",
       "  <thead>\n",
       "    <tr style=\"text-align: right;\">\n",
       "      <th></th>\n",
       "      <th>gender</th>\n",
       "      <th>age</th>\n",
       "      <th>income</th>\n",
       "      <th>family_members</th>\n",
       "      <th>insurance_benefits</th>\n",
       "    </tr>\n",
       "  </thead>\n",
       "  <tbody>\n",
       "    <tr>\n",
       "      <th>gender</th>\n",
       "      <td>1.000000</td>\n",
       "      <td>0.002074</td>\n",
       "      <td>0.014910</td>\n",
       "      <td>-0.008991</td>\n",
       "      <td>0.010140</td>\n",
       "    </tr>\n",
       "    <tr>\n",
       "      <th>age</th>\n",
       "      <td>0.002074</td>\n",
       "      <td>1.000000</td>\n",
       "      <td>-0.019093</td>\n",
       "      <td>-0.006692</td>\n",
       "      <td>0.651030</td>\n",
       "    </tr>\n",
       "    <tr>\n",
       "      <th>income</th>\n",
       "      <td>0.014910</td>\n",
       "      <td>-0.019093</td>\n",
       "      <td>1.000000</td>\n",
       "      <td>-0.030296</td>\n",
       "      <td>-0.014963</td>\n",
       "    </tr>\n",
       "    <tr>\n",
       "      <th>family_members</th>\n",
       "      <td>-0.008991</td>\n",
       "      <td>-0.006692</td>\n",
       "      <td>-0.030296</td>\n",
       "      <td>1.000000</td>\n",
       "      <td>-0.036290</td>\n",
       "    </tr>\n",
       "    <tr>\n",
       "      <th>insurance_benefits</th>\n",
       "      <td>0.010140</td>\n",
       "      <td>0.651030</td>\n",
       "      <td>-0.014963</td>\n",
       "      <td>-0.036290</td>\n",
       "      <td>1.000000</td>\n",
       "    </tr>\n",
       "  </tbody>\n",
       "</table>\n",
       "</div>"
      ],
      "text/plain": [
       "                      gender       age    income  family_members  \\\n",
       "gender              1.000000  0.002074  0.014910       -0.008991   \n",
       "age                 0.002074  1.000000 -0.019093       -0.006692   \n",
       "income              0.014910 -0.019093  1.000000       -0.030296   \n",
       "family_members     -0.008991 -0.006692 -0.030296        1.000000   \n",
       "insurance_benefits  0.010140  0.651030 -0.014963       -0.036290   \n",
       "\n",
       "                    insurance_benefits  \n",
       "gender                        0.010140  \n",
       "age                           0.651030  \n",
       "income                       -0.014963  \n",
       "family_members               -0.036290  \n",
       "insurance_benefits            1.000000  "
      ]
     },
     "execution_count": 15,
     "metadata": {},
     "output_type": "execute_result"
    }
   ],
   "source": [
    "# correlation matrix\n",
    "df.corr()"
   ]
  },
  {
   "cell_type": "markdown",
   "metadata": {},
   "source": [
    "`age` has a moderately positive corr with `insurance_benefits`"
   ]
  },
  {
   "cell_type": "code",
   "execution_count": 16,
   "metadata": {},
   "outputs": [],
   "source": [
    "features_plot= df.drop('insurance_benefits', axis=1)\n",
    "target_plot= df['insurance_benefits']\n",
    "features_plot = np.array(features_plot)\n",
    "target_plot = np.array(target_plot)"
   ]
  },
  {
   "cell_type": "code",
   "execution_count": 17,
   "metadata": {},
   "outputs": [
    {
     "data": {
      "image/png": "[encoded data removed]",
      "text/plain": [
       "<Figure size 1152x360 with 1 Axes>"
      ]
     },
     "metadata": {
      "needs_background": "light"
     },
     "output_type": "display_data"
    }
   ],
   "source": [
    "#Understanding insurance benefits classes distribution.\n",
    "cmap = ListedColormap(['red', 'orange',  'yellow', 'green', 'blue','magenta'])\n",
    "plt.figure(figsize=(16,5))\n",
    "plt.scatter(features_plot[:, 1], features_plot[:, 2], c=target_plot, cmap=cmap, edgecolor='k',s=20)\n",
    "plt.xlabel('Age')\n",
    "plt.ylabel('Income')\n",
    "plt.suptitle('insurance_benefits class distribution related to Income & Age columns', y=1.02)\n",
    "plt.show();"
   ]
  },
  {
   "cell_type": "code",
   "execution_count": 18,
   "metadata": {},
   "outputs": [
    {
     "data": {
      "text/html": [
       "<div>\n",
       "<style scoped>\n",
       "    .dataframe tbody tr th:only-of-type {\n",
       "        vertical-align: middle;\n",
       "    }\n",
       "\n",
       "    .dataframe tbody tr th {\n",
       "        vertical-align: top;\n",
       "    }\n",
       "\n",
       "    .dataframe thead th {\n",
       "        text-align: right;\n",
       "    }\n",
       "</style>\n",
       "<table border=\"1\" class=\"dataframe\">\n",
       "  <thead>\n",
       "    <tr style=\"text-align: right;\">\n",
       "      <th></th>\n",
       "      <th>gender</th>\n",
       "      <th>age</th>\n",
       "      <th>income</th>\n",
       "      <th>family_members</th>\n",
       "      <th>insurance_benefits</th>\n",
       "    </tr>\n",
       "  </thead>\n",
       "  <tbody>\n",
       "    <tr>\n",
       "      <th>228</th>\n",
       "      <td>1</td>\n",
       "      <td>65</td>\n",
       "      <td>39700.0</td>\n",
       "      <td>1</td>\n",
       "      <td>5</td>\n",
       "    </tr>\n",
       "  </tbody>\n",
       "</table>\n",
       "</div>"
      ],
      "text/plain": [
       "     gender  age   income  family_members  insurance_benefits\n",
       "228       1   65  39700.0               1                   5"
      ]
     },
     "execution_count": 18,
     "metadata": {},
     "output_type": "execute_result"
    }
   ],
   "source": [
    "#Graph proof, A single point in magenta (above) in the dataset\n",
    "df.query('insurance_benefits == 5')"
   ]
  },
  {
   "cell_type": "markdown",
   "metadata": {},
   "source": [
    "<hr>\n",
    "<b style=\"font-size: 20px;\">Intermediate conclusions</b>\n",
    "\n",
    "- Our insurance members info columns: `gender`,`age`,`income`,`family_benefits`,`insurance_benfits`\n",
    "\n",
    "\n",
    "- We found that `age` distribution is right-skewed, When the `income` column is normal distributed\n",
    "\n",
    "\n",
    "- No missing values in our data\n",
    "\n",
    "\n",
    "- Our that have 153 duplicated rows (3%) , Since these rows do not interfere we do not see the need to drop them\n",
    "\n",
    "\n",
    "- There is a moderately strong positive correlation between `age` of insured and `insurance_benfits`\n",
    "\n",
    "\n",
    "- We can see that only one customer have the highest score in insurance_benefits  \n",
    "\n",
    "<hr>"
   ]
  },
  {
   "cell_type": "markdown",
   "metadata": {},
   "source": [
    "# Task 1. Similar Customers"
   ]
  },
  {
   "cell_type": "markdown",
   "metadata": {},
   "source": [
    "In the language of ML, it is necessary to develop a procedure that returns k nearest neighbors (objects) for a given object based on the distance between the objects.\n",
    "\n",
    "You may want to review the following lessons (chapter -> lesson)\n",
    "- Distance Between Vectors -> Euclidean Distance\n",
    "- Distance Between Vectors -> Manhattan Distance\n",
    "\n",
    "To solve the task, we can try different distance metrics."
   ]
  },
  {
   "cell_type": "markdown",
   "metadata": {},
   "source": [
    "Write a function that returns k nearest neighbors for an $n^{th}$ object based on a specified distance metric. The number of received insurance benefits should not be taken into account for this task. \n",
    "\n",
    "You can use a ready implementation of the kNN algorithm from scikit-learn (check [the link](https://scikit-learn.org/stable/modules/generated/sklearn.neighbors.NearestNeighbors.html#sklearn.neighbors.NearestNeighbors)) or use your own.\n",
    "\n",
    "Test it for four combination of two cases\n",
    "- Scaling\n",
    "  - the data is not scaled\n",
    "  - the data is scaled with the [MaxAbsScaler](https://scikit-learn.org/stable/modules/generated/sklearn.preprocessing.MaxAbsScaler.html) scaler\n",
    "- Distance Metrics\n",
    "  - Euclidean\n",
    "  - Manhattan\n",
    "\n",
    "Answer these questions:\n",
    "- Does the data being not scaled affect the kNN algorithm? If so, how does that appear?\n",
    "- How similar are the results using the Manhattan distance metric (regardless of the scaling)?"
   ]
  },
  {
   "cell_type": "code",
   "execution_count": 19,
   "metadata": {},
   "outputs": [],
   "source": [
    "feature_names = ['gender', 'age', 'income', 'family_members']"
   ]
  },
  {
   "cell_type": "code",
   "execution_count": 20,
   "metadata": {},
   "outputs": [],
   "source": [
    "def get_knn(df, n, k, metric):\n",
    "    \n",
    "    \"\"\"\n",
    "    Returns k nearest neighbors\n",
    "\n",
    "    :param df: pandas DataFrame used to find similar objects within\n",
    "    :param n: object no for which the nearest neighbours are looked for\n",
    "    :param k: the number of the nearest neighbours to return\n",
    "    :param metric: name of distance metric\n",
    "    \"\"\"\n",
    "    nbrs = sklearn.neighbors.NearestNeighbors(n_neighbors=k, radius=0.4, metric=metric)\n",
    "    nbrs.fit(df[feature_names],df['insurance_benefits'])\n",
    "    nbrs_distances, nbrs_indices = nbrs.kneighbors([df.iloc[n][feature_names]], k, return_distance=True)\n",
    "    \n",
    "    df_res = pd.concat([\n",
    "        df.iloc[nbrs_indices[0]], \n",
    "        pd.DataFrame(nbrs_distances.T, index=nbrs_indices[0], columns=['distance'])\n",
    "        ], axis=1)\n",
    "    \n",
    "    return df_res"
   ]
  },
  {
   "cell_type": "code",
   "execution_count": 21,
   "metadata": {},
   "outputs": [
    {
     "name": "stdout",
     "output_type": "stream",
     "text": [
      "\n",
      "Euclidean distance\n"
     ]
    },
    {
     "data": {
      "text/html": [
       "<div>\n",
       "<style scoped>\n",
       "    .dataframe tbody tr th:only-of-type {\n",
       "        vertical-align: middle;\n",
       "    }\n",
       "\n",
       "    .dataframe tbody tr th {\n",
       "        vertical-align: top;\n",
       "    }\n",
       "\n",
       "    .dataframe thead th {\n",
       "        text-align: right;\n",
       "    }\n",
       "</style>\n",
       "<table border=\"1\" class=\"dataframe\">\n",
       "  <thead>\n",
       "    <tr style=\"text-align: right;\">\n",
       "      <th></th>\n",
       "      <th>gender</th>\n",
       "      <th>age</th>\n",
       "      <th>income</th>\n",
       "      <th>family_members</th>\n",
       "      <th>insurance_benefits</th>\n",
       "      <th>distance</th>\n",
       "    </tr>\n",
       "  </thead>\n",
       "  <tbody>\n",
       "    <tr>\n",
       "      <th>398</th>\n",
       "      <td>0</td>\n",
       "      <td>30</td>\n",
       "      <td>37700.0</td>\n",
       "      <td>1</td>\n",
       "      <td>0</td>\n",
       "      <td>0.000000</td>\n",
       "    </tr>\n",
       "    <tr>\n",
       "      <th>2599</th>\n",
       "      <td>0</td>\n",
       "      <td>32</td>\n",
       "      <td>37700.0</td>\n",
       "      <td>2</td>\n",
       "      <td>0</td>\n",
       "      <td>2.236068</td>\n",
       "    </tr>\n",
       "    <tr>\n",
       "      <th>152</th>\n",
       "      <td>0</td>\n",
       "      <td>26</td>\n",
       "      <td>37700.0</td>\n",
       "      <td>3</td>\n",
       "      <td>0</td>\n",
       "      <td>4.472136</td>\n",
       "    </tr>\n",
       "    <tr>\n",
       "      <th>2039</th>\n",
       "      <td>1</td>\n",
       "      <td>34</td>\n",
       "      <td>37700.0</td>\n",
       "      <td>3</td>\n",
       "      <td>0</td>\n",
       "      <td>4.582576</td>\n",
       "    </tr>\n",
       "    <tr>\n",
       "      <th>2140</th>\n",
       "      <td>1</td>\n",
       "      <td>36</td>\n",
       "      <td>37700.0</td>\n",
       "      <td>1</td>\n",
       "      <td>0</td>\n",
       "      <td>6.082763</td>\n",
       "    </tr>\n",
       "  </tbody>\n",
       "</table>\n",
       "</div>"
      ],
      "text/plain": [
       "      gender  age   income  family_members  insurance_benefits  distance\n",
       "398        0   30  37700.0               1                   0  0.000000\n",
       "2599       0   32  37700.0               2                   0  2.236068\n",
       "152        0   26  37700.0               3                   0  4.472136\n",
       "2039       1   34  37700.0               3                   0  4.582576\n",
       "2140       1   36  37700.0               1                   0  6.082763"
      ]
     },
     "metadata": {},
     "output_type": "display_data"
    },
    {
     "name": "stdout",
     "output_type": "stream",
     "text": [
      "\n",
      "Manhattan distance\n"
     ]
    },
    {
     "data": {
      "text/html": [
       "<div>\n",
       "<style scoped>\n",
       "    .dataframe tbody tr th:only-of-type {\n",
       "        vertical-align: middle;\n",
       "    }\n",
       "\n",
       "    .dataframe tbody tr th {\n",
       "        vertical-align: top;\n",
       "    }\n",
       "\n",
       "    .dataframe thead th {\n",
       "        text-align: right;\n",
       "    }\n",
       "</style>\n",
       "<table border=\"1\" class=\"dataframe\">\n",
       "  <thead>\n",
       "    <tr style=\"text-align: right;\">\n",
       "      <th></th>\n",
       "      <th>gender</th>\n",
       "      <th>age</th>\n",
       "      <th>income</th>\n",
       "      <th>family_members</th>\n",
       "      <th>insurance_benefits</th>\n",
       "      <th>distance</th>\n",
       "    </tr>\n",
       "  </thead>\n",
       "  <tbody>\n",
       "    <tr>\n",
       "      <th>398</th>\n",
       "      <td>0</td>\n",
       "      <td>30</td>\n",
       "      <td>37700.0</td>\n",
       "      <td>1</td>\n",
       "      <td>0</td>\n",
       "      <td>0.0</td>\n",
       "    </tr>\n",
       "    <tr>\n",
       "      <th>2599</th>\n",
       "      <td>0</td>\n",
       "      <td>32</td>\n",
       "      <td>37700.0</td>\n",
       "      <td>2</td>\n",
       "      <td>0</td>\n",
       "      <td>3.0</td>\n",
       "    </tr>\n",
       "    <tr>\n",
       "      <th>152</th>\n",
       "      <td>0</td>\n",
       "      <td>26</td>\n",
       "      <td>37700.0</td>\n",
       "      <td>3</td>\n",
       "      <td>0</td>\n",
       "      <td>6.0</td>\n",
       "    </tr>\n",
       "    <tr>\n",
       "      <th>2039</th>\n",
       "      <td>1</td>\n",
       "      <td>34</td>\n",
       "      <td>37700.0</td>\n",
       "      <td>3</td>\n",
       "      <td>0</td>\n",
       "      <td>7.0</td>\n",
       "    </tr>\n",
       "    <tr>\n",
       "      <th>2140</th>\n",
       "      <td>1</td>\n",
       "      <td>36</td>\n",
       "      <td>37700.0</td>\n",
       "      <td>1</td>\n",
       "      <td>0</td>\n",
       "      <td>7.0</td>\n",
       "    </tr>\n",
       "  </tbody>\n",
       "</table>\n",
       "</div>"
      ],
      "text/plain": [
       "      gender  age   income  family_members  insurance_benefits  distance\n",
       "398        0   30  37700.0               1                   0       0.0\n",
       "2599       0   32  37700.0               2                   0       3.0\n",
       "152        0   26  37700.0               3                   0       6.0\n",
       "2039       1   34  37700.0               3                   0       7.0\n",
       "2140       1   36  37700.0               1                   0       7.0"
      ]
     },
     "metadata": {},
     "output_type": "display_data"
    }
   ],
   "source": [
    "#Testing Euclidean distance on unscaled data\n",
    "print()\n",
    "print(\"Euclidean distance\")\n",
    "display(get_knn(df, 398, 5, distance.euclidean))\n",
    "print()\n",
    "#Testing Manhattan distance on unscaled data\n",
    "print(\"Manhattan distance\")\n",
    "display(get_knn(df, 398, 5, distance.cityblock))"
   ]
  },
  {
   "cell_type": "markdown",
   "metadata": {},
   "source": [
    "Scaling the data."
   ]
  },
  {
   "cell_type": "code",
   "execution_count": 22,
   "metadata": {},
   "outputs": [],
   "source": [
    "#Scaling the data\n",
    "transformer_mas = sklearn.preprocessing.MaxAbsScaler().fit(df[feature_names].to_numpy())\n",
    "\n",
    "df_scaled = df.copy()\n",
    "df_scaled.loc[:, feature_names] = transformer_mas.transform(df[feature_names].to_numpy())"
   ]
  },
  {
   "cell_type": "code",
   "execution_count": 23,
   "metadata": {},
   "outputs": [
    {
     "data": {
      "text/html": [
       "<div>\n",
       "<style scoped>\n",
       "    .dataframe tbody tr th:only-of-type {\n",
       "        vertical-align: middle;\n",
       "    }\n",
       "\n",
       "    .dataframe tbody tr th {\n",
       "        vertical-align: top;\n",
       "    }\n",
       "\n",
       "    .dataframe thead th {\n",
       "        text-align: right;\n",
       "    }\n",
       "</style>\n",
       "<table border=\"1\" class=\"dataframe\">\n",
       "  <thead>\n",
       "    <tr style=\"text-align: right;\">\n",
       "      <th></th>\n",
       "      <th>gender</th>\n",
       "      <th>age</th>\n",
       "      <th>income</th>\n",
       "      <th>family_members</th>\n",
       "      <th>insurance_benefits</th>\n",
       "    </tr>\n",
       "  </thead>\n",
       "  <tbody>\n",
       "    <tr>\n",
       "      <th>398</th>\n",
       "      <td>0.0</td>\n",
       "      <td>0.461538</td>\n",
       "      <td>0.477215</td>\n",
       "      <td>0.166667</td>\n",
       "      <td>0</td>\n",
       "    </tr>\n",
       "    <tr>\n",
       "      <th>3833</th>\n",
       "      <td>1.0</td>\n",
       "      <td>0.446154</td>\n",
       "      <td>0.553165</td>\n",
       "      <td>0.166667</td>\n",
       "      <td>0</td>\n",
       "    </tr>\n",
       "    <tr>\n",
       "      <th>4836</th>\n",
       "      <td>1.0</td>\n",
       "      <td>0.584615</td>\n",
       "      <td>0.551899</td>\n",
       "      <td>0.166667</td>\n",
       "      <td>0</td>\n",
       "    </tr>\n",
       "    <tr>\n",
       "      <th>4572</th>\n",
       "      <td>1.0</td>\n",
       "      <td>0.415385</td>\n",
       "      <td>0.549367</td>\n",
       "      <td>0.166667</td>\n",
       "      <td>0</td>\n",
       "    </tr>\n",
       "    <tr>\n",
       "      <th>636</th>\n",
       "      <td>0.0</td>\n",
       "      <td>0.400000</td>\n",
       "      <td>0.456962</td>\n",
       "      <td>0.166667</td>\n",
       "      <td>0</td>\n",
       "    </tr>\n",
       "  </tbody>\n",
       "</table>\n",
       "</div>"
      ],
      "text/plain": [
       "      gender       age    income  family_members  insurance_benefits\n",
       "398      0.0  0.461538  0.477215        0.166667                   0\n",
       "3833     1.0  0.446154  0.553165        0.166667                   0\n",
       "4836     1.0  0.584615  0.551899        0.166667                   0\n",
       "4572     1.0  0.415385  0.549367        0.166667                   0\n",
       "636      0.0  0.400000  0.456962        0.166667                   0"
      ]
     },
     "metadata": {},
     "output_type": "display_data"
    }
   ],
   "source": [
    "display(df_scaled.sample(5, random_state=0))"
   ]
  },
  {
   "cell_type": "markdown",
   "metadata": {},
   "source": [
    "Now, let's get similar records for a given one for every combination"
   ]
  },
  {
   "cell_type": "code",
   "execution_count": 24,
   "metadata": {},
   "outputs": [
    {
     "name": "stdout",
     "output_type": "stream",
     "text": [
      "\n",
      "Euclidean distance\n"
     ]
    },
    {
     "data": {
      "text/html": [
       "<div>\n",
       "<style scoped>\n",
       "    .dataframe tbody tr th:only-of-type {\n",
       "        vertical-align: middle;\n",
       "    }\n",
       "\n",
       "    .dataframe tbody tr th {\n",
       "        vertical-align: top;\n",
       "    }\n",
       "\n",
       "    .dataframe thead th {\n",
       "        text-align: right;\n",
       "    }\n",
       "</style>\n",
       "<table border=\"1\" class=\"dataframe\">\n",
       "  <thead>\n",
       "    <tr style=\"text-align: right;\">\n",
       "      <th></th>\n",
       "      <th>gender</th>\n",
       "      <th>age</th>\n",
       "      <th>income</th>\n",
       "      <th>family_members</th>\n",
       "      <th>insurance_benefits</th>\n",
       "      <th>distance</th>\n",
       "    </tr>\n",
       "  </thead>\n",
       "  <tbody>\n",
       "    <tr>\n",
       "      <th>398</th>\n",
       "      <td>0.0</td>\n",
       "      <td>0.461538</td>\n",
       "      <td>0.477215</td>\n",
       "      <td>0.166667</td>\n",
       "      <td>0</td>\n",
       "      <td>0.000000</td>\n",
       "    </tr>\n",
       "    <tr>\n",
       "      <th>4366</th>\n",
       "      <td>0.0</td>\n",
       "      <td>0.461538</td>\n",
       "      <td>0.482278</td>\n",
       "      <td>0.166667</td>\n",
       "      <td>0</td>\n",
       "      <td>0.005063</td>\n",
       "    </tr>\n",
       "    <tr>\n",
       "      <th>3242</th>\n",
       "      <td>0.0</td>\n",
       "      <td>0.461538</td>\n",
       "      <td>0.463291</td>\n",
       "      <td>0.166667</td>\n",
       "      <td>0</td>\n",
       "      <td>0.013924</td>\n",
       "    </tr>\n",
       "    <tr>\n",
       "      <th>2041</th>\n",
       "      <td>0.0</td>\n",
       "      <td>0.476923</td>\n",
       "      <td>0.478481</td>\n",
       "      <td>0.166667</td>\n",
       "      <td>0</td>\n",
       "      <td>0.015437</td>\n",
       "    </tr>\n",
       "    <tr>\n",
       "      <th>2238</th>\n",
       "      <td>0.0</td>\n",
       "      <td>0.476923</td>\n",
       "      <td>0.470886</td>\n",
       "      <td>0.166667</td>\n",
       "      <td>0</td>\n",
       "      <td>0.016636</td>\n",
       "    </tr>\n",
       "  </tbody>\n",
       "</table>\n",
       "</div>"
      ],
      "text/plain": [
       "      gender       age    income  family_members  insurance_benefits  distance\n",
       "398      0.0  0.461538  0.477215        0.166667                   0  0.000000\n",
       "4366     0.0  0.461538  0.482278        0.166667                   0  0.005063\n",
       "3242     0.0  0.461538  0.463291        0.166667                   0  0.013924\n",
       "2041     0.0  0.476923  0.478481        0.166667                   0  0.015437\n",
       "2238     0.0  0.476923  0.470886        0.166667                   0  0.016636"
      ]
     },
     "metadata": {},
     "output_type": "display_data"
    },
    {
     "name": "stdout",
     "output_type": "stream",
     "text": [
      "\n",
      "Manhattan distance\n"
     ]
    },
    {
     "data": {
      "text/html": [
       "<div>\n",
       "<style scoped>\n",
       "    .dataframe tbody tr th:only-of-type {\n",
       "        vertical-align: middle;\n",
       "    }\n",
       "\n",
       "    .dataframe tbody tr th {\n",
       "        vertical-align: top;\n",
       "    }\n",
       "\n",
       "    .dataframe thead th {\n",
       "        text-align: right;\n",
       "    }\n",
       "</style>\n",
       "<table border=\"1\" class=\"dataframe\">\n",
       "  <thead>\n",
       "    <tr style=\"text-align: right;\">\n",
       "      <th></th>\n",
       "      <th>gender</th>\n",
       "      <th>age</th>\n",
       "      <th>income</th>\n",
       "      <th>family_members</th>\n",
       "      <th>insurance_benefits</th>\n",
       "      <th>distance</th>\n",
       "    </tr>\n",
       "  </thead>\n",
       "  <tbody>\n",
       "    <tr>\n",
       "      <th>398</th>\n",
       "      <td>0.0</td>\n",
       "      <td>0.461538</td>\n",
       "      <td>0.477215</td>\n",
       "      <td>0.166667</td>\n",
       "      <td>0</td>\n",
       "      <td>0.000000</td>\n",
       "    </tr>\n",
       "    <tr>\n",
       "      <th>4366</th>\n",
       "      <td>0.0</td>\n",
       "      <td>0.461538</td>\n",
       "      <td>0.482278</td>\n",
       "      <td>0.166667</td>\n",
       "      <td>0</td>\n",
       "      <td>0.005063</td>\n",
       "    </tr>\n",
       "    <tr>\n",
       "      <th>3242</th>\n",
       "      <td>0.0</td>\n",
       "      <td>0.461538</td>\n",
       "      <td>0.463291</td>\n",
       "      <td>0.166667</td>\n",
       "      <td>0</td>\n",
       "      <td>0.013924</td>\n",
       "    </tr>\n",
       "    <tr>\n",
       "      <th>2041</th>\n",
       "      <td>0.0</td>\n",
       "      <td>0.476923</td>\n",
       "      <td>0.478481</td>\n",
       "      <td>0.166667</td>\n",
       "      <td>0</td>\n",
       "      <td>0.016650</td>\n",
       "    </tr>\n",
       "    <tr>\n",
       "      <th>2934</th>\n",
       "      <td>0.0</td>\n",
       "      <td>0.461538</td>\n",
       "      <td>0.458228</td>\n",
       "      <td>0.166667</td>\n",
       "      <td>0</td>\n",
       "      <td>0.018987</td>\n",
       "    </tr>\n",
       "  </tbody>\n",
       "</table>\n",
       "</div>"
      ],
      "text/plain": [
       "      gender       age    income  family_members  insurance_benefits  distance\n",
       "398      0.0  0.461538  0.477215        0.166667                   0  0.000000\n",
       "4366     0.0  0.461538  0.482278        0.166667                   0  0.005063\n",
       "3242     0.0  0.461538  0.463291        0.166667                   0  0.013924\n",
       "2041     0.0  0.476923  0.478481        0.166667                   0  0.016650\n",
       "2934     0.0  0.461538  0.458228        0.166667                   0  0.018987"
      ]
     },
     "metadata": {},
     "output_type": "display_data"
    }
   ],
   "source": [
    "#Testing Euclidean distance on unscaled data\n",
    "print()\n",
    "print(\"Euclidean distance\")\n",
    "display(get_knn(df_scaled, 398, 5, distance.euclidean))\n",
    "print()\n",
    "#Testing Manhattan distance on unscaled data\n",
    "print(\"Manhattan distance\")\n",
    "display(get_knn(df_scaled, 398, 5, distance.cityblock))"
   ]
  },
  {
   "cell_type": "markdown",
   "metadata": {},
   "source": [
    "<hr>\n",
    "<b style=\"font-size: 20px;\">Answers our questions</b>"
   ]
  },
  {
   "cell_type": "markdown",
   "metadata": {},
   "source": [
    "<b><u>Does the data being not scaled affect the kNN algorithm? If so, how does that appear?</u></b>\n",
    "\n",
    "Our dataframe been checked as scaled and unscaled and return us a different recored within the dataset\n",
    "\n",
    "- Unscale give our select ID '398' nearest points 2599, 152, 2140, 2039\n",
    "\n",
    "- Scale give our select ID '398' nearest points 4366, 3242, 2041, 2934\n",
    "\n",
    "We understand that our difference answers in our calculation case by: \n",
    "\n",
    "- Unscale , every column has the same weight so our calculations take in consideration the entire database\n",
    "\n",
    "- Scale, the higher values have higher weight so the nearest points choosen taking in consideration the column weight itself\n",
    "\n",
    "The returned results by Euclidean and Manhattan distance are different among the regarding of our data scale or not option , they even take different value in the columns. \n",
    "\n",
    "For example **'family_members'** column:\n",
    "\n",
    "- Unscale all different values [2,3,1,3]\n",
    "\n",
    "- scale the same value represented in the scaled numbers as [0.166667]\n",
    "\n",
    "But when we check the **'income'** column we see the opposite:\n",
    "\n",
    "- Unscale all equal values [37700.0]\n",
    "\n",
    "- scale all different scaled values [0.482278, 0.463291, 0.478481, 0.458228]\n",
    "\n",
    "Our opinion that this happend since the Unscale , have higher value like 377000 has major weight compared to the other column values while calculating distances\n",
    "\n",
    "in our first example we turn out that all the values have the same income of the choosen data point were closer when other income values is heaviest then the others\n",
    "\n",
    "in our second example we change it and insted our weights are equally distribuited for that the reason our calculations of the closest point has been done on every column"
   ]
  },
  {
   "cell_type": "markdown",
   "metadata": {},
   "source": [
    "<hr><b><u>How similar are the results using the Manhattan distance metric (regardless of the scaling)?</u></b>\n",
    "\n",
    "To our **Unscaled** data two distances returned for the same data point, while in 'Euclidean' is float values and 'Manhattan' present in integers\n",
    "\n",
    "Our point 2599 is just rounded to the next integer (2.236068 to 3) , when other change a little bit , 152 from 4.472136 become 6 and 2039 and 2140 from 4.582576 and 6.082763 into 7\n",
    "\n",
    "In our **Scaled** data the points are the same as well , except for the last one , when 'Euclidean' return last nearest point has number 2238 the 'Manhattan' one return id 2934\n",
    "\n",
    "So we see that our distance equal if we consider 4366 and 3242 when since the differnt almost not notecable\n",
    "<hr>"
   ]
  },
  {
   "cell_type": "markdown",
   "metadata": {},
   "source": [
    "# Task 2. Is Customer Likely to Receive Insurance Benefit?"
   ]
  },
  {
   "cell_type": "markdown",
   "metadata": {},
   "source": [
    "In terms of machine learning we can look at this like a binary classification task."
   ]
  },
  {
   "cell_type": "markdown",
   "metadata": {},
   "source": [
    "With `insurance_benefits` being more than zero as the target, evaluate whether the kNN classification approach can do better than a dummy model.\n",
    "\n",
    "Instructions:\n",
    "- Build a KNN-based classifier and measure its quality with the F1 metric for k=1..10 for both the original data and the scaled one. That'd be interesting to see how k may influece the evaluation metric, and whether scaling the data makes any difference. You can use a ready implemention of the kNN classification algorithm from scikit-learn (check [the link](https://scikit-learn.org/stable/modules/generated/sklearn.neighbors.KNeighborsClassifier.html)) or use your own.\n",
    "- Build the dummy model which is just random for this case. It should return \"1\" with some probability. Let's test the model with four probability values: 0, the probability of paying any insurance benefit, 0.5, 1.\n",
    "\n",
    "The probability of paying any insurance benefit can be defined as\n",
    "\n",
    "$$\n",
    "P\\{\\text{insurance benefit received}\\}=\\frac{\\text{number of clients received any insurance benefit}}{\\text{total number of clients}}.\n",
    "$$\n",
    "\n",
    "Split the whole data in the 70:30 proportion for the training/testing parts."
   ]
  },
  {
   "cell_type": "code",
   "execution_count": 25,
   "metadata": {},
   "outputs": [],
   "source": [
    "# calculate the target\n",
    "df['insurance_benefits_received'] = (df['insurance_benefits'] >= 1).astype('int')"
   ]
  },
  {
   "cell_type": "code",
   "execution_count": 26,
   "metadata": {},
   "outputs": [],
   "source": [
    "df.loc[df['insurance_benefits_received'] == True, 'insurance_benefits_received'] = 1\n",
    "df.loc[df['insurance_benefits_received'] == False, 'insurance_benefits_received'] = 0"
   ]
  },
  {
   "cell_type": "code",
   "execution_count": 27,
   "metadata": {},
   "outputs": [
    {
     "name": "stdout",
     "output_type": "stream",
     "text": [
      "0    4436\n",
      "1     564\n",
      "Name: insurance_benefits_received, dtype: int64\n",
      "\n",
      "0    0.8872\n",
      "1    0.1128\n",
      "Name: insurance_benefits_received, dtype: float64\n"
     ]
    }
   ],
   "source": [
    "# check for the class imbalance with value_counts()\n",
    "print(df['insurance_benefits_received'].value_counts())\n",
    "print()\n",
    "print(df['insurance_benefits_received'].value_counts(normalize=True))"
   ]
  },
  {
   "cell_type": "code",
   "execution_count": 28,
   "metadata": {},
   "outputs": [
    {
     "name": "stdout",
     "output_type": "stream",
     "text": [
      "(3500, 4) (3500,)\n",
      "(1500, 4) (1500,)\n"
     ]
    }
   ],
   "source": [
    "#Assigning features and target Unscaled data\n",
    "features = df.drop(['insurance_benefits_received', 'insurance_benefits'], axis=1)\n",
    "target = df['insurance_benefits_received']\n",
    "features_train, features_test, target_train, target_test = train_test_split(features, target, test_size = 0.3, random_state=0)\n",
    "print(features_train.shape, target_train.shape)\n",
    "print(features_test.shape, target_test.shape)"
   ]
  },
  {
   "cell_type": "code",
   "execution_count": 29,
   "metadata": {},
   "outputs": [],
   "source": [
    "#Scaling data\n",
    "scaler = MaxAbsScaler()\n",
    "scaler.fit(features_train)\n",
    "features_train_scaled = scaler.transform(features_train)\n",
    "features_test_scaled = scaler.transform(features_test)"
   ]
  },
  {
   "cell_type": "code",
   "execution_count": 30,
   "metadata": {},
   "outputs": [],
   "source": [
    "df_scaled['insurance_benefits_received'] = (df_scaled['insurance_benefits'] >= 1).astype('int')\n",
    "df_scaled.loc[df['insurance_benefits_received'] == True, 'insurance_benefits_received'] = 1\n",
    "df_scaled.loc[df['insurance_benefits_received'] == False, 'insurance_benefits_received'] = 0"
   ]
  },
  {
   "cell_type": "code",
   "execution_count": 31,
   "metadata": {},
   "outputs": [],
   "source": [
    "def eval_classifier(target_test, predictions):\n",
    "    \n",
    "    f1_score = sklearn.metrics.f1_score(target_test, predictions)\n",
    "    print(f'F1: {f1_score:.2f}')\n",
    "    \n",
    "    cm = sklearn.metrics.confusion_matrix(target_test, predictions,normalize='all')\n",
    "    print('Confusion Matrix')\n",
    "    print(cm)"
   ]
  },
  {
   "cell_type": "code",
   "execution_count": 32,
   "metadata": {},
   "outputs": [],
   "source": [
    "# generating output of a random model\n",
    "\n",
    "def rnd_model_predict(P, size, seed=42):\n",
    "\n",
    "    rng = np.random.default_rng(seed=seed)\n",
    "    return rng.binomial(n=1, p=P, size=size)"
   ]
  },
  {
   "cell_type": "code",
   "execution_count": 33,
   "metadata": {},
   "outputs": [
    {
     "name": "stdout",
     "output_type": "stream",
     "text": [
      "The probability: 0.00\n",
      "F1: 0.00\n",
      "Confusion Matrix\n",
      "[[0.8872 0.    ]\n",
      " [0.1128 0.    ]]\n",
      "\n",
      "The probability: 0.11\n",
      "F1: 0.12\n",
      "Confusion Matrix\n",
      "[[0.7914 0.0958]\n",
      " [0.0994 0.0134]]\n",
      "\n",
      "The probability: 0.50\n",
      "F1: 0.20\n",
      "Confusion Matrix\n",
      "[[0.456  0.4312]\n",
      " [0.053  0.0598]]\n",
      "\n",
      "The probability: 1.00\n",
      "F1: 0.20\n",
      "Confusion Matrix\n",
      "[[0.     0.8872]\n",
      " [0.     0.1128]]\n",
      "\n"
     ]
    }
   ],
   "source": [
    "#Confusion matrix of dummy rnd_model predictions Unscaled data\n",
    "\n",
    "for P in [0, df['insurance_benefits_received'].sum() / len(df), 0.5, 1]:\n",
    "    print(f'The probability: {P:.2f}')\n",
    "    y_pred_rnd =  rnd_model_predict(P, features.shape[0])\n",
    "        \n",
    "    eval_classifier(df['insurance_benefits_received'], y_pred_rnd)\n",
    "    \n",
    "    print()"
   ]
  },
  {
   "cell_type": "code",
   "execution_count": 34,
   "metadata": {},
   "outputs": [
    {
     "name": "stdout",
     "output_type": "stream",
     "text": [
      "The probability: 0.00\n",
      "F1: 0.00\n",
      "Confusion Matrix\n",
      "[[0.8872 0.    ]\n",
      " [0.1128 0.    ]]\n",
      "\n",
      "The probability: 0.11\n",
      "F1: 0.12\n",
      "Confusion Matrix\n",
      "[[0.7914 0.0958]\n",
      " [0.0994 0.0134]]\n",
      "\n",
      "The probability: 0.50\n",
      "F1: 0.20\n",
      "Confusion Matrix\n",
      "[[0.456  0.4312]\n",
      " [0.053  0.0598]]\n",
      "\n",
      "The probability: 1.00\n",
      "F1: 0.20\n",
      "Confusion Matrix\n",
      "[[0.     0.8872]\n",
      " [0.     0.1128]]\n",
      "\n"
     ]
    }
   ],
   "source": [
    "#Confusion matrix of dummy rnd_model predictions. Scaled data\n",
    "for P in [0, df_scaled['insurance_benefits_received'].sum() / len(df_scaled), 0.5, 1]:\n",
    "    print(f'The probability: {P:.2f}')\n",
    "    y_pred_rnd =  rnd_model_predict(P, df_scaled.shape[0])\n",
    "    \n",
    "    eval_classifier(df_scaled['insurance_benefits_received'], y_pred_rnd)\n",
    "    \n",
    "    print()"
   ]
  },
  {
   "cell_type": "code",
   "execution_count": 35,
   "metadata": {},
   "outputs": [
    {
     "name": "stdout",
     "output_type": "stream",
     "text": [
      "Unscaled data\n",
      "N_neighbors: 1, F1: 0.61\n",
      "N_neighbors: 2, F1: 0.44\n",
      "N_neighbors: 3, F1: 0.44\n",
      "N_neighbors: 4, F1: 0.20\n",
      "N_neighbors: 5, F1: 0.20\n",
      "N_neighbors: 6, F1: 0.09\n",
      "N_neighbors: 7, F1: 0.16\n",
      "N_neighbors: 8, F1: 0.10\n",
      "N_neighbors: 9, F1: 0.11\n",
      "N_neighbors: 10, F1: 0.00\n"
     ]
    }
   ],
   "source": [
    "#K-NeighborsClassifier for k in range 10 + f1_score. Unscaled data\n",
    "print('Unscaled data')\n",
    "unscaled_f1 = []\n",
    "for k in range(1,11):\n",
    "    knc = sklearn.neighbors.KNeighborsClassifier(n_neighbors=k)\n",
    "    knc.fit(features_train, target_train)\n",
    "    knc_pred = knc.predict(features_test)\n",
    "    f1_score = sklearn.metrics.f1_score(target_test, knc_pred)\n",
    "    unscaled_f1.append(f1_score)\n",
    "    print(f'N_neighbors: {k}, F1: {f1_score:.2f}')"
   ]
  },
  {
   "cell_type": "code",
   "execution_count": 36,
   "metadata": {},
   "outputs": [
    {
     "name": "stdout",
     "output_type": "stream",
     "text": [
      "Scaled data\n",
      "N_neighbors: 1, F1: 0.95\n",
      "N_neighbors: 2, F1: 0.92\n",
      "N_neighbors: 3, F1: 0.94\n",
      "N_neighbors: 4, F1: 0.89\n",
      "N_neighbors: 5, F1: 0.91\n",
      "N_neighbors: 6, F1: 0.89\n",
      "N_neighbors: 7, F1: 0.91\n",
      "N_neighbors: 8, F1: 0.89\n",
      "N_neighbors: 9, F1: 0.91\n",
      "N_neighbors: 10, F1: 0.90\n"
     ]
    }
   ],
   "source": [
    "#K-NeighborsClassifier for k in range 10 + f1_score. Scaled data\n",
    "print('Scaled data')\n",
    "scaled_f1 = []\n",
    "for k in range(1,11):\n",
    "    knc = sklearn.neighbors.KNeighborsClassifier(n_neighbors=k)\n",
    "    knc.fit(features_train_scaled, target_train)\n",
    "    knc_pred = knc.predict(features_test_scaled)\n",
    "    f1_score = sklearn.metrics.f1_score(target_test, knc_pred)\n",
    "    scaled_f1.append(f1_score)\n",
    "    print(f'N_neighbors: {k}, F1: {f1_score:.2f}')"
   ]
  },
  {
   "cell_type": "code",
   "execution_count": 37,
   "metadata": {},
   "outputs": [
    {
     "data": {
      "image/png": "[encoded data removed]",
      "text/plain": [
       "<Figure size 864x432 with 1 Axes>"
      ]
     },
     "metadata": {
      "needs_background": "light"
     },
     "output_type": "display_data"
    }
   ],
   "source": [
    "# Plot the results \n",
    "plt.figure(figsize=(12,6))\n",
    "plt.plot(scaled_f1, label = \"Unscaled F1\")\n",
    "plt.plot(unscaled_f1, label = 'Scaled F1')\n",
    "plt.xlabel('# of Nearest Neighbors (k)')\n",
    "plt.ylabel('F1 Score (%)')\n",
    "plt.legend()\n",
    "plt.show();"
   ]
  },
  {
   "cell_type": "markdown",
   "metadata": {},
   "source": [
    "<hr>\n",
    "<b style=\"font-size: 20px;\">Intermediate conclusions</b>\n",
    "\n",
    "- Thanks to the plot we can clearly see that there is a sharp difference between the result of the F1 score unscale and scale, when the scale score start high and get lower when the unscale is stay almost without changes and still higher than the scale F1\n",
    "\n",
    "\n",
    "- So there is impact by large values features in this case `income`\n",
    "\n",
    "\n",
    "- Our scale model pass the dummy model\n",
    "\n",
    "\n",
    "<hr>"
   ]
  },
  {
   "cell_type": "markdown",
   "metadata": {},
   "source": [
    "# Task 3. Regression (with Linear Regression)"
   ]
  },
  {
   "cell_type": "markdown",
   "metadata": {},
   "source": [
    "With `insurance_benefits` as the target, evaluate what RMSE would be for a Linear Regression model."
   ]
  },
  {
   "cell_type": "markdown",
   "metadata": {},
   "source": [
    "Build your own implementation of LR. For that, recall how the linear regression task's solution is formulated in terms of LA. Check RMSE for both the original data and the scaled one. Can you see any difference in RMSE between these two cases?\n",
    "\n",
    "Let's denote\n",
    "- $X$ — feature matrix, each row is a case, each column is a feature, the first column consists of unities\n",
    "- $y$ — target (a vector)\n",
    "- $\\hat{y}$ — estimated tagret (a vector)\n",
    "- $w$ — weight vector\n",
    "\n",
    "The task of linear regression in the language of matrices can be formulated as\n",
    "\n",
    "$$\n",
    "y = Xw\n",
    "$$\n",
    "\n",
    "The training objective then is to find such $w$ that it would minimize the L2-distance (MSE) between $Xw$ and $y$:\n",
    "\n",
    "$$\n",
    "\\min_w d_2(Xw, y) \\quad \\text{or} \\quad \\min_w \\text{MSE}(Xw, y)\n",
    "$$\n",
    "\n",
    "It appears that there is analytical solution for the above:\n",
    "\n",
    "$$\n",
    "w = (X^T X)^{-1} X^T y\n",
    "$$\n",
    "\n",
    "The formula above can be used to find the weights $w$ and the latter can be used to calculate predicted values\n",
    "\n",
    "$$\n",
    "\\hat{y} = X_{val}w\n",
    "$$"
   ]
  },
  {
   "cell_type": "markdown",
   "metadata": {},
   "source": [
    "Split the whole data in the 70:30 proportion for the training/validation parts. Use the RMSE metric for the model evaluation."
   ]
  },
  {
   "cell_type": "code",
   "execution_count": 38,
   "metadata": {},
   "outputs": [],
   "source": [
    "#Creating a class of LinearRegression\n",
    "class MyLinearRegression:\n",
    "    \n",
    "    def __init__(self):\n",
    "        self.weights = None\n",
    "    \n",
    "    def fit(self, X, y):\n",
    "        # adding the unities\n",
    "        X2 = np.append(np.ones([len(X), 1]), X, axis=1)\n",
    "        weights = np.linalg.inv(X2.T.dot(X2)).dot(X2.T).dot(y)\n",
    "        self.weights = weights[1:]\n",
    "        self.bias = weights[0]\n",
    "\n",
    "    def predict(self, X):\n",
    "        # adding the unities\n",
    "        X2 = np.append(np.ones([len(X), 1]), X, axis=1)\n",
    "        y_pred = X.dot(self.weights) + self.bias\n",
    "        return y_pred"
   ]
  },
  {
   "cell_type": "code",
   "execution_count": 39,
   "metadata": {},
   "outputs": [],
   "source": [
    "#def function to evaluate the classifier\n",
    "def eval_regressor(y_true, y_pred):\n",
    "    \n",
    "    rmse = math.sqrt(sklearn.metrics.mean_squared_error(y_true, y_pred))\n",
    "    print(f'RMSE: {rmse:.2f}')\n",
    "    \n",
    "    r2_score = math.sqrt(sklearn.metrics.r2_score(y_true, y_pred))\n",
    "    print(f'R2: {r2_score:.2f}')   "
   ]
  },
  {
   "cell_type": "code",
   "execution_count": 40,
   "metadata": {},
   "outputs": [
    {
     "name": "stdout",
     "output_type": "stream",
     "text": [
      "[ 3.57495491e-02  1.64272726e-02 -2.60743659e-07 -1.16902127e-02]\n",
      "RMSE: 0.34\n",
      "R2: 0.66\n"
     ]
    }
   ],
   "source": [
    "#Testing the LR on the Unscaled data\n",
    "X = df[['age', 'gender', 'income', 'family_members']].to_numpy()\n",
    "y = df['insurance_benefits'].to_numpy()\n",
    "\n",
    "X_train, X_test, y_train, y_test = train_test_split(X, y, test_size=0.3, random_state=12345)\n",
    "\n",
    "lr = MyLinearRegression()\n",
    "\n",
    "lr.fit(X_train, y_train)\n",
    "print(lr.weights)\n",
    "\n",
    "y_test_pred = lr.predict(X_test)\n",
    "eval_regressor(y_test, y_test_pred)"
   ]
  },
  {
   "cell_type": "code",
   "execution_count": 41,
   "metadata": {},
   "outputs": [
    {
     "name": "stdout",
     "output_type": "stream",
     "text": [
      "[ 2.32372069  0.01642727 -0.02059875 -0.07014128]\n",
      "RMSE: 0.34\n",
      "R2: 0.66\n"
     ]
    }
   ],
   "source": [
    "#Testing LR on Scaled data.\n",
    "X_scaled = df_scaled[['age', 'gender', 'income', 'family_members']].to_numpy()\n",
    "y_scaled = df_scaled['insurance_benefits'].to_numpy()\n",
    "\n",
    "X_train_scaled, X_test_scaled, y_train_scaled, y_test_scaled = train_test_split(X_scaled, y_scaled, test_size=0.3, random_state=12345)\n",
    "\n",
    "lr = MyLinearRegression()\n",
    "\n",
    "lr.fit(X_train_scaled, y_train_scaled)\n",
    "print(lr.weights)\n",
    "\n",
    "y_test_pred_scaled = lr.predict(X_test_scaled)\n",
    "eval_regressor(y_test_scaled, y_test_pred_scaled)"
   ]
  },
  {
   "cell_type": "markdown",
   "metadata": {},
   "source": [
    "<hr>\n",
    "<b style=\"font-size: 20px;\">Intermediate conclusions</b>\n",
    "\n",
    "- Only 66% of the variance is explained by the features when the data is unscaled\n",
    "\n",
    "\n",
    "- No difference in the RMSE or R2 score post scaling; this is expected as Linear Regression makes predictions using the units of the output, making necessary adjustments to the units of the features\n",
    "\n",
    "<hr>"
   ]
  },
  {
   "cell_type": "markdown",
   "metadata": {},
   "source": [
    "# Task 4. Obfuscating Data"
   ]
  },
  {
   "cell_type": "markdown",
   "metadata": {},
   "source": [
    "It best to obfuscate data by multiplying the numerical features (remember, they can be seen as the matrix $X$) by an invertible matrix $P$. \n",
    "\n",
    "$$\n",
    "X' = X \\times P\n",
    "$$\n",
    "\n",
    "Try to do that and check how the features' values will look like after the transformation. By the way, the intertible property is important here so make sure that $P$ is indeed invertible.\n",
    "\n",
    "You may want to review the 'Matrices and Matrix Operations -> Matrix Multiplication' lesson to recall the rule of matrix multiplication and its implementation with NumPy."
   ]
  },
  {
   "cell_type": "code",
   "execution_count": 42,
   "metadata": {},
   "outputs": [],
   "source": [
    "#Creating a database taking in consideration only the 4 features columns\n",
    "personal_info_column_list = ['gender', 'age', 'income', 'family_members']\n",
    "df_pn = df[personal_info_column_list]"
   ]
  },
  {
   "cell_type": "code",
   "execution_count": 43,
   "metadata": {},
   "outputs": [],
   "source": [
    "#Generating a matrix X \n",
    "X = df_pn.to_numpy()"
   ]
  },
  {
   "cell_type": "markdown",
   "metadata": {},
   "source": [
    "Generating a random matrix $P$."
   ]
  },
  {
   "cell_type": "code",
   "execution_count": 44,
   "metadata": {},
   "outputs": [
    {
     "name": "stdout",
     "output_type": "stream",
     "text": [
      "[[0.77395605 0.43887844 0.85859792 0.69736803]\n",
      " [0.09417735 0.97562235 0.7611397  0.78606431]\n",
      " [0.12811363 0.45038594 0.37079802 0.92676499]\n",
      " [0.64386512 0.82276161 0.4434142  0.22723872]]\n"
     ]
    }
   ],
   "source": [
    "#Generating a matrix P \n",
    "rng = np.random.default_rng(seed=42)\n",
    "P = rng.random(size=(X.shape[1], X.shape[1]))\n",
    "print(P)"
   ]
  },
  {
   "cell_type": "markdown",
   "metadata": {},
   "source": [
    "Checking the matrix $P$ is invertible\n",
    "\n",
    "$$ PP^{-1} = P^{-1}P = I $$"
   ]
  },
  {
   "cell_type": "code",
   "execution_count": 45,
   "metadata": {},
   "outputs": [
    {
     "name": "stdout",
     "output_type": "stream",
     "text": [
      "[[ 0.41467992 -1.43783972  0.62798546  1.14001268]\n",
      " [-1.06101789  0.44219337  0.1329549   1.18425933]\n",
      " [ 1.42362442  1.60461607 -2.0553823  -1.53699695]\n",
      " [-0.11128575 -0.65813802  1.74995517 -0.11816316]]\n"
     ]
    }
   ],
   "source": [
    "#Checking the invertibility of P\n",
    "print(np.linalg.inv(P))"
   ]
  },
  {
   "cell_type": "code",
   "execution_count": 46,
   "metadata": {},
   "outputs": [
    {
     "data": {
      "text/plain": [
       "True"
      ]
     },
     "execution_count": 46,
     "metadata": {},
     "output_type": "execute_result"
    }
   ],
   "source": [
    "np.allclose(np.dot(P, np.linalg.inv(P)), np.dot(np.linalg.inv(P), P))"
   ]
  },
  {
   "cell_type": "code",
   "execution_count": 47,
   "metadata": {},
   "outputs": [
    {
     "name": "stdout",
     "output_type": "stream",
     "text": [
      "[[ 6359.71527314 22380.40467609 18424.09074184 46000.69669016]\n",
      " [ 4873.29406479 17160.36702982 14125.78076133 35253.45577301]\n",
      " [ 2693.11742928  9486.397744    7808.83156024 19484.86063067]\n",
      " ...\n",
      " [ 4346.2234249  15289.24126492 12586.16264392 31433.50888552]\n",
      " [ 4194.09324155 14751.9910242  12144.02930637 30323.88763426]\n",
      " [ 5205.46827354 18314.24814446 15077.01370762 37649.59295455]]\n"
     ]
    }
   ],
   "source": [
    "#Transforming the entire df in X1 (obfuscating data)\n",
    "X1=X[:,:].dot(P)\n",
    "print(X1)"
   ]
  },
  {
   "cell_type": "markdown",
   "metadata": {},
   "source": [
    "<b>Q:</b> Can you guess the customers' ages or income after the transformation?\n",
    "\n",
    "<b>A:</b> Our data is indecipherable"
   ]
  },
  {
   "cell_type": "markdown",
   "metadata": {},
   "source": [
    "Can you recover the original data from $X'$ if you know $P$? Try to check that with calculations by moving $P$ from the right side of the formula above to the left one. The rules of matrix multiplcation are really helpful here.\n",
    "\n",
    "$$ X^{'}P^{-1} = (XP)P^{-1} = X(PP^{-1})$$"
   ]
  },
  {
   "cell_type": "code",
   "execution_count": 48,
   "metadata": {},
   "outputs": [
    {
     "data": {
      "text/html": [
       "<div>\n",
       "<style scoped>\n",
       "    .dataframe tbody tr th:only-of-type {\n",
       "        vertical-align: middle;\n",
       "    }\n",
       "\n",
       "    .dataframe tbody tr th {\n",
       "        vertical-align: top;\n",
       "    }\n",
       "\n",
       "    .dataframe thead th {\n",
       "        text-align: right;\n",
       "    }\n",
       "</style>\n",
       "<table border=\"1\" class=\"dataframe\">\n",
       "  <thead>\n",
       "    <tr style=\"text-align: right;\">\n",
       "      <th></th>\n",
       "      <th>gender</th>\n",
       "      <th>age</th>\n",
       "      <th>income</th>\n",
       "      <th>family_members</th>\n",
       "    </tr>\n",
       "  </thead>\n",
       "  <tbody>\n",
       "    <tr>\n",
       "      <th>0</th>\n",
       "      <td>1</td>\n",
       "      <td>41</td>\n",
       "      <td>49600.0</td>\n",
       "      <td>1</td>\n",
       "    </tr>\n",
       "    <tr>\n",
       "      <th>1</th>\n",
       "      <td>0</td>\n",
       "      <td>46</td>\n",
       "      <td>38000.0</td>\n",
       "      <td>1</td>\n",
       "    </tr>\n",
       "    <tr>\n",
       "      <th>2</th>\n",
       "      <td>0</td>\n",
       "      <td>29</td>\n",
       "      <td>21000.0</td>\n",
       "      <td>0</td>\n",
       "    </tr>\n",
       "    <tr>\n",
       "      <th>3</th>\n",
       "      <td>0</td>\n",
       "      <td>21</td>\n",
       "      <td>41700.0</td>\n",
       "      <td>2</td>\n",
       "    </tr>\n",
       "    <tr>\n",
       "      <th>4</th>\n",
       "      <td>1</td>\n",
       "      <td>28</td>\n",
       "      <td>26100.0</td>\n",
       "      <td>0</td>\n",
       "    </tr>\n",
       "    <tr>\n",
       "      <th>...</th>\n",
       "      <td>...</td>\n",
       "      <td>...</td>\n",
       "      <td>...</td>\n",
       "      <td>...</td>\n",
       "    </tr>\n",
       "    <tr>\n",
       "      <th>4995</th>\n",
       "      <td>0</td>\n",
       "      <td>28</td>\n",
       "      <td>35700.0</td>\n",
       "      <td>2</td>\n",
       "    </tr>\n",
       "    <tr>\n",
       "      <th>4996</th>\n",
       "      <td>0</td>\n",
       "      <td>34</td>\n",
       "      <td>52400.0</td>\n",
       "      <td>1</td>\n",
       "    </tr>\n",
       "    <tr>\n",
       "      <th>4997</th>\n",
       "      <td>0</td>\n",
       "      <td>20</td>\n",
       "      <td>33900.0</td>\n",
       "      <td>2</td>\n",
       "    </tr>\n",
       "    <tr>\n",
       "      <th>4998</th>\n",
       "      <td>1</td>\n",
       "      <td>22</td>\n",
       "      <td>32700.0</td>\n",
       "      <td>3</td>\n",
       "    </tr>\n",
       "    <tr>\n",
       "      <th>4999</th>\n",
       "      <td>1</td>\n",
       "      <td>28</td>\n",
       "      <td>40600.0</td>\n",
       "      <td>1</td>\n",
       "    </tr>\n",
       "  </tbody>\n",
       "</table>\n",
       "<p>5000 rows × 4 columns</p>\n",
       "</div>"
      ],
      "text/plain": [
       "      gender  age   income  family_members\n",
       "0          1   41  49600.0               1\n",
       "1          0   46  38000.0               1\n",
       "2          0   29  21000.0               0\n",
       "3          0   21  41700.0               2\n",
       "4          1   28  26100.0               0\n",
       "...      ...  ...      ...             ...\n",
       "4995       0   28  35700.0               2\n",
       "4996       0   34  52400.0               1\n",
       "4997       0   20  33900.0               2\n",
       "4998       1   22  32700.0               3\n",
       "4999       1   28  40600.0               1\n",
       "\n",
       "[5000 rows x 4 columns]"
      ]
     },
     "metadata": {},
     "output_type": "display_data"
    }
   ],
   "source": [
    "#Dropping unecessary columns for the matrice.\n",
    "df_obfuscation = df_pn[:4]\n",
    "df_obfuscation = df_pn\n",
    "display(df_obfuscation)"
   ]
  },
  {
   "cell_type": "markdown",
   "metadata": {},
   "source": [
    "We are able to recover the original matrix X after matrix multiplication of the results of X*P with the inverse of P"
   ]
  },
  {
   "cell_type": "markdown",
   "metadata": {},
   "source": [
    "Print all three cases for a few customers\n",
    "- The original data\n",
    "- The transformed one\n",
    "- The reversed (recovered) one"
   ]
  },
  {
   "cell_type": "code",
   "execution_count": 49,
   "metadata": {},
   "outputs": [
    {
     "name": "stdout",
     "output_type": "stream",
     "text": [
      "[[1.00e+00 4.10e+01 4.96e+04 1.00e+00]\n",
      " [0.00e+00 4.60e+01 3.80e+04 1.00e+00]\n",
      " [0.00e+00 2.90e+01 2.10e+04 0.00e+00]\n",
      " ...\n",
      " [0.00e+00 2.00e+01 3.39e+04 2.00e+00]\n",
      " [1.00e+00 2.20e+01 3.27e+04 3.00e+00]\n",
      " [1.00e+00 2.80e+01 4.06e+04 1.00e+00]]\n"
     ]
    }
   ],
   "source": [
    "#Original data\n",
    "raw = np.array(df_obfuscation)\n",
    "print(raw)"
   ]
  },
  {
   "cell_type": "code",
   "execution_count": 50,
   "metadata": {},
   "outputs": [
    {
     "name": "stdout",
     "output_type": "stream",
     "text": [
      "[[ 6359.71527314 22380.40467609 18424.09074184 46000.69669016]\n",
      " [ 4873.29406479 17160.36702982 14125.78076133 35253.45577301]\n",
      " [ 2693.11742928  9486.397744    7808.83156024 19484.86063067]\n",
      " ...\n",
      " [ 4346.2234249  15289.24126492 12586.16264392 31433.50888552]\n",
      " [ 4194.09324155 14751.9910242  12144.02930637 30323.88763426]\n",
      " [ 5205.46827354 18314.24814446 15077.01370762 37649.59295455]]\n"
     ]
    }
   ],
   "source": [
    "#Obfuscated data\n",
    "obf = raw.dot(P)\n",
    "print(obf)"
   ]
  },
  {
   "cell_type": "code",
   "execution_count": 51,
   "metadata": {},
   "outputs": [
    {
     "name": "stdout",
     "output_type": "stream",
     "text": [
      "[[ 1.00000000e+00  4.10000000e+01  4.96000000e+04  1.00000000e+00]\n",
      " [ 1.67952800e-12  4.60000000e+01  3.80000000e+04  1.00000000e+00]\n",
      " [-6.23021448e-13  2.90000000e+01  2.10000000e+04 -2.03032656e-13]\n",
      " ...\n",
      " [ 1.57996161e-12  2.00000000e+01  3.39000000e+04  2.00000000e+00]\n",
      " [ 1.00000000e+00  2.20000000e+01  3.27000000e+04  3.00000000e+00]\n",
      " [ 1.00000000e+00  2.80000000e+01  4.06000000e+04  1.00000000e+00]]\n"
     ]
    }
   ],
   "source": [
    "# Recovered\n",
    "rec = obf.dot(np.linalg.inv(P))\n",
    "print(rec)"
   ]
  },
  {
   "cell_type": "markdown",
   "metadata": {},
   "source": [
    "<b>Q</b> : You can probably see that some values are not exactly the same as they are in the original data. What might be the reason for that?\n",
    "\n",
    "<b>A:</b> The reason for the recovered matrix not exactly matching the original matrix is due to floating point errors- there is only a finite number of bits allocated to storing real numbers\n",
    "<hr>"
   ]
  },
  {
   "cell_type": "markdown",
   "metadata": {},
   "source": [
    "## Proof That Data Obfuscation Can Work with LR"
   ]
  },
  {
   "cell_type": "markdown",
   "metadata": {},
   "source": [
    "The regression task has been solved with linear regression in this project. Your next task is to prove _analytically_ that the given obfuscation method won't affect linear regression in terms of predicted values i.e. their values will remain the same. Can you believe that? Well, you don't have to, you should prove it!\n",
    "\n",
    "So, the data is obfuscated and there is $X \\times P$ instead of just $X$ now. Consequently, there are other weights $w_P$ as\n",
    "$$\n",
    "w = (X^T X)^{-1} X^T y \\quad \\Rightarrow \\quad w_P = [(XP)^T XP]^{-1} (XP)^T y\n",
    "$$\n",
    "\n",
    "How would $w$ and $w_P$ be linked if you simplify the formula for $w_P$ above? \n",
    "\n",
    "What would be predicted values with $w_P$? \n",
    "\n",
    "What does that mean for the quality of linear regression if you measure it with RMSE?\n",
    "\n",
    "Check Appendix B Properties of Matrices in the end of the notebook. There are useful formulas in there!\n",
    "\n",
    "No code is necessary in this section, only analytical explanation!"
   ]
  },
  {
   "cell_type": "markdown",
   "metadata": {},
   "source": [
    "**Analytical proof**"
   ]
  },
  {
   "cell_type": "markdown",
   "metadata": {},
   "source": [
    "Given: $$\n",
    "w_P = [(XP)^T XP]^{-1} (XP)^T y \n",
    "$$\n",
    "\n",
    "By reversivity of the transpose of a product of matrices, we have\n",
    "$$\n",
    "w_P = [(XP)^T XP]^{-1} P^{T}X^{T} y \n",
    "$$\n",
    "\n",
    "Rearranging the terms inside the square brackets, we have\n",
    "$$\n",
    "w_P = [P^{T}X^{T}XP]^{-1} P^{T}X^{T} y\n",
    "$$\n",
    "\n",
    "Expanding the term inside the square brackets, we have\n",
    "$$\n",
    "w_P = P^{-1}(X^{T}X)^{-1}(P^{T})^{-1}P^{T}X^{T} y\n",
    "$$\n",
    "\n",
    "Using multiplicative identity, we know $$ (P^{T})^{-1}P^{T} = P^{T}(P^{T})^{-1} = I $$\n",
    "Therefore, the equation reduces to\n",
    "$$\n",
    "w_P = P^{-1}(X^{T}X)^{-1}IX^{T} y\n",
    "$$\n",
    "\n",
    "We can see that \n",
    "$$\n",
    "w = (X^{T}X)^{-1}X^{T} y\n",
    "$$\n",
    "\n",
    "Substitute w in the above equation, we have\n",
    "$$\n",
    "w_P = P^{-1}w\n",
    "$$\n",
    "\n",
    "We know that\n",
    "$$\n",
    "y = Xw\n",
    "$$\n",
    "\n",
    "The prediction of \n",
    "$$\n",
    "y_{P} = X_{P}w_{P}\n",
    "$$\n",
    "\n",
    "Subsitute $$ w_{P} $$\n",
    "\n",
    "In the above euqation, we get\n",
    "$$\n",
    "y_{P} = X_{P}(P^{-1}w)\n",
    "$$\n",
    "\n",
    "From obsfuscating the input X, we have\n",
    "$$\n",
    "X_{P} = XP\n",
    "$$\n",
    "\n",
    "Subsititute this in the above equation, we have\n",
    "$$\n",
    "y_{P} = XPP^{-1}w\n",
    "$$\n",
    "\n",
    "From multiplicative identity, we know $$ (P^{T})^{-1}P^{T} = P^{T}(P^{T})^{-1} = I $$\n",
    "\n",
    "Therefore, we are left with\n",
    "$$\n",
    "y = y_{P} = Xw\n",
    "$$"
   ]
  },
  {
   "cell_type": "markdown",
   "metadata": {},
   "source": [
    "## Test Linear Regression With Data Obfuscation"
   ]
  },
  {
   "cell_type": "markdown",
   "metadata": {},
   "source": [
    "Now, let's prove Linear Regression can work computationally with the chosen obfuscation transformation.\n",
    "\n",
    "Build a procedure or a class that runs Linear Regression optionally with the obfuscation. You can use either a ready implementation of Linear Regression from sciki-learn or your own.\n",
    "\n",
    "Run Linear Regression for the original data and the obfuscated one, compare the predicted values and the RMSE, $R^2$ metric values. Is there any difference?"
   ]
  },
  {
   "cell_type": "markdown",
   "metadata": {},
   "source": [
    "**Procedure**\n",
    "\n",
    "- Create a square matrix $P$ of random numbers.\n",
    "- Check that it is invertible. If not, repeat the first point until we get an invertible matrix.\n",
    "- Draw $P$ from a uniform distribution\n",
    "- Use $XP$ as the new feature matrix"
   ]
  },
  {
   "cell_type": "code",
   "execution_count": 52,
   "metadata": {},
   "outputs": [],
   "source": [
    "def generate_square_matrix(num_features, seed=42):\n",
    "    \"\"\"\n",
    "    Generate a square matrix from a uniform distribution\n",
    "    \"\"\"\n",
    "    rng = np.random.default_rng(seed=seed)\n",
    "    return rng.random(size=(num_features, num_features))"
   ]
  },
  {
   "cell_type": "code",
   "execution_count": 53,
   "metadata": {},
   "outputs": [],
   "source": [
    "P = generate_square_matrix(4, seed=1234)"
   ]
  },
  {
   "cell_type": "code",
   "execution_count": 54,
   "metadata": {},
   "outputs": [],
   "source": [
    "def is_invertible(P):\n",
    "    \"\"\"\n",
    "    Check if P is invertible or not\n",
    "    \"\"\"\n",
    "    return np.allclose(np.dot(P, np.linalg.inv(P)), np.dot(np.linalg.inv(P), P))"
   ]
  },
  {
   "cell_type": "code",
   "execution_count": 55,
   "metadata": {},
   "outputs": [
    {
     "data": {
      "text/plain": [
       "True"
      ]
     },
     "execution_count": 55,
     "metadata": {},
     "output_type": "execute_result"
    }
   ],
   "source": [
    "is_invertible(P)"
   ]
  },
  {
   "cell_type": "code",
   "execution_count": 56,
   "metadata": {},
   "outputs": [],
   "source": [
    "class MyLinearRegression_obf:\n",
    "    \n",
    "    def __init__(self, data):\n",
    "        self.weights = None\n",
    "        self.data = data\n",
    "        \n",
    "    def fit(self, X, y):\n",
    "        # adding the unities\n",
    "        X2 = np.append(np.ones([len(X), 1]), X, axis=1)\n",
    "        weights = np.linalg.inv(X2.T.dot(X2)).dot(X2.T).dot(y)\n",
    "        self.weights = weights[1:]\n",
    "        self.bias = weights[0]\n",
    "\n",
    "    def predict(self, X):\n",
    "        # adding the unities\n",
    "        X2 = np.append(np.ones([len(X), 1]), X, axis=1)\n",
    "        y_pred = X.dot(self.weights) + self.bias\n",
    "        return y_pred"
   ]
  },
  {
   "cell_type": "code",
   "execution_count": 57,
   "metadata": {},
   "outputs": [
    {
     "name": "stdout",
     "output_type": "stream",
     "text": [
      "[ 1.64272726e-02  3.57495491e-02 -2.60743659e-07 -1.16902127e-02]\n",
      "RMSE: 0.34\n",
      "R2: 0.66\n"
     ]
    }
   ],
   "source": [
    "#MyLinearRegression_obf on the normal dataset.\n",
    "X = X\n",
    "y = df['insurance_benefits'].to_numpy()\n",
    "\n",
    "X_train, X_test, y_train, y_test = train_test_split(X, y, test_size=0.3, random_state=12345)\n",
    "\n",
    "lr = MyLinearRegression_obf(X)\n",
    "\n",
    "lr.fit(X_train, y_train)\n",
    "print(lr.weights)\n",
    "\n",
    "y_test_pred = lr.predict(X_test)\n",
    "eval_regressor(y_test, y_test_pred)"
   ]
  },
  {
   "cell_type": "code",
   "execution_count": 58,
   "metadata": {},
   "outputs": [
    {
     "name": "stdout",
     "output_type": "stream",
     "text": [
      "[-0.05791721 -0.01546571  0.09871894 -0.02397536]\n",
      "RMSE: 0.34\n",
      "R2: 0.66\n"
     ]
    }
   ],
   "source": [
    "#MyLinearRegression_obf on the obfuscated dataset.\n",
    "X = X1\n",
    "y = df['insurance_benefits'].to_numpy()\n",
    "\n",
    "X_train, X_test, y_train, y_test = train_test_split(X, y, test_size=0.3, random_state=12345)\n",
    "\n",
    "lr = MyLinearRegression_obf(X1)\n",
    "\n",
    "lr.fit(X_train, y_train)\n",
    "print(lr.weights)\n",
    "\n",
    "y_test_pred = lr.predict(X_test)\n",
    "eval_regressor(y_test, y_test_pred)"
   ]
  },
  {
   "cell_type": "markdown",
   "metadata": {},
   "source": [
    "# Conclusions"
   ]
  },
  {
   "cell_type": "markdown",
   "metadata": {},
   "source": [
    "Thanks to our NearestNeighbors imported library to obtain the K neighbors given us a data points , That we can do scale of our data change to total results , When our data not scale at all. The result we got are similar on the big values (for ex' 'income' column) , Since the bigger values also have the highest weughts on our results. When scale the data we can return the right neighbors taking to consideration all the features."
   ]
  },
  {
   "cell_type": "markdown",
   "metadata": {},
   "source": [
    "We indentified the targets of this taks being 1 for any person that received at least one insurance benefit and 0 for customers that doesn't have one. the distribution of those values in our dataset is 88.72% (0) and 11.28% (1). \n",
    "\n",
    "Our dummy model values in general very very low, using the KNeiborghsClassifier , we plot a chart that show the F1 Score vs any K values , our Unscaled data show higher value in 60% with K==1 , Our predictions result show value of 100% this mean that the precision and the recall of the model itself are in the best possible percentage.  "
   ]
  },
  {
   "cell_type": "markdown",
   "metadata": {},
   "source": [
    "We built our own LinearRegression model evaluating it into two different metrics , first RMSE (Root mean squared error) and R2 score , perfoming predictions on scale and unscale data , Doesn't make any difference and the **RMSE** was calc in **0.34** that is the modest result , it's mean that on a scale from 0 t0 1 the mistake made from the model prediction are 34% , **R2** score in a range of 100, returned **66%**."
   ]
  },
  {
   "cell_type": "markdown",
   "metadata": {},
   "source": [
    "In our task required to obfusc the data in our hands, To make that we created a matrice P which was invertible and multiplied it for our features matrice X. the dot product returend another matrice X1 , that hides data letting them been not recognizable. To revert the process to reobtain the starting values. We prove that our LR model is performs the predictions in the same way on the obfuscated data having the same quality and the same metrics values. "
   ]
  },
  {
   "cell_type": "markdown",
   "metadata": {},
   "source": [
    "# Checklist"
   ]
  },
  {
   "cell_type": "markdown",
   "metadata": {},
   "source": [
    "Type 'x' to check. Then press Shift+Enter."
   ]
  },
  {
   "cell_type": "markdown",
   "metadata": {},
   "source": [
    "- [x]  Jupyter Notebook is open\n",
    "- [x]  Code is error free\n",
    "- [x]  The cells are arranged in order of logic and execution\n",
    "- [x]  Task 1 has been performed\n",
    "    - [x]  There is the procedure that can return k similar customers for a given one\n",
    "    - [x]  The procedure is tested for all four proposed combinations\n",
    "    - [x]  The questions re the scaling/distances are answered\n",
    "- [x]  Task 2 has been performed\n",
    "    - [x]  The random classification model is built and tested for all for probability levels\n",
    "    - [x]  The kNN classification model is built and tested for both the original data and the scaled one, the F1 metric is calculated.\n",
    "- [x]  Task 3 has been performed\n",
    "    - [x]  The linear tegression solution is implemented with matrix operations.\n",
    "    - [x]  RMSE is calculated for the implemented solution.\n",
    "- [x]  Task 4 has been performed\n",
    "    - [x]  The data is obfuscated with a random and invertible matrix P\n",
    "    - [x]  The obfuscated data is recoved, few examples are printed out\n",
    "    - [x]  The analytical proof that the transformation does not affect RMSE is provided \n",
    "    - [x]  The computational proof that the transformation does not affect RMSE is provided\n",
    "- [x]  Conclusions have been made"
   ]
  },
  {
   "cell_type": "markdown",
   "metadata": {},
   "source": [
    "# Appendices \n",
    "\n",
    "## Appendix A: Writing Formulas in Jupyter Notebooks"
   ]
  },
  {
   "cell_type": "markdown",
   "metadata": {},
   "source": [
    "You can write formulas in your Jupyter Notebook in a markup language provided by a high-quality publishing system called $\\LaTeX$ (pronounced \"Lah-tech\"), and they will look like formulas in textbooks.\n",
    "\n",
    "To put a formula in a text, put the dollar sign (\\\\$) before and after the formula's text e.g. $\\frac{1}{2} \\times \\frac{3}{2} = \\frac{3}{4}$ or $y = x^2, x \\ge 1$.\n",
    "\n",
    "If a formula should be in its own paragraph, put the double dollar sign (\\\\$\\\\$) before and after the formula text e.g.\n",
    "\n",
    "$$\n",
    "\\bar{x} = \\frac{1}{n}\\sum_{i=1}^{n} x_i.\n",
    "$$\n",
    "\n",
    "The markup language of [LaTeX](https://en.wikipedia.org/wiki/LaTeX) is very popular among people who use formulas in their articles, books and texts. It can be complex but its basics are easy. Check this two page [cheatsheet](http://tug.ctan.org/info/undergradmath/undergradmath.pdf) for learning how to compose the most common formulas."
   ]
  },
  {
   "cell_type": "markdown",
   "metadata": {},
   "source": [
    "## Appendix B: Properties of Matrices"
   ]
  },
  {
   "cell_type": "markdown",
   "metadata": {},
   "source": [
    "Matrices have many properties in Linear Algebra. A few of them are listed here which can help with the analytical proof in this project."
   ]
  },
  {
   "cell_type": "markdown",
   "metadata": {},
   "source": [
    "<table>\n",
    "<tr>\n",
    "<td>Distributivity</td><td>$A(B+C)=AB+AC$</td>\n",
    "</tr>\n",
    "<tr>\n",
    "<td>Non-commutativity</td><td>$AB \\neq BA$</td>\n",
    "</tr>\n",
    "<tr>\n",
    "<td>Associative property of multiplication</td><td>$(AB)C = A(BC)$</td>\n",
    "</tr>\n",
    "<tr>\n",
    "<td>Multiplicative identity property</td><td>$IA = AI = A$</td>\n",
    "</tr>\n",
    "<tr>\n",
    "<td></td><td>$A^{-1}A = AA^{-1} = I$\n",
    "</td>\n",
    "</tr>    \n",
    "<tr>\n",
    "<td></td><td>$(AB)^{-1} = B^{-1}A^{-1}$</td>\n",
    "</tr>    \n",
    "<tr>\n",
    "<td>Reversivity of the transpose of a product of matrices,</td><td>$(AB)^T = B^TA^T$</td>\n",
    "</tr>    \n",
    "</table>"
   ]
  }
 ],
 "metadata": {
  "ExecuteTimeLog": [
   {
    "duration": 8409,
    "start_time": "2022-07-10T13:58:05.061Z"
   },
   {
    "duration": 1526,
    "start_time": "2022-07-10T13:58:13.472Z"
   },
   {
    "duration": 97,
    "start_time": "2022-07-10T13:58:15.000Z"
   },
   {
    "duration": 5,
    "start_time": "2022-07-10T13:58:15.100Z"
   },
   {
    "duration": 24,
    "start_time": "2022-07-10T13:58:15.107Z"
   },
   {
    "duration": 11,
    "start_time": "2022-07-10T13:58:15.133Z"
   },
   {
    "duration": 7,
    "start_time": "2022-07-10T13:58:15.145Z"
   },
   {
    "duration": 18,
    "start_time": "2022-07-10T13:58:15.154Z"
   },
   {
    "duration": 2,
    "start_time": "2022-07-10T13:58:15.175Z"
   },
   {
    "duration": 35,
    "start_time": "2022-07-10T13:58:15.179Z"
   },
   {
    "duration": 5,
    "start_time": "2022-07-10T13:58:15.216Z"
   },
   {
    "duration": 3850,
    "start_time": "2022-07-10T13:58:15.223Z"
   },
   {
    "duration": 4,
    "start_time": "2022-07-10T13:58:19.075Z"
   },
   {
    "duration": 284,
    "start_time": "2022-07-10T13:58:19.082Z"
   },
   {
    "duration": 11,
    "start_time": "2022-07-10T13:58:19.367Z"
   },
   {
    "duration": 7,
    "start_time": "2022-07-10T13:58:19.380Z"
   },
   {
    "duration": 134,
    "start_time": "2022-07-10T13:58:19.389Z"
   },
   {
    "duration": 0,
    "start_time": "2022-07-10T13:58:19.524Z"
   },
   {
    "duration": 0,
    "start_time": "2022-07-10T13:58:19.526Z"
   },
   {
    "duration": 0,
    "start_time": "2022-07-10T13:58:19.527Z"
   },
   {
    "duration": 0,
    "start_time": "2022-07-10T13:58:19.529Z"
   },
   {
    "duration": 0,
    "start_time": "2022-07-10T13:58:19.531Z"
   },
   {
    "duration": 0,
    "start_time": "2022-07-10T13:58:19.532Z"
   },
   {
    "duration": 0,
    "start_time": "2022-07-10T13:58:19.534Z"
   },
   {
    "duration": 0,
    "start_time": "2022-07-10T13:58:19.535Z"
   },
   {
    "duration": 0,
    "start_time": "2022-07-10T13:58:19.537Z"
   },
   {
    "duration": 0,
    "start_time": "2022-07-10T13:58:19.538Z"
   },
   {
    "duration": 0,
    "start_time": "2022-07-10T13:58:19.540Z"
   },
   {
    "duration": 0,
    "start_time": "2022-07-10T13:58:19.542Z"
   },
   {
    "duration": 0,
    "start_time": "2022-07-10T13:58:19.543Z"
   },
   {
    "duration": 2575,
    "start_time": "2022-07-10T13:59:37.124Z"
   },
   {
    "duration": 1302,
    "start_time": "2022-07-10T13:59:39.701Z"
   },
   {
    "duration": 27,
    "start_time": "2022-07-10T13:59:41.005Z"
   },
   {
    "duration": 4,
    "start_time": "2022-07-10T13:59:41.034Z"
   },
   {
    "duration": 28,
    "start_time": "2022-07-10T13:59:41.040Z"
   },
   {
    "duration": 12,
    "start_time": "2022-07-10T13:59:41.070Z"
   },
   {
    "duration": 3,
    "start_time": "2022-07-10T13:59:41.084Z"
   },
   {
    "duration": 15,
    "start_time": "2022-07-10T13:59:41.089Z"
   },
   {
    "duration": 3,
    "start_time": "2022-07-10T13:59:41.106Z"
   },
   {
    "duration": 30,
    "start_time": "2022-07-10T13:59:41.112Z"
   },
   {
    "duration": 5,
    "start_time": "2022-07-10T13:59:41.144Z"
   },
   {
    "duration": 3826,
    "start_time": "2022-07-10T13:59:41.150Z"
   },
   {
    "duration": 5,
    "start_time": "2022-07-10T13:59:44.978Z"
   },
   {
    "duration": 285,
    "start_time": "2022-07-10T13:59:44.985Z"
   },
   {
    "duration": 11,
    "start_time": "2022-07-10T13:59:45.272Z"
   },
   {
    "duration": 4,
    "start_time": "2022-07-10T13:59:45.285Z"
   },
   {
    "duration": 74,
    "start_time": "2022-07-10T13:59:45.298Z"
   },
   {
    "duration": 0,
    "start_time": "2022-07-10T13:59:45.374Z"
   },
   {
    "duration": 0,
    "start_time": "2022-07-10T13:59:45.376Z"
   },
   {
    "duration": 0,
    "start_time": "2022-07-10T13:59:45.377Z"
   },
   {
    "duration": 0,
    "start_time": "2022-07-10T13:59:45.379Z"
   },
   {
    "duration": 0,
    "start_time": "2022-07-10T13:59:45.380Z"
   },
   {
    "duration": 0,
    "start_time": "2022-07-10T13:59:45.382Z"
   },
   {
    "duration": 0,
    "start_time": "2022-07-10T13:59:45.384Z"
   },
   {
    "duration": 0,
    "start_time": "2022-07-10T13:59:45.385Z"
   },
   {
    "duration": 0,
    "start_time": "2022-07-10T13:59:45.387Z"
   },
   {
    "duration": 0,
    "start_time": "2022-07-10T13:59:45.388Z"
   },
   {
    "duration": 0,
    "start_time": "2022-07-10T13:59:45.389Z"
   },
   {
    "duration": 0,
    "start_time": "2022-07-10T13:59:45.390Z"
   },
   {
    "duration": 0,
    "start_time": "2022-07-10T13:59:45.392Z"
   },
   {
    "duration": 2648,
    "start_time": "2022-07-10T14:00:04.873Z"
   },
   {
    "duration": 1265,
    "start_time": "2022-07-10T14:00:07.524Z"
   },
   {
    "duration": 33,
    "start_time": "2022-07-10T14:00:08.791Z"
   },
   {
    "duration": 6,
    "start_time": "2022-07-10T14:00:08.827Z"
   },
   {
    "duration": 22,
    "start_time": "2022-07-10T14:00:08.835Z"
   },
   {
    "duration": 13,
    "start_time": "2022-07-10T14:00:08.859Z"
   },
   {
    "duration": 11,
    "start_time": "2022-07-10T14:00:08.875Z"
   },
   {
    "duration": 19,
    "start_time": "2022-07-10T14:00:08.888Z"
   },
   {
    "duration": 3,
    "start_time": "2022-07-10T14:00:08.909Z"
   },
   {
    "duration": 24,
    "start_time": "2022-07-10T14:00:08.917Z"
   },
   {
    "duration": 6,
    "start_time": "2022-07-10T14:00:08.943Z"
   },
   {
    "duration": 3933,
    "start_time": "2022-07-10T14:00:08.951Z"
   },
   {
    "duration": 5,
    "start_time": "2022-07-10T14:00:12.885Z"
   },
   {
    "duration": 286,
    "start_time": "2022-07-10T14:00:12.892Z"
   },
   {
    "duration": 12,
    "start_time": "2022-07-10T14:00:13.180Z"
   },
   {
    "duration": 6,
    "start_time": "2022-07-10T14:00:13.194Z"
   },
   {
    "duration": 105,
    "start_time": "2022-07-10T14:00:13.202Z"
   },
   {
    "duration": 0,
    "start_time": "2022-07-10T14:00:13.309Z"
   },
   {
    "duration": 0,
    "start_time": "2022-07-10T14:00:13.311Z"
   },
   {
    "duration": 0,
    "start_time": "2022-07-10T14:00:13.313Z"
   },
   {
    "duration": 0,
    "start_time": "2022-07-10T14:00:13.314Z"
   },
   {
    "duration": 0,
    "start_time": "2022-07-10T14:00:13.316Z"
   },
   {
    "duration": 0,
    "start_time": "2022-07-10T14:00:13.317Z"
   },
   {
    "duration": 0,
    "start_time": "2022-07-10T14:00:13.319Z"
   },
   {
    "duration": 0,
    "start_time": "2022-07-10T14:00:13.320Z"
   },
   {
    "duration": 1,
    "start_time": "2022-07-10T14:00:13.321Z"
   },
   {
    "duration": 0,
    "start_time": "2022-07-10T14:00:13.323Z"
   },
   {
    "duration": 0,
    "start_time": "2022-07-10T14:00:13.324Z"
   },
   {
    "duration": 0,
    "start_time": "2022-07-10T14:00:13.326Z"
   },
   {
    "duration": 0,
    "start_time": "2022-07-10T14:00:13.327Z"
   },
   {
    "duration": 2529,
    "start_time": "2022-07-10T14:02:17.095Z"
   },
   {
    "duration": 1265,
    "start_time": "2022-07-10T14:02:19.626Z"
   },
   {
    "duration": 27,
    "start_time": "2022-07-10T14:02:20.892Z"
   },
   {
    "duration": 4,
    "start_time": "2022-07-10T14:02:20.921Z"
   },
   {
    "duration": 23,
    "start_time": "2022-07-10T14:02:20.926Z"
   },
   {
    "duration": 13,
    "start_time": "2022-07-10T14:02:20.950Z"
   },
   {
    "duration": 4,
    "start_time": "2022-07-10T14:02:20.964Z"
   },
   {
    "duration": 15,
    "start_time": "2022-07-10T14:02:20.969Z"
   },
   {
    "duration": 12,
    "start_time": "2022-07-10T14:02:20.986Z"
   },
   {
    "duration": 29,
    "start_time": "2022-07-10T14:02:21.002Z"
   },
   {
    "duration": 6,
    "start_time": "2022-07-10T14:02:21.033Z"
   },
   {
    "duration": 4009,
    "start_time": "2022-07-10T14:02:21.041Z"
   },
   {
    "duration": 5,
    "start_time": "2022-07-10T14:02:25.051Z"
   },
   {
    "duration": 316,
    "start_time": "2022-07-10T14:02:25.058Z"
   },
   {
    "duration": 14,
    "start_time": "2022-07-10T14:02:25.376Z"
   },
   {
    "duration": 8,
    "start_time": "2022-07-10T14:02:25.392Z"
   },
   {
    "duration": 1214,
    "start_time": "2022-07-10T14:02:25.401Z"
   },
   {
    "duration": 0,
    "start_time": "2022-07-10T14:02:26.617Z"
   },
   {
    "duration": 0,
    "start_time": "2022-07-10T14:02:26.618Z"
   },
   {
    "duration": 0,
    "start_time": "2022-07-10T14:02:26.619Z"
   },
   {
    "duration": 0,
    "start_time": "2022-07-10T14:02:26.620Z"
   },
   {
    "duration": 0,
    "start_time": "2022-07-10T14:02:26.621Z"
   },
   {
    "duration": 0,
    "start_time": "2022-07-10T14:02:26.622Z"
   },
   {
    "duration": 0,
    "start_time": "2022-07-10T14:02:26.623Z"
   },
   {
    "duration": 0,
    "start_time": "2022-07-10T14:02:26.624Z"
   },
   {
    "duration": 0,
    "start_time": "2022-07-10T14:02:26.625Z"
   },
   {
    "duration": 0,
    "start_time": "2022-07-10T14:02:26.626Z"
   },
   {
    "duration": 0,
    "start_time": "2022-07-10T14:02:26.628Z"
   },
   {
    "duration": 0,
    "start_time": "2022-07-10T14:02:26.628Z"
   },
   {
    "duration": 0,
    "start_time": "2022-07-10T14:02:26.630Z"
   },
   {
    "duration": 2711,
    "start_time": "2022-07-10T14:07:16.068Z"
   },
   {
    "duration": 1313,
    "start_time": "2022-07-10T14:07:18.782Z"
   },
   {
    "duration": 27,
    "start_time": "2022-07-10T14:07:20.097Z"
   },
   {
    "duration": 4,
    "start_time": "2022-07-10T14:07:20.127Z"
   },
   {
    "duration": 18,
    "start_time": "2022-07-10T14:07:20.133Z"
   },
   {
    "duration": 11,
    "start_time": "2022-07-10T14:07:20.152Z"
   },
   {
    "duration": 4,
    "start_time": "2022-07-10T14:07:20.166Z"
   },
   {
    "duration": 26,
    "start_time": "2022-07-10T14:07:20.173Z"
   },
   {
    "duration": 3,
    "start_time": "2022-07-10T14:07:20.201Z"
   },
   {
    "duration": 33,
    "start_time": "2022-07-10T14:07:20.207Z"
   },
   {
    "duration": 6,
    "start_time": "2022-07-10T14:07:20.242Z"
   },
   {
    "duration": 3806,
    "start_time": "2022-07-10T14:07:20.250Z"
   },
   {
    "duration": 5,
    "start_time": "2022-07-10T14:07:24.058Z"
   },
   {
    "duration": 312,
    "start_time": "2022-07-10T14:07:24.066Z"
   },
   {
    "duration": 12,
    "start_time": "2022-07-10T14:07:24.380Z"
   },
   {
    "duration": 8,
    "start_time": "2022-07-10T14:07:24.394Z"
   },
   {
    "duration": 72,
    "start_time": "2022-07-10T14:07:24.404Z"
   },
   {
    "duration": 0,
    "start_time": "2022-07-10T14:07:24.479Z"
   },
   {
    "duration": 1,
    "start_time": "2022-07-10T14:07:24.480Z"
   },
   {
    "duration": 0,
    "start_time": "2022-07-10T14:07:24.482Z"
   },
   {
    "duration": 0,
    "start_time": "2022-07-10T14:07:24.483Z"
   },
   {
    "duration": 1,
    "start_time": "2022-07-10T14:07:24.484Z"
   },
   {
    "duration": 0,
    "start_time": "2022-07-10T14:07:24.486Z"
   },
   {
    "duration": 0,
    "start_time": "2022-07-10T14:07:24.486Z"
   },
   {
    "duration": 0,
    "start_time": "2022-07-10T14:07:24.488Z"
   },
   {
    "duration": 0,
    "start_time": "2022-07-10T14:07:24.490Z"
   },
   {
    "duration": 0,
    "start_time": "2022-07-10T14:07:24.491Z"
   },
   {
    "duration": 0,
    "start_time": "2022-07-10T14:07:24.492Z"
   },
   {
    "duration": 0,
    "start_time": "2022-07-10T14:07:24.493Z"
   },
   {
    "duration": 0,
    "start_time": "2022-07-10T14:07:24.494Z"
   },
   {
    "duration": 2874,
    "start_time": "2022-07-10T14:10:35.997Z"
   },
   {
    "duration": 1308,
    "start_time": "2022-07-10T14:10:38.874Z"
   },
   {
    "duration": 27,
    "start_time": "2022-07-10T14:10:40.184Z"
   },
   {
    "duration": 4,
    "start_time": "2022-07-10T14:10:40.213Z"
   },
   {
    "duration": 20,
    "start_time": "2022-07-10T14:10:40.219Z"
   },
   {
    "duration": 12,
    "start_time": "2022-07-10T14:10:40.240Z"
   },
   {
    "duration": 9,
    "start_time": "2022-07-10T14:10:40.254Z"
   },
   {
    "duration": 15,
    "start_time": "2022-07-10T14:10:40.264Z"
   },
   {
    "duration": 3,
    "start_time": "2022-07-10T14:10:40.281Z"
   },
   {
    "duration": 36,
    "start_time": "2022-07-10T14:10:40.297Z"
   },
   {
    "duration": 7,
    "start_time": "2022-07-10T14:10:40.335Z"
   },
   {
    "duration": 3795,
    "start_time": "2022-07-10T14:10:40.344Z"
   },
   {
    "duration": 5,
    "start_time": "2022-07-10T14:10:44.141Z"
   },
   {
    "duration": 290,
    "start_time": "2022-07-10T14:10:44.148Z"
   },
   {
    "duration": 12,
    "start_time": "2022-07-10T14:10:44.440Z"
   },
   {
    "duration": 7,
    "start_time": "2022-07-10T14:10:44.454Z"
   },
   {
    "duration": 10,
    "start_time": "2022-07-10T14:10:44.462Z"
   },
   {
    "duration": 325,
    "start_time": "2022-07-10T14:10:44.474Z"
   },
   {
    "duration": 15,
    "start_time": "2022-07-10T14:10:44.801Z"
   },
   {
    "duration": 25,
    "start_time": "2022-07-10T14:10:44.819Z"
   },
   {
    "duration": 87,
    "start_time": "2022-07-10T14:10:44.846Z"
   },
   {
    "duration": 0,
    "start_time": "2022-07-10T14:10:44.936Z"
   },
   {
    "duration": 0,
    "start_time": "2022-07-10T14:10:44.937Z"
   },
   {
    "duration": 0,
    "start_time": "2022-07-10T14:10:44.938Z"
   },
   {
    "duration": 0,
    "start_time": "2022-07-10T14:10:44.940Z"
   },
   {
    "duration": 0,
    "start_time": "2022-07-10T14:10:44.942Z"
   },
   {
    "duration": 0,
    "start_time": "2022-07-10T14:10:44.943Z"
   },
   {
    "duration": 0,
    "start_time": "2022-07-10T14:10:44.944Z"
   },
   {
    "duration": 0,
    "start_time": "2022-07-10T14:10:44.945Z"
   },
   {
    "duration": 0,
    "start_time": "2022-07-10T14:10:44.947Z"
   },
   {
    "duration": 0,
    "start_time": "2022-07-10T14:10:44.948Z"
   },
   {
    "duration": 2715,
    "start_time": "2022-07-10T14:12:31.913Z"
   },
   {
    "duration": 1269,
    "start_time": "2022-07-10T14:12:34.630Z"
   },
   {
    "duration": 28,
    "start_time": "2022-07-10T14:12:35.901Z"
   },
   {
    "duration": 4,
    "start_time": "2022-07-10T14:12:35.931Z"
   },
   {
    "duration": 21,
    "start_time": "2022-07-10T14:12:35.937Z"
   },
   {
    "duration": 12,
    "start_time": "2022-07-10T14:12:35.960Z"
   },
   {
    "duration": 9,
    "start_time": "2022-07-10T14:12:35.973Z"
   },
   {
    "duration": 16,
    "start_time": "2022-07-10T14:12:35.984Z"
   },
   {
    "duration": 11,
    "start_time": "2022-07-10T14:12:36.002Z"
   },
   {
    "duration": 25,
    "start_time": "2022-07-10T14:12:36.016Z"
   },
   {
    "duration": 7,
    "start_time": "2022-07-10T14:12:36.043Z"
   },
   {
    "duration": 3852,
    "start_time": "2022-07-10T14:12:36.052Z"
   },
   {
    "duration": 5,
    "start_time": "2022-07-10T14:12:39.907Z"
   },
   {
    "duration": 304,
    "start_time": "2022-07-10T14:12:39.914Z"
   },
   {
    "duration": 11,
    "start_time": "2022-07-10T14:12:40.220Z"
   },
   {
    "duration": 19,
    "start_time": "2022-07-10T14:12:40.232Z"
   },
   {
    "duration": 10,
    "start_time": "2022-07-10T14:12:40.253Z"
   },
   {
    "duration": 286,
    "start_time": "2022-07-10T14:12:40.265Z"
   },
   {
    "duration": 11,
    "start_time": "2022-07-10T14:12:40.553Z"
   },
   {
    "duration": 10,
    "start_time": "2022-07-10T14:12:40.566Z"
   },
   {
    "duration": 127,
    "start_time": "2022-07-10T14:12:40.578Z"
   },
   {
    "duration": 0,
    "start_time": "2022-07-10T14:12:40.707Z"
   },
   {
    "duration": 0,
    "start_time": "2022-07-10T14:12:40.709Z"
   },
   {
    "duration": 0,
    "start_time": "2022-07-10T14:12:40.711Z"
   },
   {
    "duration": 0,
    "start_time": "2022-07-10T14:12:40.712Z"
   },
   {
    "duration": 0,
    "start_time": "2022-07-10T14:12:40.713Z"
   },
   {
    "duration": 0,
    "start_time": "2022-07-10T14:12:40.714Z"
   },
   {
    "duration": 0,
    "start_time": "2022-07-10T14:12:40.715Z"
   },
   {
    "duration": 0,
    "start_time": "2022-07-10T14:12:40.716Z"
   },
   {
    "duration": 0,
    "start_time": "2022-07-10T14:12:40.717Z"
   },
   {
    "duration": 0,
    "start_time": "2022-07-10T14:12:40.719Z"
   },
   {
    "duration": 2704,
    "start_time": "2022-07-10T14:17:45.203Z"
   },
   {
    "duration": 1313,
    "start_time": "2022-07-10T14:17:47.910Z"
   },
   {
    "duration": 29,
    "start_time": "2022-07-10T14:17:49.224Z"
   },
   {
    "duration": 4,
    "start_time": "2022-07-10T14:17:49.256Z"
   },
   {
    "duration": 20,
    "start_time": "2022-07-10T14:17:49.261Z"
   },
   {
    "duration": 13,
    "start_time": "2022-07-10T14:17:49.282Z"
   },
   {
    "duration": 10,
    "start_time": "2022-07-10T14:17:49.297Z"
   },
   {
    "duration": 16,
    "start_time": "2022-07-10T14:17:49.309Z"
   },
   {
    "duration": 3,
    "start_time": "2022-07-10T14:17:49.326Z"
   },
   {
    "duration": 27,
    "start_time": "2022-07-10T14:17:49.331Z"
   },
   {
    "duration": 6,
    "start_time": "2022-07-10T14:17:49.360Z"
   },
   {
    "duration": 3912,
    "start_time": "2022-07-10T14:17:49.368Z"
   },
   {
    "duration": 5,
    "start_time": "2022-07-10T14:17:53.282Z"
   },
   {
    "duration": 294,
    "start_time": "2022-07-10T14:17:53.288Z"
   },
   {
    "duration": 11,
    "start_time": "2022-07-10T14:17:53.584Z"
   },
   {
    "duration": 13,
    "start_time": "2022-07-10T14:17:53.597Z"
   },
   {
    "duration": 6,
    "start_time": "2022-07-10T14:17:53.612Z"
   },
   {
    "duration": 308,
    "start_time": "2022-07-10T14:17:53.620Z"
   },
   {
    "duration": 190,
    "start_time": "2022-07-10T14:17:53.930Z"
   },
   {
    "duration": 12,
    "start_time": "2022-07-10T14:17:54.122Z"
   },
   {
    "duration": 11,
    "start_time": "2022-07-10T14:17:54.136Z"
   },
   {
    "duration": 326,
    "start_time": "2022-07-10T14:17:54.149Z"
   },
   {
    "duration": 180,
    "start_time": "2022-07-10T14:17:54.476Z"
   },
   {
    "duration": 72,
    "start_time": "2022-07-10T14:17:54.657Z"
   },
   {
    "duration": 0,
    "start_time": "2022-07-10T14:17:54.731Z"
   },
   {
    "duration": 0,
    "start_time": "2022-07-10T14:17:54.732Z"
   },
   {
    "duration": 0,
    "start_time": "2022-07-10T14:17:54.733Z"
   },
   {
    "duration": 0,
    "start_time": "2022-07-10T14:17:54.734Z"
   },
   {
    "duration": 0,
    "start_time": "2022-07-10T14:17:54.735Z"
   },
   {
    "duration": 0,
    "start_time": "2022-07-10T14:17:54.736Z"
   },
   {
    "duration": 0,
    "start_time": "2022-07-10T14:17:54.737Z"
   },
   {
    "duration": 0,
    "start_time": "2022-07-10T14:17:54.738Z"
   },
   {
    "duration": 0,
    "start_time": "2022-07-10T14:17:54.739Z"
   },
   {
    "duration": 0,
    "start_time": "2022-07-10T14:17:54.740Z"
   },
   {
    "duration": 2639,
    "start_time": "2022-07-10T14:25:09.332Z"
   },
   {
    "duration": 1316,
    "start_time": "2022-07-10T14:25:11.974Z"
   },
   {
    "duration": 26,
    "start_time": "2022-07-10T14:25:13.292Z"
   },
   {
    "duration": 4,
    "start_time": "2022-07-10T14:25:13.320Z"
   },
   {
    "duration": 18,
    "start_time": "2022-07-10T14:25:13.326Z"
   },
   {
    "duration": 13,
    "start_time": "2022-07-10T14:25:13.346Z"
   },
   {
    "duration": 8,
    "start_time": "2022-07-10T14:25:13.360Z"
   },
   {
    "duration": 13,
    "start_time": "2022-07-10T14:25:13.370Z"
   },
   {
    "duration": 5,
    "start_time": "2022-07-10T14:25:13.384Z"
   },
   {
    "duration": 26,
    "start_time": "2022-07-10T14:25:13.399Z"
   },
   {
    "duration": 7,
    "start_time": "2022-07-10T14:25:13.427Z"
   },
   {
    "duration": 3966,
    "start_time": "2022-07-10T14:25:13.436Z"
   },
   {
    "duration": 5,
    "start_time": "2022-07-10T14:25:17.404Z"
   },
   {
    "duration": 300,
    "start_time": "2022-07-10T14:25:17.410Z"
   },
   {
    "duration": 10,
    "start_time": "2022-07-10T14:25:17.712Z"
   },
   {
    "duration": 6,
    "start_time": "2022-07-10T14:25:17.724Z"
   },
   {
    "duration": 8,
    "start_time": "2022-07-10T14:25:17.731Z"
   },
   {
    "duration": 298,
    "start_time": "2022-07-10T14:25:17.740Z"
   },
   {
    "duration": 166,
    "start_time": "2022-07-10T14:25:18.039Z"
   },
   {
    "duration": 11,
    "start_time": "2022-07-10T14:25:18.207Z"
   },
   {
    "duration": 11,
    "start_time": "2022-07-10T14:25:18.220Z"
   },
   {
    "duration": 306,
    "start_time": "2022-07-10T14:25:18.233Z"
   },
   {
    "duration": 178,
    "start_time": "2022-07-10T14:25:18.541Z"
   },
   {
    "duration": 10,
    "start_time": "2022-07-10T14:25:18.722Z"
   },
   {
    "duration": 9,
    "start_time": "2022-07-10T14:25:18.734Z"
   },
   {
    "duration": 5,
    "start_time": "2022-07-10T14:25:18.745Z"
   },
   {
    "duration": 5,
    "start_time": "2022-07-10T14:25:18.752Z"
   },
   {
    "duration": 94,
    "start_time": "2022-07-10T14:25:18.760Z"
   },
   {
    "duration": 0,
    "start_time": "2022-07-10T14:25:18.856Z"
   },
   {
    "duration": 0,
    "start_time": "2022-07-10T14:25:18.857Z"
   },
   {
    "duration": 0,
    "start_time": "2022-07-10T14:25:18.858Z"
   },
   {
    "duration": 0,
    "start_time": "2022-07-10T14:25:18.859Z"
   },
   {
    "duration": 0,
    "start_time": "2022-07-10T14:25:18.860Z"
   },
   {
    "duration": 0,
    "start_time": "2022-07-10T14:25:18.861Z"
   },
   {
    "duration": 2467,
    "start_time": "2022-07-10T14:25:48.146Z"
   },
   {
    "duration": 1298,
    "start_time": "2022-07-10T14:25:50.615Z"
   },
   {
    "duration": 29,
    "start_time": "2022-07-10T14:25:51.915Z"
   },
   {
    "duration": 5,
    "start_time": "2022-07-10T14:25:51.946Z"
   },
   {
    "duration": 27,
    "start_time": "2022-07-10T14:25:51.952Z"
   },
   {
    "duration": 13,
    "start_time": "2022-07-10T14:25:51.981Z"
   },
   {
    "duration": 7,
    "start_time": "2022-07-10T14:25:51.996Z"
   },
   {
    "duration": 28,
    "start_time": "2022-07-10T14:25:52.005Z"
   },
   {
    "duration": 2,
    "start_time": "2022-07-10T14:25:52.035Z"
   },
   {
    "duration": 33,
    "start_time": "2022-07-10T14:25:52.040Z"
   },
   {
    "duration": 6,
    "start_time": "2022-07-10T14:25:52.075Z"
   },
   {
    "duration": 3761,
    "start_time": "2022-07-10T14:25:52.083Z"
   },
   {
    "duration": 6,
    "start_time": "2022-07-10T14:25:55.846Z"
   },
   {
    "duration": 284,
    "start_time": "2022-07-10T14:25:55.854Z"
   },
   {
    "duration": 11,
    "start_time": "2022-07-10T14:25:56.140Z"
   },
   {
    "duration": 6,
    "start_time": "2022-07-10T14:25:56.153Z"
   },
   {
    "duration": 6,
    "start_time": "2022-07-10T14:25:56.160Z"
   },
   {
    "duration": 278,
    "start_time": "2022-07-10T14:25:56.168Z"
   },
   {
    "duration": 176,
    "start_time": "2022-07-10T14:25:56.447Z"
   },
   {
    "duration": 13,
    "start_time": "2022-07-10T14:25:56.625Z"
   },
   {
    "duration": 35,
    "start_time": "2022-07-10T14:25:56.640Z"
   },
   {
    "duration": 380,
    "start_time": "2022-07-10T14:25:56.677Z"
   },
   {
    "duration": 169,
    "start_time": "2022-07-10T14:25:57.059Z"
   },
   {
    "duration": 10,
    "start_time": "2022-07-10T14:25:57.230Z"
   },
   {
    "duration": 10,
    "start_time": "2022-07-10T14:25:57.242Z"
   },
   {
    "duration": 7,
    "start_time": "2022-07-10T14:25:57.254Z"
   },
   {
    "duration": 5,
    "start_time": "2022-07-10T14:25:57.262Z"
   },
   {
    "duration": 5,
    "start_time": "2022-07-10T14:25:57.270Z"
   },
   {
    "duration": 71,
    "start_time": "2022-07-10T14:25:57.297Z"
   },
   {
    "duration": 0,
    "start_time": "2022-07-10T14:25:57.369Z"
   },
   {
    "duration": 0,
    "start_time": "2022-07-10T14:25:57.371Z"
   },
   {
    "duration": 0,
    "start_time": "2022-07-10T14:25:57.372Z"
   },
   {
    "duration": 0,
    "start_time": "2022-07-10T14:25:57.373Z"
   },
   {
    "duration": 0,
    "start_time": "2022-07-10T14:25:57.374Z"
   },
   {
    "duration": 0,
    "start_time": "2022-07-10T14:25:57.376Z"
   },
   {
    "duration": 3487,
    "start_time": "2022-07-10T14:40:16.094Z"
   },
   {
    "duration": 1325,
    "start_time": "2022-07-10T14:40:19.584Z"
   },
   {
    "duration": 28,
    "start_time": "2022-07-10T14:40:20.911Z"
   },
   {
    "duration": 5,
    "start_time": "2022-07-10T14:40:20.941Z"
   },
   {
    "duration": 21,
    "start_time": "2022-07-10T14:40:20.948Z"
   },
   {
    "duration": 13,
    "start_time": "2022-07-10T14:40:20.971Z"
   },
   {
    "duration": 4,
    "start_time": "2022-07-10T14:40:20.986Z"
   },
   {
    "duration": 11,
    "start_time": "2022-07-10T14:40:20.998Z"
   },
   {
    "duration": 4,
    "start_time": "2022-07-10T14:40:21.010Z"
   },
   {
    "duration": 27,
    "start_time": "2022-07-10T14:40:21.016Z"
   },
   {
    "duration": 6,
    "start_time": "2022-07-10T14:40:21.044Z"
   },
   {
    "duration": 4083,
    "start_time": "2022-07-10T14:40:21.052Z"
   },
   {
    "duration": 6,
    "start_time": "2022-07-10T14:40:25.137Z"
   },
   {
    "duration": 329,
    "start_time": "2022-07-10T14:40:25.145Z"
   },
   {
    "duration": 12,
    "start_time": "2022-07-10T14:40:25.476Z"
   },
   {
    "duration": 49,
    "start_time": "2022-07-10T14:40:25.490Z"
   },
   {
    "duration": 22,
    "start_time": "2022-07-10T14:40:25.541Z"
   },
   {
    "duration": 367,
    "start_time": "2022-07-10T14:40:25.565Z"
   },
   {
    "duration": 195,
    "start_time": "2022-07-10T14:40:25.934Z"
   },
   {
    "duration": 11,
    "start_time": "2022-07-10T14:40:26.130Z"
   },
   {
    "duration": 18,
    "start_time": "2022-07-10T14:40:26.143Z"
   },
   {
    "duration": 329,
    "start_time": "2022-07-10T14:40:26.163Z"
   },
   {
    "duration": 197,
    "start_time": "2022-07-10T14:40:26.494Z"
   },
   {
    "duration": 13,
    "start_time": "2022-07-10T14:40:26.697Z"
   },
   {
    "duration": 67,
    "start_time": "2022-07-10T14:40:26.712Z"
   },
   {
    "duration": 73,
    "start_time": "2022-07-10T14:40:26.781Z"
   },
   {
    "duration": 30,
    "start_time": "2022-07-10T14:40:26.856Z"
   },
   {
    "duration": 4,
    "start_time": "2022-07-10T14:40:26.891Z"
   },
   {
    "duration": 33,
    "start_time": "2022-07-10T14:40:26.897Z"
   },
   {
    "duration": 145,
    "start_time": "2022-07-10T14:40:26.933Z"
   },
   {
    "duration": 0,
    "start_time": "2022-07-10T14:40:27.080Z"
   },
   {
    "duration": 0,
    "start_time": "2022-07-10T14:40:27.081Z"
   },
   {
    "duration": 0,
    "start_time": "2022-07-10T14:40:27.082Z"
   },
   {
    "duration": 0,
    "start_time": "2022-07-10T14:40:27.083Z"
   },
   {
    "duration": 0,
    "start_time": "2022-07-10T14:40:27.084Z"
   },
   {
    "duration": 0,
    "start_time": "2022-07-10T14:40:27.085Z"
   },
   {
    "duration": 0,
    "start_time": "2022-07-10T14:40:27.086Z"
   },
   {
    "duration": 0,
    "start_time": "2022-07-10T14:40:27.087Z"
   },
   {
    "duration": 0,
    "start_time": "2022-07-10T14:40:27.088Z"
   },
   {
    "duration": 0,
    "start_time": "2022-07-10T14:40:27.089Z"
   },
   {
    "duration": 2626,
    "start_time": "2022-07-10T14:45:41.870Z"
   },
   {
    "duration": 1333,
    "start_time": "2022-07-10T14:45:44.498Z"
   },
   {
    "duration": 29,
    "start_time": "2022-07-10T14:45:45.834Z"
   },
   {
    "duration": 5,
    "start_time": "2022-07-10T14:45:45.866Z"
   },
   {
    "duration": 25,
    "start_time": "2022-07-10T14:45:45.873Z"
   },
   {
    "duration": 17,
    "start_time": "2022-07-10T14:45:45.899Z"
   },
   {
    "duration": 4,
    "start_time": "2022-07-10T14:45:45.918Z"
   },
   {
    "duration": 21,
    "start_time": "2022-07-10T14:45:45.924Z"
   },
   {
    "duration": 3,
    "start_time": "2022-07-10T14:45:45.947Z"
   },
   {
    "duration": 48,
    "start_time": "2022-07-10T14:45:45.953Z"
   },
   {
    "duration": 8,
    "start_time": "2022-07-10T14:45:46.003Z"
   },
   {
    "duration": 3967,
    "start_time": "2022-07-10T14:45:46.013Z"
   },
   {
    "duration": 5,
    "start_time": "2022-07-10T14:45:49.982Z"
   },
   {
    "duration": 297,
    "start_time": "2022-07-10T14:45:49.997Z"
   },
   {
    "duration": 10,
    "start_time": "2022-07-10T14:45:50.296Z"
   },
   {
    "duration": 5,
    "start_time": "2022-07-10T14:45:50.308Z"
   },
   {
    "duration": 8,
    "start_time": "2022-07-10T14:45:50.315Z"
   },
   {
    "duration": 296,
    "start_time": "2022-07-10T14:45:50.324Z"
   },
   {
    "duration": 177,
    "start_time": "2022-07-10T14:45:50.622Z"
   },
   {
    "duration": 12,
    "start_time": "2022-07-10T14:45:50.800Z"
   },
   {
    "duration": 10,
    "start_time": "2022-07-10T14:45:50.813Z"
   },
   {
    "duration": 321,
    "start_time": "2022-07-10T14:45:50.825Z"
   },
   {
    "duration": 174,
    "start_time": "2022-07-10T14:45:51.148Z"
   },
   {
    "duration": 9,
    "start_time": "2022-07-10T14:45:51.324Z"
   },
   {
    "duration": 12,
    "start_time": "2022-07-10T14:45:51.335Z"
   },
   {
    "duration": 8,
    "start_time": "2022-07-10T14:45:51.349Z"
   },
   {
    "duration": 9,
    "start_time": "2022-07-10T14:45:51.359Z"
   },
   {
    "duration": 28,
    "start_time": "2022-07-10T14:45:51.371Z"
   },
   {
    "duration": 6,
    "start_time": "2022-07-10T14:45:51.401Z"
   },
   {
    "duration": 132,
    "start_time": "2022-07-10T14:45:51.408Z"
   },
   {
    "duration": 0,
    "start_time": "2022-07-10T14:45:51.542Z"
   },
   {
    "duration": 0,
    "start_time": "2022-07-10T14:45:51.543Z"
   },
   {
    "duration": 0,
    "start_time": "2022-07-10T14:45:51.544Z"
   },
   {
    "duration": 0,
    "start_time": "2022-07-10T14:45:51.545Z"
   },
   {
    "duration": 0,
    "start_time": "2022-07-10T14:45:51.546Z"
   },
   {
    "duration": 0,
    "start_time": "2022-07-10T14:45:51.547Z"
   },
   {
    "duration": 0,
    "start_time": "2022-07-10T14:45:51.548Z"
   },
   {
    "duration": 0,
    "start_time": "2022-07-10T14:45:51.550Z"
   },
   {
    "duration": 0,
    "start_time": "2022-07-10T14:45:51.551Z"
   },
   {
    "duration": 0,
    "start_time": "2022-07-10T14:45:51.552Z"
   },
   {
    "duration": 2779,
    "start_time": "2022-07-10T14:52:32.408Z"
   },
   {
    "duration": 1306,
    "start_time": "2022-07-10T14:52:35.190Z"
   },
   {
    "duration": 28,
    "start_time": "2022-07-10T14:52:36.498Z"
   },
   {
    "duration": 4,
    "start_time": "2022-07-10T14:52:36.528Z"
   },
   {
    "duration": 20,
    "start_time": "2022-07-10T14:52:36.534Z"
   },
   {
    "duration": 16,
    "start_time": "2022-07-10T14:52:36.556Z"
   },
   {
    "duration": 4,
    "start_time": "2022-07-10T14:52:36.574Z"
   },
   {
    "duration": 26,
    "start_time": "2022-07-10T14:52:36.580Z"
   },
   {
    "duration": 3,
    "start_time": "2022-07-10T14:52:36.607Z"
   },
   {
    "duration": 30,
    "start_time": "2022-07-10T14:52:36.612Z"
   },
   {
    "duration": 7,
    "start_time": "2022-07-10T14:52:36.644Z"
   },
   {
    "duration": 3931,
    "start_time": "2022-07-10T14:52:36.654Z"
   },
   {
    "duration": 12,
    "start_time": "2022-07-10T14:52:40.586Z"
   },
   {
    "duration": 310,
    "start_time": "2022-07-10T14:52:40.600Z"
   },
   {
    "duration": 16,
    "start_time": "2022-07-10T14:52:40.913Z"
   },
   {
    "duration": 8,
    "start_time": "2022-07-10T14:52:40.930Z"
   },
   {
    "duration": 8,
    "start_time": "2022-07-10T14:52:40.940Z"
   },
   {
    "duration": 307,
    "start_time": "2022-07-10T14:52:40.953Z"
   },
   {
    "duration": 191,
    "start_time": "2022-07-10T14:52:41.262Z"
   },
   {
    "duration": 11,
    "start_time": "2022-07-10T14:52:41.455Z"
   },
   {
    "duration": 11,
    "start_time": "2022-07-10T14:52:41.468Z"
   },
   {
    "duration": 335,
    "start_time": "2022-07-10T14:52:41.480Z"
   },
   {
    "duration": 179,
    "start_time": "2022-07-10T14:52:41.816Z"
   },
   {
    "duration": 10,
    "start_time": "2022-07-10T14:52:41.997Z"
   },
   {
    "duration": 9,
    "start_time": "2022-07-10T14:52:42.008Z"
   },
   {
    "duration": 9,
    "start_time": "2022-07-10T14:52:42.018Z"
   },
   {
    "duration": 13,
    "start_time": "2022-07-10T14:52:42.029Z"
   },
   {
    "duration": 71,
    "start_time": "2022-07-10T14:52:42.045Z"
   },
   {
    "duration": 0,
    "start_time": "2022-07-10T14:52:42.118Z"
   },
   {
    "duration": 0,
    "start_time": "2022-07-10T14:52:42.119Z"
   },
   {
    "duration": 0,
    "start_time": "2022-07-10T14:52:42.120Z"
   },
   {
    "duration": 0,
    "start_time": "2022-07-10T14:52:42.121Z"
   },
   {
    "duration": 0,
    "start_time": "2022-07-10T14:52:42.122Z"
   },
   {
    "duration": 0,
    "start_time": "2022-07-10T14:52:42.123Z"
   },
   {
    "duration": 0,
    "start_time": "2022-07-10T14:52:42.124Z"
   },
   {
    "duration": 0,
    "start_time": "2022-07-10T14:52:42.125Z"
   },
   {
    "duration": 0,
    "start_time": "2022-07-10T14:52:42.126Z"
   },
   {
    "duration": 0,
    "start_time": "2022-07-10T14:52:42.128Z"
   },
   {
    "duration": 0,
    "start_time": "2022-07-10T14:52:42.128Z"
   },
   {
    "duration": 0,
    "start_time": "2022-07-10T14:52:42.129Z"
   },
   {
    "duration": 2633,
    "start_time": "2022-07-10T14:52:57.333Z"
   },
   {
    "duration": 1288,
    "start_time": "2022-07-10T14:52:59.969Z"
   },
   {
    "duration": 27,
    "start_time": "2022-07-10T14:53:01.259Z"
   },
   {
    "duration": 4,
    "start_time": "2022-07-10T14:53:01.288Z"
   },
   {
    "duration": 31,
    "start_time": "2022-07-10T14:53:01.294Z"
   },
   {
    "duration": 10,
    "start_time": "2022-07-10T14:53:01.327Z"
   },
   {
    "duration": 6,
    "start_time": "2022-07-10T14:53:01.339Z"
   },
   {
    "duration": 12,
    "start_time": "2022-07-10T14:53:01.347Z"
   },
   {
    "duration": 2,
    "start_time": "2022-07-10T14:53:01.361Z"
   },
   {
    "duration": 37,
    "start_time": "2022-07-10T14:53:01.366Z"
   },
   {
    "duration": 9,
    "start_time": "2022-07-10T14:53:01.407Z"
   },
   {
    "duration": 3902,
    "start_time": "2022-07-10T14:53:01.417Z"
   },
   {
    "duration": 5,
    "start_time": "2022-07-10T14:53:05.322Z"
   },
   {
    "duration": 288,
    "start_time": "2022-07-10T14:53:05.328Z"
   },
   {
    "duration": 13,
    "start_time": "2022-07-10T14:53:05.619Z"
   },
   {
    "duration": 19,
    "start_time": "2022-07-10T14:53:05.634Z"
   },
   {
    "duration": 14,
    "start_time": "2022-07-10T14:53:05.656Z"
   },
   {
    "duration": 321,
    "start_time": "2022-07-10T14:53:05.672Z"
   },
   {
    "duration": 183,
    "start_time": "2022-07-10T14:53:05.995Z"
   },
   {
    "duration": 10,
    "start_time": "2022-07-10T14:53:06.180Z"
   },
   {
    "duration": 15,
    "start_time": "2022-07-10T14:53:06.200Z"
   },
   {
    "duration": 328,
    "start_time": "2022-07-10T14:53:06.217Z"
   },
   {
    "duration": 222,
    "start_time": "2022-07-10T14:53:06.547Z"
   },
   {
    "duration": 12,
    "start_time": "2022-07-10T14:53:06.773Z"
   },
   {
    "duration": 39,
    "start_time": "2022-07-10T14:53:06.788Z"
   },
   {
    "duration": 12,
    "start_time": "2022-07-10T14:53:06.829Z"
   },
   {
    "duration": 15,
    "start_time": "2022-07-10T14:53:06.844Z"
   },
   {
    "duration": 5,
    "start_time": "2022-07-10T14:53:06.865Z"
   },
   {
    "duration": 10,
    "start_time": "2022-07-10T14:53:06.871Z"
   },
   {
    "duration": 156,
    "start_time": "2022-07-10T14:53:06.883Z"
   },
   {
    "duration": 0,
    "start_time": "2022-07-10T14:53:07.041Z"
   },
   {
    "duration": 0,
    "start_time": "2022-07-10T14:53:07.042Z"
   },
   {
    "duration": 0,
    "start_time": "2022-07-10T14:53:07.044Z"
   },
   {
    "duration": 0,
    "start_time": "2022-07-10T14:53:07.045Z"
   },
   {
    "duration": 0,
    "start_time": "2022-07-10T14:53:07.046Z"
   },
   {
    "duration": 0,
    "start_time": "2022-07-10T14:53:07.047Z"
   },
   {
    "duration": 0,
    "start_time": "2022-07-10T14:53:07.049Z"
   },
   {
    "duration": 0,
    "start_time": "2022-07-10T14:53:07.050Z"
   },
   {
    "duration": 0,
    "start_time": "2022-07-10T14:53:07.051Z"
   },
   {
    "duration": 0,
    "start_time": "2022-07-10T14:53:07.052Z"
   },
   {
    "duration": 2672,
    "start_time": "2022-07-10T14:53:46.477Z"
   },
   {
    "duration": 1234,
    "start_time": "2022-07-10T14:53:49.152Z"
   },
   {
    "duration": 27,
    "start_time": "2022-07-10T14:53:50.387Z"
   },
   {
    "duration": 3,
    "start_time": "2022-07-10T14:53:50.416Z"
   },
   {
    "duration": 20,
    "start_time": "2022-07-10T14:53:50.421Z"
   },
   {
    "duration": 11,
    "start_time": "2022-07-10T14:53:50.442Z"
   },
   {
    "duration": 3,
    "start_time": "2022-07-10T14:53:50.455Z"
   },
   {
    "duration": 12,
    "start_time": "2022-07-10T14:53:50.460Z"
   },
   {
    "duration": 5,
    "start_time": "2022-07-10T14:53:50.474Z"
   },
   {
    "duration": 34,
    "start_time": "2022-07-10T14:53:50.482Z"
   },
   {
    "duration": 6,
    "start_time": "2022-07-10T14:53:50.518Z"
   },
   {
    "duration": 3785,
    "start_time": "2022-07-10T14:53:50.525Z"
   },
   {
    "duration": 6,
    "start_time": "2022-07-10T14:53:54.312Z"
   },
   {
    "duration": 281,
    "start_time": "2022-07-10T14:53:54.320Z"
   },
   {
    "duration": 10,
    "start_time": "2022-07-10T14:53:54.603Z"
   },
   {
    "duration": 6,
    "start_time": "2022-07-10T14:53:54.614Z"
   },
   {
    "duration": 6,
    "start_time": "2022-07-10T14:53:54.622Z"
   },
   {
    "duration": 322,
    "start_time": "2022-07-10T14:53:54.630Z"
   },
   {
    "duration": 175,
    "start_time": "2022-07-10T14:53:54.954Z"
   },
   {
    "duration": 12,
    "start_time": "2022-07-10T14:53:55.131Z"
   },
   {
    "duration": 10,
    "start_time": "2022-07-10T14:53:55.145Z"
   },
   {
    "duration": 317,
    "start_time": "2022-07-10T14:53:55.157Z"
   },
   {
    "duration": 182,
    "start_time": "2022-07-10T14:53:55.475Z"
   },
   {
    "duration": 10,
    "start_time": "2022-07-10T14:53:55.658Z"
   },
   {
    "duration": 7,
    "start_time": "2022-07-10T14:53:55.669Z"
   },
   {
    "duration": 25,
    "start_time": "2022-07-10T14:53:55.678Z"
   },
   {
    "duration": 9,
    "start_time": "2022-07-10T14:53:55.705Z"
   },
   {
    "duration": 4,
    "start_time": "2022-07-10T14:53:55.718Z"
   },
   {
    "duration": 5,
    "start_time": "2022-07-10T14:53:55.724Z"
   },
   {
    "duration": 147,
    "start_time": "2022-07-10T14:53:55.731Z"
   },
   {
    "duration": 0,
    "start_time": "2022-07-10T14:53:55.879Z"
   },
   {
    "duration": 0,
    "start_time": "2022-07-10T14:53:55.880Z"
   },
   {
    "duration": 0,
    "start_time": "2022-07-10T14:53:55.881Z"
   },
   {
    "duration": 0,
    "start_time": "2022-07-10T14:53:55.882Z"
   },
   {
    "duration": 0,
    "start_time": "2022-07-10T14:53:55.883Z"
   },
   {
    "duration": 0,
    "start_time": "2022-07-10T14:53:55.898Z"
   },
   {
    "duration": 0,
    "start_time": "2022-07-10T14:53:55.899Z"
   },
   {
    "duration": 0,
    "start_time": "2022-07-10T14:53:55.900Z"
   },
   {
    "duration": 0,
    "start_time": "2022-07-10T14:53:55.901Z"
   },
   {
    "duration": 1,
    "start_time": "2022-07-10T14:53:55.902Z"
   },
   {
    "duration": 2552,
    "start_time": "2022-07-10T15:00:41.503Z"
   },
   {
    "duration": 1235,
    "start_time": "2022-07-10T15:00:44.057Z"
   },
   {
    "duration": 28,
    "start_time": "2022-07-10T15:00:45.294Z"
   },
   {
    "duration": 4,
    "start_time": "2022-07-10T15:00:45.325Z"
   },
   {
    "duration": 15,
    "start_time": "2022-07-10T15:00:45.331Z"
   },
   {
    "duration": 11,
    "start_time": "2022-07-10T15:00:45.348Z"
   },
   {
    "duration": 5,
    "start_time": "2022-07-10T15:00:45.361Z"
   },
   {
    "duration": 12,
    "start_time": "2022-07-10T15:00:45.368Z"
   },
   {
    "duration": 2,
    "start_time": "2022-07-10T15:00:45.381Z"
   },
   {
    "duration": 24,
    "start_time": "2022-07-10T15:00:45.397Z"
   },
   {
    "duration": 5,
    "start_time": "2022-07-10T15:00:45.423Z"
   },
   {
    "duration": 3815,
    "start_time": "2022-07-10T15:00:45.430Z"
   },
   {
    "duration": 5,
    "start_time": "2022-07-10T15:00:49.246Z"
   },
   {
    "duration": 309,
    "start_time": "2022-07-10T15:00:49.253Z"
   },
   {
    "duration": 13,
    "start_time": "2022-07-10T15:00:49.564Z"
   },
   {
    "duration": 7,
    "start_time": "2022-07-10T15:00:49.578Z"
   },
   {
    "duration": 6,
    "start_time": "2022-07-10T15:00:49.586Z"
   },
   {
    "duration": 294,
    "start_time": "2022-07-10T15:00:49.594Z"
   },
   {
    "duration": 158,
    "start_time": "2022-07-10T15:00:49.889Z"
   },
   {
    "duration": 11,
    "start_time": "2022-07-10T15:00:50.049Z"
   },
   {
    "duration": 13,
    "start_time": "2022-07-10T15:00:50.062Z"
   },
   {
    "duration": 322,
    "start_time": "2022-07-10T15:00:50.077Z"
   },
   {
    "duration": 174,
    "start_time": "2022-07-10T15:00:50.401Z"
   },
   {
    "duration": 11,
    "start_time": "2022-07-10T15:00:50.577Z"
   },
   {
    "duration": 12,
    "start_time": "2022-07-10T15:00:50.599Z"
   },
   {
    "duration": 14,
    "start_time": "2022-07-10T15:00:50.613Z"
   },
   {
    "duration": 11,
    "start_time": "2022-07-10T15:00:50.628Z"
   },
   {
    "duration": 4,
    "start_time": "2022-07-10T15:00:50.642Z"
   },
   {
    "duration": 4,
    "start_time": "2022-07-10T15:00:50.647Z"
   },
   {
    "duration": 135,
    "start_time": "2022-07-10T15:00:50.653Z"
   },
   {
    "duration": 0,
    "start_time": "2022-07-10T15:00:50.790Z"
   },
   {
    "duration": 0,
    "start_time": "2022-07-10T15:00:50.798Z"
   },
   {
    "duration": 0,
    "start_time": "2022-07-10T15:00:50.799Z"
   },
   {
    "duration": 0,
    "start_time": "2022-07-10T15:00:50.800Z"
   },
   {
    "duration": 0,
    "start_time": "2022-07-10T15:00:50.801Z"
   },
   {
    "duration": 0,
    "start_time": "2022-07-10T15:00:50.802Z"
   },
   {
    "duration": 0,
    "start_time": "2022-07-10T15:00:50.803Z"
   },
   {
    "duration": 0,
    "start_time": "2022-07-10T15:00:50.805Z"
   },
   {
    "duration": 0,
    "start_time": "2022-07-10T15:00:50.806Z"
   },
   {
    "duration": 0,
    "start_time": "2022-07-10T15:00:50.807Z"
   },
   {
    "duration": 2683,
    "start_time": "2022-07-10T15:04:29.603Z"
   },
   {
    "duration": 1318,
    "start_time": "2022-07-10T15:04:32.288Z"
   },
   {
    "duration": 27,
    "start_time": "2022-07-10T15:04:33.609Z"
   },
   {
    "duration": 4,
    "start_time": "2022-07-10T15:04:33.638Z"
   },
   {
    "duration": 19,
    "start_time": "2022-07-10T15:04:33.643Z"
   },
   {
    "duration": 12,
    "start_time": "2022-07-10T15:04:33.664Z"
   },
   {
    "duration": 8,
    "start_time": "2022-07-10T15:04:33.678Z"
   },
   {
    "duration": 13,
    "start_time": "2022-07-10T15:04:33.687Z"
   },
   {
    "duration": 2,
    "start_time": "2022-07-10T15:04:33.702Z"
   },
   {
    "duration": 24,
    "start_time": "2022-07-10T15:04:33.707Z"
   },
   {
    "duration": 6,
    "start_time": "2022-07-10T15:04:33.733Z"
   },
   {
    "duration": 3794,
    "start_time": "2022-07-10T15:04:33.740Z"
   },
   {
    "duration": 5,
    "start_time": "2022-07-10T15:04:37.536Z"
   },
   {
    "duration": 284,
    "start_time": "2022-07-10T15:04:37.542Z"
   },
   {
    "duration": 11,
    "start_time": "2022-07-10T15:04:37.827Z"
   },
   {
    "duration": 4,
    "start_time": "2022-07-10T15:04:37.840Z"
   },
   {
    "duration": 5,
    "start_time": "2022-07-10T15:04:37.846Z"
   },
   {
    "duration": 290,
    "start_time": "2022-07-10T15:04:37.853Z"
   },
   {
    "duration": 166,
    "start_time": "2022-07-10T15:04:38.145Z"
   },
   {
    "duration": 13,
    "start_time": "2022-07-10T15:04:38.313Z"
   },
   {
    "duration": 11,
    "start_time": "2022-07-10T15:04:38.328Z"
   },
   {
    "duration": 329,
    "start_time": "2022-07-10T15:04:38.340Z"
   },
   {
    "duration": 173,
    "start_time": "2022-07-10T15:04:38.671Z"
   },
   {
    "duration": 12,
    "start_time": "2022-07-10T15:04:38.846Z"
   },
   {
    "duration": 9,
    "start_time": "2022-07-10T15:04:38.859Z"
   },
   {
    "duration": 31,
    "start_time": "2022-07-10T15:04:38.870Z"
   },
   {
    "duration": 10,
    "start_time": "2022-07-10T15:04:38.903Z"
   },
   {
    "duration": 12,
    "start_time": "2022-07-10T15:04:38.918Z"
   },
   {
    "duration": 5,
    "start_time": "2022-07-10T15:04:38.932Z"
   },
   {
    "duration": 160,
    "start_time": "2022-07-10T15:04:38.939Z"
   },
   {
    "duration": 0,
    "start_time": "2022-07-10T15:04:39.100Z"
   },
   {
    "duration": 0,
    "start_time": "2022-07-10T15:04:39.102Z"
   },
   {
    "duration": 0,
    "start_time": "2022-07-10T15:04:39.103Z"
   },
   {
    "duration": 0,
    "start_time": "2022-07-10T15:04:39.103Z"
   },
   {
    "duration": 0,
    "start_time": "2022-07-10T15:04:39.105Z"
   },
   {
    "duration": 0,
    "start_time": "2022-07-10T15:04:39.106Z"
   },
   {
    "duration": 0,
    "start_time": "2022-07-10T15:04:39.107Z"
   },
   {
    "duration": 0,
    "start_time": "2022-07-10T15:04:39.109Z"
   },
   {
    "duration": 0,
    "start_time": "2022-07-10T15:04:39.110Z"
   },
   {
    "duration": 0,
    "start_time": "2022-07-10T15:04:39.111Z"
   },
   {
    "duration": 2742,
    "start_time": "2022-07-10T15:20:40.232Z"
   },
   {
    "duration": 1359,
    "start_time": "2022-07-10T15:20:42.977Z"
   },
   {
    "duration": 27,
    "start_time": "2022-07-10T15:20:44.337Z"
   },
   {
    "duration": 4,
    "start_time": "2022-07-10T15:20:44.366Z"
   },
   {
    "duration": 18,
    "start_time": "2022-07-10T15:20:44.372Z"
   },
   {
    "duration": 14,
    "start_time": "2022-07-10T15:20:44.392Z"
   },
   {
    "duration": 28,
    "start_time": "2022-07-10T15:20:44.408Z"
   },
   {
    "duration": 13,
    "start_time": "2022-07-10T15:20:44.438Z"
   },
   {
    "duration": 6,
    "start_time": "2022-07-10T15:20:44.453Z"
   },
   {
    "duration": 25,
    "start_time": "2022-07-10T15:20:44.463Z"
   },
   {
    "duration": 6,
    "start_time": "2022-07-10T15:20:44.490Z"
   },
   {
    "duration": 4058,
    "start_time": "2022-07-10T15:20:44.497Z"
   },
   {
    "duration": 5,
    "start_time": "2022-07-10T15:20:48.557Z"
   },
   {
    "duration": 299,
    "start_time": "2022-07-10T15:20:48.563Z"
   },
   {
    "duration": 11,
    "start_time": "2022-07-10T15:20:48.864Z"
   },
   {
    "duration": 6,
    "start_time": "2022-07-10T15:20:48.877Z"
   },
   {
    "duration": 6,
    "start_time": "2022-07-10T15:20:48.885Z"
   },
   {
    "duration": 333,
    "start_time": "2022-07-10T15:20:48.893Z"
   },
   {
    "duration": 177,
    "start_time": "2022-07-10T15:20:49.227Z"
   },
   {
    "duration": 12,
    "start_time": "2022-07-10T15:20:49.406Z"
   },
   {
    "duration": 11,
    "start_time": "2022-07-10T15:20:49.420Z"
   },
   {
    "duration": 343,
    "start_time": "2022-07-10T15:20:49.433Z"
   },
   {
    "duration": 187,
    "start_time": "2022-07-10T15:20:49.778Z"
   },
   {
    "duration": 10,
    "start_time": "2022-07-10T15:20:49.966Z"
   },
   {
    "duration": 21,
    "start_time": "2022-07-10T15:20:49.978Z"
   },
   {
    "duration": 15,
    "start_time": "2022-07-10T15:20:50.004Z"
   },
   {
    "duration": 12,
    "start_time": "2022-07-10T15:20:50.022Z"
   },
   {
    "duration": 3,
    "start_time": "2022-07-10T15:20:50.038Z"
   },
   {
    "duration": 11,
    "start_time": "2022-07-10T15:20:50.043Z"
   },
   {
    "duration": 157,
    "start_time": "2022-07-10T15:20:50.056Z"
   },
   {
    "duration": 0,
    "start_time": "2022-07-10T15:20:50.216Z"
   },
   {
    "duration": 0,
    "start_time": "2022-07-10T15:20:50.217Z"
   },
   {
    "duration": 0,
    "start_time": "2022-07-10T15:20:50.218Z"
   },
   {
    "duration": 0,
    "start_time": "2022-07-10T15:20:50.219Z"
   },
   {
    "duration": 0,
    "start_time": "2022-07-10T15:20:50.220Z"
   },
   {
    "duration": 0,
    "start_time": "2022-07-10T15:20:50.221Z"
   },
   {
    "duration": 0,
    "start_time": "2022-07-10T15:20:50.222Z"
   },
   {
    "duration": 0,
    "start_time": "2022-07-10T15:20:50.224Z"
   },
   {
    "duration": 0,
    "start_time": "2022-07-10T15:20:50.225Z"
   },
   {
    "duration": 0,
    "start_time": "2022-07-10T15:20:50.226Z"
   },
   {
    "duration": 2746,
    "start_time": "2022-07-10T16:03:50.515Z"
   },
   {
    "duration": 1286,
    "start_time": "2022-07-10T16:03:53.264Z"
   },
   {
    "duration": 27,
    "start_time": "2022-07-10T16:03:54.552Z"
   },
   {
    "duration": 4,
    "start_time": "2022-07-10T16:03:54.581Z"
   },
   {
    "duration": 27,
    "start_time": "2022-07-10T16:03:54.588Z"
   },
   {
    "duration": 17,
    "start_time": "2022-07-10T16:03:54.617Z"
   },
   {
    "duration": 7,
    "start_time": "2022-07-10T16:03:54.636Z"
   },
   {
    "duration": 13,
    "start_time": "2022-07-10T16:03:54.645Z"
   },
   {
    "duration": 2,
    "start_time": "2022-07-10T16:03:54.660Z"
   },
   {
    "duration": 51,
    "start_time": "2022-07-10T16:03:54.664Z"
   },
   {
    "duration": 8,
    "start_time": "2022-07-10T16:03:54.717Z"
   },
   {
    "duration": 4111,
    "start_time": "2022-07-10T16:03:54.727Z"
   },
   {
    "duration": 5,
    "start_time": "2022-07-10T16:03:58.841Z"
   },
   {
    "duration": 323,
    "start_time": "2022-07-10T16:03:58.851Z"
   },
   {
    "duration": 11,
    "start_time": "2022-07-10T16:03:59.176Z"
   },
   {
    "duration": 7,
    "start_time": "2022-07-10T16:03:59.189Z"
   },
   {
    "duration": 21,
    "start_time": "2022-07-10T16:03:59.200Z"
   },
   {
    "duration": 321,
    "start_time": "2022-07-10T16:03:59.224Z"
   },
   {
    "duration": 209,
    "start_time": "2022-07-10T16:03:59.547Z"
   },
   {
    "duration": 12,
    "start_time": "2022-07-10T16:03:59.758Z"
   },
   {
    "duration": 32,
    "start_time": "2022-07-10T16:03:59.772Z"
   },
   {
    "duration": 333,
    "start_time": "2022-07-10T16:03:59.806Z"
   },
   {
    "duration": 199,
    "start_time": "2022-07-10T16:04:00.141Z"
   },
   {
    "duration": 4,
    "start_time": "2022-07-10T16:04:00.342Z"
   },
   {
    "duration": 29,
    "start_time": "2022-07-10T16:04:00.348Z"
   },
   {
    "duration": 13,
    "start_time": "2022-07-10T16:04:00.378Z"
   },
   {
    "duration": 27,
    "start_time": "2022-07-10T16:04:00.393Z"
   },
   {
    "duration": 130,
    "start_time": "2022-07-10T16:04:00.422Z"
   },
   {
    "duration": 0,
    "start_time": "2022-07-10T16:04:00.554Z"
   },
   {
    "duration": 0,
    "start_time": "2022-07-10T16:04:00.556Z"
   },
   {
    "duration": 0,
    "start_time": "2022-07-10T16:04:00.557Z"
   },
   {
    "duration": 0,
    "start_time": "2022-07-10T16:04:00.559Z"
   },
   {
    "duration": 0,
    "start_time": "2022-07-10T16:04:00.560Z"
   },
   {
    "duration": 0,
    "start_time": "2022-07-10T16:04:00.562Z"
   },
   {
    "duration": 0,
    "start_time": "2022-07-10T16:04:00.564Z"
   },
   {
    "duration": 0,
    "start_time": "2022-07-10T16:04:00.566Z"
   },
   {
    "duration": 0,
    "start_time": "2022-07-10T16:04:00.567Z"
   },
   {
    "duration": 0,
    "start_time": "2022-07-10T16:04:00.568Z"
   },
   {
    "duration": 2807,
    "start_time": "2022-07-10T16:04:36.809Z"
   },
   {
    "duration": 1306,
    "start_time": "2022-07-10T16:04:39.619Z"
   },
   {
    "duration": 29,
    "start_time": "2022-07-10T16:04:40.927Z"
   },
   {
    "duration": 4,
    "start_time": "2022-07-10T16:04:40.958Z"
   },
   {
    "duration": 21,
    "start_time": "2022-07-10T16:04:40.964Z"
   },
   {
    "duration": 17,
    "start_time": "2022-07-10T16:04:40.987Z"
   },
   {
    "duration": 8,
    "start_time": "2022-07-10T16:04:41.014Z"
   },
   {
    "duration": 13,
    "start_time": "2022-07-10T16:04:41.024Z"
   },
   {
    "duration": 4,
    "start_time": "2022-07-10T16:04:41.039Z"
   },
   {
    "duration": 31,
    "start_time": "2022-07-10T16:04:41.047Z"
   },
   {
    "duration": 24,
    "start_time": "2022-07-10T16:04:41.080Z"
   },
   {
    "duration": 4169,
    "start_time": "2022-07-10T16:04:41.105Z"
   },
   {
    "duration": 6,
    "start_time": "2022-07-10T16:04:45.276Z"
   },
   {
    "duration": 346,
    "start_time": "2022-07-10T16:04:45.284Z"
   },
   {
    "duration": 14,
    "start_time": "2022-07-10T16:04:45.633Z"
   },
   {
    "duration": 21,
    "start_time": "2022-07-10T16:04:45.649Z"
   },
   {
    "duration": 11,
    "start_time": "2022-07-10T16:04:45.672Z"
   },
   {
    "duration": 347,
    "start_time": "2022-07-10T16:04:45.685Z"
   },
   {
    "duration": 181,
    "start_time": "2022-07-10T16:04:46.034Z"
   },
   {
    "duration": 11,
    "start_time": "2022-07-10T16:04:46.217Z"
   },
   {
    "duration": 12,
    "start_time": "2022-07-10T16:04:46.229Z"
   },
   {
    "duration": 489,
    "start_time": "2022-07-10T16:04:46.243Z"
   },
   {
    "duration": 238,
    "start_time": "2022-07-10T16:04:46.735Z"
   },
   {
    "duration": 5,
    "start_time": "2022-07-10T16:04:46.976Z"
   },
   {
    "duration": 33,
    "start_time": "2022-07-10T16:04:46.984Z"
   },
   {
    "duration": 16,
    "start_time": "2022-07-10T16:04:47.019Z"
   },
   {
    "duration": 14,
    "start_time": "2022-07-10T16:04:47.037Z"
   },
   {
    "duration": 31,
    "start_time": "2022-07-10T16:04:47.056Z"
   },
   {
    "duration": 1864,
    "start_time": "2022-07-10T16:04:47.089Z"
   },
   {
    "duration": 0,
    "start_time": "2022-07-10T16:04:48.956Z"
   },
   {
    "duration": 0,
    "start_time": "2022-07-10T16:04:48.958Z"
   },
   {
    "duration": 0,
    "start_time": "2022-07-10T16:04:48.959Z"
   },
   {
    "duration": 0,
    "start_time": "2022-07-10T16:04:48.961Z"
   },
   {
    "duration": 0,
    "start_time": "2022-07-10T16:04:48.963Z"
   },
   {
    "duration": 0,
    "start_time": "2022-07-10T16:04:48.964Z"
   },
   {
    "duration": 0,
    "start_time": "2022-07-10T16:04:48.966Z"
   },
   {
    "duration": 0,
    "start_time": "2022-07-10T16:04:48.969Z"
   },
   {
    "duration": 0,
    "start_time": "2022-07-10T16:04:48.970Z"
   },
   {
    "duration": 2910,
    "start_time": "2022-07-10T16:11:19.147Z"
   },
   {
    "duration": 1428,
    "start_time": "2022-07-10T16:11:22.060Z"
   },
   {
    "duration": 29,
    "start_time": "2022-07-10T16:11:23.490Z"
   },
   {
    "duration": 5,
    "start_time": "2022-07-10T16:11:23.522Z"
   },
   {
    "duration": 26,
    "start_time": "2022-07-10T16:11:23.529Z"
   },
   {
    "duration": 13,
    "start_time": "2022-07-10T16:11:23.557Z"
   },
   {
    "duration": 3,
    "start_time": "2022-07-10T16:11:23.572Z"
   },
   {
    "duration": 28,
    "start_time": "2022-07-10T16:11:23.577Z"
   },
   {
    "duration": 3,
    "start_time": "2022-07-10T16:11:23.607Z"
   },
   {
    "duration": 39,
    "start_time": "2022-07-10T16:11:23.613Z"
   },
   {
    "duration": 8,
    "start_time": "2022-07-10T16:11:23.654Z"
   },
   {
    "duration": 4667,
    "start_time": "2022-07-10T16:11:23.665Z"
   },
   {
    "duration": 6,
    "start_time": "2022-07-10T16:11:28.333Z"
   },
   {
    "duration": 321,
    "start_time": "2022-07-10T16:11:28.341Z"
   },
   {
    "duration": 13,
    "start_time": "2022-07-10T16:11:28.664Z"
   },
   {
    "duration": 11,
    "start_time": "2022-07-10T16:11:28.679Z"
   },
   {
    "duration": 6,
    "start_time": "2022-07-10T16:11:28.694Z"
   },
   {
    "duration": 365,
    "start_time": "2022-07-10T16:11:28.702Z"
   },
   {
    "duration": 190,
    "start_time": "2022-07-10T16:11:29.069Z"
   },
   {
    "duration": 12,
    "start_time": "2022-07-10T16:11:29.261Z"
   },
   {
    "duration": 26,
    "start_time": "2022-07-10T16:11:29.275Z"
   },
   {
    "duration": 354,
    "start_time": "2022-07-10T16:11:29.303Z"
   },
   {
    "duration": 224,
    "start_time": "2022-07-10T16:11:29.658Z"
   },
   {
    "duration": 4,
    "start_time": "2022-07-10T16:11:29.884Z"
   },
   {
    "duration": 6,
    "start_time": "2022-07-10T16:11:29.901Z"
   },
   {
    "duration": 10,
    "start_time": "2022-07-10T16:11:29.909Z"
   },
   {
    "duration": 8,
    "start_time": "2022-07-10T16:11:29.921Z"
   },
   {
    "duration": 146,
    "start_time": "2022-07-10T16:11:29.934Z"
   },
   {
    "duration": 0,
    "start_time": "2022-07-10T16:11:30.082Z"
   },
   {
    "duration": 0,
    "start_time": "2022-07-10T16:11:30.083Z"
   },
   {
    "duration": 0,
    "start_time": "2022-07-10T16:11:30.085Z"
   },
   {
    "duration": 0,
    "start_time": "2022-07-10T16:11:30.086Z"
   },
   {
    "duration": 0,
    "start_time": "2022-07-10T16:11:30.087Z"
   },
   {
    "duration": 0,
    "start_time": "2022-07-10T16:11:30.088Z"
   },
   {
    "duration": 0,
    "start_time": "2022-07-10T16:11:30.098Z"
   },
   {
    "duration": 0,
    "start_time": "2022-07-10T16:11:30.104Z"
   },
   {
    "duration": 0,
    "start_time": "2022-07-10T16:11:30.106Z"
   },
   {
    "duration": 0,
    "start_time": "2022-07-10T16:11:30.108Z"
   },
   {
    "duration": 2708,
    "start_time": "2022-07-10T16:12:53.604Z"
   },
   {
    "duration": 1370,
    "start_time": "2022-07-10T16:12:56.314Z"
   },
   {
    "duration": 28,
    "start_time": "2022-07-10T16:12:57.689Z"
   },
   {
    "duration": 4,
    "start_time": "2022-07-10T16:12:57.719Z"
   },
   {
    "duration": 17,
    "start_time": "2022-07-10T16:12:57.725Z"
   },
   {
    "duration": 12,
    "start_time": "2022-07-10T16:12:57.743Z"
   },
   {
    "duration": 5,
    "start_time": "2022-07-10T16:12:57.757Z"
   },
   {
    "duration": 14,
    "start_time": "2022-07-10T16:12:57.764Z"
   },
   {
    "duration": 3,
    "start_time": "2022-07-10T16:12:57.780Z"
   },
   {
    "duration": 35,
    "start_time": "2022-07-10T16:12:57.786Z"
   },
   {
    "duration": 6,
    "start_time": "2022-07-10T16:12:57.824Z"
   },
   {
    "duration": 3747,
    "start_time": "2022-07-10T16:12:57.832Z"
   },
   {
    "duration": 6,
    "start_time": "2022-07-10T16:13:01.581Z"
   },
   {
    "duration": 339,
    "start_time": "2022-07-10T16:13:01.599Z"
   },
   {
    "duration": 12,
    "start_time": "2022-07-10T16:13:01.940Z"
   },
   {
    "duration": 6,
    "start_time": "2022-07-10T16:13:01.954Z"
   },
   {
    "duration": 5,
    "start_time": "2022-07-10T16:13:01.962Z"
   },
   {
    "duration": 286,
    "start_time": "2022-07-10T16:13:01.968Z"
   },
   {
    "duration": 159,
    "start_time": "2022-07-10T16:13:02.256Z"
   },
   {
    "duration": 11,
    "start_time": "2022-07-10T16:13:02.417Z"
   },
   {
    "duration": 13,
    "start_time": "2022-07-10T16:13:02.430Z"
   },
   {
    "duration": 328,
    "start_time": "2022-07-10T16:13:02.445Z"
   },
   {
    "duration": 168,
    "start_time": "2022-07-10T16:13:02.775Z"
   },
   {
    "duration": 9,
    "start_time": "2022-07-10T16:13:02.945Z"
   },
   {
    "duration": 5,
    "start_time": "2022-07-10T16:13:02.956Z"
   },
   {
    "duration": 5,
    "start_time": "2022-07-10T16:13:02.963Z"
   },
   {
    "duration": 28,
    "start_time": "2022-07-10T16:13:02.970Z"
   },
   {
    "duration": 132,
    "start_time": "2022-07-10T16:13:03.002Z"
   },
   {
    "duration": 0,
    "start_time": "2022-07-10T16:13:03.136Z"
   },
   {
    "duration": 0,
    "start_time": "2022-07-10T16:13:03.137Z"
   },
   {
    "duration": 0,
    "start_time": "2022-07-10T16:13:03.139Z"
   },
   {
    "duration": 0,
    "start_time": "2022-07-10T16:13:03.141Z"
   },
   {
    "duration": 0,
    "start_time": "2022-07-10T16:13:03.142Z"
   },
   {
    "duration": 0,
    "start_time": "2022-07-10T16:13:03.144Z"
   },
   {
    "duration": 0,
    "start_time": "2022-07-10T16:13:03.145Z"
   },
   {
    "duration": 0,
    "start_time": "2022-07-10T16:13:03.147Z"
   },
   {
    "duration": 0,
    "start_time": "2022-07-10T16:13:03.149Z"
   },
   {
    "duration": 0,
    "start_time": "2022-07-10T16:13:03.151Z"
   },
   {
    "duration": 2642,
    "start_time": "2022-07-10T16:13:28.809Z"
   },
   {
    "duration": 1249,
    "start_time": "2022-07-10T16:13:31.453Z"
   },
   {
    "duration": 28,
    "start_time": "2022-07-10T16:13:32.704Z"
   },
   {
    "duration": 5,
    "start_time": "2022-07-10T16:13:32.735Z"
   },
   {
    "duration": 32,
    "start_time": "2022-07-10T16:13:32.742Z"
   },
   {
    "duration": 14,
    "start_time": "2022-07-10T16:13:32.776Z"
   },
   {
    "duration": 6,
    "start_time": "2022-07-10T16:13:32.792Z"
   },
   {
    "duration": 15,
    "start_time": "2022-07-10T16:13:32.800Z"
   },
   {
    "duration": 5,
    "start_time": "2022-07-10T16:13:32.817Z"
   },
   {
    "duration": 30,
    "start_time": "2022-07-10T16:13:32.827Z"
   },
   {
    "duration": 6,
    "start_time": "2022-07-10T16:13:32.859Z"
   },
   {
    "duration": 3890,
    "start_time": "2022-07-10T16:13:32.867Z"
   },
   {
    "duration": 7,
    "start_time": "2022-07-10T16:13:36.760Z"
   },
   {
    "duration": 380,
    "start_time": "2022-07-10T16:13:36.770Z"
   },
   {
    "duration": 12,
    "start_time": "2022-07-10T16:13:37.152Z"
   },
   {
    "duration": 8,
    "start_time": "2022-07-10T16:13:37.166Z"
   },
   {
    "duration": 7,
    "start_time": "2022-07-10T16:13:37.176Z"
   },
   {
    "duration": 301,
    "start_time": "2022-07-10T16:13:37.184Z"
   },
   {
    "duration": 186,
    "start_time": "2022-07-10T16:13:37.487Z"
   },
   {
    "duration": 23,
    "start_time": "2022-07-10T16:13:37.675Z"
   },
   {
    "duration": 16,
    "start_time": "2022-07-10T16:13:37.700Z"
   },
   {
    "duration": 322,
    "start_time": "2022-07-10T16:13:37.719Z"
   },
   {
    "duration": 182,
    "start_time": "2022-07-10T16:13:38.044Z"
   },
   {
    "duration": 11,
    "start_time": "2022-07-10T16:13:38.228Z"
   },
   {
    "duration": 8,
    "start_time": "2022-07-10T16:13:38.241Z"
   },
   {
    "duration": 7,
    "start_time": "2022-07-10T16:13:38.251Z"
   },
   {
    "duration": 8,
    "start_time": "2022-07-10T16:13:38.260Z"
   },
   {
    "duration": 44,
    "start_time": "2022-07-10T16:13:38.302Z"
   },
   {
    "duration": 203,
    "start_time": "2022-07-10T16:13:38.348Z"
   },
   {
    "duration": 0,
    "start_time": "2022-07-10T16:13:38.553Z"
   },
   {
    "duration": 0,
    "start_time": "2022-07-10T16:13:38.555Z"
   },
   {
    "duration": 0,
    "start_time": "2022-07-10T16:13:38.557Z"
   },
   {
    "duration": 0,
    "start_time": "2022-07-10T16:13:38.559Z"
   },
   {
    "duration": 0,
    "start_time": "2022-07-10T16:13:38.560Z"
   },
   {
    "duration": 0,
    "start_time": "2022-07-10T16:13:38.562Z"
   },
   {
    "duration": 0,
    "start_time": "2022-07-10T16:13:38.563Z"
   },
   {
    "duration": 0,
    "start_time": "2022-07-10T16:13:38.565Z"
   },
   {
    "duration": 0,
    "start_time": "2022-07-10T16:13:38.566Z"
   },
   {
    "duration": 2523,
    "start_time": "2022-07-10T16:47:57.166Z"
   },
   {
    "duration": 1316,
    "start_time": "2022-07-10T16:47:59.692Z"
   },
   {
    "duration": 29,
    "start_time": "2022-07-10T16:48:01.009Z"
   },
   {
    "duration": 4,
    "start_time": "2022-07-10T16:48:01.040Z"
   },
   {
    "duration": 21,
    "start_time": "2022-07-10T16:48:01.046Z"
   },
   {
    "duration": 12,
    "start_time": "2022-07-10T16:48:01.068Z"
   },
   {
    "duration": 28,
    "start_time": "2022-07-10T16:48:01.082Z"
   },
   {
    "duration": 16,
    "start_time": "2022-07-10T16:48:01.112Z"
   },
   {
    "duration": 2,
    "start_time": "2022-07-10T16:48:01.130Z"
   },
   {
    "duration": 30,
    "start_time": "2022-07-10T16:48:01.135Z"
   },
   {
    "duration": 6,
    "start_time": "2022-07-10T16:48:01.166Z"
   },
   {
    "duration": 3735,
    "start_time": "2022-07-10T16:48:01.174Z"
   },
   {
    "duration": 5,
    "start_time": "2022-07-10T16:48:04.911Z"
   },
   {
    "duration": 292,
    "start_time": "2022-07-10T16:48:04.918Z"
   },
   {
    "duration": 11,
    "start_time": "2022-07-10T16:48:05.211Z"
   },
   {
    "duration": 5,
    "start_time": "2022-07-10T16:48:05.223Z"
   },
   {
    "duration": 6,
    "start_time": "2022-07-10T16:48:05.230Z"
   },
   {
    "duration": 297,
    "start_time": "2022-07-10T16:48:05.238Z"
   },
   {
    "duration": 182,
    "start_time": "2022-07-10T16:48:05.536Z"
   },
   {
    "duration": 11,
    "start_time": "2022-07-10T16:48:05.719Z"
   },
   {
    "duration": 10,
    "start_time": "2022-07-10T16:48:05.732Z"
   },
   {
    "duration": 350,
    "start_time": "2022-07-10T16:48:05.743Z"
   },
   {
    "duration": 181,
    "start_time": "2022-07-10T16:48:06.095Z"
   },
   {
    "duration": 9,
    "start_time": "2022-07-10T16:48:06.278Z"
   },
   {
    "duration": 11,
    "start_time": "2022-07-10T16:48:06.289Z"
   },
   {
    "duration": 5,
    "start_time": "2022-07-10T16:48:06.302Z"
   },
   {
    "duration": 5,
    "start_time": "2022-07-10T16:48:06.308Z"
   },
   {
    "duration": 22,
    "start_time": "2022-07-10T16:48:06.316Z"
   },
   {
    "duration": 149,
    "start_time": "2022-07-10T16:48:06.340Z"
   },
   {
    "duration": 0,
    "start_time": "2022-07-10T16:48:06.491Z"
   },
   {
    "duration": 0,
    "start_time": "2022-07-10T16:48:06.492Z"
   },
   {
    "duration": 0,
    "start_time": "2022-07-10T16:48:06.493Z"
   },
   {
    "duration": 0,
    "start_time": "2022-07-10T16:48:06.498Z"
   },
   {
    "duration": 0,
    "start_time": "2022-07-10T16:48:06.499Z"
   },
   {
    "duration": 0,
    "start_time": "2022-07-10T16:48:06.500Z"
   },
   {
    "duration": 0,
    "start_time": "2022-07-10T16:48:06.502Z"
   },
   {
    "duration": 0,
    "start_time": "2022-07-10T16:48:06.502Z"
   },
   {
    "duration": 0,
    "start_time": "2022-07-10T16:48:06.503Z"
   },
   {
    "duration": 2802,
    "start_time": "2022-07-10T17:42:22.282Z"
   },
   {
    "duration": 1326,
    "start_time": "2022-07-10T17:42:25.087Z"
   },
   {
    "duration": 27,
    "start_time": "2022-07-10T17:42:26.415Z"
   },
   {
    "duration": 3,
    "start_time": "2022-07-10T17:42:26.444Z"
   },
   {
    "duration": 18,
    "start_time": "2022-07-10T17:42:26.449Z"
   },
   {
    "duration": 12,
    "start_time": "2022-07-10T17:42:26.469Z"
   },
   {
    "duration": 12,
    "start_time": "2022-07-10T17:42:26.483Z"
   },
   {
    "duration": 29,
    "start_time": "2022-07-10T17:42:26.496Z"
   },
   {
    "duration": 4,
    "start_time": "2022-07-10T17:42:26.527Z"
   },
   {
    "duration": 27,
    "start_time": "2022-07-10T17:42:26.533Z"
   },
   {
    "duration": 6,
    "start_time": "2022-07-10T17:42:26.562Z"
   },
   {
    "duration": 4289,
    "start_time": "2022-07-10T17:42:26.569Z"
   },
   {
    "duration": 5,
    "start_time": "2022-07-10T17:42:30.860Z"
   },
   {
    "duration": 313,
    "start_time": "2022-07-10T17:42:30.867Z"
   },
   {
    "duration": 17,
    "start_time": "2022-07-10T17:42:31.182Z"
   },
   {
    "duration": 22,
    "start_time": "2022-07-10T17:42:31.202Z"
   },
   {
    "duration": 14,
    "start_time": "2022-07-10T17:42:31.234Z"
   },
   {
    "duration": 324,
    "start_time": "2022-07-10T17:42:31.250Z"
   },
   {
    "duration": 186,
    "start_time": "2022-07-10T17:42:31.576Z"
   },
   {
    "duration": 11,
    "start_time": "2022-07-10T17:42:31.764Z"
   },
   {
    "duration": 24,
    "start_time": "2022-07-10T17:42:31.777Z"
   },
   {
    "duration": 318,
    "start_time": "2022-07-10T17:42:31.805Z"
   },
   {
    "duration": 177,
    "start_time": "2022-07-10T17:42:32.124Z"
   },
   {
    "duration": 10,
    "start_time": "2022-07-10T17:42:32.307Z"
   },
   {
    "duration": 8,
    "start_time": "2022-07-10T17:42:32.319Z"
   },
   {
    "duration": 15,
    "start_time": "2022-07-10T17:42:32.329Z"
   },
   {
    "duration": 12,
    "start_time": "2022-07-10T17:42:32.345Z"
   },
   {
    "duration": 12,
    "start_time": "2022-07-10T17:42:32.361Z"
   },
   {
    "duration": 9,
    "start_time": "2022-07-10T17:42:32.374Z"
   },
   {
    "duration": 17,
    "start_time": "2022-07-10T17:42:32.400Z"
   },
   {
    "duration": 25,
    "start_time": "2022-07-10T17:42:32.418Z"
   },
   {
    "duration": 126,
    "start_time": "2022-07-10T17:42:32.444Z"
   },
   {
    "duration": 0,
    "start_time": "2022-07-10T17:42:32.572Z"
   },
   {
    "duration": 0,
    "start_time": "2022-07-10T17:42:32.573Z"
   },
   {
    "duration": 0,
    "start_time": "2022-07-10T17:42:32.575Z"
   },
   {
    "duration": 0,
    "start_time": "2022-07-10T17:42:32.576Z"
   },
   {
    "duration": 0,
    "start_time": "2022-07-10T17:42:32.577Z"
   },
   {
    "duration": 0,
    "start_time": "2022-07-10T17:42:32.578Z"
   },
   {
    "duration": 0,
    "start_time": "2022-07-10T17:42:32.579Z"
   },
   {
    "duration": 0,
    "start_time": "2022-07-10T17:42:32.597Z"
   },
   {
    "duration": 0,
    "start_time": "2022-07-10T17:42:32.598Z"
   },
   {
    "duration": 2613,
    "start_time": "2022-07-10T17:45:18.901Z"
   },
   {
    "duration": 1228,
    "start_time": "2022-07-10T17:45:21.516Z"
   },
   {
    "duration": 27,
    "start_time": "2022-07-10T17:45:22.745Z"
   },
   {
    "duration": 4,
    "start_time": "2022-07-10T17:45:22.774Z"
   },
   {
    "duration": 22,
    "start_time": "2022-07-10T17:45:22.779Z"
   },
   {
    "duration": 12,
    "start_time": "2022-07-10T17:45:22.803Z"
   },
   {
    "duration": 7,
    "start_time": "2022-07-10T17:45:22.817Z"
   },
   {
    "duration": 15,
    "start_time": "2022-07-10T17:45:22.825Z"
   },
   {
    "duration": 2,
    "start_time": "2022-07-10T17:45:22.841Z"
   },
   {
    "duration": 26,
    "start_time": "2022-07-10T17:45:22.846Z"
   },
   {
    "duration": 28,
    "start_time": "2022-07-10T17:45:22.874Z"
   },
   {
    "duration": 3919,
    "start_time": "2022-07-10T17:45:22.903Z"
   },
   {
    "duration": 7,
    "start_time": "2022-07-10T17:45:26.824Z"
   },
   {
    "duration": 308,
    "start_time": "2022-07-10T17:45:26.832Z"
   },
   {
    "duration": 11,
    "start_time": "2022-07-10T17:45:27.141Z"
   },
   {
    "duration": 5,
    "start_time": "2022-07-10T17:45:27.154Z"
   },
   {
    "duration": 5,
    "start_time": "2022-07-10T17:45:27.161Z"
   },
   {
    "duration": 306,
    "start_time": "2022-07-10T17:45:27.168Z"
   },
   {
    "duration": 184,
    "start_time": "2022-07-10T17:45:27.476Z"
   },
   {
    "duration": 13,
    "start_time": "2022-07-10T17:45:27.662Z"
   },
   {
    "duration": 25,
    "start_time": "2022-07-10T17:45:27.677Z"
   },
   {
    "duration": 306,
    "start_time": "2022-07-10T17:45:27.705Z"
   },
   {
    "duration": 173,
    "start_time": "2022-07-10T17:45:28.013Z"
   },
   {
    "duration": 12,
    "start_time": "2022-07-10T17:45:28.187Z"
   },
   {
    "duration": 6,
    "start_time": "2022-07-10T17:45:28.201Z"
   },
   {
    "duration": 8,
    "start_time": "2022-07-10T17:45:28.208Z"
   },
   {
    "duration": 7,
    "start_time": "2022-07-10T17:45:28.218Z"
   },
   {
    "duration": 9,
    "start_time": "2022-07-10T17:45:28.230Z"
   },
   {
    "duration": 6,
    "start_time": "2022-07-10T17:45:28.240Z"
   },
   {
    "duration": 7,
    "start_time": "2022-07-10T17:45:28.247Z"
   },
   {
    "duration": 49,
    "start_time": "2022-07-10T17:45:28.256Z"
   },
   {
    "duration": 130,
    "start_time": "2022-07-10T17:45:28.307Z"
   },
   {
    "duration": 0,
    "start_time": "2022-07-10T17:45:28.438Z"
   },
   {
    "duration": 0,
    "start_time": "2022-07-10T17:45:28.440Z"
   },
   {
    "duration": 0,
    "start_time": "2022-07-10T17:45:28.441Z"
   },
   {
    "duration": 0,
    "start_time": "2022-07-10T17:45:28.443Z"
   },
   {
    "duration": 0,
    "start_time": "2022-07-10T17:45:28.443Z"
   },
   {
    "duration": 0,
    "start_time": "2022-07-10T17:45:28.444Z"
   },
   {
    "duration": 0,
    "start_time": "2022-07-10T17:45:28.445Z"
   },
   {
    "duration": 0,
    "start_time": "2022-07-10T17:45:28.447Z"
   },
   {
    "duration": 0,
    "start_time": "2022-07-10T17:45:28.449Z"
   },
   {
    "duration": 2701,
    "start_time": "2022-07-10T17:49:25.486Z"
   },
   {
    "duration": 1303,
    "start_time": "2022-07-10T17:49:28.190Z"
   },
   {
    "duration": 27,
    "start_time": "2022-07-10T17:49:29.495Z"
   },
   {
    "duration": 4,
    "start_time": "2022-07-10T17:49:29.524Z"
   },
   {
    "duration": 20,
    "start_time": "2022-07-10T17:49:29.529Z"
   },
   {
    "duration": 12,
    "start_time": "2022-07-10T17:49:29.550Z"
   },
   {
    "duration": 5,
    "start_time": "2022-07-10T17:49:29.564Z"
   },
   {
    "duration": 11,
    "start_time": "2022-07-10T17:49:29.570Z"
   },
   {
    "duration": 2,
    "start_time": "2022-07-10T17:49:29.583Z"
   },
   {
    "duration": 33,
    "start_time": "2022-07-10T17:49:29.599Z"
   },
   {
    "duration": 7,
    "start_time": "2022-07-10T17:49:29.634Z"
   },
   {
    "duration": 3895,
    "start_time": "2022-07-10T17:49:29.643Z"
   },
   {
    "duration": 5,
    "start_time": "2022-07-10T17:49:33.540Z"
   },
   {
    "duration": 306,
    "start_time": "2022-07-10T17:49:33.546Z"
   },
   {
    "duration": 10,
    "start_time": "2022-07-10T17:49:33.854Z"
   },
   {
    "duration": 6,
    "start_time": "2022-07-10T17:49:33.866Z"
   },
   {
    "duration": 6,
    "start_time": "2022-07-10T17:49:33.874Z"
   },
   {
    "duration": 306,
    "start_time": "2022-07-10T17:49:33.899Z"
   },
   {
    "duration": 167,
    "start_time": "2022-07-10T17:49:34.207Z"
   },
   {
    "duration": 10,
    "start_time": "2022-07-10T17:49:34.375Z"
   },
   {
    "duration": 18,
    "start_time": "2022-07-10T17:49:34.387Z"
   },
   {
    "duration": 313,
    "start_time": "2022-07-10T17:49:34.406Z"
   },
   {
    "duration": 171,
    "start_time": "2022-07-10T17:49:34.720Z"
   },
   {
    "duration": 9,
    "start_time": "2022-07-10T17:49:34.893Z"
   },
   {
    "duration": 12,
    "start_time": "2022-07-10T17:49:34.904Z"
   },
   {
    "duration": 12,
    "start_time": "2022-07-10T17:49:34.918Z"
   },
   {
    "duration": 8,
    "start_time": "2022-07-10T17:49:34.932Z"
   },
   {
    "duration": 8,
    "start_time": "2022-07-10T17:49:34.944Z"
   },
   {
    "duration": 5,
    "start_time": "2022-07-10T17:49:34.953Z"
   },
   {
    "duration": 4,
    "start_time": "2022-07-10T17:49:34.960Z"
   },
   {
    "duration": 45,
    "start_time": "2022-07-10T17:49:34.966Z"
   },
   {
    "duration": 20,
    "start_time": "2022-07-10T17:49:35.013Z"
   },
   {
    "duration": 448,
    "start_time": "2022-07-10T17:49:35.035Z"
   },
   {
    "duration": 463,
    "start_time": "2022-07-10T17:49:35.498Z"
   },
   {
    "duration": 212,
    "start_time": "2022-07-10T17:49:35.963Z"
   },
   {
    "duration": 95,
    "start_time": "2022-07-10T17:49:36.177Z"
   },
   {
    "duration": 0,
    "start_time": "2022-07-10T17:49:36.273Z"
   },
   {
    "duration": 0,
    "start_time": "2022-07-10T17:49:36.276Z"
   },
   {
    "duration": 0,
    "start_time": "2022-07-10T17:49:36.277Z"
   },
   {
    "duration": 0,
    "start_time": "2022-07-10T17:49:36.278Z"
   },
   {
    "duration": 0,
    "start_time": "2022-07-10T17:49:36.279Z"
   },
   {
    "duration": 2591,
    "start_time": "2022-07-10T17:52:49.104Z"
   },
   {
    "duration": 1331,
    "start_time": "2022-07-10T17:52:51.697Z"
   },
   {
    "duration": 27,
    "start_time": "2022-07-10T17:52:53.030Z"
   },
   {
    "duration": 5,
    "start_time": "2022-07-10T17:52:53.059Z"
   },
   {
    "duration": 20,
    "start_time": "2022-07-10T17:52:53.066Z"
   },
   {
    "duration": 12,
    "start_time": "2022-07-10T17:52:53.088Z"
   },
   {
    "duration": 5,
    "start_time": "2022-07-10T17:52:53.102Z"
   },
   {
    "duration": 18,
    "start_time": "2022-07-10T17:52:53.108Z"
   },
   {
    "duration": 13,
    "start_time": "2022-07-10T17:52:53.129Z"
   },
   {
    "duration": 34,
    "start_time": "2022-07-10T17:52:53.144Z"
   },
   {
    "duration": 18,
    "start_time": "2022-07-10T17:52:53.180Z"
   },
   {
    "duration": 4075,
    "start_time": "2022-07-10T17:52:53.199Z"
   },
   {
    "duration": 4,
    "start_time": "2022-07-10T17:52:57.276Z"
   },
   {
    "duration": 289,
    "start_time": "2022-07-10T17:52:57.282Z"
   },
   {
    "duration": 11,
    "start_time": "2022-07-10T17:52:57.572Z"
   },
   {
    "duration": 14,
    "start_time": "2022-07-10T17:52:57.585Z"
   },
   {
    "duration": 5,
    "start_time": "2022-07-10T17:52:57.601Z"
   },
   {
    "duration": 313,
    "start_time": "2022-07-10T17:52:57.607Z"
   },
   {
    "duration": 183,
    "start_time": "2022-07-10T17:52:57.922Z"
   },
   {
    "duration": 11,
    "start_time": "2022-07-10T17:52:58.106Z"
   },
   {
    "duration": 10,
    "start_time": "2022-07-10T17:52:58.118Z"
   },
   {
    "duration": 311,
    "start_time": "2022-07-10T17:52:58.130Z"
   },
   {
    "duration": 170,
    "start_time": "2022-07-10T17:52:58.442Z"
   },
   {
    "duration": 7,
    "start_time": "2022-07-10T17:52:58.614Z"
   },
   {
    "duration": 7,
    "start_time": "2022-07-10T17:52:58.622Z"
   },
   {
    "duration": 9,
    "start_time": "2022-07-10T17:52:58.631Z"
   },
   {
    "duration": 7,
    "start_time": "2022-07-10T17:52:58.642Z"
   },
   {
    "duration": 9,
    "start_time": "2022-07-10T17:52:58.652Z"
   },
   {
    "duration": 3,
    "start_time": "2022-07-10T17:52:58.663Z"
   },
   {
    "duration": 4,
    "start_time": "2022-07-10T17:52:58.699Z"
   },
   {
    "duration": 25,
    "start_time": "2022-07-10T17:52:58.705Z"
   },
   {
    "duration": 19,
    "start_time": "2022-07-10T17:52:58.732Z"
   },
   {
    "duration": 499,
    "start_time": "2022-07-10T17:52:58.753Z"
   },
   {
    "duration": 544,
    "start_time": "2022-07-10T17:52:59.254Z"
   },
   {
    "duration": 205,
    "start_time": "2022-07-10T17:52:59.800Z"
   },
   {
    "duration": 5,
    "start_time": "2022-07-10T17:53:00.007Z"
   },
   {
    "duration": 8,
    "start_time": "2022-07-10T17:53:00.014Z"
   },
   {
    "duration": 16,
    "start_time": "2022-07-10T17:53:00.024Z"
   },
   {
    "duration": 65,
    "start_time": "2022-07-10T17:53:00.043Z"
   },
   {
    "duration": 89,
    "start_time": "2022-07-10T17:53:00.110Z"
   },
   {
    "duration": 8,
    "start_time": "2022-07-10T17:53:00.201Z"
   },
   {
    "duration": 2736,
    "start_time": "2022-07-10T18:01:31.676Z"
   },
   {
    "duration": 1280,
    "start_time": "2022-07-10T18:01:34.415Z"
   },
   {
    "duration": 29,
    "start_time": "2022-07-10T18:01:35.697Z"
   },
   {
    "duration": 4,
    "start_time": "2022-07-10T18:01:35.728Z"
   },
   {
    "duration": 18,
    "start_time": "2022-07-10T18:01:35.734Z"
   },
   {
    "duration": 13,
    "start_time": "2022-07-10T18:01:35.754Z"
   },
   {
    "duration": 8,
    "start_time": "2022-07-10T18:01:35.769Z"
   },
   {
    "duration": 19,
    "start_time": "2022-07-10T18:01:35.779Z"
   },
   {
    "duration": 2,
    "start_time": "2022-07-10T18:01:35.800Z"
   },
   {
    "duration": 28,
    "start_time": "2022-07-10T18:01:35.805Z"
   },
   {
    "duration": 6,
    "start_time": "2022-07-10T18:01:35.834Z"
   },
   {
    "duration": 4280,
    "start_time": "2022-07-10T18:01:35.842Z"
   },
   {
    "duration": 6,
    "start_time": "2022-07-10T18:01:40.124Z"
   },
   {
    "duration": 298,
    "start_time": "2022-07-10T18:01:40.132Z"
   },
   {
    "duration": 12,
    "start_time": "2022-07-10T18:01:40.431Z"
   },
   {
    "duration": 12,
    "start_time": "2022-07-10T18:01:40.445Z"
   },
   {
    "duration": 10,
    "start_time": "2022-07-10T18:01:40.459Z"
   },
   {
    "duration": 333,
    "start_time": "2022-07-10T18:01:40.471Z"
   },
   {
    "duration": 171,
    "start_time": "2022-07-10T18:01:40.806Z"
   },
   {
    "duration": 10,
    "start_time": "2022-07-10T18:01:40.979Z"
   },
   {
    "duration": 13,
    "start_time": "2022-07-10T18:01:40.998Z"
   },
   {
    "duration": 326,
    "start_time": "2022-07-10T18:01:41.013Z"
   },
   {
    "duration": 185,
    "start_time": "2022-07-10T18:01:41.341Z"
   },
   {
    "duration": 7,
    "start_time": "2022-07-10T18:01:41.527Z"
   },
   {
    "duration": 16,
    "start_time": "2022-07-10T18:01:41.536Z"
   },
   {
    "duration": 10,
    "start_time": "2022-07-10T18:01:41.554Z"
   },
   {
    "duration": 12,
    "start_time": "2022-07-10T18:01:41.565Z"
   },
   {
    "duration": 25,
    "start_time": "2022-07-10T18:01:41.580Z"
   },
   {
    "duration": 6,
    "start_time": "2022-07-10T18:01:41.607Z"
   },
   {
    "duration": 12,
    "start_time": "2022-07-10T18:01:41.614Z"
   },
   {
    "duration": 34,
    "start_time": "2022-07-10T18:01:41.627Z"
   },
   {
    "duration": 23,
    "start_time": "2022-07-10T18:01:41.664Z"
   },
   {
    "duration": 442,
    "start_time": "2022-07-10T18:01:41.699Z"
   },
   {
    "duration": 480,
    "start_time": "2022-07-10T18:01:42.142Z"
   },
   {
    "duration": 203,
    "start_time": "2022-07-10T18:01:42.624Z"
   },
   {
    "duration": 7,
    "start_time": "2022-07-10T18:01:42.829Z"
   },
   {
    "duration": 8,
    "start_time": "2022-07-10T18:01:42.838Z"
   },
   {
    "duration": 14,
    "start_time": "2022-07-10T18:01:42.848Z"
   },
   {
    "duration": 46,
    "start_time": "2022-07-10T18:01:42.864Z"
   },
   {
    "duration": 96,
    "start_time": "2022-07-10T18:01:42.912Z"
   },
   {
    "duration": 88,
    "start_time": "2022-07-10T18:01:43.010Z"
   },
   {
    "duration": 3,
    "start_time": "2022-07-10T18:01:43.100Z"
   },
   {
    "duration": 2694,
    "start_time": "2022-07-10T18:08:00.067Z"
   },
   {
    "duration": 1254,
    "start_time": "2022-07-10T18:08:02.763Z"
   },
   {
    "duration": 28,
    "start_time": "2022-07-10T18:08:04.020Z"
   },
   {
    "duration": 5,
    "start_time": "2022-07-10T18:08:04.050Z"
   },
   {
    "duration": 23,
    "start_time": "2022-07-10T18:08:04.056Z"
   },
   {
    "duration": 14,
    "start_time": "2022-07-10T18:08:04.081Z"
   },
   {
    "duration": 7,
    "start_time": "2022-07-10T18:08:04.098Z"
   },
   {
    "duration": 21,
    "start_time": "2022-07-10T18:08:04.106Z"
   },
   {
    "duration": 4,
    "start_time": "2022-07-10T18:08:04.129Z"
   },
   {
    "duration": 26,
    "start_time": "2022-07-10T18:08:04.137Z"
   },
   {
    "duration": 7,
    "start_time": "2022-07-10T18:08:04.165Z"
   },
   {
    "duration": 4532,
    "start_time": "2022-07-10T18:08:04.174Z"
   },
   {
    "duration": 5,
    "start_time": "2022-07-10T18:08:08.709Z"
   },
   {
    "duration": 385,
    "start_time": "2022-07-10T18:08:08.716Z"
   },
   {
    "duration": 13,
    "start_time": "2022-07-10T18:08:09.102Z"
   },
   {
    "duration": 9,
    "start_time": "2022-07-10T18:08:09.118Z"
   },
   {
    "duration": 15,
    "start_time": "2022-07-10T18:08:09.129Z"
   },
   {
    "duration": 358,
    "start_time": "2022-07-10T18:08:09.147Z"
   },
   {
    "duration": 255,
    "start_time": "2022-07-10T18:08:09.508Z"
   },
   {
    "duration": 17,
    "start_time": "2022-07-10T18:08:09.765Z"
   },
   {
    "duration": 24,
    "start_time": "2022-07-10T18:08:09.784Z"
   },
   {
    "duration": 366,
    "start_time": "2022-07-10T18:08:09.810Z"
   },
   {
    "duration": 181,
    "start_time": "2022-07-10T18:08:10.178Z"
   },
   {
    "duration": 7,
    "start_time": "2022-07-10T18:08:10.360Z"
   },
   {
    "duration": 12,
    "start_time": "2022-07-10T18:08:10.369Z"
   },
   {
    "duration": 19,
    "start_time": "2022-07-10T18:08:10.383Z"
   },
   {
    "duration": 8,
    "start_time": "2022-07-10T18:08:10.404Z"
   },
   {
    "duration": 10,
    "start_time": "2022-07-10T18:08:10.416Z"
   },
   {
    "duration": 4,
    "start_time": "2022-07-10T18:08:10.427Z"
   },
   {
    "duration": 9,
    "start_time": "2022-07-10T18:08:10.433Z"
   },
   {
    "duration": 57,
    "start_time": "2022-07-10T18:08:10.444Z"
   },
   {
    "duration": 30,
    "start_time": "2022-07-10T18:08:10.503Z"
   },
   {
    "duration": 543,
    "start_time": "2022-07-10T18:08:10.535Z"
   },
   {
    "duration": 455,
    "start_time": "2022-07-10T18:08:11.080Z"
   },
   {
    "duration": 225,
    "start_time": "2022-07-10T18:08:11.537Z"
   },
   {
    "duration": 5,
    "start_time": "2022-07-10T18:08:11.764Z"
   },
   {
    "duration": 7,
    "start_time": "2022-07-10T18:08:11.771Z"
   },
   {
    "duration": 20,
    "start_time": "2022-07-10T18:08:11.779Z"
   },
   {
    "duration": 12,
    "start_time": "2022-07-10T18:08:11.800Z"
   },
   {
    "duration": 5,
    "start_time": "2022-07-10T18:08:11.899Z"
   },
   {
    "duration": 93,
    "start_time": "2022-07-10T18:08:11.906Z"
   },
   {
    "duration": 13,
    "start_time": "2022-07-10T18:08:12.001Z"
   },
   {
    "duration": 5,
    "start_time": "2022-07-10T18:08:56.562Z"
   },
   {
    "duration": 2721,
    "start_time": "2022-07-10T18:10:12.599Z"
   },
   {
    "duration": 1324,
    "start_time": "2022-07-10T18:10:15.322Z"
   },
   {
    "duration": 30,
    "start_time": "2022-07-10T18:10:16.648Z"
   },
   {
    "duration": 5,
    "start_time": "2022-07-10T18:10:16.680Z"
   },
   {
    "duration": 34,
    "start_time": "2022-07-10T18:10:16.687Z"
   },
   {
    "duration": 15,
    "start_time": "2022-07-10T18:10:16.724Z"
   },
   {
    "duration": 9,
    "start_time": "2022-07-10T18:10:16.742Z"
   },
   {
    "duration": 28,
    "start_time": "2022-07-10T18:10:16.754Z"
   },
   {
    "duration": 15,
    "start_time": "2022-07-10T18:10:16.785Z"
   },
   {
    "duration": 41,
    "start_time": "2022-07-10T18:10:16.804Z"
   },
   {
    "duration": 11,
    "start_time": "2022-07-10T18:10:16.847Z"
   },
   {
    "duration": 4322,
    "start_time": "2022-07-10T18:10:16.860Z"
   },
   {
    "duration": 5,
    "start_time": "2022-07-10T18:10:21.184Z"
   },
   {
    "duration": 292,
    "start_time": "2022-07-10T18:10:21.191Z"
   },
   {
    "duration": 17,
    "start_time": "2022-07-10T18:10:21.485Z"
   },
   {
    "duration": 8,
    "start_time": "2022-07-10T18:10:21.503Z"
   },
   {
    "duration": 6,
    "start_time": "2022-07-10T18:10:21.512Z"
   },
   {
    "duration": 304,
    "start_time": "2022-07-10T18:10:21.519Z"
   },
   {
    "duration": 165,
    "start_time": "2022-07-10T18:10:21.825Z"
   },
   {
    "duration": 12,
    "start_time": "2022-07-10T18:10:21.997Z"
   },
   {
    "duration": 13,
    "start_time": "2022-07-10T18:10:22.010Z"
   },
   {
    "duration": 306,
    "start_time": "2022-07-10T18:10:22.024Z"
   },
   {
    "duration": 177,
    "start_time": "2022-07-10T18:10:22.332Z"
   },
   {
    "duration": 8,
    "start_time": "2022-07-10T18:10:22.511Z"
   },
   {
    "duration": 11,
    "start_time": "2022-07-10T18:10:22.520Z"
   },
   {
    "duration": 10,
    "start_time": "2022-07-10T18:10:22.533Z"
   },
   {
    "duration": 13,
    "start_time": "2022-07-10T18:10:22.545Z"
   },
   {
    "duration": 8,
    "start_time": "2022-07-10T18:10:22.562Z"
   },
   {
    "duration": 31,
    "start_time": "2022-07-10T18:10:22.572Z"
   },
   {
    "duration": 10,
    "start_time": "2022-07-10T18:10:22.605Z"
   },
   {
    "duration": 34,
    "start_time": "2022-07-10T18:10:22.617Z"
   },
   {
    "duration": 22,
    "start_time": "2022-07-10T18:10:22.652Z"
   },
   {
    "duration": 452,
    "start_time": "2022-07-10T18:10:22.676Z"
   },
   {
    "duration": 459,
    "start_time": "2022-07-10T18:10:23.130Z"
   },
   {
    "duration": 240,
    "start_time": "2022-07-10T18:10:23.591Z"
   },
   {
    "duration": 5,
    "start_time": "2022-07-10T18:10:23.834Z"
   },
   {
    "duration": 7,
    "start_time": "2022-07-10T18:10:23.842Z"
   },
   {
    "duration": 48,
    "start_time": "2022-07-10T18:10:23.851Z"
   },
   {
    "duration": 100,
    "start_time": "2022-07-10T18:10:23.902Z"
   },
   {
    "duration": 7,
    "start_time": "2022-07-10T18:10:24.005Z"
   },
   {
    "duration": 12,
    "start_time": "2022-07-10T18:10:24.098Z"
   },
   {
    "duration": 19,
    "start_time": "2022-07-10T18:10:24.112Z"
   },
   {
    "duration": 13,
    "start_time": "2022-07-10T18:10:24.133Z"
   },
   {
    "duration": 51,
    "start_time": "2022-07-10T18:10:24.148Z"
   },
   {
    "duration": 2543,
    "start_time": "2022-07-10T18:19:10.515Z"
   },
   {
    "duration": 1271,
    "start_time": "2022-07-10T18:19:13.060Z"
   },
   {
    "duration": 26,
    "start_time": "2022-07-10T18:19:14.333Z"
   },
   {
    "duration": 4,
    "start_time": "2022-07-10T18:19:14.362Z"
   },
   {
    "duration": 29,
    "start_time": "2022-07-10T18:19:14.368Z"
   },
   {
    "duration": 12,
    "start_time": "2022-07-10T18:19:14.399Z"
   },
   {
    "duration": 5,
    "start_time": "2022-07-10T18:19:14.413Z"
   },
   {
    "duration": 18,
    "start_time": "2022-07-10T18:19:14.420Z"
   },
   {
    "duration": 2,
    "start_time": "2022-07-10T18:19:14.440Z"
   },
   {
    "duration": 29,
    "start_time": "2022-07-10T18:19:14.445Z"
   },
   {
    "duration": 6,
    "start_time": "2022-07-10T18:19:14.498Z"
   },
   {
    "duration": 4164,
    "start_time": "2022-07-10T18:19:14.506Z"
   },
   {
    "duration": 5,
    "start_time": "2022-07-10T18:19:18.672Z"
   },
   {
    "duration": 303,
    "start_time": "2022-07-10T18:19:18.679Z"
   },
   {
    "duration": 21,
    "start_time": "2022-07-10T18:19:18.984Z"
   },
   {
    "duration": 4,
    "start_time": "2022-07-10T18:19:19.007Z"
   },
   {
    "duration": 12,
    "start_time": "2022-07-10T18:19:19.013Z"
   },
   {
    "duration": 316,
    "start_time": "2022-07-10T18:19:19.028Z"
   },
   {
    "duration": 180,
    "start_time": "2022-07-10T18:19:19.346Z"
   },
   {
    "duration": 14,
    "start_time": "2022-07-10T18:19:19.529Z"
   },
   {
    "duration": 15,
    "start_time": "2022-07-10T18:19:19.544Z"
   },
   {
    "duration": 329,
    "start_time": "2022-07-10T18:19:19.561Z"
   },
   {
    "duration": 181,
    "start_time": "2022-07-10T18:19:19.891Z"
   },
   {
    "duration": 6,
    "start_time": "2022-07-10T18:19:20.074Z"
   },
   {
    "duration": 23,
    "start_time": "2022-07-10T18:19:20.082Z"
   },
   {
    "duration": 15,
    "start_time": "2022-07-10T18:19:20.107Z"
   },
   {
    "duration": 8,
    "start_time": "2022-07-10T18:19:20.123Z"
   },
   {
    "duration": 10,
    "start_time": "2022-07-10T18:19:20.135Z"
   },
   {
    "duration": 9,
    "start_time": "2022-07-10T18:19:20.146Z"
   },
   {
    "duration": 4,
    "start_time": "2022-07-10T18:19:20.157Z"
   },
   {
    "duration": 37,
    "start_time": "2022-07-10T18:19:20.163Z"
   },
   {
    "duration": 25,
    "start_time": "2022-07-10T18:19:20.202Z"
   },
   {
    "duration": 497,
    "start_time": "2022-07-10T18:19:20.229Z"
   },
   {
    "duration": 527,
    "start_time": "2022-07-10T18:19:20.729Z"
   },
   {
    "duration": 242,
    "start_time": "2022-07-10T18:19:21.257Z"
   },
   {
    "duration": 5,
    "start_time": "2022-07-10T18:19:21.501Z"
   },
   {
    "duration": 7,
    "start_time": "2022-07-10T18:19:21.507Z"
   },
   {
    "duration": 12,
    "start_time": "2022-07-10T18:19:21.516Z"
   },
   {
    "duration": 76,
    "start_time": "2022-07-10T18:19:21.531Z"
   },
   {
    "duration": 102,
    "start_time": "2022-07-10T18:19:21.610Z"
   },
   {
    "duration": 89,
    "start_time": "2022-07-10T18:19:21.715Z"
   },
   {
    "duration": 6,
    "start_time": "2022-07-10T18:19:21.806Z"
   },
   {
    "duration": 9,
    "start_time": "2022-07-10T18:19:21.814Z"
   },
   {
    "duration": 9,
    "start_time": "2022-07-10T18:19:21.825Z"
   },
   {
    "duration": 66,
    "start_time": "2022-07-10T18:19:21.836Z"
   },
   {
    "duration": 98,
    "start_time": "2022-07-10T18:19:21.904Z"
   },
   {
    "duration": 94,
    "start_time": "2022-07-10T18:19:22.004Z"
   },
   {
    "duration": 4,
    "start_time": "2022-07-10T18:19:22.100Z"
   },
   {
    "duration": 7,
    "start_time": "2022-07-10T18:19:22.106Z"
   },
   {
    "duration": 8,
    "start_time": "2022-07-10T18:20:42.308Z"
   },
   {
    "duration": 72,
    "start_time": "2022-07-10T18:20:51.057Z"
   },
   {
    "duration": 10,
    "start_time": "2022-07-10T18:21:09.379Z"
   },
   {
    "duration": 5,
    "start_time": "2022-07-10T18:21:19.255Z"
   },
   {
    "duration": 2868,
    "start_time": "2022-07-10T18:23:40.551Z"
   },
   {
    "duration": 1441,
    "start_time": "2022-07-10T18:23:43.422Z"
   },
   {
    "duration": 27,
    "start_time": "2022-07-10T18:23:44.865Z"
   },
   {
    "duration": 5,
    "start_time": "2022-07-10T18:23:44.894Z"
   },
   {
    "duration": 37,
    "start_time": "2022-07-10T18:23:44.902Z"
   },
   {
    "duration": 15,
    "start_time": "2022-07-10T18:23:44.941Z"
   },
   {
    "duration": 6,
    "start_time": "2022-07-10T18:23:44.958Z"
   },
   {
    "duration": 14,
    "start_time": "2022-07-10T18:23:44.966Z"
   },
   {
    "duration": 16,
    "start_time": "2022-07-10T18:23:44.982Z"
   },
   {
    "duration": 33,
    "start_time": "2022-07-10T18:23:45.000Z"
   },
   {
    "duration": 9,
    "start_time": "2022-07-10T18:23:45.035Z"
   },
   {
    "duration": 4492,
    "start_time": "2022-07-10T18:23:45.046Z"
   },
   {
    "duration": 5,
    "start_time": "2022-07-10T18:23:49.540Z"
   },
   {
    "duration": 331,
    "start_time": "2022-07-10T18:23:49.549Z"
   },
   {
    "duration": 17,
    "start_time": "2022-07-10T18:23:49.882Z"
   },
   {
    "duration": 4,
    "start_time": "2022-07-10T18:23:49.901Z"
   },
   {
    "duration": 16,
    "start_time": "2022-07-10T18:23:49.907Z"
   },
   {
    "duration": 333,
    "start_time": "2022-07-10T18:23:49.925Z"
   },
   {
    "duration": 214,
    "start_time": "2022-07-10T18:23:50.260Z"
   },
   {
    "duration": 27,
    "start_time": "2022-07-10T18:23:50.475Z"
   },
   {
    "duration": 17,
    "start_time": "2022-07-10T18:23:50.504Z"
   },
   {
    "duration": 447,
    "start_time": "2022-07-10T18:23:50.523Z"
   },
   {
    "duration": 276,
    "start_time": "2022-07-10T18:23:50.971Z"
   },
   {
    "duration": 9,
    "start_time": "2022-07-10T18:23:51.249Z"
   },
   {
    "duration": 15,
    "start_time": "2022-07-10T18:23:51.260Z"
   },
   {
    "duration": 22,
    "start_time": "2022-07-10T18:23:51.278Z"
   },
   {
    "duration": 13,
    "start_time": "2022-07-10T18:23:51.302Z"
   },
   {
    "duration": 16,
    "start_time": "2022-07-10T18:23:51.317Z"
   },
   {
    "duration": 5,
    "start_time": "2022-07-10T18:23:51.337Z"
   },
   {
    "duration": 14,
    "start_time": "2022-07-10T18:23:51.344Z"
   },
   {
    "duration": 39,
    "start_time": "2022-07-10T18:23:51.360Z"
   },
   {
    "duration": 26,
    "start_time": "2022-07-10T18:23:51.402Z"
   },
   {
    "duration": 593,
    "start_time": "2022-07-10T18:23:51.430Z"
   },
   {
    "duration": 550,
    "start_time": "2022-07-10T18:23:52.028Z"
   },
   {
    "duration": 295,
    "start_time": "2022-07-10T18:23:52.580Z"
   },
   {
    "duration": 6,
    "start_time": "2022-07-10T18:23:52.877Z"
   },
   {
    "duration": 23,
    "start_time": "2022-07-10T18:23:52.885Z"
   },
   {
    "duration": 20,
    "start_time": "2022-07-10T18:23:52.910Z"
   },
   {
    "duration": 70,
    "start_time": "2022-07-10T18:23:52.933Z"
   },
   {
    "duration": 6,
    "start_time": "2022-07-10T18:23:53.005Z"
   },
   {
    "duration": 11,
    "start_time": "2022-07-10T18:23:53.097Z"
   },
   {
    "duration": 18,
    "start_time": "2022-07-10T18:23:53.113Z"
   },
   {
    "duration": 10,
    "start_time": "2022-07-10T18:23:53.133Z"
   },
   {
    "duration": 57,
    "start_time": "2022-07-10T18:23:53.145Z"
   },
   {
    "duration": 15,
    "start_time": "2022-07-10T18:23:53.204Z"
   },
   {
    "duration": 15,
    "start_time": "2022-07-10T18:23:53.299Z"
   },
   {
    "duration": 84,
    "start_time": "2022-07-10T18:23:53.316Z"
   },
   {
    "duration": 8,
    "start_time": "2022-07-10T18:23:53.403Z"
   },
   {
    "duration": 15,
    "start_time": "2022-07-10T18:23:53.414Z"
   },
   {
    "duration": 79,
    "start_time": "2022-07-10T18:23:53.431Z"
   },
   {
    "duration": 111,
    "start_time": "2022-07-10T18:23:53.514Z"
   },
   {
    "duration": 182,
    "start_time": "2022-07-10T18:23:53.628Z"
   },
   {
    "duration": 3150,
    "start_time": "2022-07-10T19:07:37.813Z"
   },
   {
    "duration": 2241,
    "start_time": "2022-07-10T19:07:40.965Z"
   },
   {
    "duration": 30,
    "start_time": "2022-07-10T19:07:43.208Z"
   },
   {
    "duration": 5,
    "start_time": "2022-07-10T19:07:43.240Z"
   },
   {
    "duration": 19,
    "start_time": "2022-07-10T19:07:43.247Z"
   },
   {
    "duration": 18,
    "start_time": "2022-07-10T19:07:43.269Z"
   },
   {
    "duration": 10,
    "start_time": "2022-07-10T19:07:43.289Z"
   },
   {
    "duration": 19,
    "start_time": "2022-07-10T19:07:43.302Z"
   },
   {
    "duration": 3,
    "start_time": "2022-07-10T19:07:43.324Z"
   },
   {
    "duration": 31,
    "start_time": "2022-07-10T19:07:43.330Z"
   },
   {
    "duration": 6,
    "start_time": "2022-07-10T19:07:43.363Z"
   },
   {
    "duration": 4697,
    "start_time": "2022-07-10T19:07:43.399Z"
   },
   {
    "duration": 6,
    "start_time": "2022-07-10T19:07:48.098Z"
   },
   {
    "duration": 339,
    "start_time": "2022-07-10T19:07:48.106Z"
   },
   {
    "duration": 14,
    "start_time": "2022-07-10T19:07:48.448Z"
   },
   {
    "duration": 5,
    "start_time": "2022-07-10T19:07:48.465Z"
   },
   {
    "duration": 26,
    "start_time": "2022-07-10T19:07:48.472Z"
   },
   {
    "duration": 323,
    "start_time": "2022-07-10T19:07:48.501Z"
   },
   {
    "duration": 309,
    "start_time": "2022-07-10T19:07:48.826Z"
   },
   {
    "duration": 17,
    "start_time": "2022-07-10T19:07:49.138Z"
   },
   {
    "duration": 17,
    "start_time": "2022-07-10T19:07:49.158Z"
   },
   {
    "duration": 363,
    "start_time": "2022-07-10T19:07:49.198Z"
   },
   {
    "duration": 196,
    "start_time": "2022-07-10T19:07:49.563Z"
   },
   {
    "duration": 9,
    "start_time": "2022-07-10T19:07:49.761Z"
   },
   {
    "duration": 13,
    "start_time": "2022-07-10T19:07:49.773Z"
   },
   {
    "duration": 17,
    "start_time": "2022-07-10T19:07:49.788Z"
   },
   {
    "duration": 12,
    "start_time": "2022-07-10T19:07:49.807Z"
   },
   {
    "duration": 12,
    "start_time": "2022-07-10T19:07:49.827Z"
   },
   {
    "duration": 4,
    "start_time": "2022-07-10T19:07:49.841Z"
   },
   {
    "duration": 13,
    "start_time": "2022-07-10T19:07:49.847Z"
   },
   {
    "duration": 55,
    "start_time": "2022-07-10T19:07:49.863Z"
   },
   {
    "duration": 23,
    "start_time": "2022-07-10T19:07:49.920Z"
   },
   {
    "duration": 503,
    "start_time": "2022-07-10T19:07:49.944Z"
   },
   {
    "duration": 594,
    "start_time": "2022-07-10T19:07:50.449Z"
   },
   {
    "duration": 224,
    "start_time": "2022-07-10T19:07:51.045Z"
   },
   {
    "duration": 6,
    "start_time": "2022-07-10T19:07:51.271Z"
   },
   {
    "duration": 12,
    "start_time": "2022-07-10T19:07:51.279Z"
   },
   {
    "duration": 19,
    "start_time": "2022-07-10T19:07:51.298Z"
   },
   {
    "duration": 181,
    "start_time": "2022-07-10T19:07:51.318Z"
   },
   {
    "duration": 105,
    "start_time": "2022-07-10T19:07:51.501Z"
   },
   {
    "duration": 13,
    "start_time": "2022-07-10T19:07:51.610Z"
   },
   {
    "duration": 12,
    "start_time": "2022-07-10T19:07:51.626Z"
   },
   {
    "duration": 13,
    "start_time": "2022-07-10T19:07:51.641Z"
   },
   {
    "duration": 55,
    "start_time": "2022-07-10T19:07:51.659Z"
   },
   {
    "duration": 85,
    "start_time": "2022-07-10T19:07:51.721Z"
   },
   {
    "duration": 99,
    "start_time": "2022-07-10T19:07:51.812Z"
   },
   {
    "duration": 94,
    "start_time": "2022-07-10T19:07:51.914Z"
   },
   {
    "duration": 9,
    "start_time": "2022-07-10T19:07:52.010Z"
   },
   {
    "duration": 11,
    "start_time": "2022-07-10T19:07:52.021Z"
   },
   {
    "duration": 66,
    "start_time": "2022-07-10T19:07:52.034Z"
   },
   {
    "duration": 102,
    "start_time": "2022-07-10T19:07:52.102Z"
   },
   {
    "duration": 7,
    "start_time": "2022-07-10T19:07:52.207Z"
   },
   {
    "duration": 14,
    "start_time": "2022-07-10T19:07:52.216Z"
   },
   {
    "duration": 78,
    "start_time": "2022-07-10T19:07:52.234Z"
   },
   {
    "duration": 102,
    "start_time": "2022-07-10T19:07:52.317Z"
   },
   {
    "duration": 186,
    "start_time": "2022-07-10T19:07:52.427Z"
   },
   {
    "duration": 2844,
    "start_time": "2022-07-10T19:12:47.488Z"
   },
   {
    "duration": 1286,
    "start_time": "2022-07-10T19:12:50.335Z"
   },
   {
    "duration": 28,
    "start_time": "2022-07-10T19:12:51.623Z"
   },
   {
    "duration": 4,
    "start_time": "2022-07-10T19:12:51.653Z"
   },
   {
    "duration": 30,
    "start_time": "2022-07-10T19:12:51.659Z"
   },
   {
    "duration": 26,
    "start_time": "2022-07-10T19:12:51.691Z"
   },
   {
    "duration": 18,
    "start_time": "2022-07-10T19:12:51.719Z"
   },
   {
    "duration": 23,
    "start_time": "2022-07-10T19:12:51.739Z"
   },
   {
    "duration": 13,
    "start_time": "2022-07-10T19:12:51.763Z"
   },
   {
    "duration": 43,
    "start_time": "2022-07-10T19:12:51.778Z"
   },
   {
    "duration": 14,
    "start_time": "2022-07-10T19:12:51.823Z"
   },
   {
    "duration": 4423,
    "start_time": "2022-07-10T19:12:51.839Z"
   },
   {
    "duration": 4,
    "start_time": "2022-07-10T19:12:56.264Z"
   },
   {
    "duration": 305,
    "start_time": "2022-07-10T19:12:56.270Z"
   },
   {
    "duration": 10,
    "start_time": "2022-07-10T19:12:56.577Z"
   },
   {
    "duration": 5,
    "start_time": "2022-07-10T19:12:56.599Z"
   },
   {
    "duration": 21,
    "start_time": "2022-07-10T19:12:56.611Z"
   },
   {
    "duration": 441,
    "start_time": "2022-07-10T19:12:56.634Z"
   },
   {
    "duration": 183,
    "start_time": "2022-07-10T19:12:57.077Z"
   },
   {
    "duration": 11,
    "start_time": "2022-07-10T19:12:57.262Z"
   },
   {
    "duration": 32,
    "start_time": "2022-07-10T19:12:57.275Z"
   },
   {
    "duration": 355,
    "start_time": "2022-07-10T19:12:57.309Z"
   },
   {
    "duration": 189,
    "start_time": "2022-07-10T19:12:57.666Z"
   },
   {
    "duration": 6,
    "start_time": "2022-07-10T19:12:57.858Z"
   },
   {
    "duration": 7,
    "start_time": "2022-07-10T19:12:57.865Z"
   },
   {
    "duration": 7,
    "start_time": "2022-07-10T19:12:57.873Z"
   },
   {
    "duration": 14,
    "start_time": "2022-07-10T19:12:57.898Z"
   },
   {
    "duration": 12,
    "start_time": "2022-07-10T19:12:57.918Z"
   },
   {
    "duration": 6,
    "start_time": "2022-07-10T19:12:57.933Z"
   },
   {
    "duration": 9,
    "start_time": "2022-07-10T19:12:57.941Z"
   },
   {
    "duration": 23,
    "start_time": "2022-07-10T19:12:57.952Z"
   },
   {
    "duration": 48,
    "start_time": "2022-07-10T19:12:57.977Z"
   },
   {
    "duration": 506,
    "start_time": "2022-07-10T19:12:58.027Z"
   },
   {
    "duration": 553,
    "start_time": "2022-07-10T19:12:58.535Z"
   },
   {
    "duration": 213,
    "start_time": "2022-07-10T19:12:59.098Z"
   },
   {
    "duration": 7,
    "start_time": "2022-07-10T19:12:59.313Z"
   },
   {
    "duration": 7,
    "start_time": "2022-07-10T19:12:59.322Z"
   },
   {
    "duration": 14,
    "start_time": "2022-07-10T19:12:59.330Z"
   },
   {
    "duration": 67,
    "start_time": "2022-07-10T19:12:59.347Z"
   },
   {
    "duration": 186,
    "start_time": "2022-07-10T19:12:59.419Z"
   },
   {
    "duration": 8,
    "start_time": "2022-07-10T19:12:59.606Z"
   },
   {
    "duration": 33,
    "start_time": "2022-07-10T19:12:59.615Z"
   },
   {
    "duration": 12,
    "start_time": "2022-07-10T19:12:59.651Z"
   },
   {
    "duration": 51,
    "start_time": "2022-07-10T19:12:59.665Z"
   },
   {
    "duration": 87,
    "start_time": "2022-07-10T19:12:59.719Z"
   },
   {
    "duration": 36,
    "start_time": "2022-07-10T19:12:59.808Z"
   },
   {
    "duration": 109,
    "start_time": "2022-07-10T19:12:59.898Z"
   },
   {
    "duration": 7,
    "start_time": "2022-07-10T19:13:00.009Z"
   },
   {
    "duration": 10,
    "start_time": "2022-07-10T19:13:00.019Z"
   },
   {
    "duration": 10,
    "start_time": "2022-07-10T19:13:00.031Z"
   },
   {
    "duration": 85,
    "start_time": "2022-07-10T19:13:00.044Z"
   },
   {
    "duration": 21,
    "start_time": "2022-07-10T19:13:00.200Z"
   },
   {
    "duration": 9,
    "start_time": "2022-07-10T19:13:00.223Z"
   },
   {
    "duration": 16,
    "start_time": "2022-07-10T19:13:00.234Z"
   },
   {
    "duration": 50,
    "start_time": "2022-07-10T19:13:00.253Z"
   },
   {
    "duration": 107,
    "start_time": "2022-07-10T19:13:00.305Z"
   },
   {
    "duration": 186,
    "start_time": "2022-07-10T19:13:00.414Z"
   },
   {
    "duration": 3034,
    "start_time": "2022-07-10T19:16:05.191Z"
   },
   {
    "duration": 1384,
    "start_time": "2022-07-10T19:16:08.230Z"
   },
   {
    "duration": 30,
    "start_time": "2022-07-10T19:16:09.616Z"
   },
   {
    "duration": 4,
    "start_time": "2022-07-10T19:16:09.649Z"
   },
   {
    "duration": 24,
    "start_time": "2022-07-10T19:16:09.655Z"
   },
   {
    "duration": 13,
    "start_time": "2022-07-10T19:16:09.681Z"
   },
   {
    "duration": 27,
    "start_time": "2022-07-10T19:16:09.695Z"
   },
   {
    "duration": 15,
    "start_time": "2022-07-10T19:16:09.724Z"
   },
   {
    "duration": 4,
    "start_time": "2022-07-10T19:16:09.740Z"
   },
   {
    "duration": 28,
    "start_time": "2022-07-10T19:16:09.747Z"
   },
   {
    "duration": 7,
    "start_time": "2022-07-10T19:16:09.777Z"
   },
   {
    "duration": 4269,
    "start_time": "2022-07-10T19:16:09.785Z"
   },
   {
    "duration": 6,
    "start_time": "2022-07-10T19:16:14.057Z"
   },
   {
    "duration": 317,
    "start_time": "2022-07-10T19:16:14.065Z"
   },
   {
    "duration": 28,
    "start_time": "2022-07-10T19:16:14.384Z"
   },
   {
    "duration": 9,
    "start_time": "2022-07-10T19:16:14.414Z"
   },
   {
    "duration": 6,
    "start_time": "2022-07-10T19:16:14.425Z"
   },
   {
    "duration": 340,
    "start_time": "2022-07-10T19:16:14.433Z"
   },
   {
    "duration": 189,
    "start_time": "2022-07-10T19:16:14.775Z"
   },
   {
    "duration": 11,
    "start_time": "2022-07-10T19:16:14.965Z"
   },
   {
    "duration": 37,
    "start_time": "2022-07-10T19:16:14.978Z"
   },
   {
    "duration": 344,
    "start_time": "2022-07-10T19:16:15.021Z"
   },
   {
    "duration": 222,
    "start_time": "2022-07-10T19:16:15.367Z"
   },
   {
    "duration": 20,
    "start_time": "2022-07-10T19:16:15.591Z"
   },
   {
    "duration": 45,
    "start_time": "2022-07-10T19:16:15.614Z"
   },
   {
    "duration": 22,
    "start_time": "2022-07-10T19:16:15.662Z"
   },
   {
    "duration": 14,
    "start_time": "2022-07-10T19:16:15.686Z"
   },
   {
    "duration": 30,
    "start_time": "2022-07-10T19:16:15.706Z"
   },
   {
    "duration": 15,
    "start_time": "2022-07-10T19:16:15.738Z"
   },
   {
    "duration": 6,
    "start_time": "2022-07-10T19:16:15.756Z"
   },
   {
    "duration": 23,
    "start_time": "2022-07-10T19:16:15.763Z"
   },
   {
    "duration": 26,
    "start_time": "2022-07-10T19:16:15.787Z"
   },
   {
    "duration": 493,
    "start_time": "2022-07-10T19:16:15.815Z"
   },
   {
    "duration": 560,
    "start_time": "2022-07-10T19:16:16.310Z"
   },
   {
    "duration": 291,
    "start_time": "2022-07-10T19:16:16.873Z"
   },
   {
    "duration": 9,
    "start_time": "2022-07-10T19:16:17.166Z"
   },
   {
    "duration": 5,
    "start_time": "2022-07-10T19:16:17.177Z"
   },
   {
    "duration": 64,
    "start_time": "2022-07-10T19:16:17.184Z"
   },
   {
    "duration": 166,
    "start_time": "2022-07-10T19:16:17.250Z"
   },
   {
    "duration": 209,
    "start_time": "2022-07-10T19:16:17.418Z"
   },
   {
    "duration": 6,
    "start_time": "2022-07-10T19:16:17.631Z"
   },
   {
    "duration": 7,
    "start_time": "2022-07-10T19:16:17.639Z"
   },
   {
    "duration": 9,
    "start_time": "2022-07-10T19:16:17.648Z"
   },
   {
    "duration": 56,
    "start_time": "2022-07-10T19:16:17.659Z"
   },
   {
    "duration": 84,
    "start_time": "2022-07-10T19:16:17.717Z"
   },
   {
    "duration": 7,
    "start_time": "2022-07-10T19:16:17.802Z"
   },
   {
    "duration": 108,
    "start_time": "2022-07-10T19:16:17.811Z"
   },
   {
    "duration": 96,
    "start_time": "2022-07-10T19:16:17.926Z"
   },
   {
    "duration": 8,
    "start_time": "2022-07-10T19:16:18.024Z"
   },
   {
    "duration": 15,
    "start_time": "2022-07-10T19:16:18.034Z"
   },
   {
    "duration": 4,
    "start_time": "2022-07-10T19:16:18.051Z"
   },
   {
    "duration": 6,
    "start_time": "2022-07-10T19:16:18.057Z"
   },
   {
    "duration": 6,
    "start_time": "2022-07-10T19:16:18.099Z"
   },
   {
    "duration": 97,
    "start_time": "2022-07-10T19:16:18.110Z"
   },
   {
    "duration": 92,
    "start_time": "2022-07-10T19:16:18.212Z"
   },
   {
    "duration": 107,
    "start_time": "2022-07-10T19:16:18.306Z"
   },
   {
    "duration": 91,
    "start_time": "2022-07-10T19:16:18.417Z"
   },
   {
    "duration": 3101,
    "start_time": "2022-07-10T19:17:54.323Z"
   },
   {
    "duration": 1318,
    "start_time": "2022-07-10T19:17:57.428Z"
   },
   {
    "duration": 27,
    "start_time": "2022-07-10T19:17:58.748Z"
   },
   {
    "duration": 4,
    "start_time": "2022-07-10T19:17:58.776Z"
   },
   {
    "duration": 30,
    "start_time": "2022-07-10T19:17:58.782Z"
   },
   {
    "duration": 16,
    "start_time": "2022-07-10T19:17:58.814Z"
   },
   {
    "duration": 9,
    "start_time": "2022-07-10T19:17:58.833Z"
   },
   {
    "duration": 14,
    "start_time": "2022-07-10T19:17:58.844Z"
   },
   {
    "duration": 4,
    "start_time": "2022-07-10T19:17:58.860Z"
   },
   {
    "duration": 44,
    "start_time": "2022-07-10T19:17:58.866Z"
   },
   {
    "duration": 12,
    "start_time": "2022-07-10T19:17:58.914Z"
   },
   {
    "duration": 4571,
    "start_time": "2022-07-10T19:17:58.927Z"
   },
   {
    "duration": 10,
    "start_time": "2022-07-10T19:18:03.501Z"
   },
   {
    "duration": 335,
    "start_time": "2022-07-10T19:18:03.517Z"
   },
   {
    "duration": 12,
    "start_time": "2022-07-10T19:18:03.854Z"
   },
   {
    "duration": 8,
    "start_time": "2022-07-10T19:18:03.867Z"
   },
   {
    "duration": 23,
    "start_time": "2022-07-10T19:18:03.877Z"
   },
   {
    "duration": 355,
    "start_time": "2022-07-10T19:18:03.901Z"
   },
   {
    "duration": 190,
    "start_time": "2022-07-10T19:18:04.257Z"
   },
   {
    "duration": 11,
    "start_time": "2022-07-10T19:18:04.448Z"
   },
   {
    "duration": 11,
    "start_time": "2022-07-10T19:18:04.460Z"
   },
   {
    "duration": 373,
    "start_time": "2022-07-10T19:18:04.473Z"
   },
   {
    "duration": 201,
    "start_time": "2022-07-10T19:18:04.848Z"
   },
   {
    "duration": 6,
    "start_time": "2022-07-10T19:18:05.051Z"
   },
   {
    "duration": 14,
    "start_time": "2022-07-10T19:18:05.058Z"
   },
   {
    "duration": 15,
    "start_time": "2022-07-10T19:18:05.074Z"
   },
   {
    "duration": 16,
    "start_time": "2022-07-10T19:18:05.104Z"
   },
   {
    "duration": 27,
    "start_time": "2022-07-10T19:18:05.122Z"
   },
   {
    "duration": 9,
    "start_time": "2022-07-10T19:18:05.151Z"
   },
   {
    "duration": 11,
    "start_time": "2022-07-10T19:18:05.161Z"
   },
   {
    "duration": 43,
    "start_time": "2022-07-10T19:18:05.174Z"
   },
   {
    "duration": 24,
    "start_time": "2022-07-10T19:18:05.224Z"
   },
   {
    "duration": 566,
    "start_time": "2022-07-10T19:18:05.250Z"
   },
   {
    "duration": 575,
    "start_time": "2022-07-10T19:18:05.823Z"
   },
   {
    "duration": 224,
    "start_time": "2022-07-10T19:18:06.403Z"
   },
   {
    "duration": 10,
    "start_time": "2022-07-10T19:18:06.629Z"
   },
   {
    "duration": 6,
    "start_time": "2022-07-10T19:18:06.642Z"
   },
   {
    "duration": 27,
    "start_time": "2022-07-10T19:18:06.651Z"
   },
   {
    "duration": 148,
    "start_time": "2022-07-10T19:18:06.680Z"
   },
   {
    "duration": 71,
    "start_time": "2022-07-10T19:18:06.832Z"
   },
   {
    "duration": 139,
    "start_time": "2022-07-10T19:18:06.908Z"
   },
   {
    "duration": 10,
    "start_time": "2022-07-10T19:18:07.049Z"
   },
   {
    "duration": 34,
    "start_time": "2022-07-10T19:18:07.061Z"
   },
   {
    "duration": 138,
    "start_time": "2022-07-10T19:18:07.099Z"
   },
   {
    "duration": 103,
    "start_time": "2022-07-10T19:18:07.239Z"
   },
   {
    "duration": 35,
    "start_time": "2022-07-10T19:18:07.403Z"
   },
   {
    "duration": 77,
    "start_time": "2022-07-10T19:18:07.441Z"
   },
   {
    "duration": 115,
    "start_time": "2022-07-10T19:18:07.524Z"
   },
   {
    "duration": 7,
    "start_time": "2022-07-10T19:18:07.641Z"
   },
   {
    "duration": 6,
    "start_time": "2022-07-10T19:18:07.650Z"
   },
   {
    "duration": 10,
    "start_time": "2022-07-10T19:18:07.658Z"
   },
   {
    "duration": 8,
    "start_time": "2022-07-10T19:18:07.702Z"
   },
   {
    "duration": 94,
    "start_time": "2022-07-10T19:18:07.714Z"
   },
   {
    "duration": 19,
    "start_time": "2022-07-10T19:18:07.816Z"
   },
   {
    "duration": 16,
    "start_time": "2022-07-10T19:18:07.837Z"
   },
   {
    "duration": 95,
    "start_time": "2022-07-10T19:18:07.902Z"
   },
   {
    "duration": 118,
    "start_time": "2022-07-10T19:18:08.000Z"
   },
   {
    "duration": 6,
    "start_time": "2022-07-10T19:18:51.645Z"
   },
   {
    "duration": 2970,
    "start_time": "2022-07-10T19:20:30.615Z"
   },
   {
    "duration": 1391,
    "start_time": "2022-07-10T19:20:33.587Z"
   },
   {
    "duration": 49,
    "start_time": "2022-07-10T19:20:34.980Z"
   },
   {
    "duration": 6,
    "start_time": "2022-07-10T19:20:35.031Z"
   },
   {
    "duration": 32,
    "start_time": "2022-07-10T19:20:35.040Z"
   },
   {
    "duration": 15,
    "start_time": "2022-07-10T19:20:35.074Z"
   },
   {
    "duration": 13,
    "start_time": "2022-07-10T19:20:35.091Z"
   },
   {
    "duration": 40,
    "start_time": "2022-07-10T19:20:35.108Z"
   },
   {
    "duration": 3,
    "start_time": "2022-07-10T19:20:35.151Z"
   },
   {
    "duration": 25,
    "start_time": "2022-07-10T19:20:35.157Z"
   },
   {
    "duration": 6,
    "start_time": "2022-07-10T19:20:35.184Z"
   },
   {
    "duration": 4739,
    "start_time": "2022-07-10T19:20:35.191Z"
   },
   {
    "duration": 5,
    "start_time": "2022-07-10T19:20:39.932Z"
   },
   {
    "duration": 320,
    "start_time": "2022-07-10T19:20:39.941Z"
   },
   {
    "duration": 9,
    "start_time": "2022-07-10T19:20:40.263Z"
   },
   {
    "duration": 11,
    "start_time": "2022-07-10T19:20:40.274Z"
   },
   {
    "duration": 9,
    "start_time": "2022-07-10T19:20:40.300Z"
   },
   {
    "duration": 350,
    "start_time": "2022-07-10T19:20:40.321Z"
   },
   {
    "duration": 206,
    "start_time": "2022-07-10T19:20:40.673Z"
   },
   {
    "duration": 26,
    "start_time": "2022-07-10T19:20:40.881Z"
   },
   {
    "duration": 15,
    "start_time": "2022-07-10T19:20:40.916Z"
   },
   {
    "duration": 356,
    "start_time": "2022-07-10T19:20:40.933Z"
   },
   {
    "duration": 202,
    "start_time": "2022-07-10T19:20:41.291Z"
   },
   {
    "duration": 12,
    "start_time": "2022-07-10T19:20:41.495Z"
   },
   {
    "duration": 30,
    "start_time": "2022-07-10T19:20:41.509Z"
   },
   {
    "duration": 9,
    "start_time": "2022-07-10T19:20:41.540Z"
   },
   {
    "duration": 8,
    "start_time": "2022-07-10T19:20:41.550Z"
   },
   {
    "duration": 9,
    "start_time": "2022-07-10T19:20:41.560Z"
   },
   {
    "duration": 3,
    "start_time": "2022-07-10T19:20:41.571Z"
   },
   {
    "duration": 5,
    "start_time": "2022-07-10T19:20:41.576Z"
   },
   {
    "duration": 41,
    "start_time": "2022-07-10T19:20:41.583Z"
   },
   {
    "duration": 37,
    "start_time": "2022-07-10T19:20:41.627Z"
   },
   {
    "duration": 463,
    "start_time": "2022-07-10T19:20:41.666Z"
   },
   {
    "duration": 549,
    "start_time": "2022-07-10T19:20:42.134Z"
   },
   {
    "duration": 230,
    "start_time": "2022-07-10T19:20:42.685Z"
   },
   {
    "duration": 8,
    "start_time": "2022-07-10T19:20:42.921Z"
   },
   {
    "duration": 8,
    "start_time": "2022-07-10T19:20:42.932Z"
   },
   {
    "duration": 14,
    "start_time": "2022-07-10T19:20:42.941Z"
   },
   {
    "duration": 17,
    "start_time": "2022-07-10T19:20:42.999Z"
   },
   {
    "duration": 122,
    "start_time": "2022-07-10T19:20:43.023Z"
   },
   {
    "duration": 4,
    "start_time": "2022-07-10T19:20:43.149Z"
   },
   {
    "duration": 12,
    "start_time": "2022-07-10T19:20:43.199Z"
   },
   {
    "duration": 24,
    "start_time": "2022-07-10T19:20:43.216Z"
   },
   {
    "duration": 9,
    "start_time": "2022-07-10T19:20:43.244Z"
   },
   {
    "duration": 9,
    "start_time": "2022-07-10T19:20:43.303Z"
   },
   {
    "duration": 223,
    "start_time": "2022-07-10T19:20:43.316Z"
   },
   {
    "duration": 0,
    "start_time": "2022-07-10T19:20:43.541Z"
   },
   {
    "duration": 0,
    "start_time": "2022-07-10T19:20:43.543Z"
   },
   {
    "duration": 0,
    "start_time": "2022-07-10T19:20:43.546Z"
   },
   {
    "duration": 0,
    "start_time": "2022-07-10T19:20:43.547Z"
   },
   {
    "duration": 0,
    "start_time": "2022-07-10T19:20:43.548Z"
   },
   {
    "duration": 0,
    "start_time": "2022-07-10T19:20:43.549Z"
   },
   {
    "duration": 0,
    "start_time": "2022-07-10T19:20:43.551Z"
   },
   {
    "duration": 0,
    "start_time": "2022-07-10T19:20:43.552Z"
   },
   {
    "duration": 0,
    "start_time": "2022-07-10T19:20:43.553Z"
   },
   {
    "duration": 0,
    "start_time": "2022-07-10T19:20:43.554Z"
   },
   {
    "duration": 0,
    "start_time": "2022-07-10T19:20:43.555Z"
   },
   {
    "duration": 3070,
    "start_time": "2022-07-10T19:21:44.322Z"
   },
   {
    "duration": 1367,
    "start_time": "2022-07-10T19:21:47.395Z"
   },
   {
    "duration": 31,
    "start_time": "2022-07-10T19:21:48.764Z"
   },
   {
    "duration": 6,
    "start_time": "2022-07-10T19:21:48.797Z"
   },
   {
    "duration": 36,
    "start_time": "2022-07-10T19:21:48.811Z"
   },
   {
    "duration": 14,
    "start_time": "2022-07-10T19:21:48.849Z"
   },
   {
    "duration": 4,
    "start_time": "2022-07-10T19:21:48.865Z"
   },
   {
    "duration": 14,
    "start_time": "2022-07-10T19:21:48.870Z"
   },
   {
    "duration": 6,
    "start_time": "2022-07-10T19:21:48.886Z"
   },
   {
    "duration": 44,
    "start_time": "2022-07-10T19:21:48.897Z"
   },
   {
    "duration": 9,
    "start_time": "2022-07-10T19:21:48.943Z"
   },
   {
    "duration": 4676,
    "start_time": "2022-07-10T19:21:48.954Z"
   },
   {
    "duration": 6,
    "start_time": "2022-07-10T19:21:53.634Z"
   },
   {
    "duration": 337,
    "start_time": "2022-07-10T19:21:53.641Z"
   },
   {
    "duration": 32,
    "start_time": "2022-07-10T19:21:53.980Z"
   },
   {
    "duration": 14,
    "start_time": "2022-07-10T19:21:54.013Z"
   },
   {
    "duration": 14,
    "start_time": "2022-07-10T19:21:54.029Z"
   },
   {
    "duration": 361,
    "start_time": "2022-07-10T19:21:54.045Z"
   },
   {
    "duration": 209,
    "start_time": "2022-07-10T19:21:54.408Z"
   },
   {
    "duration": 15,
    "start_time": "2022-07-10T19:21:54.619Z"
   },
   {
    "duration": 22,
    "start_time": "2022-07-10T19:21:54.637Z"
   },
   {
    "duration": 393,
    "start_time": "2022-07-10T19:21:54.661Z"
   },
   {
    "duration": 208,
    "start_time": "2022-07-10T19:21:55.056Z"
   },
   {
    "duration": 7,
    "start_time": "2022-07-10T19:21:55.266Z"
   },
   {
    "duration": 7,
    "start_time": "2022-07-10T19:21:55.274Z"
   },
   {
    "duration": 53,
    "start_time": "2022-07-10T19:21:55.283Z"
   },
   {
    "duration": 9,
    "start_time": "2022-07-10T19:21:55.338Z"
   },
   {
    "duration": 10,
    "start_time": "2022-07-10T19:21:55.352Z"
   },
   {
    "duration": 5,
    "start_time": "2022-07-10T19:21:55.364Z"
   },
   {
    "duration": 7,
    "start_time": "2022-07-10T19:21:55.371Z"
   },
   {
    "duration": 30,
    "start_time": "2022-07-10T19:21:55.379Z"
   },
   {
    "duration": 36,
    "start_time": "2022-07-10T19:21:55.410Z"
   },
   {
    "duration": 513,
    "start_time": "2022-07-10T19:21:55.448Z"
   },
   {
    "duration": 561,
    "start_time": "2022-07-10T19:21:55.963Z"
   },
   {
    "duration": 235,
    "start_time": "2022-07-10T19:21:56.535Z"
   },
   {
    "duration": 6,
    "start_time": "2022-07-10T19:21:56.772Z"
   },
   {
    "duration": 13,
    "start_time": "2022-07-10T19:21:56.781Z"
   },
   {
    "duration": 48,
    "start_time": "2022-07-10T19:21:56.796Z"
   },
   {
    "duration": 68,
    "start_time": "2022-07-10T19:21:56.846Z"
   },
   {
    "duration": 85,
    "start_time": "2022-07-10T19:21:56.916Z"
   },
   {
    "duration": 48,
    "start_time": "2022-07-10T19:21:57.002Z"
   },
   {
    "duration": 10,
    "start_time": "2022-07-10T19:21:57.052Z"
   },
   {
    "duration": 43,
    "start_time": "2022-07-10T19:21:57.064Z"
   },
   {
    "duration": 140,
    "start_time": "2022-07-10T19:21:57.111Z"
   },
   {
    "duration": 50,
    "start_time": "2022-07-10T19:21:57.253Z"
   },
   {
    "duration": 107,
    "start_time": "2022-07-10T19:21:57.311Z"
   },
   {
    "duration": 92,
    "start_time": "2022-07-10T19:21:57.421Z"
   },
   {
    "duration": 39,
    "start_time": "2022-07-10T19:21:57.515Z"
   },
   {
    "duration": 56,
    "start_time": "2022-07-10T19:21:57.555Z"
   },
   {
    "duration": 31,
    "start_time": "2022-07-10T19:21:57.612Z"
   },
   {
    "duration": 57,
    "start_time": "2022-07-10T19:21:57.645Z"
   },
   {
    "duration": 102,
    "start_time": "2022-07-10T19:21:57.705Z"
   },
   {
    "duration": 27,
    "start_time": "2022-07-10T19:21:57.809Z"
   },
   {
    "duration": 16,
    "start_time": "2022-07-10T19:21:57.838Z"
   },
   {
    "duration": 52,
    "start_time": "2022-07-10T19:21:57.856Z"
   },
   {
    "duration": 91,
    "start_time": "2022-07-10T19:21:57.911Z"
   },
   {
    "duration": 241,
    "start_time": "2022-07-10T19:21:58.008Z"
   },
   {
    "duration": 2968,
    "start_time": "2022-07-10T19:27:57.183Z"
   },
   {
    "duration": 1339,
    "start_time": "2022-07-10T19:28:00.153Z"
   },
   {
    "duration": 42,
    "start_time": "2022-07-10T19:28:01.494Z"
   },
   {
    "duration": 4,
    "start_time": "2022-07-10T19:28:01.539Z"
   },
   {
    "duration": 20,
    "start_time": "2022-07-10T19:28:01.544Z"
   },
   {
    "duration": 13,
    "start_time": "2022-07-10T19:28:01.566Z"
   },
   {
    "duration": 5,
    "start_time": "2022-07-10T19:28:01.580Z"
   },
   {
    "duration": 31,
    "start_time": "2022-07-10T19:28:01.587Z"
   },
   {
    "duration": 21,
    "start_time": "2022-07-10T19:28:01.626Z"
   },
   {
    "duration": 37,
    "start_time": "2022-07-10T19:28:01.650Z"
   },
   {
    "duration": 5,
    "start_time": "2022-07-10T19:28:01.689Z"
   },
   {
    "duration": 4454,
    "start_time": "2022-07-10T19:28:01.696Z"
   },
   {
    "duration": 6,
    "start_time": "2022-07-10T19:28:06.152Z"
   },
   {
    "duration": 313,
    "start_time": "2022-07-10T19:28:06.159Z"
   },
   {
    "duration": 12,
    "start_time": "2022-07-10T19:28:06.474Z"
   },
   {
    "duration": 3,
    "start_time": "2022-07-10T19:28:06.498Z"
   },
   {
    "duration": 25,
    "start_time": "2022-07-10T19:28:06.511Z"
   },
   {
    "duration": 391,
    "start_time": "2022-07-10T19:28:06.538Z"
   },
   {
    "duration": 247,
    "start_time": "2022-07-10T19:28:06.931Z"
   },
   {
    "duration": 30,
    "start_time": "2022-07-10T19:28:07.180Z"
   },
   {
    "duration": 19,
    "start_time": "2022-07-10T19:28:07.217Z"
   },
   {
    "duration": 358,
    "start_time": "2022-07-10T19:28:07.238Z"
   },
   {
    "duration": 212,
    "start_time": "2022-07-10T19:28:07.599Z"
   },
   {
    "duration": 7,
    "start_time": "2022-07-10T19:28:07.817Z"
   },
   {
    "duration": 8,
    "start_time": "2022-07-10T19:28:07.826Z"
   },
   {
    "duration": 13,
    "start_time": "2022-07-10T19:28:07.836Z"
   },
   {
    "duration": 13,
    "start_time": "2022-07-10T19:28:07.851Z"
   },
   {
    "duration": 10,
    "start_time": "2022-07-10T19:28:07.868Z"
   },
   {
    "duration": 23,
    "start_time": "2022-07-10T19:28:07.879Z"
   },
   {
    "duration": 46,
    "start_time": "2022-07-10T19:28:07.904Z"
   },
   {
    "duration": 25,
    "start_time": "2022-07-10T19:28:07.952Z"
   },
   {
    "duration": 29,
    "start_time": "2022-07-10T19:28:07.978Z"
   },
   {
    "duration": 519,
    "start_time": "2022-07-10T19:28:08.008Z"
   },
   {
    "duration": 597,
    "start_time": "2022-07-10T19:28:08.530Z"
   },
   {
    "duration": 218,
    "start_time": "2022-07-10T19:28:09.130Z"
   },
   {
    "duration": 5,
    "start_time": "2022-07-10T19:28:09.349Z"
   },
   {
    "duration": 8,
    "start_time": "2022-07-10T19:28:09.356Z"
   },
   {
    "duration": 41,
    "start_time": "2022-07-10T19:28:09.366Z"
   },
   {
    "duration": 102,
    "start_time": "2022-07-10T19:28:09.411Z"
   },
   {
    "duration": 145,
    "start_time": "2022-07-10T19:28:09.515Z"
   },
   {
    "duration": 8,
    "start_time": "2022-07-10T19:28:09.662Z"
   },
   {
    "duration": 11,
    "start_time": "2022-07-10T19:28:09.671Z"
   },
   {
    "duration": 25,
    "start_time": "2022-07-10T19:28:09.683Z"
   },
   {
    "duration": 194,
    "start_time": "2022-07-10T19:28:09.710Z"
   },
   {
    "duration": 94,
    "start_time": "2022-07-10T19:28:09.910Z"
   },
   {
    "duration": 34,
    "start_time": "2022-07-10T19:28:10.011Z"
   },
   {
    "duration": 172,
    "start_time": "2022-07-10T19:28:10.048Z"
   },
   {
    "duration": 23,
    "start_time": "2022-07-10T19:28:10.226Z"
   },
   {
    "duration": 19,
    "start_time": "2022-07-10T19:28:10.251Z"
   },
   {
    "duration": 260,
    "start_time": "2022-07-10T19:28:10.307Z"
   },
   {
    "duration": 0,
    "start_time": "2022-07-10T19:28:10.569Z"
   },
   {
    "duration": 0,
    "start_time": "2022-07-10T19:28:10.570Z"
   },
   {
    "duration": 0,
    "start_time": "2022-07-10T19:28:10.572Z"
   },
   {
    "duration": 0,
    "start_time": "2022-07-10T19:28:10.573Z"
   },
   {
    "duration": 0,
    "start_time": "2022-07-10T19:28:10.575Z"
   },
   {
    "duration": 0,
    "start_time": "2022-07-10T19:28:10.576Z"
   },
   {
    "duration": 0,
    "start_time": "2022-07-10T19:28:10.577Z"
   },
   {
    "duration": 0,
    "start_time": "2022-07-10T19:28:10.578Z"
   },
   {
    "duration": 0,
    "start_time": "2022-07-10T19:28:10.579Z"
   },
   {
    "duration": 3101,
    "start_time": "2022-07-10T19:42:37.648Z"
   },
   {
    "duration": 1323,
    "start_time": "2022-07-10T19:42:40.752Z"
   },
   {
    "duration": 42,
    "start_time": "2022-07-10T19:42:42.077Z"
   },
   {
    "duration": 6,
    "start_time": "2022-07-10T19:42:42.123Z"
   },
   {
    "duration": 17,
    "start_time": "2022-07-10T19:42:42.133Z"
   },
   {
    "duration": 12,
    "start_time": "2022-07-10T19:42:42.152Z"
   },
   {
    "duration": 4,
    "start_time": "2022-07-10T19:42:42.166Z"
   },
   {
    "duration": 15,
    "start_time": "2022-07-10T19:42:42.172Z"
   },
   {
    "duration": 3,
    "start_time": "2022-07-10T19:42:42.188Z"
   },
   {
    "duration": 31,
    "start_time": "2022-07-10T19:42:42.200Z"
   },
   {
    "duration": 6,
    "start_time": "2022-07-10T19:42:42.233Z"
   },
   {
    "duration": 4641,
    "start_time": "2022-07-10T19:42:42.241Z"
   },
   {
    "duration": 7,
    "start_time": "2022-07-10T19:42:46.884Z"
   },
   {
    "duration": 390,
    "start_time": "2022-07-10T19:42:46.895Z"
   },
   {
    "duration": 31,
    "start_time": "2022-07-10T19:42:47.287Z"
   },
   {
    "duration": 14,
    "start_time": "2022-07-10T19:42:47.325Z"
   },
   {
    "duration": 6,
    "start_time": "2022-07-10T19:42:47.341Z"
   },
   {
    "duration": 345,
    "start_time": "2022-07-10T19:42:47.348Z"
   },
   {
    "duration": 198,
    "start_time": "2022-07-10T19:42:47.695Z"
   },
   {
    "duration": 16,
    "start_time": "2022-07-10T19:42:47.897Z"
   },
   {
    "duration": 35,
    "start_time": "2022-07-10T19:42:47.914Z"
   },
   {
    "duration": 376,
    "start_time": "2022-07-10T19:42:47.950Z"
   },
   {
    "duration": 219,
    "start_time": "2022-07-10T19:42:48.331Z"
   },
   {
    "duration": 5,
    "start_time": "2022-07-10T19:42:48.552Z"
   },
   {
    "duration": 14,
    "start_time": "2022-07-10T19:42:48.559Z"
   },
   {
    "duration": 15,
    "start_time": "2022-07-10T19:42:48.575Z"
   },
   {
    "duration": 36,
    "start_time": "2022-07-10T19:42:48.592Z"
   },
   {
    "duration": 24,
    "start_time": "2022-07-10T19:42:48.629Z"
   },
   {
    "duration": 1473,
    "start_time": "2022-07-10T19:42:48.655Z"
   },
   {
    "duration": 0,
    "start_time": "2022-07-10T19:42:50.130Z"
   },
   {
    "duration": 0,
    "start_time": "2022-07-10T19:42:50.132Z"
   },
   {
    "duration": 0,
    "start_time": "2022-07-10T19:42:50.133Z"
   },
   {
    "duration": 0,
    "start_time": "2022-07-10T19:42:50.134Z"
   },
   {
    "duration": 0,
    "start_time": "2022-07-10T19:42:50.135Z"
   },
   {
    "duration": 0,
    "start_time": "2022-07-10T19:42:50.136Z"
   },
   {
    "duration": 0,
    "start_time": "2022-07-10T19:42:50.138Z"
   },
   {
    "duration": 0,
    "start_time": "2022-07-10T19:42:50.140Z"
   },
   {
    "duration": 0,
    "start_time": "2022-07-10T19:42:50.141Z"
   },
   {
    "duration": 0,
    "start_time": "2022-07-10T19:42:50.143Z"
   },
   {
    "duration": 0,
    "start_time": "2022-07-10T19:42:50.144Z"
   },
   {
    "duration": 0,
    "start_time": "2022-07-10T19:42:50.146Z"
   },
   {
    "duration": 0,
    "start_time": "2022-07-10T19:42:50.147Z"
   },
   {
    "duration": 0,
    "start_time": "2022-07-10T19:42:50.148Z"
   },
   {
    "duration": 0,
    "start_time": "2022-07-10T19:42:50.149Z"
   },
   {
    "duration": 0,
    "start_time": "2022-07-10T19:42:50.157Z"
   },
   {
    "duration": 0,
    "start_time": "2022-07-10T19:42:50.159Z"
   },
   {
    "duration": 0,
    "start_time": "2022-07-10T19:42:50.161Z"
   },
   {
    "duration": 0,
    "start_time": "2022-07-10T19:42:50.162Z"
   },
   {
    "duration": 0,
    "start_time": "2022-07-10T19:42:50.166Z"
   },
   {
    "duration": 0,
    "start_time": "2022-07-10T19:42:50.167Z"
   },
   {
    "duration": 0,
    "start_time": "2022-07-10T19:42:50.169Z"
   },
   {
    "duration": 0,
    "start_time": "2022-07-10T19:42:50.170Z"
   },
   {
    "duration": 0,
    "start_time": "2022-07-10T19:42:50.171Z"
   },
   {
    "duration": 3149,
    "start_time": "2022-07-10T19:47:19.695Z"
   },
   {
    "duration": 1416,
    "start_time": "2022-07-10T19:47:22.847Z"
   },
   {
    "duration": 26,
    "start_time": "2022-07-10T19:47:24.265Z"
   },
   {
    "duration": 5,
    "start_time": "2022-07-10T19:47:24.294Z"
   },
   {
    "duration": 60,
    "start_time": "2022-07-10T19:47:24.305Z"
   },
   {
    "duration": 14,
    "start_time": "2022-07-10T19:47:24.367Z"
   },
   {
    "duration": 14,
    "start_time": "2022-07-10T19:47:24.383Z"
   },
   {
    "duration": 53,
    "start_time": "2022-07-10T19:47:24.401Z"
   },
   {
    "duration": 5,
    "start_time": "2022-07-10T19:47:24.456Z"
   },
   {
    "duration": 47,
    "start_time": "2022-07-10T19:47:24.465Z"
   },
   {
    "duration": 8,
    "start_time": "2022-07-10T19:47:24.513Z"
   },
   {
    "duration": 4955,
    "start_time": "2022-07-10T19:47:24.523Z"
   },
   {
    "duration": 6,
    "start_time": "2022-07-10T19:47:29.480Z"
   },
   {
    "duration": 368,
    "start_time": "2022-07-10T19:47:29.488Z"
   },
   {
    "duration": 14,
    "start_time": "2022-07-10T19:47:29.858Z"
   },
   {
    "duration": 8,
    "start_time": "2022-07-10T19:47:29.875Z"
   },
   {
    "duration": 6,
    "start_time": "2022-07-10T19:47:29.900Z"
   },
   {
    "duration": 375,
    "start_time": "2022-07-10T19:47:29.910Z"
   },
   {
    "duration": 206,
    "start_time": "2022-07-10T19:47:30.287Z"
   },
   {
    "duration": 23,
    "start_time": "2022-07-10T19:47:30.495Z"
   },
   {
    "duration": 40,
    "start_time": "2022-07-10T19:47:30.524Z"
   },
   {
    "duration": 354,
    "start_time": "2022-07-10T19:47:30.566Z"
   },
   {
    "duration": 243,
    "start_time": "2022-07-10T19:47:30.927Z"
   },
   {
    "duration": 5,
    "start_time": "2022-07-10T19:47:31.172Z"
   },
   {
    "duration": 16,
    "start_time": "2022-07-10T19:47:31.179Z"
   },
   {
    "duration": 37,
    "start_time": "2022-07-10T19:47:31.201Z"
   },
   {
    "duration": 14,
    "start_time": "2022-07-10T19:47:31.240Z"
   },
   {
    "duration": 60,
    "start_time": "2022-07-10T19:47:31.257Z"
   },
   {
    "duration": 24,
    "start_time": "2022-07-10T19:47:31.320Z"
   },
   {
    "duration": 11,
    "start_time": "2022-07-10T19:47:31.346Z"
   },
   {
    "duration": 18,
    "start_time": "2022-07-10T19:47:31.359Z"
   },
   {
    "duration": 144,
    "start_time": "2022-07-10T19:47:31.380Z"
   },
   {
    "duration": 0,
    "start_time": "2022-07-10T19:47:31.526Z"
   },
   {
    "duration": 0,
    "start_time": "2022-07-10T19:47:31.527Z"
   },
   {
    "duration": 0,
    "start_time": "2022-07-10T19:47:31.529Z"
   },
   {
    "duration": 1,
    "start_time": "2022-07-10T19:47:31.529Z"
   },
   {
    "duration": 0,
    "start_time": "2022-07-10T19:47:31.530Z"
   },
   {
    "duration": 0,
    "start_time": "2022-07-10T19:47:31.532Z"
   },
   {
    "duration": 0,
    "start_time": "2022-07-10T19:47:31.532Z"
   },
   {
    "duration": 0,
    "start_time": "2022-07-10T19:47:31.533Z"
   },
   {
    "duration": 0,
    "start_time": "2022-07-10T19:47:31.534Z"
   },
   {
    "duration": 0,
    "start_time": "2022-07-10T19:47:31.534Z"
   },
   {
    "duration": 0,
    "start_time": "2022-07-10T19:47:31.535Z"
   },
   {
    "duration": 0,
    "start_time": "2022-07-10T19:47:31.536Z"
   },
   {
    "duration": 0,
    "start_time": "2022-07-10T19:47:31.538Z"
   },
   {
    "duration": 0,
    "start_time": "2022-07-10T19:47:31.541Z"
   },
   {
    "duration": 0,
    "start_time": "2022-07-10T19:47:31.543Z"
   },
   {
    "duration": 0,
    "start_time": "2022-07-10T19:47:31.544Z"
   },
   {
    "duration": 0,
    "start_time": "2022-07-10T19:47:31.545Z"
   },
   {
    "duration": 0,
    "start_time": "2022-07-10T19:47:31.547Z"
   },
   {
    "duration": 0,
    "start_time": "2022-07-10T19:47:31.548Z"
   },
   {
    "duration": 0,
    "start_time": "2022-07-10T19:47:31.549Z"
   },
   {
    "duration": 0,
    "start_time": "2022-07-10T19:47:31.550Z"
   },
   {
    "duration": 0,
    "start_time": "2022-07-10T19:47:31.551Z"
   },
   {
    "duration": 0,
    "start_time": "2022-07-10T19:47:31.552Z"
   },
   {
    "duration": 0,
    "start_time": "2022-07-10T19:47:31.553Z"
   },
   {
    "duration": 0,
    "start_time": "2022-07-10T19:47:31.554Z"
   },
   {
    "duration": 2851,
    "start_time": "2022-07-10T19:53:39.044Z"
   },
   {
    "duration": 1384,
    "start_time": "2022-07-10T19:53:41.898Z"
   },
   {
    "duration": 41,
    "start_time": "2022-07-10T19:53:43.284Z"
   },
   {
    "duration": 6,
    "start_time": "2022-07-10T19:53:43.327Z"
   },
   {
    "duration": 20,
    "start_time": "2022-07-10T19:53:43.335Z"
   },
   {
    "duration": 12,
    "start_time": "2022-07-10T19:53:43.357Z"
   },
   {
    "duration": 8,
    "start_time": "2022-07-10T19:53:43.370Z"
   },
   {
    "duration": 13,
    "start_time": "2022-07-10T19:53:43.379Z"
   },
   {
    "duration": 11,
    "start_time": "2022-07-10T19:53:43.393Z"
   },
   {
    "duration": 50,
    "start_time": "2022-07-10T19:53:43.416Z"
   },
   {
    "duration": 7,
    "start_time": "2022-07-10T19:53:43.468Z"
   },
   {
    "duration": 4693,
    "start_time": "2022-07-10T19:53:43.477Z"
   },
   {
    "duration": 7,
    "start_time": "2022-07-10T19:53:48.172Z"
   },
   {
    "duration": 329,
    "start_time": "2022-07-10T19:53:48.182Z"
   },
   {
    "duration": 12,
    "start_time": "2022-07-10T19:53:48.513Z"
   },
   {
    "duration": 9,
    "start_time": "2022-07-10T19:53:48.527Z"
   },
   {
    "duration": 12,
    "start_time": "2022-07-10T19:53:48.538Z"
   },
   {
    "duration": 374,
    "start_time": "2022-07-10T19:53:48.553Z"
   },
   {
    "duration": 223,
    "start_time": "2022-07-10T19:53:48.933Z"
   },
   {
    "duration": 13,
    "start_time": "2022-07-10T19:53:49.159Z"
   },
   {
    "duration": 37,
    "start_time": "2022-07-10T19:53:49.174Z"
   },
   {
    "duration": 362,
    "start_time": "2022-07-10T19:53:49.213Z"
   },
   {
    "duration": 211,
    "start_time": "2022-07-10T19:53:49.577Z"
   },
   {
    "duration": 14,
    "start_time": "2022-07-10T19:53:49.790Z"
   },
   {
    "duration": 35,
    "start_time": "2022-07-10T19:53:49.806Z"
   },
   {
    "duration": 5,
    "start_time": "2022-07-10T19:53:49.843Z"
   },
   {
    "duration": 7,
    "start_time": "2022-07-10T19:53:49.850Z"
   },
   {
    "duration": 26,
    "start_time": "2022-07-10T19:53:49.861Z"
   },
   {
    "duration": 140,
    "start_time": "2022-07-10T19:53:49.889Z"
   },
   {
    "duration": 0,
    "start_time": "2022-07-10T19:53:50.032Z"
   },
   {
    "duration": 0,
    "start_time": "2022-07-10T19:53:50.033Z"
   },
   {
    "duration": 0,
    "start_time": "2022-07-10T19:53:50.035Z"
   },
   {
    "duration": 0,
    "start_time": "2022-07-10T19:53:50.037Z"
   },
   {
    "duration": 0,
    "start_time": "2022-07-10T19:53:50.039Z"
   },
   {
    "duration": 0,
    "start_time": "2022-07-10T19:53:50.040Z"
   },
   {
    "duration": 0,
    "start_time": "2022-07-10T19:53:50.041Z"
   },
   {
    "duration": 0,
    "start_time": "2022-07-10T19:53:50.042Z"
   },
   {
    "duration": 0,
    "start_time": "2022-07-10T19:53:50.044Z"
   },
   {
    "duration": 0,
    "start_time": "2022-07-10T19:53:50.045Z"
   },
   {
    "duration": 0,
    "start_time": "2022-07-10T19:53:50.047Z"
   },
   {
    "duration": 0,
    "start_time": "2022-07-10T19:53:50.048Z"
   },
   {
    "duration": 0,
    "start_time": "2022-07-10T19:53:50.049Z"
   },
   {
    "duration": 0,
    "start_time": "2022-07-10T19:53:50.050Z"
   },
   {
    "duration": 0,
    "start_time": "2022-07-10T19:53:50.051Z"
   },
   {
    "duration": 0,
    "start_time": "2022-07-10T19:53:50.052Z"
   },
   {
    "duration": 0,
    "start_time": "2022-07-10T19:53:50.053Z"
   },
   {
    "duration": 0,
    "start_time": "2022-07-10T19:53:50.054Z"
   },
   {
    "duration": 0,
    "start_time": "2022-07-10T19:53:50.055Z"
   },
   {
    "duration": 0,
    "start_time": "2022-07-10T19:53:50.056Z"
   },
   {
    "duration": 0,
    "start_time": "2022-07-10T19:53:50.057Z"
   },
   {
    "duration": 0,
    "start_time": "2022-07-10T19:53:50.058Z"
   },
   {
    "duration": 0,
    "start_time": "2022-07-10T19:53:50.060Z"
   },
   {
    "duration": 0,
    "start_time": "2022-07-10T19:53:50.061Z"
   },
   {
    "duration": 0,
    "start_time": "2022-07-10T19:53:50.101Z"
   },
   {
    "duration": 0,
    "start_time": "2022-07-10T19:53:50.102Z"
   },
   {
    "duration": 0,
    "start_time": "2022-07-10T19:53:50.102Z"
   },
   {
    "duration": 0,
    "start_time": "2022-07-10T19:53:50.103Z"
   },
   {
    "duration": 3091,
    "start_time": "2022-07-10T19:54:49.640Z"
   },
   {
    "duration": 1325,
    "start_time": "2022-07-10T19:54:52.734Z"
   },
   {
    "duration": 27,
    "start_time": "2022-07-10T19:54:54.061Z"
   },
   {
    "duration": 4,
    "start_time": "2022-07-10T19:54:54.090Z"
   },
   {
    "duration": 42,
    "start_time": "2022-07-10T19:54:54.098Z"
   },
   {
    "duration": 36,
    "start_time": "2022-07-10T19:54:54.142Z"
   },
   {
    "duration": 7,
    "start_time": "2022-07-10T19:54:54.180Z"
   },
   {
    "duration": 18,
    "start_time": "2022-07-10T19:54:54.189Z"
   },
   {
    "duration": 42,
    "start_time": "2022-07-10T19:54:54.208Z"
   },
   {
    "duration": 37,
    "start_time": "2022-07-10T19:54:54.252Z"
   },
   {
    "duration": 5,
    "start_time": "2022-07-10T19:54:54.291Z"
   },
   {
    "duration": 4640,
    "start_time": "2022-07-10T19:54:54.302Z"
   },
   {
    "duration": 7,
    "start_time": "2022-07-10T19:54:58.945Z"
   },
   {
    "duration": 335,
    "start_time": "2022-07-10T19:54:58.956Z"
   },
   {
    "duration": 25,
    "start_time": "2022-07-10T19:54:59.292Z"
   },
   {
    "duration": 28,
    "start_time": "2022-07-10T19:54:59.319Z"
   },
   {
    "duration": 8,
    "start_time": "2022-07-10T19:54:59.349Z"
   },
   {
    "duration": 377,
    "start_time": "2022-07-10T19:54:59.359Z"
   },
   {
    "duration": 213,
    "start_time": "2022-07-10T19:54:59.738Z"
   },
   {
    "duration": 10,
    "start_time": "2022-07-10T19:54:59.953Z"
   },
   {
    "duration": 34,
    "start_time": "2022-07-10T19:54:59.965Z"
   },
   {
    "duration": 427,
    "start_time": "2022-07-10T19:55:00.002Z"
   },
   {
    "duration": 201,
    "start_time": "2022-07-10T19:55:00.432Z"
   },
   {
    "duration": 5,
    "start_time": "2022-07-10T19:55:00.635Z"
   },
   {
    "duration": 28,
    "start_time": "2022-07-10T19:55:00.642Z"
   },
   {
    "duration": 24,
    "start_time": "2022-07-10T19:55:00.672Z"
   },
   {
    "duration": 56,
    "start_time": "2022-07-10T19:55:00.698Z"
   },
   {
    "duration": 47,
    "start_time": "2022-07-10T19:55:00.755Z"
   },
   {
    "duration": 90,
    "start_time": "2022-07-10T19:55:00.803Z"
   },
   {
    "duration": 0,
    "start_time": "2022-07-10T19:55:00.895Z"
   },
   {
    "duration": 0,
    "start_time": "2022-07-10T19:55:00.896Z"
   },
   {
    "duration": 0,
    "start_time": "2022-07-10T19:55:00.900Z"
   },
   {
    "duration": 0,
    "start_time": "2022-07-10T19:55:00.903Z"
   },
   {
    "duration": 0,
    "start_time": "2022-07-10T19:55:00.904Z"
   },
   {
    "duration": 0,
    "start_time": "2022-07-10T19:55:00.906Z"
   },
   {
    "duration": 0,
    "start_time": "2022-07-10T19:55:00.907Z"
   },
   {
    "duration": 0,
    "start_time": "2022-07-10T19:55:00.908Z"
   },
   {
    "duration": 0,
    "start_time": "2022-07-10T19:55:00.910Z"
   },
   {
    "duration": 0,
    "start_time": "2022-07-10T19:55:00.912Z"
   },
   {
    "duration": 0,
    "start_time": "2022-07-10T19:55:00.915Z"
   },
   {
    "duration": 0,
    "start_time": "2022-07-10T19:55:00.916Z"
   },
   {
    "duration": 0,
    "start_time": "2022-07-10T19:55:00.918Z"
   },
   {
    "duration": 0,
    "start_time": "2022-07-10T19:55:00.919Z"
   },
   {
    "duration": 0,
    "start_time": "2022-07-10T19:55:00.924Z"
   },
   {
    "duration": 0,
    "start_time": "2022-07-10T19:55:00.925Z"
   },
   {
    "duration": 0,
    "start_time": "2022-07-10T19:55:00.927Z"
   },
   {
    "duration": 0,
    "start_time": "2022-07-10T19:55:00.930Z"
   },
   {
    "duration": 0,
    "start_time": "2022-07-10T19:55:00.931Z"
   },
   {
    "duration": 0,
    "start_time": "2022-07-10T19:55:00.932Z"
   },
   {
    "duration": 0,
    "start_time": "2022-07-10T19:55:00.933Z"
   },
   {
    "duration": 0,
    "start_time": "2022-07-10T19:55:00.934Z"
   },
   {
    "duration": 0,
    "start_time": "2022-07-10T19:55:00.935Z"
   },
   {
    "duration": 0,
    "start_time": "2022-07-10T19:55:00.938Z"
   },
   {
    "duration": 0,
    "start_time": "2022-07-10T19:55:00.940Z"
   },
   {
    "duration": 0,
    "start_time": "2022-07-10T19:55:00.942Z"
   },
   {
    "duration": 0,
    "start_time": "2022-07-10T19:55:00.944Z"
   },
   {
    "duration": 0,
    "start_time": "2022-07-10T19:55:00.945Z"
   },
   {
    "duration": 3176,
    "start_time": "2022-07-10T19:55:24.386Z"
   },
   {
    "duration": 1281,
    "start_time": "2022-07-10T19:55:27.564Z"
   },
   {
    "duration": 30,
    "start_time": "2022-07-10T19:55:28.847Z"
   },
   {
    "duration": 5,
    "start_time": "2022-07-10T19:55:28.880Z"
   },
   {
    "duration": 35,
    "start_time": "2022-07-10T19:55:28.887Z"
   },
   {
    "duration": 31,
    "start_time": "2022-07-10T19:55:28.924Z"
   },
   {
    "duration": 5,
    "start_time": "2022-07-10T19:55:28.957Z"
   },
   {
    "duration": 14,
    "start_time": "2022-07-10T19:55:28.963Z"
   },
   {
    "duration": 42,
    "start_time": "2022-07-10T19:55:28.979Z"
   },
   {
    "duration": 49,
    "start_time": "2022-07-10T19:55:29.024Z"
   },
   {
    "duration": 5,
    "start_time": "2022-07-10T19:55:29.075Z"
   },
   {
    "duration": 4597,
    "start_time": "2022-07-10T19:55:29.081Z"
   },
   {
    "duration": 4,
    "start_time": "2022-07-10T19:55:33.680Z"
   },
   {
    "duration": 341,
    "start_time": "2022-07-10T19:55:33.686Z"
   },
   {
    "duration": 16,
    "start_time": "2022-07-10T19:55:34.031Z"
   },
   {
    "duration": 3,
    "start_time": "2022-07-10T19:55:34.049Z"
   },
   {
    "duration": 17,
    "start_time": "2022-07-10T19:55:34.054Z"
   },
   {
    "duration": 375,
    "start_time": "2022-07-10T19:55:34.073Z"
   },
   {
    "duration": 227,
    "start_time": "2022-07-10T19:55:34.449Z"
   },
   {
    "duration": 23,
    "start_time": "2022-07-10T19:55:34.678Z"
   },
   {
    "duration": 19,
    "start_time": "2022-07-10T19:55:34.703Z"
   },
   {
    "duration": 354,
    "start_time": "2022-07-10T19:55:34.725Z"
   },
   {
    "duration": 200,
    "start_time": "2022-07-10T19:55:35.080Z"
   },
   {
    "duration": 4,
    "start_time": "2022-07-10T19:55:35.282Z"
   },
   {
    "duration": 50,
    "start_time": "2022-07-10T19:55:35.287Z"
   },
   {
    "duration": 5,
    "start_time": "2022-07-10T19:55:35.339Z"
   },
   {
    "duration": 9,
    "start_time": "2022-07-10T19:55:35.346Z"
   },
   {
    "duration": 27,
    "start_time": "2022-07-10T19:55:35.358Z"
   },
   {
    "duration": 18,
    "start_time": "2022-07-10T19:55:35.393Z"
   },
   {
    "duration": 37,
    "start_time": "2022-07-10T19:55:35.418Z"
   },
   {
    "duration": 8,
    "start_time": "2022-07-10T19:55:35.457Z"
   },
   {
    "duration": 497,
    "start_time": "2022-07-10T19:55:35.467Z"
   },
   {
    "duration": 4,
    "start_time": "2022-07-10T19:55:35.966Z"
   },
   {
    "duration": 11,
    "start_time": "2022-07-10T19:55:35.972Z"
   },
   {
    "duration": 14,
    "start_time": "2022-07-10T19:55:35.986Z"
   },
   {
    "duration": 621,
    "start_time": "2022-07-10T19:55:36.005Z"
   },
   {
    "duration": 7,
    "start_time": "2022-07-10T19:55:36.636Z"
   },
   {
    "duration": 8,
    "start_time": "2022-07-10T19:55:36.645Z"
   },
   {
    "duration": 14,
    "start_time": "2022-07-10T19:55:36.655Z"
   },
   {
    "duration": 145,
    "start_time": "2022-07-10T19:55:36.707Z"
   },
   {
    "duration": 190,
    "start_time": "2022-07-10T19:55:36.856Z"
   },
   {
    "duration": 10,
    "start_time": "2022-07-10T19:55:37.048Z"
   },
   {
    "duration": 9,
    "start_time": "2022-07-10T19:55:37.061Z"
   },
   {
    "duration": 11,
    "start_time": "2022-07-10T19:55:37.072Z"
   },
   {
    "duration": 60,
    "start_time": "2022-07-10T19:55:37.086Z"
   },
   {
    "duration": 90,
    "start_time": "2022-07-10T19:55:37.148Z"
   },
   {
    "duration": 76,
    "start_time": "2022-07-10T19:55:37.239Z"
   },
   {
    "duration": 103,
    "start_time": "2022-07-10T19:55:37.320Z"
   },
   {
    "duration": 24,
    "start_time": "2022-07-10T19:55:37.431Z"
   },
   {
    "duration": 61,
    "start_time": "2022-07-10T19:55:37.457Z"
   },
   {
    "duration": 28,
    "start_time": "2022-07-10T19:55:37.520Z"
   },
   {
    "duration": 8,
    "start_time": "2022-07-10T19:55:37.598Z"
   },
   {
    "duration": 23,
    "start_time": "2022-07-10T19:55:37.621Z"
   },
   {
    "duration": 9,
    "start_time": "2022-07-10T19:55:37.646Z"
   },
   {
    "duration": 47,
    "start_time": "2022-07-10T19:55:37.658Z"
   },
   {
    "duration": 21,
    "start_time": "2022-07-10T19:55:37.707Z"
   },
   {
    "duration": 280,
    "start_time": "2022-07-10T19:55:37.731Z"
   },
   {
    "duration": 2880,
    "start_time": "2022-07-10T19:58:26.774Z"
   },
   {
    "duration": 1284,
    "start_time": "2022-07-10T19:58:29.657Z"
   },
   {
    "duration": 29,
    "start_time": "2022-07-10T19:58:30.943Z"
   },
   {
    "duration": 4,
    "start_time": "2022-07-10T19:58:30.975Z"
   },
   {
    "duration": 29,
    "start_time": "2022-07-10T19:58:30.981Z"
   },
   {
    "duration": 28,
    "start_time": "2022-07-10T19:58:31.011Z"
   },
   {
    "duration": 7,
    "start_time": "2022-07-10T19:58:31.041Z"
   },
   {
    "duration": 24,
    "start_time": "2022-07-10T19:58:31.050Z"
   },
   {
    "duration": 19,
    "start_time": "2022-07-10T19:58:31.075Z"
   },
   {
    "duration": 42,
    "start_time": "2022-07-10T19:58:31.097Z"
   },
   {
    "duration": 6,
    "start_time": "2022-07-10T19:58:31.140Z"
   },
   {
    "duration": 4495,
    "start_time": "2022-07-10T19:58:31.147Z"
   },
   {
    "duration": 6,
    "start_time": "2022-07-10T19:58:35.645Z"
   },
   {
    "duration": 330,
    "start_time": "2022-07-10T19:58:35.653Z"
   },
   {
    "duration": 24,
    "start_time": "2022-07-10T19:58:35.985Z"
   },
   {
    "duration": 12,
    "start_time": "2022-07-10T19:58:36.014Z"
   },
   {
    "duration": 21,
    "start_time": "2022-07-10T19:58:36.028Z"
   },
   {
    "duration": 335,
    "start_time": "2022-07-10T19:58:36.052Z"
   },
   {
    "duration": 194,
    "start_time": "2022-07-10T19:58:36.389Z"
   },
   {
    "duration": 16,
    "start_time": "2022-07-10T19:58:36.585Z"
   },
   {
    "duration": 19,
    "start_time": "2022-07-10T19:58:36.604Z"
   },
   {
    "duration": 392,
    "start_time": "2022-07-10T19:58:36.626Z"
   },
   {
    "duration": 229,
    "start_time": "2022-07-10T19:58:37.020Z"
   },
   {
    "duration": 5,
    "start_time": "2022-07-10T19:58:37.251Z"
   },
   {
    "duration": 9,
    "start_time": "2022-07-10T19:58:37.258Z"
   },
   {
    "duration": 5,
    "start_time": "2022-07-10T19:58:37.269Z"
   },
   {
    "duration": 5,
    "start_time": "2022-07-10T19:58:37.276Z"
   },
   {
    "duration": 36,
    "start_time": "2022-07-10T19:58:37.302Z"
   },
   {
    "duration": 9,
    "start_time": "2022-07-10T19:58:37.340Z"
   },
   {
    "duration": 6,
    "start_time": "2022-07-10T19:58:37.350Z"
   },
   {
    "duration": 5,
    "start_time": "2022-07-10T19:58:37.358Z"
   },
   {
    "duration": 523,
    "start_time": "2022-07-10T19:58:37.364Z"
   },
   {
    "duration": 10,
    "start_time": "2022-07-10T19:58:37.889Z"
   },
   {
    "duration": 31,
    "start_time": "2022-07-10T19:58:37.901Z"
   },
   {
    "duration": 6,
    "start_time": "2022-07-10T19:58:37.934Z"
   },
   {
    "duration": 622,
    "start_time": "2022-07-10T19:58:37.942Z"
   },
   {
    "duration": 5,
    "start_time": "2022-07-10T19:58:38.566Z"
   },
   {
    "duration": 15,
    "start_time": "2022-07-10T19:58:38.572Z"
   },
   {
    "duration": 26,
    "start_time": "2022-07-10T19:58:38.589Z"
   },
   {
    "duration": 95,
    "start_time": "2022-07-10T19:58:38.617Z"
   },
   {
    "duration": 88,
    "start_time": "2022-07-10T19:58:38.713Z"
   },
   {
    "duration": 136,
    "start_time": "2022-07-10T19:58:38.808Z"
   },
   {
    "duration": 17,
    "start_time": "2022-07-10T19:58:38.946Z"
   },
   {
    "duration": 40,
    "start_time": "2022-07-10T19:58:38.965Z"
   },
   {
    "duration": 95,
    "start_time": "2022-07-10T19:58:39.007Z"
   },
   {
    "duration": 97,
    "start_time": "2022-07-10T19:58:39.104Z"
   },
   {
    "duration": 95,
    "start_time": "2022-07-10T19:58:39.205Z"
   },
   {
    "duration": 96,
    "start_time": "2022-07-10T19:58:39.302Z"
   },
   {
    "duration": 21,
    "start_time": "2022-07-10T19:58:39.400Z"
   },
   {
    "duration": 23,
    "start_time": "2022-07-10T19:58:39.423Z"
   },
   {
    "duration": 52,
    "start_time": "2022-07-10T19:58:39.448Z"
   },
   {
    "duration": 96,
    "start_time": "2022-07-10T19:58:39.502Z"
   },
   {
    "duration": 9,
    "start_time": "2022-07-10T19:58:39.614Z"
   },
   {
    "duration": 36,
    "start_time": "2022-07-10T19:58:39.625Z"
   },
   {
    "duration": 47,
    "start_time": "2022-07-10T19:58:39.664Z"
   },
   {
    "duration": 95,
    "start_time": "2022-07-10T19:58:39.713Z"
   },
   {
    "duration": 9532,
    "start_time": "2022-07-11T16:01:07.620Z"
   },
   {
    "duration": 1358,
    "start_time": "2022-07-11T16:01:17.155Z"
   },
   {
    "duration": 39,
    "start_time": "2022-07-11T16:01:18.515Z"
   },
   {
    "duration": 4,
    "start_time": "2022-07-11T16:01:18.556Z"
   },
   {
    "duration": 26,
    "start_time": "2022-07-11T16:01:18.561Z"
   },
   {
    "duration": 12,
    "start_time": "2022-07-11T16:01:18.588Z"
   },
   {
    "duration": 118,
    "start_time": "2022-07-11T16:01:18.602Z"
   },
   {
    "duration": 0,
    "start_time": "2022-07-11T16:01:18.724Z"
   },
   {
    "duration": 0,
    "start_time": "2022-07-11T16:01:18.725Z"
   },
   {
    "duration": 0,
    "start_time": "2022-07-11T16:01:18.727Z"
   },
   {
    "duration": 0,
    "start_time": "2022-07-11T16:01:18.729Z"
   },
   {
    "duration": 0,
    "start_time": "2022-07-11T16:01:18.730Z"
   },
   {
    "duration": 0,
    "start_time": "2022-07-11T16:01:18.732Z"
   },
   {
    "duration": 0,
    "start_time": "2022-07-11T16:01:18.734Z"
   },
   {
    "duration": 0,
    "start_time": "2022-07-11T16:01:18.735Z"
   },
   {
    "duration": 0,
    "start_time": "2022-07-11T16:01:18.737Z"
   },
   {
    "duration": 0,
    "start_time": "2022-07-11T16:01:18.738Z"
   },
   {
    "duration": 0,
    "start_time": "2022-07-11T16:01:18.740Z"
   },
   {
    "duration": 0,
    "start_time": "2022-07-11T16:01:18.742Z"
   },
   {
    "duration": 0,
    "start_time": "2022-07-11T16:01:18.743Z"
   },
   {
    "duration": 0,
    "start_time": "2022-07-11T16:01:18.744Z"
   },
   {
    "duration": 0,
    "start_time": "2022-07-11T16:01:18.746Z"
   },
   {
    "duration": 0,
    "start_time": "2022-07-11T16:01:18.747Z"
   },
   {
    "duration": 0,
    "start_time": "2022-07-11T16:01:18.749Z"
   },
   {
    "duration": 0,
    "start_time": "2022-07-11T16:01:18.750Z"
   },
   {
    "duration": 0,
    "start_time": "2022-07-11T16:01:18.752Z"
   },
   {
    "duration": 0,
    "start_time": "2022-07-11T16:01:18.754Z"
   },
   {
    "duration": 1,
    "start_time": "2022-07-11T16:01:18.755Z"
   },
   {
    "duration": 0,
    "start_time": "2022-07-11T16:01:18.757Z"
   },
   {
    "duration": 0,
    "start_time": "2022-07-11T16:01:18.758Z"
   },
   {
    "duration": 0,
    "start_time": "2022-07-11T16:01:18.758Z"
   },
   {
    "duration": 0,
    "start_time": "2022-07-11T16:01:18.759Z"
   },
   {
    "duration": 0,
    "start_time": "2022-07-11T16:01:18.760Z"
   },
   {
    "duration": 0,
    "start_time": "2022-07-11T16:01:18.823Z"
   },
   {
    "duration": 0,
    "start_time": "2022-07-11T16:01:18.824Z"
   },
   {
    "duration": 0,
    "start_time": "2022-07-11T16:01:18.826Z"
   },
   {
    "duration": 0,
    "start_time": "2022-07-11T16:01:18.827Z"
   },
   {
    "duration": 0,
    "start_time": "2022-07-11T16:01:18.828Z"
   },
   {
    "duration": 0,
    "start_time": "2022-07-11T16:01:18.829Z"
   },
   {
    "duration": 0,
    "start_time": "2022-07-11T16:01:18.831Z"
   },
   {
    "duration": 0,
    "start_time": "2022-07-11T16:01:18.831Z"
   },
   {
    "duration": 0,
    "start_time": "2022-07-11T16:01:18.833Z"
   },
   {
    "duration": 0,
    "start_time": "2022-07-11T16:01:18.834Z"
   },
   {
    "duration": 0,
    "start_time": "2022-07-11T16:01:18.835Z"
   },
   {
    "duration": 0,
    "start_time": "2022-07-11T16:01:18.836Z"
   },
   {
    "duration": 0,
    "start_time": "2022-07-11T16:01:18.837Z"
   },
   {
    "duration": 0,
    "start_time": "2022-07-11T16:01:18.839Z"
   },
   {
    "duration": 0,
    "start_time": "2022-07-11T16:01:18.840Z"
   },
   {
    "duration": 0,
    "start_time": "2022-07-11T16:01:18.841Z"
   },
   {
    "duration": 0,
    "start_time": "2022-07-11T16:01:18.843Z"
   },
   {
    "duration": 0,
    "start_time": "2022-07-11T16:01:18.844Z"
   },
   {
    "duration": 0,
    "start_time": "2022-07-11T16:01:18.846Z"
   },
   {
    "duration": 0,
    "start_time": "2022-07-11T16:01:18.847Z"
   },
   {
    "duration": 0,
    "start_time": "2022-07-11T16:01:18.848Z"
   },
   {
    "duration": 0,
    "start_time": "2022-07-11T16:01:18.849Z"
   },
   {
    "duration": 0,
    "start_time": "2022-07-11T16:01:18.850Z"
   },
   {
    "duration": 2588,
    "start_time": "2022-07-11T16:02:54.977Z"
   },
   {
    "duration": 1142,
    "start_time": "2022-07-11T16:02:57.568Z"
   },
   {
    "duration": 18,
    "start_time": "2022-07-11T16:02:58.711Z"
   },
   {
    "duration": 3,
    "start_time": "2022-07-11T16:02:58.731Z"
   },
   {
    "duration": 26,
    "start_time": "2022-07-11T16:02:58.736Z"
   },
   {
    "duration": 14,
    "start_time": "2022-07-11T16:02:58.763Z"
   },
   {
    "duration": 14,
    "start_time": "2022-07-11T16:02:58.779Z"
   },
   {
    "duration": 21,
    "start_time": "2022-07-11T16:02:58.794Z"
   },
   {
    "duration": 2,
    "start_time": "2022-07-11T16:02:58.817Z"
   },
   {
    "duration": 25,
    "start_time": "2022-07-11T16:02:58.822Z"
   },
   {
    "duration": 5,
    "start_time": "2022-07-11T16:02:58.849Z"
   },
   {
    "duration": 3779,
    "start_time": "2022-07-11T16:02:58.855Z"
   },
   {
    "duration": 5,
    "start_time": "2022-07-11T16:03:02.636Z"
   },
   {
    "duration": 291,
    "start_time": "2022-07-11T16:03:02.643Z"
   },
   {
    "duration": 11,
    "start_time": "2022-07-11T16:03:02.936Z"
   },
   {
    "duration": 12,
    "start_time": "2022-07-11T16:03:02.948Z"
   },
   {
    "duration": 13,
    "start_time": "2022-07-11T16:03:02.962Z"
   },
   {
    "duration": 300,
    "start_time": "2022-07-11T16:03:02.977Z"
   },
   {
    "duration": 159,
    "start_time": "2022-07-11T16:03:03.280Z"
   },
   {
    "duration": 12,
    "start_time": "2022-07-11T16:03:03.441Z"
   },
   {
    "duration": 11,
    "start_time": "2022-07-11T16:03:03.455Z"
   },
   {
    "duration": 300,
    "start_time": "2022-07-11T16:03:03.468Z"
   },
   {
    "duration": 166,
    "start_time": "2022-07-11T16:03:03.769Z"
   },
   {
    "duration": 4,
    "start_time": "2022-07-11T16:03:03.936Z"
   },
   {
    "duration": 15,
    "start_time": "2022-07-11T16:03:03.942Z"
   },
   {
    "duration": 7,
    "start_time": "2022-07-11T16:03:03.959Z"
   },
   {
    "duration": 18,
    "start_time": "2022-07-11T16:03:03.968Z"
   },
   {
    "duration": 28,
    "start_time": "2022-07-11T16:03:03.990Z"
   },
   {
    "duration": 8,
    "start_time": "2022-07-11T16:03:04.022Z"
   },
   {
    "duration": 8,
    "start_time": "2022-07-11T16:03:04.032Z"
   },
   {
    "duration": 12,
    "start_time": "2022-07-11T16:03:04.041Z"
   },
   {
    "duration": 456,
    "start_time": "2022-07-11T16:03:04.055Z"
   },
   {
    "duration": 5,
    "start_time": "2022-07-11T16:03:04.522Z"
   },
   {
    "duration": 18,
    "start_time": "2022-07-11T16:03:04.530Z"
   },
   {
    "duration": 9,
    "start_time": "2022-07-11T16:03:04.550Z"
   },
   {
    "duration": 527,
    "start_time": "2022-07-11T16:03:04.562Z"
   },
   {
    "duration": 5,
    "start_time": "2022-07-11T16:03:05.091Z"
   },
   {
    "duration": 7,
    "start_time": "2022-07-11T16:03:05.097Z"
   },
   {
    "duration": 25,
    "start_time": "2022-07-11T16:03:05.106Z"
   },
   {
    "duration": 95,
    "start_time": "2022-07-11T16:03:05.133Z"
   },
   {
    "duration": 8,
    "start_time": "2022-07-11T16:03:05.231Z"
   },
   {
    "duration": 5,
    "start_time": "2022-07-11T16:03:05.324Z"
   },
   {
    "duration": 99,
    "start_time": "2022-07-11T16:03:05.331Z"
   },
   {
    "duration": 8,
    "start_time": "2022-07-11T16:03:05.433Z"
   },
   {
    "duration": 16,
    "start_time": "2022-07-11T16:03:05.443Z"
   },
   {
    "duration": 17,
    "start_time": "2022-07-11T16:03:05.524Z"
   },
   {
    "duration": 94,
    "start_time": "2022-07-11T16:03:05.543Z"
   },
   {
    "duration": 90,
    "start_time": "2022-07-11T16:03:05.639Z"
   },
   {
    "duration": 96,
    "start_time": "2022-07-11T16:03:05.732Z"
   },
   {
    "duration": 32,
    "start_time": "2022-07-11T16:03:05.830Z"
   },
   {
    "duration": 12,
    "start_time": "2022-07-11T16:03:05.922Z"
   },
   {
    "duration": 87,
    "start_time": "2022-07-11T16:03:05.936Z"
   },
   {
    "duration": 4,
    "start_time": "2022-07-11T16:03:06.024Z"
   },
   {
    "duration": 16,
    "start_time": "2022-07-11T16:03:06.030Z"
   },
   {
    "duration": 77,
    "start_time": "2022-07-11T16:03:06.048Z"
   },
   {
    "duration": 13,
    "start_time": "2022-07-11T16:03:06.127Z"
   },
   {
    "duration": 2570,
    "start_time": "2022-07-11T16:08:36.047Z"
   },
   {
    "duration": 1281,
    "start_time": "2022-07-11T16:08:38.620Z"
   },
   {
    "duration": 17,
    "start_time": "2022-07-11T16:08:39.903Z"
   },
   {
    "duration": 4,
    "start_time": "2022-07-11T16:08:39.922Z"
   },
   {
    "duration": 47,
    "start_time": "2022-07-11T16:08:39.928Z"
   },
   {
    "duration": 16,
    "start_time": "2022-07-11T16:08:39.977Z"
   },
   {
    "duration": 30,
    "start_time": "2022-07-11T16:08:39.995Z"
   },
   {
    "duration": 32,
    "start_time": "2022-07-11T16:08:40.027Z"
   },
   {
    "duration": 16,
    "start_time": "2022-07-11T16:08:40.061Z"
   },
   {
    "duration": 36,
    "start_time": "2022-07-11T16:08:40.078Z"
   },
   {
    "duration": 7,
    "start_time": "2022-07-11T16:08:40.116Z"
   },
   {
    "duration": 14,
    "start_time": "2022-07-11T16:08:40.125Z"
   },
   {
    "duration": 23,
    "start_time": "2022-07-11T16:08:40.141Z"
   },
   {
    "duration": 3823,
    "start_time": "2022-07-11T16:08:40.167Z"
   },
   {
    "duration": 5,
    "start_time": "2022-07-11T16:08:43.992Z"
   },
   {
    "duration": 28,
    "start_time": "2022-07-11T16:08:43.999Z"
   },
   {
    "duration": 282,
    "start_time": "2022-07-11T16:08:44.029Z"
   },
   {
    "duration": 9,
    "start_time": "2022-07-11T16:08:44.322Z"
   },
   {
    "duration": 10,
    "start_time": "2022-07-11T16:08:44.333Z"
   },
   {
    "duration": 11,
    "start_time": "2022-07-11T16:08:44.345Z"
   },
   {
    "duration": 349,
    "start_time": "2022-07-11T16:08:44.357Z"
   },
   {
    "duration": 153,
    "start_time": "2022-07-11T16:08:44.708Z"
   },
   {
    "duration": 9,
    "start_time": "2022-07-11T16:08:44.863Z"
   },
   {
    "duration": 9,
    "start_time": "2022-07-11T16:08:44.874Z"
   },
   {
    "duration": 307,
    "start_time": "2022-07-11T16:08:44.884Z"
   },
   {
    "duration": 157,
    "start_time": "2022-07-11T16:08:45.193Z"
   },
   {
    "duration": 5,
    "start_time": "2022-07-11T16:08:45.351Z"
   },
   {
    "duration": 10,
    "start_time": "2022-07-11T16:08:45.357Z"
   },
   {
    "duration": 7,
    "start_time": "2022-07-11T16:08:45.368Z"
   },
   {
    "duration": 7,
    "start_time": "2022-07-11T16:08:45.377Z"
   },
   {
    "duration": 37,
    "start_time": "2022-07-11T16:08:45.385Z"
   },
   {
    "duration": 8,
    "start_time": "2022-07-11T16:08:45.424Z"
   },
   {
    "duration": 6,
    "start_time": "2022-07-11T16:08:45.433Z"
   },
   {
    "duration": 4,
    "start_time": "2022-07-11T16:08:45.441Z"
   },
   {
    "duration": 418,
    "start_time": "2022-07-11T16:08:45.446Z"
   },
   {
    "duration": 4,
    "start_time": "2022-07-11T16:08:45.866Z"
   },
   {
    "duration": 12,
    "start_time": "2022-07-11T16:08:45.872Z"
   },
   {
    "duration": 10,
    "start_time": "2022-07-11T16:08:45.885Z"
   },
   {
    "duration": 467,
    "start_time": "2022-07-11T16:08:45.897Z"
   },
   {
    "duration": 5,
    "start_time": "2022-07-11T16:08:46.366Z"
   },
   {
    "duration": 5,
    "start_time": "2022-07-11T16:08:46.375Z"
   },
   {
    "duration": 41,
    "start_time": "2022-07-11T16:08:46.382Z"
   },
   {
    "duration": 11,
    "start_time": "2022-07-11T16:08:46.424Z"
   },
   {
    "duration": 101,
    "start_time": "2022-07-11T16:08:46.437Z"
   },
   {
    "duration": 92,
    "start_time": "2022-07-11T16:08:46.540Z"
   },
   {
    "duration": 7,
    "start_time": "2022-07-11T16:08:46.634Z"
   },
   {
    "duration": 8,
    "start_time": "2022-07-11T16:08:46.642Z"
   },
   {
    "duration": 11,
    "start_time": "2022-07-11T16:08:46.651Z"
   },
   {
    "duration": 4,
    "start_time": "2022-07-11T16:08:46.722Z"
   },
   {
    "duration": 96,
    "start_time": "2022-07-11T16:08:46.728Z"
   },
   {
    "duration": 17,
    "start_time": "2022-07-11T16:08:46.826Z"
   },
   {
    "duration": 9,
    "start_time": "2022-07-11T16:08:46.923Z"
   },
   {
    "duration": 18,
    "start_time": "2022-07-11T16:08:46.934Z"
   },
   {
    "duration": 10,
    "start_time": "2022-07-11T16:08:46.954Z"
   },
   {
    "duration": 4,
    "start_time": "2022-07-11T16:08:47.023Z"
   },
   {
    "duration": 13,
    "start_time": "2022-07-11T16:08:47.029Z"
   },
   {
    "duration": 84,
    "start_time": "2022-07-11T16:08:47.044Z"
   },
   {
    "duration": 93,
    "start_time": "2022-07-11T16:08:47.130Z"
   },
   {
    "duration": 99,
    "start_time": "2022-07-11T16:08:47.226Z"
   },
   {
    "duration": 2673,
    "start_time": "2022-07-11T16:10:01.775Z"
   },
   {
    "duration": 1219,
    "start_time": "2022-07-11T16:10:04.451Z"
   },
   {
    "duration": 17,
    "start_time": "2022-07-11T16:10:05.671Z"
   },
   {
    "duration": 3,
    "start_time": "2022-07-11T16:10:05.690Z"
   },
   {
    "duration": 21,
    "start_time": "2022-07-11T16:10:05.694Z"
   },
   {
    "duration": 12,
    "start_time": "2022-07-11T16:10:05.717Z"
   },
   {
    "duration": 16,
    "start_time": "2022-07-11T16:10:05.731Z"
   },
   {
    "duration": 13,
    "start_time": "2022-07-11T16:10:05.748Z"
   },
   {
    "duration": 12,
    "start_time": "2022-07-11T16:10:05.763Z"
   },
   {
    "duration": 32,
    "start_time": "2022-07-11T16:10:05.777Z"
   },
   {
    "duration": 14,
    "start_time": "2022-07-11T16:10:05.811Z"
   },
   {
    "duration": 13,
    "start_time": "2022-07-11T16:10:05.826Z"
   },
   {
    "duration": 23,
    "start_time": "2022-07-11T16:10:05.841Z"
   },
   {
    "duration": 17,
    "start_time": "2022-07-11T16:10:05.865Z"
   },
   {
    "duration": 3730,
    "start_time": "2022-07-11T16:10:05.884Z"
   },
   {
    "duration": 6,
    "start_time": "2022-07-11T16:10:09.615Z"
   },
   {
    "duration": 42,
    "start_time": "2022-07-11T16:10:09.622Z"
   },
   {
    "duration": 272,
    "start_time": "2022-07-11T16:10:09.666Z"
   },
   {
    "duration": 10,
    "start_time": "2022-07-11T16:10:09.940Z"
   },
   {
    "duration": 9,
    "start_time": "2022-07-11T16:10:09.951Z"
   },
   {
    "duration": 8,
    "start_time": "2022-07-11T16:10:09.962Z"
   },
   {
    "duration": 294,
    "start_time": "2022-07-11T16:10:09.972Z"
   },
   {
    "duration": 166,
    "start_time": "2022-07-11T16:10:10.268Z"
   },
   {
    "duration": 11,
    "start_time": "2022-07-11T16:10:10.436Z"
   },
   {
    "duration": 16,
    "start_time": "2022-07-11T16:10:10.449Z"
   },
   {
    "duration": 319,
    "start_time": "2022-07-11T16:10:10.467Z"
   },
   {
    "duration": 168,
    "start_time": "2022-07-11T16:10:10.788Z"
   },
   {
    "duration": 4,
    "start_time": "2022-07-11T16:10:10.960Z"
   },
   {
    "duration": 16,
    "start_time": "2022-07-11T16:10:10.965Z"
   },
   {
    "duration": 5,
    "start_time": "2022-07-11T16:10:10.983Z"
   },
   {
    "duration": 5,
    "start_time": "2022-07-11T16:10:10.990Z"
   },
   {
    "duration": 31,
    "start_time": "2022-07-11T16:10:10.997Z"
   },
   {
    "duration": 9,
    "start_time": "2022-07-11T16:10:11.029Z"
   },
   {
    "duration": 9,
    "start_time": "2022-07-11T16:10:11.040Z"
   },
   {
    "duration": 9,
    "start_time": "2022-07-11T16:10:11.050Z"
   },
   {
    "duration": 427,
    "start_time": "2022-07-11T16:10:11.061Z"
   },
   {
    "duration": 4,
    "start_time": "2022-07-11T16:10:11.490Z"
   },
   {
    "duration": 26,
    "start_time": "2022-07-11T16:10:11.496Z"
   },
   {
    "duration": 5,
    "start_time": "2022-07-11T16:10:11.524Z"
   },
   {
    "duration": 479,
    "start_time": "2022-07-11T16:10:11.530Z"
   },
   {
    "duration": 12,
    "start_time": "2022-07-11T16:10:12.011Z"
   },
   {
    "duration": 10,
    "start_time": "2022-07-11T16:10:12.025Z"
   },
   {
    "duration": 27,
    "start_time": "2022-07-11T16:10:12.037Z"
   },
   {
    "duration": 157,
    "start_time": "2022-07-11T16:10:12.067Z"
   },
   {
    "duration": 7,
    "start_time": "2022-07-11T16:10:12.227Z"
   },
   {
    "duration": 100,
    "start_time": "2022-07-11T16:10:12.237Z"
   },
   {
    "duration": 13,
    "start_time": "2022-07-11T16:10:12.339Z"
   },
   {
    "duration": 13,
    "start_time": "2022-07-11T16:10:12.354Z"
   },
   {
    "duration": 59,
    "start_time": "2022-07-11T16:10:12.369Z"
   },
   {
    "duration": 7,
    "start_time": "2022-07-11T16:10:12.430Z"
   },
   {
    "duration": 99,
    "start_time": "2022-07-11T16:10:12.439Z"
   },
   {
    "duration": 91,
    "start_time": "2022-07-11T16:10:12.540Z"
   },
   {
    "duration": 98,
    "start_time": "2022-07-11T16:10:12.633Z"
   },
   {
    "duration": 27,
    "start_time": "2022-07-11T16:10:12.733Z"
   },
   {
    "duration": 70,
    "start_time": "2022-07-11T16:10:12.762Z"
   },
   {
    "duration": 88,
    "start_time": "2022-07-11T16:10:12.834Z"
   },
   {
    "duration": 4,
    "start_time": "2022-07-11T16:10:12.925Z"
   },
   {
    "duration": 20,
    "start_time": "2022-07-11T16:10:12.931Z"
   },
   {
    "duration": 77,
    "start_time": "2022-07-11T16:10:12.953Z"
   },
   {
    "duration": 95,
    "start_time": "2022-07-11T16:10:13.033Z"
   },
   {
    "duration": 2548,
    "start_time": "2022-07-11T16:11:17.793Z"
   },
   {
    "duration": 1169,
    "start_time": "2022-07-11T16:11:20.344Z"
   },
   {
    "duration": 18,
    "start_time": "2022-07-11T16:11:21.515Z"
   },
   {
    "duration": 5,
    "start_time": "2022-07-11T16:11:21.536Z"
   },
   {
    "duration": 29,
    "start_time": "2022-07-11T16:11:21.543Z"
   },
   {
    "duration": 12,
    "start_time": "2022-07-11T16:11:21.573Z"
   },
   {
    "duration": 8,
    "start_time": "2022-07-11T16:11:21.586Z"
   },
   {
    "duration": 15,
    "start_time": "2022-07-11T16:11:21.596Z"
   },
   {
    "duration": 10,
    "start_time": "2022-07-11T16:11:21.613Z"
   },
   {
    "duration": 25,
    "start_time": "2022-07-11T16:11:21.626Z"
   },
   {
    "duration": 6,
    "start_time": "2022-07-11T16:11:21.652Z"
   },
   {
    "duration": 7,
    "start_time": "2022-07-11T16:11:21.660Z"
   },
   {
    "duration": 6,
    "start_time": "2022-07-11T16:11:21.668Z"
   },
   {
    "duration": 6,
    "start_time": "2022-07-11T16:11:21.676Z"
   },
   {
    "duration": 8,
    "start_time": "2022-07-11T16:11:21.683Z"
   },
   {
    "duration": 30,
    "start_time": "2022-07-11T16:11:21.693Z"
   },
   {
    "duration": 3834,
    "start_time": "2022-07-11T16:11:21.724Z"
   },
   {
    "duration": 5,
    "start_time": "2022-07-11T16:11:25.559Z"
   },
   {
    "duration": 8,
    "start_time": "2022-07-11T16:11:25.566Z"
   },
   {
    "duration": 271,
    "start_time": "2022-07-11T16:11:25.575Z"
   },
   {
    "duration": 9,
    "start_time": "2022-07-11T16:11:25.848Z"
   },
   {
    "duration": 19,
    "start_time": "2022-07-11T16:11:25.859Z"
   },
   {
    "duration": 9,
    "start_time": "2022-07-11T16:11:25.880Z"
   },
   {
    "duration": 291,
    "start_time": "2022-07-11T16:11:25.891Z"
   },
   {
    "duration": 149,
    "start_time": "2022-07-11T16:11:26.183Z"
   },
   {
    "duration": 10,
    "start_time": "2022-07-11T16:11:26.334Z"
   },
   {
    "duration": 12,
    "start_time": "2022-07-11T16:11:26.346Z"
   },
   {
    "duration": 276,
    "start_time": "2022-07-11T16:11:26.362Z"
   },
   {
    "duration": 161,
    "start_time": "2022-07-11T16:11:26.640Z"
   },
   {
    "duration": 4,
    "start_time": "2022-07-11T16:11:26.802Z"
   },
   {
    "duration": 16,
    "start_time": "2022-07-11T16:11:26.807Z"
   },
   {
    "duration": 5,
    "start_time": "2022-07-11T16:11:26.825Z"
   },
   {
    "duration": 6,
    "start_time": "2022-07-11T16:11:26.832Z"
   },
   {
    "duration": 30,
    "start_time": "2022-07-11T16:11:26.839Z"
   },
   {
    "duration": 8,
    "start_time": "2022-07-11T16:11:26.871Z"
   },
   {
    "duration": 5,
    "start_time": "2022-07-11T16:11:26.880Z"
   },
   {
    "duration": 5,
    "start_time": "2022-07-11T16:11:26.886Z"
   },
   {
    "duration": 420,
    "start_time": "2022-07-11T16:11:26.892Z"
   },
   {
    "duration": 10,
    "start_time": "2022-07-11T16:11:27.314Z"
   },
   {
    "duration": 16,
    "start_time": "2022-07-11T16:11:27.326Z"
   },
   {
    "duration": 8,
    "start_time": "2022-07-11T16:11:27.344Z"
   },
   {
    "duration": 442,
    "start_time": "2022-07-11T16:11:27.354Z"
   },
   {
    "duration": 5,
    "start_time": "2022-07-11T16:11:27.798Z"
   },
   {
    "duration": 6,
    "start_time": "2022-07-11T16:11:27.804Z"
   },
   {
    "duration": 10,
    "start_time": "2022-07-11T16:11:27.822Z"
   },
   {
    "duration": 12,
    "start_time": "2022-07-11T16:11:27.834Z"
   },
   {
    "duration": 99,
    "start_time": "2022-07-11T16:11:27.924Z"
   },
   {
    "duration": 11,
    "start_time": "2022-07-11T16:11:28.025Z"
   },
   {
    "duration": 9,
    "start_time": "2022-07-11T16:11:28.038Z"
   },
   {
    "duration": 16,
    "start_time": "2022-07-11T16:11:28.048Z"
   },
   {
    "duration": 60,
    "start_time": "2022-07-11T16:11:28.066Z"
   },
   {
    "duration": 15,
    "start_time": "2022-07-11T16:11:28.128Z"
   },
   {
    "duration": 13,
    "start_time": "2022-07-11T16:11:28.223Z"
   },
   {
    "duration": 92,
    "start_time": "2022-07-11T16:11:28.238Z"
   },
   {
    "duration": 99,
    "start_time": "2022-07-11T16:11:28.332Z"
   },
   {
    "duration": 15,
    "start_time": "2022-07-11T16:11:28.433Z"
   },
   {
    "duration": 74,
    "start_time": "2022-07-11T16:11:28.450Z"
   },
   {
    "duration": 10,
    "start_time": "2022-07-11T16:11:28.528Z"
   },
   {
    "duration": 87,
    "start_time": "2022-07-11T16:11:28.541Z"
   },
   {
    "duration": 14,
    "start_time": "2022-07-11T16:11:28.630Z"
   },
   {
    "duration": 80,
    "start_time": "2022-07-11T16:11:28.646Z"
   },
   {
    "duration": 95,
    "start_time": "2022-07-11T16:11:28.728Z"
   },
   {
    "duration": 2595,
    "start_time": "2022-07-11T16:12:34.732Z"
   },
   {
    "duration": 1270,
    "start_time": "2022-07-11T16:12:37.329Z"
   },
   {
    "duration": 17,
    "start_time": "2022-07-11T16:12:38.600Z"
   },
   {
    "duration": 3,
    "start_time": "2022-07-11T16:12:38.619Z"
   },
   {
    "duration": 21,
    "start_time": "2022-07-11T16:12:38.624Z"
   },
   {
    "duration": 10,
    "start_time": "2022-07-11T16:12:38.647Z"
   },
   {
    "duration": 12,
    "start_time": "2022-07-11T16:12:38.658Z"
   },
   {
    "duration": 27,
    "start_time": "2022-07-11T16:12:38.672Z"
   },
   {
    "duration": 9,
    "start_time": "2022-07-11T16:12:38.701Z"
   },
   {
    "duration": 28,
    "start_time": "2022-07-11T16:12:38.713Z"
   },
   {
    "duration": 7,
    "start_time": "2022-07-11T16:12:38.743Z"
   },
   {
    "duration": 14,
    "start_time": "2022-07-11T16:12:38.751Z"
   },
   {
    "duration": 15,
    "start_time": "2022-07-11T16:12:38.767Z"
   },
   {
    "duration": 15,
    "start_time": "2022-07-11T16:12:38.783Z"
   },
   {
    "duration": 5,
    "start_time": "2022-07-11T16:12:38.800Z"
   },
   {
    "duration": 19,
    "start_time": "2022-07-11T16:12:38.807Z"
   },
   {
    "duration": 3714,
    "start_time": "2022-07-11T16:12:38.828Z"
   },
   {
    "duration": 10,
    "start_time": "2022-07-11T16:12:42.544Z"
   },
   {
    "duration": 7,
    "start_time": "2022-07-11T16:12:42.556Z"
   },
   {
    "duration": 275,
    "start_time": "2022-07-11T16:12:42.565Z"
   },
   {
    "duration": 16,
    "start_time": "2022-07-11T16:12:42.842Z"
   },
   {
    "duration": 17,
    "start_time": "2022-07-11T16:12:42.860Z"
   },
   {
    "duration": 6,
    "start_time": "2022-07-11T16:12:42.879Z"
   },
   {
    "duration": 292,
    "start_time": "2022-07-11T16:12:42.887Z"
   },
   {
    "duration": 166,
    "start_time": "2022-07-11T16:12:43.181Z"
   },
   {
    "duration": 11,
    "start_time": "2022-07-11T16:12:43.348Z"
   },
   {
    "duration": 10,
    "start_time": "2022-07-11T16:12:43.361Z"
   },
   {
    "duration": 276,
    "start_time": "2022-07-11T16:12:43.375Z"
   },
   {
    "duration": 160,
    "start_time": "2022-07-11T16:12:43.653Z"
   },
   {
    "duration": 3,
    "start_time": "2022-07-11T16:12:43.815Z"
   },
   {
    "duration": 6,
    "start_time": "2022-07-11T16:12:43.822Z"
   },
   {
    "duration": 5,
    "start_time": "2022-07-11T16:12:43.829Z"
   },
   {
    "duration": 5,
    "start_time": "2022-07-11T16:12:43.836Z"
   },
   {
    "duration": 24,
    "start_time": "2022-07-11T16:12:43.842Z"
   },
   {
    "duration": 8,
    "start_time": "2022-07-11T16:12:43.867Z"
   },
   {
    "duration": 6,
    "start_time": "2022-07-11T16:12:43.877Z"
   },
   {
    "duration": 7,
    "start_time": "2022-07-11T16:12:43.884Z"
   },
   {
    "duration": 420,
    "start_time": "2022-07-11T16:12:43.893Z"
   },
   {
    "duration": 4,
    "start_time": "2022-07-11T16:12:44.322Z"
   },
   {
    "duration": 12,
    "start_time": "2022-07-11T16:12:44.328Z"
   },
   {
    "duration": 5,
    "start_time": "2022-07-11T16:12:44.342Z"
   },
   {
    "duration": 502,
    "start_time": "2022-07-11T16:12:44.349Z"
   },
   {
    "duration": 5,
    "start_time": "2022-07-11T16:12:44.853Z"
   },
   {
    "duration": 13,
    "start_time": "2022-07-11T16:12:44.859Z"
   },
   {
    "duration": 15,
    "start_time": "2022-07-11T16:12:44.874Z"
   },
   {
    "duration": 12,
    "start_time": "2022-07-11T16:12:44.925Z"
   },
   {
    "duration": 12,
    "start_time": "2022-07-11T16:12:45.024Z"
   },
   {
    "duration": 10,
    "start_time": "2022-07-11T16:12:45.122Z"
   },
   {
    "duration": 11,
    "start_time": "2022-07-11T16:12:45.134Z"
   },
   {
    "duration": 12,
    "start_time": "2022-07-11T16:12:45.146Z"
   },
   {
    "duration": 67,
    "start_time": "2022-07-11T16:12:45.160Z"
   },
   {
    "duration": 9,
    "start_time": "2022-07-11T16:12:45.229Z"
   },
   {
    "duration": 93,
    "start_time": "2022-07-11T16:12:45.240Z"
   },
   {
    "duration": 92,
    "start_time": "2022-07-11T16:12:45.336Z"
   },
   {
    "duration": 92,
    "start_time": "2022-07-11T16:12:45.430Z"
   },
   {
    "duration": 13,
    "start_time": "2022-07-11T16:12:45.524Z"
   },
   {
    "duration": 85,
    "start_time": "2022-07-11T16:12:45.538Z"
   },
   {
    "duration": 8,
    "start_time": "2022-07-11T16:12:45.626Z"
   },
   {
    "duration": 7,
    "start_time": "2022-07-11T16:12:45.635Z"
   },
   {
    "duration": 11,
    "start_time": "2022-07-11T16:12:45.724Z"
   },
   {
    "duration": 92,
    "start_time": "2022-07-11T16:12:45.738Z"
   },
   {
    "duration": 99,
    "start_time": "2022-07-11T16:12:45.833Z"
   },
   {
    "duration": 2648,
    "start_time": "2022-07-11T16:15:50.774Z"
   },
   {
    "duration": 1345,
    "start_time": "2022-07-11T16:15:53.425Z"
   },
   {
    "duration": 18,
    "start_time": "2022-07-11T16:15:54.772Z"
   },
   {
    "duration": 20,
    "start_time": "2022-07-11T16:15:54.792Z"
   },
   {
    "duration": 20,
    "start_time": "2022-07-11T16:15:54.814Z"
   },
   {
    "duration": 12,
    "start_time": "2022-07-11T16:15:54.835Z"
   },
   {
    "duration": 4,
    "start_time": "2022-07-11T16:15:54.849Z"
   },
   {
    "duration": 11,
    "start_time": "2022-07-11T16:15:54.854Z"
   },
   {
    "duration": 2,
    "start_time": "2022-07-11T16:15:54.867Z"
   },
   {
    "duration": 51,
    "start_time": "2022-07-11T16:15:54.872Z"
   },
   {
    "duration": 6,
    "start_time": "2022-07-11T16:15:54.925Z"
   },
   {
    "duration": 6,
    "start_time": "2022-07-11T16:15:54.933Z"
   },
   {
    "duration": 6,
    "start_time": "2022-07-11T16:15:54.941Z"
   },
   {
    "duration": 9,
    "start_time": "2022-07-11T16:15:54.951Z"
   },
   {
    "duration": 6,
    "start_time": "2022-07-11T16:15:54.962Z"
   },
   {
    "duration": 7,
    "start_time": "2022-07-11T16:15:54.969Z"
   },
   {
    "duration": 3689,
    "start_time": "2022-07-11T16:15:54.977Z"
   },
   {
    "duration": 11,
    "start_time": "2022-07-11T16:15:58.667Z"
   },
   {
    "duration": 4,
    "start_time": "2022-07-11T16:15:58.679Z"
   },
   {
    "duration": 256,
    "start_time": "2022-07-11T16:15:58.684Z"
   },
   {
    "duration": 10,
    "start_time": "2022-07-11T16:15:58.942Z"
   },
   {
    "duration": 5,
    "start_time": "2022-07-11T16:15:58.954Z"
   },
   {
    "duration": 7,
    "start_time": "2022-07-11T16:15:58.960Z"
   },
   {
    "duration": 277,
    "start_time": "2022-07-11T16:15:58.968Z"
   },
   {
    "duration": 146,
    "start_time": "2022-07-11T16:15:59.247Z"
   },
   {
    "duration": 12,
    "start_time": "2022-07-11T16:15:59.395Z"
   },
   {
    "duration": 11,
    "start_time": "2022-07-11T16:15:59.422Z"
   },
   {
    "duration": 273,
    "start_time": "2022-07-11T16:15:59.437Z"
   },
   {
    "duration": 151,
    "start_time": "2022-07-11T16:15:59.711Z"
   },
   {
    "duration": 4,
    "start_time": "2022-07-11T16:15:59.864Z"
   },
   {
    "duration": 11,
    "start_time": "2022-07-11T16:15:59.870Z"
   },
   {
    "duration": 5,
    "start_time": "2022-07-11T16:15:59.883Z"
   },
   {
    "duration": 6,
    "start_time": "2022-07-11T16:15:59.889Z"
   },
   {
    "duration": 38,
    "start_time": "2022-07-11T16:15:59.896Z"
   },
   {
    "duration": 9,
    "start_time": "2022-07-11T16:15:59.936Z"
   },
   {
    "duration": 5,
    "start_time": "2022-07-11T16:15:59.947Z"
   },
   {
    "duration": 7,
    "start_time": "2022-07-11T16:15:59.953Z"
   },
   {
    "duration": 415,
    "start_time": "2022-07-11T16:15:59.961Z"
   },
   {
    "duration": 5,
    "start_time": "2022-07-11T16:16:00.378Z"
   },
   {
    "duration": 27,
    "start_time": "2022-07-11T16:16:00.385Z"
   },
   {
    "duration": 25,
    "start_time": "2022-07-11T16:16:00.413Z"
   },
   {
    "duration": 488,
    "start_time": "2022-07-11T16:16:00.440Z"
   },
   {
    "duration": 4,
    "start_time": "2022-07-11T16:16:00.930Z"
   },
   {
    "duration": 22,
    "start_time": "2022-07-11T16:16:00.936Z"
   },
   {
    "duration": 12,
    "start_time": "2022-07-11T16:16:00.960Z"
   },
   {
    "duration": 54,
    "start_time": "2022-07-11T16:16:00.975Z"
   },
   {
    "duration": 93,
    "start_time": "2022-07-11T16:16:01.032Z"
   },
   {
    "duration": 97,
    "start_time": "2022-07-11T16:16:01.127Z"
   },
   {
    "duration": 64,
    "start_time": "2022-07-11T16:16:01.226Z"
   },
   {
    "duration": 50,
    "start_time": "2022-07-11T16:16:01.292Z"
   },
   {
    "duration": 106,
    "start_time": "2022-07-11T16:16:01.344Z"
   },
   {
    "duration": 174,
    "start_time": "2022-07-11T16:16:01.452Z"
   },
   {
    "duration": 40,
    "start_time": "2022-07-11T16:16:01.628Z"
   },
   {
    "duration": 59,
    "start_time": "2022-07-11T16:16:01.671Z"
   },
   {
    "duration": 98,
    "start_time": "2022-07-11T16:16:01.733Z"
   },
   {
    "duration": 59,
    "start_time": "2022-07-11T16:16:01.833Z"
   },
   {
    "duration": 41,
    "start_time": "2022-07-11T16:16:01.894Z"
   },
   {
    "duration": 87,
    "start_time": "2022-07-11T16:16:01.937Z"
   },
   {
    "duration": 33,
    "start_time": "2022-07-11T16:16:02.025Z"
   },
   {
    "duration": 45,
    "start_time": "2022-07-11T16:16:02.060Z"
   },
   {
    "duration": 26,
    "start_time": "2022-07-11T16:16:02.107Z"
   },
   {
    "duration": 95,
    "start_time": "2022-07-11T16:16:02.135Z"
   },
   {
    "duration": 2518,
    "start_time": "2022-07-11T16:19:45.530Z"
   },
   {
    "duration": 1161,
    "start_time": "2022-07-11T16:19:48.050Z"
   },
   {
    "duration": 17,
    "start_time": "2022-07-11T16:19:49.212Z"
   },
   {
    "duration": 4,
    "start_time": "2022-07-11T16:19:49.231Z"
   },
   {
    "duration": 19,
    "start_time": "2022-07-11T16:19:49.237Z"
   },
   {
    "duration": 10,
    "start_time": "2022-07-11T16:19:49.258Z"
   },
   {
    "duration": 5,
    "start_time": "2022-07-11T16:19:49.270Z"
   },
   {
    "duration": 12,
    "start_time": "2022-07-11T16:19:49.277Z"
   },
   {
    "duration": 2,
    "start_time": "2022-07-11T16:19:49.290Z"
   },
   {
    "duration": 43,
    "start_time": "2022-07-11T16:19:49.295Z"
   },
   {
    "duration": 5,
    "start_time": "2022-07-11T16:19:49.340Z"
   },
   {
    "duration": 6,
    "start_time": "2022-07-11T16:19:49.347Z"
   },
   {
    "duration": 7,
    "start_time": "2022-07-11T16:19:49.354Z"
   },
   {
    "duration": 10,
    "start_time": "2022-07-11T16:19:49.362Z"
   },
   {
    "duration": 10,
    "start_time": "2022-07-11T16:19:49.374Z"
   },
   {
    "duration": 9,
    "start_time": "2022-07-11T16:19:49.386Z"
   },
   {
    "duration": 3969,
    "start_time": "2022-07-11T16:19:49.397Z"
   },
   {
    "duration": 11,
    "start_time": "2022-07-11T16:19:53.368Z"
   },
   {
    "duration": 5,
    "start_time": "2022-07-11T16:19:53.381Z"
   },
   {
    "duration": 282,
    "start_time": "2022-07-11T16:19:53.387Z"
   },
   {
    "duration": 13,
    "start_time": "2022-07-11T16:19:53.671Z"
   },
   {
    "duration": 30,
    "start_time": "2022-07-11T16:19:53.685Z"
   },
   {
    "duration": 14,
    "start_time": "2022-07-11T16:19:53.716Z"
   },
   {
    "duration": 41,
    "start_time": "2022-07-11T16:19:53.732Z"
   },
   {
    "duration": 180,
    "start_time": "2022-07-11T16:19:53.775Z"
   },
   {
    "duration": 12,
    "start_time": "2022-07-11T16:19:53.956Z"
   },
   {
    "duration": 13,
    "start_time": "2022-07-11T16:19:53.969Z"
   },
   {
    "duration": 330,
    "start_time": "2022-07-11T16:19:53.987Z"
   },
   {
    "duration": 221,
    "start_time": "2022-07-11T16:19:54.319Z"
   },
   {
    "duration": 5,
    "start_time": "2022-07-11T16:19:54.542Z"
   },
   {
    "duration": 30,
    "start_time": "2022-07-11T16:19:54.549Z"
   },
   {
    "duration": 14,
    "start_time": "2022-07-11T16:19:54.583Z"
   },
   {
    "duration": 27,
    "start_time": "2022-07-11T16:19:54.600Z"
   },
   {
    "duration": 39,
    "start_time": "2022-07-11T16:19:54.630Z"
   },
   {
    "duration": 12,
    "start_time": "2022-07-11T16:19:54.671Z"
   },
   {
    "duration": 14,
    "start_time": "2022-07-11T16:19:54.685Z"
   },
   {
    "duration": 7,
    "start_time": "2022-07-11T16:19:54.700Z"
   },
   {
    "duration": 504,
    "start_time": "2022-07-11T16:19:54.709Z"
   },
   {
    "duration": 11,
    "start_time": "2022-07-11T16:19:55.214Z"
   },
   {
    "duration": 17,
    "start_time": "2022-07-11T16:19:55.227Z"
   },
   {
    "duration": 5,
    "start_time": "2022-07-11T16:19:55.246Z"
   },
   {
    "duration": 488,
    "start_time": "2022-07-11T16:19:55.253Z"
   },
   {
    "duration": 6,
    "start_time": "2022-07-11T16:19:55.743Z"
   },
   {
    "duration": 36,
    "start_time": "2022-07-11T16:19:55.751Z"
   },
   {
    "duration": 16,
    "start_time": "2022-07-11T16:19:55.789Z"
   },
   {
    "duration": 99,
    "start_time": "2022-07-11T16:19:55.824Z"
   },
   {
    "duration": 6,
    "start_time": "2022-07-11T16:19:55.926Z"
   },
   {
    "duration": 90,
    "start_time": "2022-07-11T16:19:55.935Z"
   },
   {
    "duration": 10,
    "start_time": "2022-07-11T16:19:56.027Z"
   },
   {
    "duration": 24,
    "start_time": "2022-07-11T16:19:56.038Z"
   },
   {
    "duration": 62,
    "start_time": "2022-07-11T16:19:56.064Z"
   },
   {
    "duration": 9,
    "start_time": "2022-07-11T16:19:56.129Z"
   },
   {
    "duration": 99,
    "start_time": "2022-07-11T16:19:56.139Z"
   },
   {
    "duration": 90,
    "start_time": "2022-07-11T16:19:56.240Z"
   },
   {
    "duration": 92,
    "start_time": "2022-07-11T16:19:56.332Z"
   },
   {
    "duration": 15,
    "start_time": "2022-07-11T16:19:56.426Z"
   },
   {
    "duration": 80,
    "start_time": "2022-07-11T16:19:56.443Z"
   },
   {
    "duration": 5,
    "start_time": "2022-07-11T16:19:56.525Z"
   },
   {
    "duration": 9,
    "start_time": "2022-07-11T16:19:56.532Z"
   },
   {
    "duration": 5,
    "start_time": "2022-07-11T16:19:56.623Z"
   },
   {
    "duration": 97,
    "start_time": "2022-07-11T16:19:56.631Z"
   },
   {
    "duration": 96,
    "start_time": "2022-07-11T16:19:56.731Z"
   },
   {
    "duration": 2546,
    "start_time": "2022-07-11T16:22:03.477Z"
   },
   {
    "duration": 1210,
    "start_time": "2022-07-11T16:22:06.025Z"
   },
   {
    "duration": 17,
    "start_time": "2022-07-11T16:22:07.236Z"
   },
   {
    "duration": 3,
    "start_time": "2022-07-11T16:22:07.255Z"
   },
   {
    "duration": 24,
    "start_time": "2022-07-11T16:22:07.260Z"
   },
   {
    "duration": 14,
    "start_time": "2022-07-11T16:22:07.286Z"
   },
   {
    "duration": 7,
    "start_time": "2022-07-11T16:22:07.301Z"
   },
   {
    "duration": 25,
    "start_time": "2022-07-11T16:22:07.309Z"
   },
   {
    "duration": 14,
    "start_time": "2022-07-11T16:22:07.335Z"
   },
   {
    "duration": 33,
    "start_time": "2022-07-11T16:22:07.352Z"
   },
   {
    "duration": 5,
    "start_time": "2022-07-11T16:22:07.387Z"
   },
   {
    "duration": 8,
    "start_time": "2022-07-11T16:22:07.393Z"
   },
   {
    "duration": 8,
    "start_time": "2022-07-11T16:22:07.403Z"
   },
   {
    "duration": 16,
    "start_time": "2022-07-11T16:22:07.413Z"
   },
   {
    "duration": 13,
    "start_time": "2022-07-11T16:22:07.431Z"
   },
   {
    "duration": 3,
    "start_time": "2022-07-11T16:22:07.446Z"
   },
   {
    "duration": 3703,
    "start_time": "2022-07-11T16:22:07.451Z"
   },
   {
    "duration": 11,
    "start_time": "2022-07-11T16:22:11.155Z"
   },
   {
    "duration": 5,
    "start_time": "2022-07-11T16:22:11.168Z"
   },
   {
    "duration": 259,
    "start_time": "2022-07-11T16:22:11.174Z"
   },
   {
    "duration": 10,
    "start_time": "2022-07-11T16:22:11.435Z"
   },
   {
    "duration": 5,
    "start_time": "2022-07-11T16:22:11.447Z"
   },
   {
    "duration": 5,
    "start_time": "2022-07-11T16:22:11.454Z"
   },
   {
    "duration": 17,
    "start_time": "2022-07-11T16:22:11.461Z"
   },
   {
    "duration": 164,
    "start_time": "2022-07-11T16:22:11.480Z"
   },
   {
    "duration": 9,
    "start_time": "2022-07-11T16:22:11.646Z"
   },
   {
    "duration": 16,
    "start_time": "2022-07-11T16:22:11.657Z"
   },
   {
    "duration": 295,
    "start_time": "2022-07-11T16:22:11.677Z"
   },
   {
    "duration": 168,
    "start_time": "2022-07-11T16:22:11.974Z"
   },
   {
    "duration": 4,
    "start_time": "2022-07-11T16:22:12.144Z"
   },
   {
    "duration": 32,
    "start_time": "2022-07-11T16:22:12.149Z"
   },
   {
    "duration": 9,
    "start_time": "2022-07-11T16:22:12.182Z"
   },
   {
    "duration": 13,
    "start_time": "2022-07-11T16:22:12.192Z"
   },
   {
    "duration": 30,
    "start_time": "2022-07-11T16:22:12.206Z"
   },
   {
    "duration": 9,
    "start_time": "2022-07-11T16:22:12.237Z"
   },
   {
    "duration": 4,
    "start_time": "2022-07-11T16:22:12.248Z"
   },
   {
    "duration": 5,
    "start_time": "2022-07-11T16:22:12.254Z"
   },
   {
    "duration": 417,
    "start_time": "2022-07-11T16:22:12.260Z"
   },
   {
    "duration": 4,
    "start_time": "2022-07-11T16:22:12.679Z"
   },
   {
    "duration": 11,
    "start_time": "2022-07-11T16:22:12.685Z"
   },
   {
    "duration": 4,
    "start_time": "2022-07-11T16:22:12.698Z"
   },
   {
    "duration": 467,
    "start_time": "2022-07-11T16:22:12.724Z"
   },
   {
    "duration": 5,
    "start_time": "2022-07-11T16:22:13.194Z"
   },
   {
    "duration": 28,
    "start_time": "2022-07-11T16:22:13.202Z"
   },
   {
    "duration": 14,
    "start_time": "2022-07-11T16:22:13.231Z"
   },
   {
    "duration": 81,
    "start_time": "2022-07-11T16:22:13.247Z"
   },
   {
    "duration": 94,
    "start_time": "2022-07-11T16:22:13.330Z"
   },
   {
    "duration": 97,
    "start_time": "2022-07-11T16:22:13.426Z"
   },
   {
    "duration": 4,
    "start_time": "2022-07-11T16:22:13.525Z"
   },
   {
    "duration": 17,
    "start_time": "2022-07-11T16:22:13.531Z"
   },
   {
    "duration": 76,
    "start_time": "2022-07-11T16:22:13.550Z"
   },
   {
    "duration": 11,
    "start_time": "2022-07-11T16:22:13.628Z"
   },
   {
    "duration": 91,
    "start_time": "2022-07-11T16:22:13.641Z"
   },
   {
    "duration": 89,
    "start_time": "2022-07-11T16:22:13.735Z"
   },
   {
    "duration": 16,
    "start_time": "2022-07-11T16:22:13.826Z"
   },
   {
    "duration": 26,
    "start_time": "2022-07-11T16:22:13.923Z"
   },
   {
    "duration": 73,
    "start_time": "2022-07-11T16:22:13.951Z"
   },
   {
    "duration": 5,
    "start_time": "2022-07-11T16:22:14.026Z"
   },
   {
    "duration": 88,
    "start_time": "2022-07-11T16:22:14.034Z"
   },
   {
    "duration": 5,
    "start_time": "2022-07-11T16:22:14.124Z"
   },
   {
    "duration": 97,
    "start_time": "2022-07-11T16:22:14.131Z"
   },
   {
    "duration": 96,
    "start_time": "2022-07-11T16:22:14.231Z"
   },
   {
    "duration": 2592,
    "start_time": "2022-07-11T16:28:01.781Z"
   },
   {
    "duration": 1224,
    "start_time": "2022-07-11T16:28:04.376Z"
   },
   {
    "duration": 16,
    "start_time": "2022-07-11T16:28:05.602Z"
   },
   {
    "duration": 4,
    "start_time": "2022-07-11T16:28:05.620Z"
   },
   {
    "duration": 21,
    "start_time": "2022-07-11T16:28:05.625Z"
   },
   {
    "duration": 11,
    "start_time": "2022-07-11T16:28:05.647Z"
   },
   {
    "duration": 3,
    "start_time": "2022-07-11T16:28:05.659Z"
   },
   {
    "duration": 12,
    "start_time": "2022-07-11T16:28:05.664Z"
   },
   {
    "duration": 2,
    "start_time": "2022-07-11T16:28:05.678Z"
   },
   {
    "duration": 41,
    "start_time": "2022-07-11T16:28:05.683Z"
   },
   {
    "duration": 6,
    "start_time": "2022-07-11T16:28:05.725Z"
   },
   {
    "duration": 7,
    "start_time": "2022-07-11T16:28:05.733Z"
   },
   {
    "duration": 5,
    "start_time": "2022-07-11T16:28:05.741Z"
   },
   {
    "duration": 12,
    "start_time": "2022-07-11T16:28:05.747Z"
   },
   {
    "duration": 9,
    "start_time": "2022-07-11T16:28:05.761Z"
   },
   {
    "duration": 6,
    "start_time": "2022-07-11T16:28:05.772Z"
   },
   {
    "duration": 3838,
    "start_time": "2022-07-11T16:28:05.780Z"
   },
   {
    "duration": 11,
    "start_time": "2022-07-11T16:28:09.620Z"
   },
   {
    "duration": 8,
    "start_time": "2022-07-11T16:28:09.633Z"
   },
   {
    "duration": 289,
    "start_time": "2022-07-11T16:28:09.643Z"
   },
   {
    "duration": 11,
    "start_time": "2022-07-11T16:28:09.934Z"
   },
   {
    "duration": 8,
    "start_time": "2022-07-11T16:28:09.947Z"
   },
   {
    "duration": 7,
    "start_time": "2022-07-11T16:28:09.957Z"
   },
   {
    "duration": 31,
    "start_time": "2022-07-11T16:28:09.966Z"
   },
   {
    "duration": 186,
    "start_time": "2022-07-11T16:28:09.999Z"
   },
   {
    "duration": 11,
    "start_time": "2022-07-11T16:28:10.187Z"
   },
   {
    "duration": 24,
    "start_time": "2022-07-11T16:28:10.200Z"
   },
   {
    "duration": 303,
    "start_time": "2022-07-11T16:28:10.228Z"
   },
   {
    "duration": 161,
    "start_time": "2022-07-11T16:28:10.533Z"
   },
   {
    "duration": 5,
    "start_time": "2022-07-11T16:28:10.696Z"
   },
   {
    "duration": 21,
    "start_time": "2022-07-11T16:28:10.702Z"
   },
   {
    "duration": 3,
    "start_time": "2022-07-11T16:28:10.725Z"
   },
   {
    "duration": 13,
    "start_time": "2022-07-11T16:28:10.729Z"
   },
   {
    "duration": 24,
    "start_time": "2022-07-11T16:28:10.744Z"
   },
   {
    "duration": 8,
    "start_time": "2022-07-11T16:28:10.770Z"
   },
   {
    "duration": 8,
    "start_time": "2022-07-11T16:28:10.779Z"
   },
   {
    "duration": 6,
    "start_time": "2022-07-11T16:28:10.789Z"
   },
   {
    "duration": 438,
    "start_time": "2022-07-11T16:28:10.796Z"
   },
   {
    "duration": 5,
    "start_time": "2022-07-11T16:28:11.236Z"
   },
   {
    "duration": 12,
    "start_time": "2022-07-11T16:28:11.243Z"
   },
   {
    "duration": 7,
    "start_time": "2022-07-11T16:28:11.256Z"
   },
   {
    "duration": 464,
    "start_time": "2022-07-11T16:28:11.265Z"
   },
   {
    "duration": 5,
    "start_time": "2022-07-11T16:28:11.730Z"
   },
   {
    "duration": 6,
    "start_time": "2022-07-11T16:28:11.737Z"
   },
   {
    "duration": 14,
    "start_time": "2022-07-11T16:28:11.745Z"
   },
   {
    "duration": 68,
    "start_time": "2022-07-11T16:28:11.762Z"
   },
   {
    "duration": 91,
    "start_time": "2022-07-11T16:28:11.832Z"
   },
   {
    "duration": 6,
    "start_time": "2022-07-11T16:28:11.925Z"
   },
   {
    "duration": 89,
    "start_time": "2022-07-11T16:28:11.934Z"
   },
   {
    "duration": 9,
    "start_time": "2022-07-11T16:28:12.025Z"
   },
   {
    "duration": 87,
    "start_time": "2022-07-11T16:28:12.036Z"
   },
   {
    "duration": 7,
    "start_time": "2022-07-11T16:28:12.128Z"
   },
   {
    "duration": 97,
    "start_time": "2022-07-11T16:28:12.137Z"
   },
   {
    "duration": 93,
    "start_time": "2022-07-11T16:28:12.236Z"
   },
   {
    "duration": 24,
    "start_time": "2022-07-11T16:28:12.330Z"
   },
   {
    "duration": 69,
    "start_time": "2022-07-11T16:28:12.356Z"
   },
   {
    "duration": 6,
    "start_time": "2022-07-11T16:28:12.428Z"
   },
   {
    "duration": 87,
    "start_time": "2022-07-11T16:28:12.436Z"
   },
   {
    "duration": 3,
    "start_time": "2022-07-11T16:28:12.525Z"
   },
   {
    "duration": 14,
    "start_time": "2022-07-11T16:28:12.530Z"
   },
   {
    "duration": 84,
    "start_time": "2022-07-11T16:28:12.545Z"
   },
   {
    "duration": 97,
    "start_time": "2022-07-11T16:28:12.631Z"
   },
   {
    "duration": 2619,
    "start_time": "2022-07-11T16:30:08.633Z"
   },
   {
    "duration": 1295,
    "start_time": "2022-07-11T16:30:11.254Z"
   },
   {
    "duration": 17,
    "start_time": "2022-07-11T16:30:12.551Z"
   },
   {
    "duration": 4,
    "start_time": "2022-07-11T16:30:12.570Z"
   },
   {
    "duration": 19,
    "start_time": "2022-07-11T16:30:12.575Z"
   },
   {
    "duration": 11,
    "start_time": "2022-07-11T16:30:12.596Z"
   },
   {
    "duration": 25,
    "start_time": "2022-07-11T16:30:12.609Z"
   },
   {
    "duration": 27,
    "start_time": "2022-07-11T16:30:12.636Z"
   },
   {
    "duration": 5,
    "start_time": "2022-07-11T16:30:12.664Z"
   },
   {
    "duration": 32,
    "start_time": "2022-07-11T16:30:12.672Z"
   },
   {
    "duration": 6,
    "start_time": "2022-07-11T16:30:12.706Z"
   },
   {
    "duration": 23,
    "start_time": "2022-07-11T16:30:12.714Z"
   },
   {
    "duration": 10,
    "start_time": "2022-07-11T16:30:12.739Z"
   },
   {
    "duration": 8,
    "start_time": "2022-07-11T16:30:12.751Z"
   },
   {
    "duration": 10,
    "start_time": "2022-07-11T16:30:12.760Z"
   },
   {
    "duration": 13,
    "start_time": "2022-07-11T16:30:12.772Z"
   },
   {
    "duration": 3955,
    "start_time": "2022-07-11T16:30:12.787Z"
   },
   {
    "duration": 11,
    "start_time": "2022-07-11T16:30:16.743Z"
   },
   {
    "duration": 6,
    "start_time": "2022-07-11T16:30:16.755Z"
   },
   {
    "duration": 275,
    "start_time": "2022-07-11T16:30:16.762Z"
   },
   {
    "duration": 12,
    "start_time": "2022-07-11T16:30:17.039Z"
   },
   {
    "duration": 10,
    "start_time": "2022-07-11T16:30:17.053Z"
   },
   {
    "duration": 6,
    "start_time": "2022-07-11T16:30:17.064Z"
   },
   {
    "duration": 282,
    "start_time": "2022-07-11T16:30:17.072Z"
   },
   {
    "duration": 160,
    "start_time": "2022-07-11T16:30:17.355Z"
   },
   {
    "duration": 14,
    "start_time": "2022-07-11T16:30:17.516Z"
   },
   {
    "duration": 26,
    "start_time": "2022-07-11T16:30:17.532Z"
   },
   {
    "duration": 278,
    "start_time": "2022-07-11T16:30:17.562Z"
   },
   {
    "duration": 166,
    "start_time": "2022-07-11T16:30:17.842Z"
   },
   {
    "duration": 12,
    "start_time": "2022-07-11T16:30:18.010Z"
   },
   {
    "duration": 7,
    "start_time": "2022-07-11T16:30:18.024Z"
   },
   {
    "duration": 9,
    "start_time": "2022-07-11T16:30:18.033Z"
   },
   {
    "duration": 8,
    "start_time": "2022-07-11T16:30:18.044Z"
   },
   {
    "duration": 32,
    "start_time": "2022-07-11T16:30:18.054Z"
   },
   {
    "duration": 8,
    "start_time": "2022-07-11T16:30:18.088Z"
   },
   {
    "duration": 26,
    "start_time": "2022-07-11T16:30:18.098Z"
   },
   {
    "duration": 13,
    "start_time": "2022-07-11T16:30:18.126Z"
   },
   {
    "duration": 390,
    "start_time": "2022-07-11T16:30:18.141Z"
   },
   {
    "duration": 4,
    "start_time": "2022-07-11T16:30:18.533Z"
   },
   {
    "duration": 20,
    "start_time": "2022-07-11T16:30:18.538Z"
   },
   {
    "duration": 6,
    "start_time": "2022-07-11T16:30:18.560Z"
   },
   {
    "duration": 445,
    "start_time": "2022-07-11T16:30:18.568Z"
   },
   {
    "duration": 4,
    "start_time": "2022-07-11T16:30:19.023Z"
   },
   {
    "duration": 7,
    "start_time": "2022-07-11T16:30:19.028Z"
   },
   {
    "duration": 18,
    "start_time": "2022-07-11T16:30:19.036Z"
   },
   {
    "duration": 73,
    "start_time": "2022-07-11T16:30:19.056Z"
   },
   {
    "duration": 91,
    "start_time": "2022-07-11T16:30:19.132Z"
   },
   {
    "duration": 97,
    "start_time": "2022-07-11T16:30:19.226Z"
   },
   {
    "duration": 11,
    "start_time": "2022-07-11T16:30:19.325Z"
   },
   {
    "duration": 12,
    "start_time": "2022-07-11T16:30:19.338Z"
   },
   {
    "duration": 12,
    "start_time": "2022-07-11T16:30:19.352Z"
   },
   {
    "duration": 11,
    "start_time": "2022-07-11T16:30:19.424Z"
   },
   {
    "duration": 95,
    "start_time": "2022-07-11T16:30:19.437Z"
   },
   {
    "duration": 97,
    "start_time": "2022-07-11T16:30:19.534Z"
   },
   {
    "duration": 96,
    "start_time": "2022-07-11T16:30:19.633Z"
   },
   {
    "duration": 15,
    "start_time": "2022-07-11T16:30:19.732Z"
   },
   {
    "duration": 78,
    "start_time": "2022-07-11T16:30:19.749Z"
   },
   {
    "duration": 6,
    "start_time": "2022-07-11T16:30:19.829Z"
   },
   {
    "duration": 86,
    "start_time": "2022-07-11T16:30:19.837Z"
   },
   {
    "duration": 11,
    "start_time": "2022-07-11T16:30:19.925Z"
   },
   {
    "duration": 90,
    "start_time": "2022-07-11T16:30:19.938Z"
   },
   {
    "duration": 96,
    "start_time": "2022-07-11T16:30:20.031Z"
   },
   {
    "duration": 2583,
    "start_time": "2022-07-11T16:31:41.979Z"
   },
   {
    "duration": 1236,
    "start_time": "2022-07-11T16:31:44.565Z"
   },
   {
    "duration": 18,
    "start_time": "2022-07-11T16:31:45.803Z"
   },
   {
    "duration": 6,
    "start_time": "2022-07-11T16:31:45.823Z"
   },
   {
    "duration": 21,
    "start_time": "2022-07-11T16:31:45.831Z"
   },
   {
    "duration": 11,
    "start_time": "2022-07-11T16:31:45.854Z"
   },
   {
    "duration": 20,
    "start_time": "2022-07-11T16:31:45.867Z"
   },
   {
    "duration": 12,
    "start_time": "2022-07-11T16:31:45.889Z"
   },
   {
    "duration": 2,
    "start_time": "2022-07-11T16:31:45.902Z"
   },
   {
    "duration": 37,
    "start_time": "2022-07-11T16:31:45.907Z"
   },
   {
    "duration": 6,
    "start_time": "2022-07-11T16:31:45.946Z"
   },
   {
    "duration": 7,
    "start_time": "2022-07-11T16:31:45.953Z"
   },
   {
    "duration": 7,
    "start_time": "2022-07-11T16:31:45.961Z"
   },
   {
    "duration": 8,
    "start_time": "2022-07-11T16:31:45.969Z"
   },
   {
    "duration": 10,
    "start_time": "2022-07-11T16:31:45.978Z"
   },
   {
    "duration": 10,
    "start_time": "2022-07-11T16:31:45.989Z"
   },
   {
    "duration": 3616,
    "start_time": "2022-07-11T16:31:46.022Z"
   },
   {
    "duration": 11,
    "start_time": "2022-07-11T16:31:49.639Z"
   },
   {
    "duration": 6,
    "start_time": "2022-07-11T16:31:49.651Z"
   },
   {
    "duration": 293,
    "start_time": "2022-07-11T16:31:49.658Z"
   },
   {
    "duration": 10,
    "start_time": "2022-07-11T16:31:49.953Z"
   },
   {
    "duration": 6,
    "start_time": "2022-07-11T16:31:49.965Z"
   },
   {
    "duration": 7,
    "start_time": "2022-07-11T16:31:49.973Z"
   },
   {
    "duration": 282,
    "start_time": "2022-07-11T16:31:49.981Z"
   },
   {
    "duration": 153,
    "start_time": "2022-07-11T16:31:50.265Z"
   },
   {
    "duration": 11,
    "start_time": "2022-07-11T16:31:50.422Z"
   },
   {
    "duration": 11,
    "start_time": "2022-07-11T16:31:50.434Z"
   },
   {
    "duration": 289,
    "start_time": "2022-07-11T16:31:50.449Z"
   },
   {
    "duration": 165,
    "start_time": "2022-07-11T16:31:50.740Z"
   },
   {
    "duration": 4,
    "start_time": "2022-07-11T16:31:50.907Z"
   },
   {
    "duration": 15,
    "start_time": "2022-07-11T16:31:50.913Z"
   },
   {
    "duration": 4,
    "start_time": "2022-07-11T16:31:50.930Z"
   },
   {
    "duration": 7,
    "start_time": "2022-07-11T16:31:50.936Z"
   },
   {
    "duration": 31,
    "start_time": "2022-07-11T16:31:50.944Z"
   },
   {
    "duration": 11,
    "start_time": "2022-07-11T16:31:50.977Z"
   },
   {
    "duration": 5,
    "start_time": "2022-07-11T16:31:50.990Z"
   },
   {
    "duration": 4,
    "start_time": "2022-07-11T16:31:51.022Z"
   },
   {
    "duration": 395,
    "start_time": "2022-07-11T16:31:51.027Z"
   },
   {
    "duration": 4,
    "start_time": "2022-07-11T16:31:51.424Z"
   },
   {
    "duration": 11,
    "start_time": "2022-07-11T16:31:51.430Z"
   },
   {
    "duration": 10,
    "start_time": "2022-07-11T16:31:51.443Z"
   },
   {
    "duration": 490,
    "start_time": "2022-07-11T16:31:51.455Z"
   },
   {
    "duration": 5,
    "start_time": "2022-07-11T16:31:51.947Z"
   },
   {
    "duration": 10,
    "start_time": "2022-07-11T16:31:51.954Z"
   },
   {
    "duration": 18,
    "start_time": "2022-07-11T16:31:51.966Z"
   },
   {
    "duration": 14,
    "start_time": "2022-07-11T16:31:52.023Z"
   },
   {
    "duration": 16,
    "start_time": "2022-07-11T16:31:52.123Z"
   },
   {
    "duration": 9,
    "start_time": "2022-07-11T16:31:52.222Z"
   },
   {
    "duration": 7,
    "start_time": "2022-07-11T16:31:52.233Z"
   },
   {
    "duration": 11,
    "start_time": "2022-07-11T16:31:52.242Z"
   },
   {
    "duration": 68,
    "start_time": "2022-07-11T16:31:52.255Z"
   },
   {
    "duration": 5,
    "start_time": "2022-07-11T16:31:52.325Z"
   },
   {
    "duration": 100,
    "start_time": "2022-07-11T16:31:52.332Z"
   },
   {
    "duration": 89,
    "start_time": "2022-07-11T16:31:52.435Z"
   },
   {
    "duration": 97,
    "start_time": "2022-07-11T16:31:52.527Z"
   },
   {
    "duration": 20,
    "start_time": "2022-07-11T16:31:52.626Z"
   },
   {
    "duration": 80,
    "start_time": "2022-07-11T16:31:52.648Z"
   },
   {
    "duration": 7,
    "start_time": "2022-07-11T16:31:52.730Z"
   },
   {
    "duration": 84,
    "start_time": "2022-07-11T16:31:52.740Z"
   },
   {
    "duration": 16,
    "start_time": "2022-07-11T16:31:52.825Z"
   },
   {
    "duration": 80,
    "start_time": "2022-07-11T16:31:52.843Z"
   },
   {
    "duration": 97,
    "start_time": "2022-07-11T16:31:52.926Z"
   },
   {
    "duration": 4477,
    "start_time": "2022-07-11T16:33:19.873Z"
   },
   {
    "duration": 60,
    "start_time": "2022-07-11T16:33:24.352Z"
   },
   {
    "duration": 0,
    "start_time": "2022-07-11T16:33:24.415Z"
   },
   {
    "duration": 0,
    "start_time": "2022-07-11T16:33:24.417Z"
   },
   {
    "duration": 0,
    "start_time": "2022-07-11T16:33:24.418Z"
   },
   {
    "duration": 0,
    "start_time": "2022-07-11T16:33:24.419Z"
   },
   {
    "duration": 0,
    "start_time": "2022-07-11T16:33:24.420Z"
   },
   {
    "duration": 0,
    "start_time": "2022-07-11T16:33:24.421Z"
   },
   {
    "duration": 0,
    "start_time": "2022-07-11T16:33:24.422Z"
   },
   {
    "duration": 0,
    "start_time": "2022-07-11T16:33:24.423Z"
   },
   {
    "duration": 0,
    "start_time": "2022-07-11T16:33:24.424Z"
   },
   {
    "duration": 0,
    "start_time": "2022-07-11T16:33:24.425Z"
   },
   {
    "duration": 0,
    "start_time": "2022-07-11T16:33:24.426Z"
   },
   {
    "duration": 0,
    "start_time": "2022-07-11T16:33:24.428Z"
   },
   {
    "duration": 0,
    "start_time": "2022-07-11T16:33:24.429Z"
   },
   {
    "duration": 0,
    "start_time": "2022-07-11T16:33:24.430Z"
   },
   {
    "duration": 0,
    "start_time": "2022-07-11T16:33:24.433Z"
   },
   {
    "duration": 0,
    "start_time": "2022-07-11T16:33:24.434Z"
   },
   {
    "duration": 0,
    "start_time": "2022-07-11T16:33:24.435Z"
   },
   {
    "duration": 0,
    "start_time": "2022-07-11T16:33:24.436Z"
   },
   {
    "duration": 0,
    "start_time": "2022-07-11T16:33:24.438Z"
   },
   {
    "duration": 0,
    "start_time": "2022-07-11T16:33:24.439Z"
   },
   {
    "duration": 0,
    "start_time": "2022-07-11T16:33:24.440Z"
   },
   {
    "duration": 0,
    "start_time": "2022-07-11T16:33:24.442Z"
   },
   {
    "duration": 0,
    "start_time": "2022-07-11T16:33:24.443Z"
   },
   {
    "duration": 0,
    "start_time": "2022-07-11T16:33:24.444Z"
   },
   {
    "duration": 0,
    "start_time": "2022-07-11T16:33:24.446Z"
   },
   {
    "duration": 0,
    "start_time": "2022-07-11T16:33:24.447Z"
   },
   {
    "duration": 0,
    "start_time": "2022-07-11T16:33:24.449Z"
   },
   {
    "duration": 0,
    "start_time": "2022-07-11T16:33:24.450Z"
   },
   {
    "duration": 0,
    "start_time": "2022-07-11T16:33:24.452Z"
   },
   {
    "duration": 0,
    "start_time": "2022-07-11T16:33:24.453Z"
   },
   {
    "duration": 0,
    "start_time": "2022-07-11T16:33:24.454Z"
   },
   {
    "duration": 0,
    "start_time": "2022-07-11T16:33:24.456Z"
   },
   {
    "duration": 0,
    "start_time": "2022-07-11T16:33:24.459Z"
   },
   {
    "duration": 0,
    "start_time": "2022-07-11T16:33:24.460Z"
   },
   {
    "duration": 0,
    "start_time": "2022-07-11T16:33:24.462Z"
   },
   {
    "duration": 0,
    "start_time": "2022-07-11T16:33:24.523Z"
   },
   {
    "duration": 0,
    "start_time": "2022-07-11T16:33:24.525Z"
   },
   {
    "duration": 0,
    "start_time": "2022-07-11T16:33:24.526Z"
   },
   {
    "duration": 0,
    "start_time": "2022-07-11T16:33:24.528Z"
   },
   {
    "duration": 0,
    "start_time": "2022-07-11T16:33:24.529Z"
   },
   {
    "duration": 0,
    "start_time": "2022-07-11T16:33:24.530Z"
   },
   {
    "duration": 0,
    "start_time": "2022-07-11T16:33:24.532Z"
   },
   {
    "duration": 0,
    "start_time": "2022-07-11T16:33:24.533Z"
   },
   {
    "duration": 0,
    "start_time": "2022-07-11T16:33:24.534Z"
   },
   {
    "duration": 0,
    "start_time": "2022-07-11T16:33:24.536Z"
   },
   {
    "duration": 0,
    "start_time": "2022-07-11T16:33:24.539Z"
   },
   {
    "duration": 0,
    "start_time": "2022-07-11T16:33:24.540Z"
   },
   {
    "duration": 0,
    "start_time": "2022-07-11T16:33:24.542Z"
   },
   {
    "duration": 0,
    "start_time": "2022-07-11T16:33:24.543Z"
   },
   {
    "duration": 0,
    "start_time": "2022-07-11T16:33:24.545Z"
   },
   {
    "duration": 0,
    "start_time": "2022-07-11T16:33:24.546Z"
   },
   {
    "duration": 0,
    "start_time": "2022-07-11T16:33:24.548Z"
   },
   {
    "duration": 0,
    "start_time": "2022-07-11T16:33:24.550Z"
   },
   {
    "duration": 0,
    "start_time": "2022-07-11T16:33:24.551Z"
   },
   {
    "duration": 0,
    "start_time": "2022-07-11T16:33:24.552Z"
   },
   {
    "duration": 0,
    "start_time": "2022-07-11T16:33:24.554Z"
   },
   {
    "duration": 0,
    "start_time": "2022-07-11T16:33:24.556Z"
   },
   {
    "duration": 0,
    "start_time": "2022-07-11T16:33:24.558Z"
   },
   {
    "duration": 0,
    "start_time": "2022-07-11T16:33:24.559Z"
   },
   {
    "duration": 0,
    "start_time": "2022-07-11T16:33:24.560Z"
   },
   {
    "duration": 2543,
    "start_time": "2022-07-11T16:34:56.440Z"
   },
   {
    "duration": 1243,
    "start_time": "2022-07-11T16:34:58.986Z"
   },
   {
    "duration": 18,
    "start_time": "2022-07-11T16:35:00.230Z"
   },
   {
    "duration": 5,
    "start_time": "2022-07-11T16:35:00.250Z"
   },
   {
    "duration": 23,
    "start_time": "2022-07-11T16:35:00.257Z"
   },
   {
    "duration": 22,
    "start_time": "2022-07-11T16:35:00.282Z"
   },
   {
    "duration": 17,
    "start_time": "2022-07-11T16:35:00.306Z"
   },
   {
    "duration": 27,
    "start_time": "2022-07-11T16:35:00.325Z"
   },
   {
    "duration": 21,
    "start_time": "2022-07-11T16:35:00.354Z"
   },
   {
    "duration": 63,
    "start_time": "2022-07-11T16:35:00.378Z"
   },
   {
    "duration": 7,
    "start_time": "2022-07-11T16:35:00.443Z"
   },
   {
    "duration": 11,
    "start_time": "2022-07-11T16:35:00.452Z"
   },
   {
    "duration": 7,
    "start_time": "2022-07-11T16:35:00.465Z"
   },
   {
    "duration": 16,
    "start_time": "2022-07-11T16:35:00.474Z"
   },
   {
    "duration": 7,
    "start_time": "2022-07-11T16:35:00.492Z"
   },
   {
    "duration": 30,
    "start_time": "2022-07-11T16:35:00.501Z"
   },
   {
    "duration": 3625,
    "start_time": "2022-07-11T16:35:00.533Z"
   },
   {
    "duration": 12,
    "start_time": "2022-07-11T16:35:04.160Z"
   },
   {
    "duration": 5,
    "start_time": "2022-07-11T16:35:04.173Z"
   },
   {
    "duration": 278,
    "start_time": "2022-07-11T16:35:04.180Z"
   },
   {
    "duration": 11,
    "start_time": "2022-07-11T16:35:04.460Z"
   },
   {
    "duration": 25,
    "start_time": "2022-07-11T16:35:04.473Z"
   },
   {
    "duration": 18,
    "start_time": "2022-07-11T16:35:04.500Z"
   },
   {
    "duration": 294,
    "start_time": "2022-07-11T16:35:04.520Z"
   },
   {
    "duration": 158,
    "start_time": "2022-07-11T16:35:04.815Z"
   },
   {
    "duration": 10,
    "start_time": "2022-07-11T16:35:04.974Z"
   },
   {
    "duration": 15,
    "start_time": "2022-07-11T16:35:04.986Z"
   },
   {
    "duration": 280,
    "start_time": "2022-07-11T16:35:05.005Z"
   },
   {
    "duration": 162,
    "start_time": "2022-07-11T16:35:05.287Z"
   },
   {
    "duration": 5,
    "start_time": "2022-07-11T16:35:05.451Z"
   },
   {
    "duration": 16,
    "start_time": "2022-07-11T16:35:05.458Z"
   },
   {
    "duration": 16,
    "start_time": "2022-07-11T16:35:05.476Z"
   },
   {
    "duration": 7,
    "start_time": "2022-07-11T16:35:05.494Z"
   },
   {
    "duration": 23,
    "start_time": "2022-07-11T16:35:05.502Z"
   },
   {
    "duration": 9,
    "start_time": "2022-07-11T16:35:05.527Z"
   },
   {
    "duration": 14,
    "start_time": "2022-07-11T16:35:05.538Z"
   },
   {
    "duration": 15,
    "start_time": "2022-07-11T16:35:05.554Z"
   },
   {
    "duration": 393,
    "start_time": "2022-07-11T16:35:05.571Z"
   },
   {
    "duration": 4,
    "start_time": "2022-07-11T16:35:05.966Z"
   },
   {
    "duration": 16,
    "start_time": "2022-07-11T16:35:05.971Z"
   },
   {
    "duration": 4,
    "start_time": "2022-07-11T16:35:05.988Z"
   },
   {
    "duration": 448,
    "start_time": "2022-07-11T16:35:05.994Z"
   },
   {
    "duration": 13,
    "start_time": "2022-07-11T16:35:06.444Z"
   },
   {
    "duration": 13,
    "start_time": "2022-07-11T16:35:06.459Z"
   },
   {
    "duration": 20,
    "start_time": "2022-07-11T16:35:06.473Z"
   },
   {
    "duration": 135,
    "start_time": "2022-07-11T16:35:06.496Z"
   },
   {
    "duration": 90,
    "start_time": "2022-07-11T16:35:06.633Z"
   },
   {
    "duration": 97,
    "start_time": "2022-07-11T16:35:06.726Z"
   },
   {
    "duration": 9,
    "start_time": "2022-07-11T16:35:06.824Z"
   },
   {
    "duration": 8,
    "start_time": "2022-07-11T16:35:06.834Z"
   },
   {
    "duration": 9,
    "start_time": "2022-07-11T16:35:06.844Z"
   },
   {
    "duration": 5,
    "start_time": "2022-07-11T16:35:06.922Z"
   },
   {
    "duration": 100,
    "start_time": "2022-07-11T16:35:06.929Z"
   },
   {
    "duration": 99,
    "start_time": "2022-07-11T16:35:07.031Z"
   },
   {
    "duration": 18,
    "start_time": "2022-07-11T16:35:07.132Z"
   },
   {
    "duration": 21,
    "start_time": "2022-07-11T16:35:07.152Z"
   },
   {
    "duration": 57,
    "start_time": "2022-07-11T16:35:07.175Z"
   },
   {
    "duration": 87,
    "start_time": "2022-07-11T16:35:07.235Z"
   },
   {
    "duration": 12,
    "start_time": "2022-07-11T16:35:07.324Z"
   },
   {
    "duration": 8,
    "start_time": "2022-07-11T16:35:07.338Z"
   },
   {
    "duration": 77,
    "start_time": "2022-07-11T16:35:07.347Z"
   },
   {
    "duration": 98,
    "start_time": "2022-07-11T16:35:07.426Z"
   },
   {
    "duration": 2733,
    "start_time": "2022-07-11T16:37:08.200Z"
   },
   {
    "duration": 1335,
    "start_time": "2022-07-11T16:37:10.936Z"
   },
   {
    "duration": 18,
    "start_time": "2022-07-11T16:37:12.273Z"
   },
   {
    "duration": 9,
    "start_time": "2022-07-11T16:37:12.293Z"
   },
   {
    "duration": 26,
    "start_time": "2022-07-11T16:37:12.304Z"
   },
   {
    "duration": 14,
    "start_time": "2022-07-11T16:37:12.332Z"
   },
   {
    "duration": 21,
    "start_time": "2022-07-11T16:37:12.348Z"
   },
   {
    "duration": 27,
    "start_time": "2022-07-11T16:37:12.372Z"
   },
   {
    "duration": 9,
    "start_time": "2022-07-11T16:37:12.401Z"
   },
   {
    "duration": 34,
    "start_time": "2022-07-11T16:37:12.413Z"
   },
   {
    "duration": 9,
    "start_time": "2022-07-11T16:37:12.448Z"
   },
   {
    "duration": 9,
    "start_time": "2022-07-11T16:37:12.459Z"
   },
   {
    "duration": 10,
    "start_time": "2022-07-11T16:37:12.470Z"
   },
   {
    "duration": 4018,
    "start_time": "2022-07-11T16:37:12.482Z"
   },
   {
    "duration": 12,
    "start_time": "2022-07-11T16:37:16.502Z"
   },
   {
    "duration": 4,
    "start_time": "2022-07-11T16:37:16.515Z"
   },
   {
    "duration": 278,
    "start_time": "2022-07-11T16:37:16.521Z"
   },
   {
    "duration": 11,
    "start_time": "2022-07-11T16:37:16.800Z"
   },
   {
    "duration": 3,
    "start_time": "2022-07-11T16:37:16.823Z"
   },
   {
    "duration": 16,
    "start_time": "2022-07-11T16:37:16.827Z"
   },
   {
    "duration": 307,
    "start_time": "2022-07-11T16:37:16.845Z"
   },
   {
    "duration": 169,
    "start_time": "2022-07-11T16:37:17.153Z"
   },
   {
    "duration": 10,
    "start_time": "2022-07-11T16:37:17.324Z"
   },
   {
    "duration": 9,
    "start_time": "2022-07-11T16:37:17.336Z"
   },
   {
    "duration": 309,
    "start_time": "2022-07-11T16:37:17.347Z"
   },
   {
    "duration": 159,
    "start_time": "2022-07-11T16:37:17.658Z"
   },
   {
    "duration": 6,
    "start_time": "2022-07-11T16:37:17.818Z"
   },
   {
    "duration": 15,
    "start_time": "2022-07-11T16:37:17.828Z"
   },
   {
    "duration": 9,
    "start_time": "2022-07-11T16:37:17.845Z"
   },
   {
    "duration": 7,
    "start_time": "2022-07-11T16:37:17.855Z"
   },
   {
    "duration": 27,
    "start_time": "2022-07-11T16:37:17.864Z"
   },
   {
    "duration": 8,
    "start_time": "2022-07-11T16:37:17.893Z"
   },
   {
    "duration": 5,
    "start_time": "2022-07-11T16:37:17.903Z"
   },
   {
    "duration": 4,
    "start_time": "2022-07-11T16:37:17.923Z"
   },
   {
    "duration": 453,
    "start_time": "2022-07-11T16:37:17.929Z"
   },
   {
    "duration": 5,
    "start_time": "2022-07-11T16:37:18.384Z"
   },
   {
    "duration": 15,
    "start_time": "2022-07-11T16:37:18.390Z"
   },
   {
    "duration": 16,
    "start_time": "2022-07-11T16:37:18.407Z"
   },
   {
    "duration": 484,
    "start_time": "2022-07-11T16:37:18.425Z"
   },
   {
    "duration": 14,
    "start_time": "2022-07-11T16:37:18.911Z"
   },
   {
    "duration": 23,
    "start_time": "2022-07-11T16:37:18.927Z"
   },
   {
    "duration": 32,
    "start_time": "2022-07-11T16:37:18.951Z"
   },
   {
    "duration": 49,
    "start_time": "2022-07-11T16:37:18.985Z"
   },
   {
    "duration": 97,
    "start_time": "2022-07-11T16:37:19.036Z"
   },
   {
    "duration": 88,
    "start_time": "2022-07-11T16:37:19.135Z"
   },
   {
    "duration": 3,
    "start_time": "2022-07-11T16:37:19.225Z"
   },
   {
    "duration": 20,
    "start_time": "2022-07-11T16:37:19.229Z"
   },
   {
    "duration": 74,
    "start_time": "2022-07-11T16:37:19.251Z"
   },
   {
    "duration": 15,
    "start_time": "2022-07-11T16:37:19.327Z"
   },
   {
    "duration": 89,
    "start_time": "2022-07-11T16:37:19.344Z"
   },
   {
    "duration": 94,
    "start_time": "2022-07-11T16:37:19.434Z"
   },
   {
    "duration": 16,
    "start_time": "2022-07-11T16:37:19.530Z"
   },
   {
    "duration": 13,
    "start_time": "2022-07-11T16:37:19.623Z"
   },
   {
    "duration": 85,
    "start_time": "2022-07-11T16:37:19.638Z"
   },
   {
    "duration": 4,
    "start_time": "2022-07-11T16:37:19.726Z"
   },
   {
    "duration": 91,
    "start_time": "2022-07-11T16:37:19.732Z"
   },
   {
    "duration": 10,
    "start_time": "2022-07-11T16:37:19.825Z"
   },
   {
    "duration": 14,
    "start_time": "2022-07-11T16:37:19.837Z"
   },
   {
    "duration": 14,
    "start_time": "2022-07-11T16:37:19.924Z"
   },
   {
    "duration": 2769,
    "start_time": "2022-07-11T16:39:53.405Z"
   },
   {
    "duration": 1146,
    "start_time": "2022-07-11T16:39:56.176Z"
   },
   {
    "duration": 19,
    "start_time": "2022-07-11T16:39:57.324Z"
   },
   {
    "duration": 4,
    "start_time": "2022-07-11T16:39:57.345Z"
   },
   {
    "duration": 20,
    "start_time": "2022-07-11T16:39:57.350Z"
   },
   {
    "duration": 11,
    "start_time": "2022-07-11T16:39:57.371Z"
   },
   {
    "duration": 7,
    "start_time": "2022-07-11T16:39:57.384Z"
   },
   {
    "duration": 13,
    "start_time": "2022-07-11T16:39:57.392Z"
   },
   {
    "duration": 2,
    "start_time": "2022-07-11T16:39:57.406Z"
   },
   {
    "duration": 27,
    "start_time": "2022-07-11T16:39:57.424Z"
   },
   {
    "duration": 6,
    "start_time": "2022-07-11T16:39:57.453Z"
   },
   {
    "duration": 10,
    "start_time": "2022-07-11T16:39:57.461Z"
   },
   {
    "duration": 7,
    "start_time": "2022-07-11T16:39:57.473Z"
   },
   {
    "duration": 3796,
    "start_time": "2022-07-11T16:39:57.482Z"
   },
   {
    "duration": 10,
    "start_time": "2022-07-11T16:40:01.280Z"
   },
   {
    "duration": 64,
    "start_time": "2022-07-11T16:40:01.292Z"
   },
   {
    "duration": 288,
    "start_time": "2022-07-11T16:40:01.358Z"
   },
   {
    "duration": 11,
    "start_time": "2022-07-11T16:40:01.648Z"
   },
   {
    "duration": 33,
    "start_time": "2022-07-11T16:40:01.660Z"
   },
   {
    "duration": 40,
    "start_time": "2022-07-11T16:40:01.695Z"
   },
   {
    "duration": 1943,
    "start_time": "2022-07-11T16:40:01.737Z"
   },
   {
    "duration": 0,
    "start_time": "2022-07-11T16:40:03.685Z"
   },
   {
    "duration": 0,
    "start_time": "2022-07-11T16:40:03.687Z"
   },
   {
    "duration": 0,
    "start_time": "2022-07-11T16:40:03.688Z"
   },
   {
    "duration": 0,
    "start_time": "2022-07-11T16:40:03.689Z"
   },
   {
    "duration": 0,
    "start_time": "2022-07-11T16:40:03.691Z"
   },
   {
    "duration": 0,
    "start_time": "2022-07-11T16:40:03.692Z"
   },
   {
    "duration": 0,
    "start_time": "2022-07-11T16:40:03.694Z"
   },
   {
    "duration": 0,
    "start_time": "2022-07-11T16:40:03.695Z"
   },
   {
    "duration": 1,
    "start_time": "2022-07-11T16:40:03.696Z"
   },
   {
    "duration": 0,
    "start_time": "2022-07-11T16:40:03.698Z"
   },
   {
    "duration": 0,
    "start_time": "2022-07-11T16:40:03.699Z"
   },
   {
    "duration": 0,
    "start_time": "2022-07-11T16:40:03.701Z"
   },
   {
    "duration": 0,
    "start_time": "2022-07-11T16:40:03.702Z"
   },
   {
    "duration": 0,
    "start_time": "2022-07-11T16:40:03.704Z"
   },
   {
    "duration": 0,
    "start_time": "2022-07-11T16:40:03.705Z"
   },
   {
    "duration": 0,
    "start_time": "2022-07-11T16:40:03.707Z"
   },
   {
    "duration": 1,
    "start_time": "2022-07-11T16:40:03.708Z"
   },
   {
    "duration": 0,
    "start_time": "2022-07-11T16:40:03.710Z"
   },
   {
    "duration": 0,
    "start_time": "2022-07-11T16:40:03.711Z"
   },
   {
    "duration": 0,
    "start_time": "2022-07-11T16:40:03.713Z"
   },
   {
    "duration": 0,
    "start_time": "2022-07-11T16:40:03.714Z"
   },
   {
    "duration": 0,
    "start_time": "2022-07-11T16:40:03.715Z"
   },
   {
    "duration": 0,
    "start_time": "2022-07-11T16:40:03.716Z"
   },
   {
    "duration": 0,
    "start_time": "2022-07-11T16:40:03.718Z"
   },
   {
    "duration": 0,
    "start_time": "2022-07-11T16:40:03.720Z"
   },
   {
    "duration": 0,
    "start_time": "2022-07-11T16:40:03.722Z"
   },
   {
    "duration": 0,
    "start_time": "2022-07-11T16:40:03.723Z"
   },
   {
    "duration": 0,
    "start_time": "2022-07-11T16:40:03.724Z"
   },
   {
    "duration": 0,
    "start_time": "2022-07-11T16:40:03.725Z"
   },
   {
    "duration": 0,
    "start_time": "2022-07-11T16:40:03.727Z"
   },
   {
    "duration": 0,
    "start_time": "2022-07-11T16:40:03.728Z"
   },
   {
    "duration": 0,
    "start_time": "2022-07-11T16:40:03.729Z"
   },
   {
    "duration": 0,
    "start_time": "2022-07-11T16:40:03.730Z"
   },
   {
    "duration": 0,
    "start_time": "2022-07-11T16:40:03.732Z"
   },
   {
    "duration": 0,
    "start_time": "2022-07-11T16:40:03.733Z"
   },
   {
    "duration": 0,
    "start_time": "2022-07-11T16:40:03.734Z"
   },
   {
    "duration": 0,
    "start_time": "2022-07-11T16:40:03.735Z"
   },
   {
    "duration": 0,
    "start_time": "2022-07-11T16:40:03.736Z"
   },
   {
    "duration": 2531,
    "start_time": "2022-07-11T16:43:26.053Z"
   },
   {
    "duration": 1203,
    "start_time": "2022-07-11T16:43:28.586Z"
   },
   {
    "duration": 16,
    "start_time": "2022-07-11T16:43:29.791Z"
   },
   {
    "duration": 4,
    "start_time": "2022-07-11T16:43:29.809Z"
   },
   {
    "duration": 28,
    "start_time": "2022-07-11T16:43:29.815Z"
   },
   {
    "duration": 13,
    "start_time": "2022-07-11T16:43:29.844Z"
   },
   {
    "duration": 17,
    "start_time": "2022-07-11T16:43:29.858Z"
   },
   {
    "duration": 32,
    "start_time": "2022-07-11T16:43:29.877Z"
   },
   {
    "duration": 10,
    "start_time": "2022-07-11T16:43:29.911Z"
   },
   {
    "duration": 24,
    "start_time": "2022-07-11T16:43:29.924Z"
   },
   {
    "duration": 7,
    "start_time": "2022-07-11T16:43:29.949Z"
   },
   {
    "duration": 14,
    "start_time": "2022-07-11T16:43:29.957Z"
   },
   {
    "duration": 9,
    "start_time": "2022-07-11T16:43:29.973Z"
   },
   {
    "duration": 3799,
    "start_time": "2022-07-11T16:43:29.983Z"
   },
   {
    "duration": 12,
    "start_time": "2022-07-11T16:43:33.784Z"
   },
   {
    "duration": 5,
    "start_time": "2022-07-11T16:43:33.798Z"
   },
   {
    "duration": 273,
    "start_time": "2022-07-11T16:43:33.804Z"
   },
   {
    "duration": 11,
    "start_time": "2022-07-11T16:43:34.079Z"
   },
   {
    "duration": 11,
    "start_time": "2022-07-11T16:43:34.092Z"
   },
   {
    "duration": 17,
    "start_time": "2022-07-11T16:43:34.105Z"
   },
   {
    "duration": 438,
    "start_time": "2022-07-11T16:43:34.124Z"
   },
   {
    "duration": 152,
    "start_time": "2022-07-11T16:43:34.564Z"
   },
   {
    "duration": 12,
    "start_time": "2022-07-11T16:43:34.717Z"
   },
   {
    "duration": 19,
    "start_time": "2022-07-11T16:43:34.731Z"
   },
   {
    "duration": 292,
    "start_time": "2022-07-11T16:43:34.752Z"
   },
   {
    "duration": 158,
    "start_time": "2022-07-11T16:43:35.045Z"
   },
   {
    "duration": 4,
    "start_time": "2022-07-11T16:43:35.205Z"
   },
   {
    "duration": 5,
    "start_time": "2022-07-11T16:43:35.222Z"
   },
   {
    "duration": 11,
    "start_time": "2022-07-11T16:43:35.229Z"
   },
   {
    "duration": 18,
    "start_time": "2022-07-11T16:43:35.242Z"
   },
   {
    "duration": 27,
    "start_time": "2022-07-11T16:43:35.262Z"
   },
   {
    "duration": 8,
    "start_time": "2022-07-11T16:43:35.291Z"
   },
   {
    "duration": 8,
    "start_time": "2022-07-11T16:43:35.300Z"
   },
   {
    "duration": 16,
    "start_time": "2022-07-11T16:43:35.310Z"
   },
   {
    "duration": 404,
    "start_time": "2022-07-11T16:43:35.328Z"
   },
   {
    "duration": 4,
    "start_time": "2022-07-11T16:43:35.734Z"
   },
   {
    "duration": 17,
    "start_time": "2022-07-11T16:43:35.740Z"
   },
   {
    "duration": 8,
    "start_time": "2022-07-11T16:43:35.759Z"
   },
   {
    "duration": 458,
    "start_time": "2022-07-11T16:43:35.768Z"
   },
   {
    "duration": 5,
    "start_time": "2022-07-11T16:43:36.228Z"
   },
   {
    "duration": 10,
    "start_time": "2022-07-11T16:43:36.234Z"
   },
   {
    "duration": 19,
    "start_time": "2022-07-11T16:43:36.246Z"
   },
   {
    "duration": 68,
    "start_time": "2022-07-11T16:43:36.267Z"
   },
   {
    "duration": 95,
    "start_time": "2022-07-11T16:43:36.336Z"
   },
   {
    "duration": 90,
    "start_time": "2022-07-11T16:43:36.433Z"
   },
   {
    "duration": 4,
    "start_time": "2022-07-11T16:43:36.525Z"
   },
   {
    "duration": 9,
    "start_time": "2022-07-11T16:43:36.531Z"
   },
   {
    "duration": 80,
    "start_time": "2022-07-11T16:43:36.542Z"
   },
   {
    "duration": 5,
    "start_time": "2022-07-11T16:43:36.624Z"
   },
   {
    "duration": 93,
    "start_time": "2022-07-11T16:43:36.631Z"
   },
   {
    "duration": 98,
    "start_time": "2022-07-11T16:43:36.726Z"
   },
   {
    "duration": 12,
    "start_time": "2022-07-11T16:43:36.826Z"
   },
   {
    "duration": 13,
    "start_time": "2022-07-11T16:43:36.839Z"
   },
   {
    "duration": 69,
    "start_time": "2022-07-11T16:43:36.854Z"
   },
   {
    "duration": 3,
    "start_time": "2022-07-11T16:43:36.925Z"
   },
   {
    "duration": 11,
    "start_time": "2022-07-11T16:43:36.930Z"
   },
   {
    "duration": 9,
    "start_time": "2022-07-11T16:43:37.023Z"
   },
   {
    "duration": 96,
    "start_time": "2022-07-11T16:43:37.034Z"
   },
   {
    "duration": 96,
    "start_time": "2022-07-11T16:43:37.133Z"
   },
   {
    "duration": 2716,
    "start_time": "2022-07-11T16:45:50.589Z"
   },
   {
    "duration": 1299,
    "start_time": "2022-07-11T16:45:53.308Z"
   },
   {
    "duration": 25,
    "start_time": "2022-07-11T16:45:54.609Z"
   },
   {
    "duration": 7,
    "start_time": "2022-07-11T16:45:54.638Z"
   },
   {
    "duration": 20,
    "start_time": "2022-07-11T16:45:54.647Z"
   },
   {
    "duration": 11,
    "start_time": "2022-07-11T16:45:54.669Z"
   },
   {
    "duration": 4,
    "start_time": "2022-07-11T16:45:54.682Z"
   },
   {
    "duration": 14,
    "start_time": "2022-07-11T16:45:54.687Z"
   },
   {
    "duration": 20,
    "start_time": "2022-07-11T16:45:54.703Z"
   },
   {
    "duration": 24,
    "start_time": "2022-07-11T16:45:54.726Z"
   },
   {
    "duration": 7,
    "start_time": "2022-07-11T16:45:54.751Z"
   },
   {
    "duration": 8,
    "start_time": "2022-07-11T16:45:54.759Z"
   },
   {
    "duration": 6,
    "start_time": "2022-07-11T16:45:54.768Z"
   },
   {
    "duration": 3751,
    "start_time": "2022-07-11T16:45:54.775Z"
   },
   {
    "duration": 10,
    "start_time": "2022-07-11T16:45:58.527Z"
   },
   {
    "duration": 11,
    "start_time": "2022-07-11T16:45:58.539Z"
   },
   {
    "duration": 270,
    "start_time": "2022-07-11T16:45:58.551Z"
   },
   {
    "duration": 10,
    "start_time": "2022-07-11T16:45:58.822Z"
   },
   {
    "duration": 7,
    "start_time": "2022-07-11T16:45:58.834Z"
   },
   {
    "duration": 7,
    "start_time": "2022-07-11T16:45:58.842Z"
   },
   {
    "duration": 514,
    "start_time": "2022-07-11T16:45:58.850Z"
   },
   {
    "duration": 0,
    "start_time": "2022-07-11T16:45:59.367Z"
   },
   {
    "duration": 1,
    "start_time": "2022-07-11T16:45:59.368Z"
   },
   {
    "duration": 0,
    "start_time": "2022-07-11T16:45:59.369Z"
   },
   {
    "duration": 0,
    "start_time": "2022-07-11T16:45:59.370Z"
   },
   {
    "duration": 0,
    "start_time": "2022-07-11T16:45:59.372Z"
   },
   {
    "duration": 0,
    "start_time": "2022-07-11T16:45:59.372Z"
   },
   {
    "duration": 0,
    "start_time": "2022-07-11T16:45:59.373Z"
   },
   {
    "duration": 0,
    "start_time": "2022-07-11T16:45:59.374Z"
   },
   {
    "duration": 0,
    "start_time": "2022-07-11T16:45:59.375Z"
   },
   {
    "duration": 0,
    "start_time": "2022-07-11T16:45:59.376Z"
   },
   {
    "duration": 0,
    "start_time": "2022-07-11T16:45:59.377Z"
   },
   {
    "duration": 0,
    "start_time": "2022-07-11T16:45:59.377Z"
   },
   {
    "duration": 0,
    "start_time": "2022-07-11T16:45:59.378Z"
   },
   {
    "duration": 0,
    "start_time": "2022-07-11T16:45:59.379Z"
   },
   {
    "duration": 0,
    "start_time": "2022-07-11T16:45:59.380Z"
   },
   {
    "duration": 0,
    "start_time": "2022-07-11T16:45:59.381Z"
   },
   {
    "duration": 0,
    "start_time": "2022-07-11T16:45:59.382Z"
   },
   {
    "duration": 0,
    "start_time": "2022-07-11T16:45:59.383Z"
   },
   {
    "duration": 0,
    "start_time": "2022-07-11T16:45:59.384Z"
   },
   {
    "duration": 0,
    "start_time": "2022-07-11T16:45:59.385Z"
   },
   {
    "duration": 0,
    "start_time": "2022-07-11T16:45:59.387Z"
   },
   {
    "duration": 0,
    "start_time": "2022-07-11T16:45:59.388Z"
   },
   {
    "duration": 0,
    "start_time": "2022-07-11T16:45:59.423Z"
   },
   {
    "duration": 0,
    "start_time": "2022-07-11T16:45:59.425Z"
   },
   {
    "duration": 0,
    "start_time": "2022-07-11T16:45:59.426Z"
   },
   {
    "duration": 0,
    "start_time": "2022-07-11T16:45:59.427Z"
   },
   {
    "duration": 0,
    "start_time": "2022-07-11T16:45:59.428Z"
   },
   {
    "duration": 0,
    "start_time": "2022-07-11T16:45:59.429Z"
   },
   {
    "duration": 0,
    "start_time": "2022-07-11T16:45:59.431Z"
   },
   {
    "duration": 0,
    "start_time": "2022-07-11T16:45:59.432Z"
   },
   {
    "duration": 0,
    "start_time": "2022-07-11T16:45:59.433Z"
   },
   {
    "duration": 0,
    "start_time": "2022-07-11T16:45:59.434Z"
   },
   {
    "duration": 0,
    "start_time": "2022-07-11T16:45:59.435Z"
   },
   {
    "duration": 0,
    "start_time": "2022-07-11T16:45:59.436Z"
   },
   {
    "duration": 0,
    "start_time": "2022-07-11T16:45:59.437Z"
   },
   {
    "duration": 0,
    "start_time": "2022-07-11T16:45:59.438Z"
   },
   {
    "duration": 0,
    "start_time": "2022-07-11T16:45:59.439Z"
   },
   {
    "duration": 0,
    "start_time": "2022-07-11T16:45:59.440Z"
   },
   {
    "duration": 2618,
    "start_time": "2022-07-11T16:48:43.854Z"
   },
   {
    "duration": 60,
    "start_time": "2022-07-11T16:48:46.475Z"
   },
   {
    "duration": 0,
    "start_time": "2022-07-11T16:48:46.538Z"
   },
   {
    "duration": 0,
    "start_time": "2022-07-11T16:48:46.539Z"
   },
   {
    "duration": 0,
    "start_time": "2022-07-11T16:48:46.541Z"
   },
   {
    "duration": 0,
    "start_time": "2022-07-11T16:48:46.542Z"
   },
   {
    "duration": 0,
    "start_time": "2022-07-11T16:48:46.543Z"
   },
   {
    "duration": 0,
    "start_time": "2022-07-11T16:48:46.544Z"
   },
   {
    "duration": 0,
    "start_time": "2022-07-11T16:48:46.545Z"
   },
   {
    "duration": 0,
    "start_time": "2022-07-11T16:48:46.546Z"
   },
   {
    "duration": 0,
    "start_time": "2022-07-11T16:48:46.547Z"
   },
   {
    "duration": 0,
    "start_time": "2022-07-11T16:48:46.548Z"
   },
   {
    "duration": 0,
    "start_time": "2022-07-11T16:48:46.549Z"
   },
   {
    "duration": 0,
    "start_time": "2022-07-11T16:48:46.550Z"
   },
   {
    "duration": 0,
    "start_time": "2022-07-11T16:48:46.551Z"
   },
   {
    "duration": 0,
    "start_time": "2022-07-11T16:48:46.552Z"
   },
   {
    "duration": 0,
    "start_time": "2022-07-11T16:48:46.553Z"
   },
   {
    "duration": 0,
    "start_time": "2022-07-11T16:48:46.554Z"
   },
   {
    "duration": 0,
    "start_time": "2022-07-11T16:48:46.555Z"
   },
   {
    "duration": 0,
    "start_time": "2022-07-11T16:48:46.556Z"
   },
   {
    "duration": 0,
    "start_time": "2022-07-11T16:48:46.557Z"
   },
   {
    "duration": 0,
    "start_time": "2022-07-11T16:48:46.558Z"
   },
   {
    "duration": 0,
    "start_time": "2022-07-11T16:48:46.559Z"
   },
   {
    "duration": 0,
    "start_time": "2022-07-11T16:48:46.560Z"
   },
   {
    "duration": 0,
    "start_time": "2022-07-11T16:48:46.561Z"
   },
   {
    "duration": 0,
    "start_time": "2022-07-11T16:48:46.562Z"
   },
   {
    "duration": 0,
    "start_time": "2022-07-11T16:48:46.562Z"
   },
   {
    "duration": 0,
    "start_time": "2022-07-11T16:48:46.563Z"
   },
   {
    "duration": 0,
    "start_time": "2022-07-11T16:48:46.564Z"
   },
   {
    "duration": 0,
    "start_time": "2022-07-11T16:48:46.565Z"
   },
   {
    "duration": 0,
    "start_time": "2022-07-11T16:48:46.566Z"
   },
   {
    "duration": 0,
    "start_time": "2022-07-11T16:48:46.567Z"
   },
   {
    "duration": 0,
    "start_time": "2022-07-11T16:48:46.568Z"
   },
   {
    "duration": 0,
    "start_time": "2022-07-11T16:48:46.570Z"
   },
   {
    "duration": 0,
    "start_time": "2022-07-11T16:48:46.571Z"
   },
   {
    "duration": 1,
    "start_time": "2022-07-11T16:48:46.571Z"
   },
   {
    "duration": 0,
    "start_time": "2022-07-11T16:48:46.572Z"
   },
   {
    "duration": 0,
    "start_time": "2022-07-11T16:48:46.623Z"
   },
   {
    "duration": 0,
    "start_time": "2022-07-11T16:48:46.624Z"
   },
   {
    "duration": 0,
    "start_time": "2022-07-11T16:48:46.625Z"
   },
   {
    "duration": 0,
    "start_time": "2022-07-11T16:48:46.626Z"
   },
   {
    "duration": 0,
    "start_time": "2022-07-11T16:48:46.626Z"
   },
   {
    "duration": 0,
    "start_time": "2022-07-11T16:48:46.627Z"
   },
   {
    "duration": 0,
    "start_time": "2022-07-11T16:48:46.628Z"
   },
   {
    "duration": 0,
    "start_time": "2022-07-11T16:48:46.629Z"
   },
   {
    "duration": 0,
    "start_time": "2022-07-11T16:48:46.630Z"
   },
   {
    "duration": 0,
    "start_time": "2022-07-11T16:48:46.631Z"
   },
   {
    "duration": 0,
    "start_time": "2022-07-11T16:48:46.632Z"
   },
   {
    "duration": 0,
    "start_time": "2022-07-11T16:48:46.633Z"
   },
   {
    "duration": 1,
    "start_time": "2022-07-11T16:48:46.633Z"
   },
   {
    "duration": 0,
    "start_time": "2022-07-11T16:48:46.634Z"
   },
   {
    "duration": 0,
    "start_time": "2022-07-11T16:48:46.636Z"
   },
   {
    "duration": 0,
    "start_time": "2022-07-11T16:48:46.636Z"
   },
   {
    "duration": 0,
    "start_time": "2022-07-11T16:48:46.637Z"
   },
   {
    "duration": 0,
    "start_time": "2022-07-11T16:48:46.638Z"
   },
   {
    "duration": 0,
    "start_time": "2022-07-11T16:48:46.639Z"
   },
   {
    "duration": 0,
    "start_time": "2022-07-11T16:48:46.640Z"
   },
   {
    "duration": 0,
    "start_time": "2022-07-11T16:48:46.641Z"
   },
   {
    "duration": 0,
    "start_time": "2022-07-11T16:48:46.642Z"
   },
   {
    "duration": 2629,
    "start_time": "2022-07-11T16:49:29.474Z"
   },
   {
    "duration": 1228,
    "start_time": "2022-07-11T16:49:32.106Z"
   },
   {
    "duration": 18,
    "start_time": "2022-07-11T16:49:33.336Z"
   },
   {
    "duration": 3,
    "start_time": "2022-07-11T16:49:33.356Z"
   },
   {
    "duration": 29,
    "start_time": "2022-07-11T16:49:33.360Z"
   },
   {
    "duration": 11,
    "start_time": "2022-07-11T16:49:33.390Z"
   },
   {
    "duration": 5,
    "start_time": "2022-07-11T16:49:33.402Z"
   },
   {
    "duration": 26,
    "start_time": "2022-07-11T16:49:33.408Z"
   },
   {
    "duration": 7,
    "start_time": "2022-07-11T16:49:33.436Z"
   },
   {
    "duration": 27,
    "start_time": "2022-07-11T16:49:33.446Z"
   },
   {
    "duration": 6,
    "start_time": "2022-07-11T16:49:33.475Z"
   },
   {
    "duration": 9,
    "start_time": "2022-07-11T16:49:33.483Z"
   },
   {
    "duration": 8,
    "start_time": "2022-07-11T16:49:33.494Z"
   },
   {
    "duration": 3714,
    "start_time": "2022-07-11T16:49:33.504Z"
   },
   {
    "duration": 11,
    "start_time": "2022-07-11T16:49:37.220Z"
   },
   {
    "duration": 4,
    "start_time": "2022-07-11T16:49:37.233Z"
   },
   {
    "duration": 302,
    "start_time": "2022-07-11T16:49:37.238Z"
   },
   {
    "duration": 10,
    "start_time": "2022-07-11T16:49:37.542Z"
   },
   {
    "duration": 21,
    "start_time": "2022-07-11T16:49:37.553Z"
   },
   {
    "duration": 15,
    "start_time": "2022-07-11T16:49:37.576Z"
   },
   {
    "duration": 642,
    "start_time": "2022-07-11T16:49:37.593Z"
   },
   {
    "duration": 0,
    "start_time": "2022-07-11T16:49:38.238Z"
   },
   {
    "duration": 0,
    "start_time": "2022-07-11T16:49:38.239Z"
   },
   {
    "duration": 0,
    "start_time": "2022-07-11T16:49:38.240Z"
   },
   {
    "duration": 0,
    "start_time": "2022-07-11T16:49:38.241Z"
   },
   {
    "duration": 0,
    "start_time": "2022-07-11T16:49:38.242Z"
   },
   {
    "duration": 0,
    "start_time": "2022-07-11T16:49:38.243Z"
   },
   {
    "duration": 0,
    "start_time": "2022-07-11T16:49:38.244Z"
   },
   {
    "duration": 0,
    "start_time": "2022-07-11T16:49:38.245Z"
   },
   {
    "duration": 0,
    "start_time": "2022-07-11T16:49:38.246Z"
   },
   {
    "duration": 0,
    "start_time": "2022-07-11T16:49:38.247Z"
   },
   {
    "duration": 0,
    "start_time": "2022-07-11T16:49:38.249Z"
   },
   {
    "duration": 0,
    "start_time": "2022-07-11T16:49:38.249Z"
   },
   {
    "duration": 0,
    "start_time": "2022-07-11T16:49:38.250Z"
   },
   {
    "duration": 0,
    "start_time": "2022-07-11T16:49:38.252Z"
   },
   {
    "duration": 0,
    "start_time": "2022-07-11T16:49:38.253Z"
   },
   {
    "duration": 0,
    "start_time": "2022-07-11T16:49:38.254Z"
   },
   {
    "duration": 0,
    "start_time": "2022-07-11T16:49:38.255Z"
   },
   {
    "duration": 0,
    "start_time": "2022-07-11T16:49:38.256Z"
   },
   {
    "duration": 0,
    "start_time": "2022-07-11T16:49:38.257Z"
   },
   {
    "duration": 0,
    "start_time": "2022-07-11T16:49:38.258Z"
   },
   {
    "duration": 0,
    "start_time": "2022-07-11T16:49:38.259Z"
   },
   {
    "duration": 0,
    "start_time": "2022-07-11T16:49:38.260Z"
   },
   {
    "duration": 0,
    "start_time": "2022-07-11T16:49:38.261Z"
   },
   {
    "duration": 0,
    "start_time": "2022-07-11T16:49:38.262Z"
   },
   {
    "duration": 0,
    "start_time": "2022-07-11T16:49:38.263Z"
   },
   {
    "duration": 0,
    "start_time": "2022-07-11T16:49:38.265Z"
   },
   {
    "duration": 0,
    "start_time": "2022-07-11T16:49:38.266Z"
   },
   {
    "duration": 0,
    "start_time": "2022-07-11T16:49:38.267Z"
   },
   {
    "duration": 0,
    "start_time": "2022-07-11T16:49:38.269Z"
   },
   {
    "duration": 0,
    "start_time": "2022-07-11T16:49:38.270Z"
   },
   {
    "duration": 0,
    "start_time": "2022-07-11T16:49:38.272Z"
   },
   {
    "duration": 0,
    "start_time": "2022-07-11T16:49:38.323Z"
   },
   {
    "duration": 0,
    "start_time": "2022-07-11T16:49:38.325Z"
   },
   {
    "duration": 0,
    "start_time": "2022-07-11T16:49:38.326Z"
   },
   {
    "duration": 0,
    "start_time": "2022-07-11T16:49:38.327Z"
   },
   {
    "duration": 0,
    "start_time": "2022-07-11T16:49:38.328Z"
   },
   {
    "duration": 0,
    "start_time": "2022-07-11T16:49:38.330Z"
   },
   {
    "duration": 0,
    "start_time": "2022-07-11T16:49:38.331Z"
   },
   {
    "duration": 2603,
    "start_time": "2022-07-11T16:50:58.276Z"
   },
   {
    "duration": 1250,
    "start_time": "2022-07-11T16:51:00.882Z"
   },
   {
    "duration": 17,
    "start_time": "2022-07-11T16:51:02.133Z"
   },
   {
    "duration": 7,
    "start_time": "2022-07-11T16:51:02.153Z"
   },
   {
    "duration": 33,
    "start_time": "2022-07-11T16:51:02.161Z"
   },
   {
    "duration": 12,
    "start_time": "2022-07-11T16:51:02.196Z"
   },
   {
    "duration": 9,
    "start_time": "2022-07-11T16:51:02.210Z"
   },
   {
    "duration": 31,
    "start_time": "2022-07-11T16:51:02.220Z"
   },
   {
    "duration": 11,
    "start_time": "2022-07-11T16:51:02.253Z"
   },
   {
    "duration": 34,
    "start_time": "2022-07-11T16:51:02.267Z"
   },
   {
    "duration": 8,
    "start_time": "2022-07-11T16:51:02.303Z"
   },
   {
    "duration": 10,
    "start_time": "2022-07-11T16:51:02.313Z"
   },
   {
    "duration": 30,
    "start_time": "2022-07-11T16:51:02.325Z"
   },
   {
    "duration": 3873,
    "start_time": "2022-07-11T16:51:02.357Z"
   },
   {
    "duration": 12,
    "start_time": "2022-07-11T16:51:06.232Z"
   },
   {
    "duration": 4,
    "start_time": "2022-07-11T16:51:06.246Z"
   },
   {
    "duration": 281,
    "start_time": "2022-07-11T16:51:06.252Z"
   },
   {
    "duration": 12,
    "start_time": "2022-07-11T16:51:06.535Z"
   },
   {
    "duration": 11,
    "start_time": "2022-07-11T16:51:06.549Z"
   },
   {
    "duration": 7,
    "start_time": "2022-07-11T16:51:06.562Z"
   },
   {
    "duration": 579,
    "start_time": "2022-07-11T16:51:06.571Z"
   },
   {
    "duration": 0,
    "start_time": "2022-07-11T16:51:07.153Z"
   },
   {
    "duration": 0,
    "start_time": "2022-07-11T16:51:07.154Z"
   },
   {
    "duration": 0,
    "start_time": "2022-07-11T16:51:07.155Z"
   },
   {
    "duration": 0,
    "start_time": "2022-07-11T16:51:07.156Z"
   },
   {
    "duration": 0,
    "start_time": "2022-07-11T16:51:07.158Z"
   },
   {
    "duration": 0,
    "start_time": "2022-07-11T16:51:07.159Z"
   },
   {
    "duration": 0,
    "start_time": "2022-07-11T16:51:07.160Z"
   },
   {
    "duration": 0,
    "start_time": "2022-07-11T16:51:07.161Z"
   },
   {
    "duration": 0,
    "start_time": "2022-07-11T16:51:07.162Z"
   },
   {
    "duration": 0,
    "start_time": "2022-07-11T16:51:07.163Z"
   },
   {
    "duration": 0,
    "start_time": "2022-07-11T16:51:07.165Z"
   },
   {
    "duration": 0,
    "start_time": "2022-07-11T16:51:07.166Z"
   },
   {
    "duration": 0,
    "start_time": "2022-07-11T16:51:07.167Z"
   },
   {
    "duration": 0,
    "start_time": "2022-07-11T16:51:07.168Z"
   },
   {
    "duration": 0,
    "start_time": "2022-07-11T16:51:07.169Z"
   },
   {
    "duration": 0,
    "start_time": "2022-07-11T16:51:07.170Z"
   },
   {
    "duration": 0,
    "start_time": "2022-07-11T16:51:07.171Z"
   },
   {
    "duration": 0,
    "start_time": "2022-07-11T16:51:07.172Z"
   },
   {
    "duration": 0,
    "start_time": "2022-07-11T16:51:07.173Z"
   },
   {
    "duration": 0,
    "start_time": "2022-07-11T16:51:07.174Z"
   },
   {
    "duration": 0,
    "start_time": "2022-07-11T16:51:07.175Z"
   },
   {
    "duration": 0,
    "start_time": "2022-07-11T16:51:07.176Z"
   },
   {
    "duration": 0,
    "start_time": "2022-07-11T16:51:07.178Z"
   },
   {
    "duration": 0,
    "start_time": "2022-07-11T16:51:07.178Z"
   },
   {
    "duration": 0,
    "start_time": "2022-07-11T16:51:07.179Z"
   },
   {
    "duration": 0,
    "start_time": "2022-07-11T16:51:07.222Z"
   },
   {
    "duration": 0,
    "start_time": "2022-07-11T16:51:07.223Z"
   },
   {
    "duration": 0,
    "start_time": "2022-07-11T16:51:07.225Z"
   },
   {
    "duration": 0,
    "start_time": "2022-07-11T16:51:07.226Z"
   },
   {
    "duration": 0,
    "start_time": "2022-07-11T16:51:07.227Z"
   },
   {
    "duration": 0,
    "start_time": "2022-07-11T16:51:07.228Z"
   },
   {
    "duration": 0,
    "start_time": "2022-07-11T16:51:07.229Z"
   },
   {
    "duration": 0,
    "start_time": "2022-07-11T16:51:07.230Z"
   },
   {
    "duration": 0,
    "start_time": "2022-07-11T16:51:07.231Z"
   },
   {
    "duration": 0,
    "start_time": "2022-07-11T16:51:07.232Z"
   },
   {
    "duration": 0,
    "start_time": "2022-07-11T16:51:07.233Z"
   },
   {
    "duration": 0,
    "start_time": "2022-07-11T16:51:07.235Z"
   },
   {
    "duration": 0,
    "start_time": "2022-07-11T16:51:07.236Z"
   },
   {
    "duration": 2595,
    "start_time": "2022-07-11T16:51:59.239Z"
   },
   {
    "duration": 1289,
    "start_time": "2022-07-11T16:52:01.837Z"
   },
   {
    "duration": 17,
    "start_time": "2022-07-11T16:52:03.128Z"
   },
   {
    "duration": 4,
    "start_time": "2022-07-11T16:52:03.147Z"
   },
   {
    "duration": 17,
    "start_time": "2022-07-11T16:52:03.152Z"
   },
   {
    "duration": 10,
    "start_time": "2022-07-11T16:52:03.171Z"
   },
   {
    "duration": 18,
    "start_time": "2022-07-11T16:52:03.184Z"
   },
   {
    "duration": 28,
    "start_time": "2022-07-11T16:52:03.204Z"
   },
   {
    "duration": 12,
    "start_time": "2022-07-11T16:52:03.233Z"
   },
   {
    "duration": 28,
    "start_time": "2022-07-11T16:52:03.247Z"
   },
   {
    "duration": 6,
    "start_time": "2022-07-11T16:52:03.277Z"
   },
   {
    "duration": 8,
    "start_time": "2022-07-11T16:52:03.285Z"
   },
   {
    "duration": 5,
    "start_time": "2022-07-11T16:52:03.294Z"
   },
   {
    "duration": 3813,
    "start_time": "2022-07-11T16:52:03.301Z"
   },
   {
    "duration": 12,
    "start_time": "2022-07-11T16:52:07.116Z"
   },
   {
    "duration": 5,
    "start_time": "2022-07-11T16:52:07.130Z"
   },
   {
    "duration": 309,
    "start_time": "2022-07-11T16:52:07.137Z"
   },
   {
    "duration": 10,
    "start_time": "2022-07-11T16:52:07.447Z"
   },
   {
    "duration": 5,
    "start_time": "2022-07-11T16:52:07.459Z"
   },
   {
    "duration": 7,
    "start_time": "2022-07-11T16:52:07.465Z"
   },
   {
    "duration": 558,
    "start_time": "2022-07-11T16:52:07.474Z"
   },
   {
    "duration": 0,
    "start_time": "2022-07-11T16:52:08.035Z"
   },
   {
    "duration": 0,
    "start_time": "2022-07-11T16:52:08.036Z"
   },
   {
    "duration": 0,
    "start_time": "2022-07-11T16:52:08.037Z"
   },
   {
    "duration": 0,
    "start_time": "2022-07-11T16:52:08.038Z"
   },
   {
    "duration": 0,
    "start_time": "2022-07-11T16:52:08.039Z"
   },
   {
    "duration": 0,
    "start_time": "2022-07-11T16:52:08.041Z"
   },
   {
    "duration": 0,
    "start_time": "2022-07-11T16:52:08.042Z"
   },
   {
    "duration": 0,
    "start_time": "2022-07-11T16:52:08.043Z"
   },
   {
    "duration": 0,
    "start_time": "2022-07-11T16:52:08.044Z"
   },
   {
    "duration": 0,
    "start_time": "2022-07-11T16:52:08.045Z"
   },
   {
    "duration": 0,
    "start_time": "2022-07-11T16:52:08.046Z"
   },
   {
    "duration": 0,
    "start_time": "2022-07-11T16:52:08.047Z"
   },
   {
    "duration": 0,
    "start_time": "2022-07-11T16:52:08.048Z"
   },
   {
    "duration": 0,
    "start_time": "2022-07-11T16:52:08.049Z"
   },
   {
    "duration": 0,
    "start_time": "2022-07-11T16:52:08.050Z"
   },
   {
    "duration": 0,
    "start_time": "2022-07-11T16:52:08.051Z"
   },
   {
    "duration": 0,
    "start_time": "2022-07-11T16:52:08.052Z"
   },
   {
    "duration": 0,
    "start_time": "2022-07-11T16:52:08.054Z"
   },
   {
    "duration": 0,
    "start_time": "2022-07-11T16:52:08.055Z"
   },
   {
    "duration": 0,
    "start_time": "2022-07-11T16:52:08.056Z"
   },
   {
    "duration": 0,
    "start_time": "2022-07-11T16:52:08.056Z"
   },
   {
    "duration": 0,
    "start_time": "2022-07-11T16:52:08.057Z"
   },
   {
    "duration": 0,
    "start_time": "2022-07-11T16:52:08.058Z"
   },
   {
    "duration": 0,
    "start_time": "2022-07-11T16:52:08.059Z"
   },
   {
    "duration": 0,
    "start_time": "2022-07-11T16:52:08.059Z"
   },
   {
    "duration": 0,
    "start_time": "2022-07-11T16:52:08.061Z"
   },
   {
    "duration": 0,
    "start_time": "2022-07-11T16:52:08.062Z"
   },
   {
    "duration": 0,
    "start_time": "2022-07-11T16:52:08.062Z"
   },
   {
    "duration": 0,
    "start_time": "2022-07-11T16:52:08.064Z"
   },
   {
    "duration": 0,
    "start_time": "2022-07-11T16:52:08.065Z"
   },
   {
    "duration": 0,
    "start_time": "2022-07-11T16:52:08.066Z"
   },
   {
    "duration": 0,
    "start_time": "2022-07-11T16:52:08.067Z"
   },
   {
    "duration": 0,
    "start_time": "2022-07-11T16:52:08.068Z"
   },
   {
    "duration": 0,
    "start_time": "2022-07-11T16:52:08.069Z"
   },
   {
    "duration": 0,
    "start_time": "2022-07-11T16:52:08.070Z"
   },
   {
    "duration": 0,
    "start_time": "2022-07-11T16:52:08.071Z"
   },
   {
    "duration": 0,
    "start_time": "2022-07-11T16:52:08.122Z"
   },
   {
    "duration": 0,
    "start_time": "2022-07-11T16:52:08.124Z"
   },
   {
    "duration": 2659,
    "start_time": "2022-07-11T16:55:35.587Z"
   },
   {
    "duration": 1251,
    "start_time": "2022-07-11T16:55:38.248Z"
   },
   {
    "duration": 17,
    "start_time": "2022-07-11T16:55:39.500Z"
   },
   {
    "duration": 4,
    "start_time": "2022-07-11T16:55:39.519Z"
   },
   {
    "duration": 21,
    "start_time": "2022-07-11T16:55:39.524Z"
   },
   {
    "duration": 14,
    "start_time": "2022-07-11T16:55:39.546Z"
   },
   {
    "duration": 9,
    "start_time": "2022-07-11T16:55:39.562Z"
   },
   {
    "duration": 15,
    "start_time": "2022-07-11T16:55:39.573Z"
   },
   {
    "duration": 6,
    "start_time": "2022-07-11T16:55:39.590Z"
   },
   {
    "duration": 30,
    "start_time": "2022-07-11T16:55:39.599Z"
   },
   {
    "duration": 6,
    "start_time": "2022-07-11T16:55:39.630Z"
   },
   {
    "duration": 12,
    "start_time": "2022-07-11T16:55:39.637Z"
   },
   {
    "duration": 16,
    "start_time": "2022-07-11T16:55:39.651Z"
   },
   {
    "duration": 3745,
    "start_time": "2022-07-11T16:55:39.669Z"
   },
   {
    "duration": 12,
    "start_time": "2022-07-11T16:55:43.416Z"
   },
   {
    "duration": 4,
    "start_time": "2022-07-11T16:55:43.429Z"
   },
   {
    "duration": 275,
    "start_time": "2022-07-11T16:55:43.435Z"
   },
   {
    "duration": 12,
    "start_time": "2022-07-11T16:55:43.712Z"
   },
   {
    "duration": 7,
    "start_time": "2022-07-11T16:55:43.726Z"
   },
   {
    "duration": 11,
    "start_time": "2022-07-11T16:55:43.735Z"
   },
   {
    "duration": 550,
    "start_time": "2022-07-11T16:55:43.748Z"
   },
   {
    "duration": 0,
    "start_time": "2022-07-11T16:55:44.301Z"
   },
   {
    "duration": 0,
    "start_time": "2022-07-11T16:55:44.302Z"
   },
   {
    "duration": 0,
    "start_time": "2022-07-11T16:55:44.303Z"
   },
   {
    "duration": 0,
    "start_time": "2022-07-11T16:55:44.304Z"
   },
   {
    "duration": 0,
    "start_time": "2022-07-11T16:55:44.305Z"
   },
   {
    "duration": 0,
    "start_time": "2022-07-11T16:55:44.306Z"
   },
   {
    "duration": 0,
    "start_time": "2022-07-11T16:55:44.306Z"
   },
   {
    "duration": 0,
    "start_time": "2022-07-11T16:55:44.323Z"
   },
   {
    "duration": 0,
    "start_time": "2022-07-11T16:55:44.324Z"
   },
   {
    "duration": 0,
    "start_time": "2022-07-11T16:55:44.325Z"
   },
   {
    "duration": 0,
    "start_time": "2022-07-11T16:55:44.326Z"
   },
   {
    "duration": 0,
    "start_time": "2022-07-11T16:55:44.327Z"
   },
   {
    "duration": 0,
    "start_time": "2022-07-11T16:55:44.328Z"
   },
   {
    "duration": 0,
    "start_time": "2022-07-11T16:55:44.329Z"
   },
   {
    "duration": 0,
    "start_time": "2022-07-11T16:55:44.330Z"
   },
   {
    "duration": 0,
    "start_time": "2022-07-11T16:55:44.331Z"
   },
   {
    "duration": 0,
    "start_time": "2022-07-11T16:55:44.332Z"
   },
   {
    "duration": 0,
    "start_time": "2022-07-11T16:55:44.333Z"
   },
   {
    "duration": 0,
    "start_time": "2022-07-11T16:55:44.335Z"
   },
   {
    "duration": 0,
    "start_time": "2022-07-11T16:55:44.336Z"
   },
   {
    "duration": 0,
    "start_time": "2022-07-11T16:55:44.337Z"
   },
   {
    "duration": 0,
    "start_time": "2022-07-11T16:55:44.338Z"
   },
   {
    "duration": 0,
    "start_time": "2022-07-11T16:55:44.339Z"
   },
   {
    "duration": 0,
    "start_time": "2022-07-11T16:55:44.340Z"
   },
   {
    "duration": 0,
    "start_time": "2022-07-11T16:55:44.340Z"
   },
   {
    "duration": 0,
    "start_time": "2022-07-11T16:55:44.342Z"
   },
   {
    "duration": 0,
    "start_time": "2022-07-11T16:55:44.343Z"
   },
   {
    "duration": 0,
    "start_time": "2022-07-11T16:55:44.344Z"
   },
   {
    "duration": 0,
    "start_time": "2022-07-11T16:55:44.345Z"
   },
   {
    "duration": 0,
    "start_time": "2022-07-11T16:55:44.346Z"
   },
   {
    "duration": 0,
    "start_time": "2022-07-11T16:55:44.348Z"
   },
   {
    "duration": 0,
    "start_time": "2022-07-11T16:55:44.348Z"
   },
   {
    "duration": 0,
    "start_time": "2022-07-11T16:55:44.350Z"
   },
   {
    "duration": 0,
    "start_time": "2022-07-11T16:55:44.350Z"
   },
   {
    "duration": 1,
    "start_time": "2022-07-11T16:55:44.351Z"
   },
   {
    "duration": 0,
    "start_time": "2022-07-11T16:55:44.353Z"
   },
   {
    "duration": 0,
    "start_time": "2022-07-11T16:55:44.354Z"
   },
   {
    "duration": 0,
    "start_time": "2022-07-11T16:55:44.355Z"
   },
   {
    "duration": 2631,
    "start_time": "2022-07-11T16:56:57.555Z"
   },
   {
    "duration": 1251,
    "start_time": "2022-07-11T16:57:00.188Z"
   },
   {
    "duration": 18,
    "start_time": "2022-07-11T16:57:01.441Z"
   },
   {
    "duration": 32,
    "start_time": "2022-07-11T16:57:01.460Z"
   },
   {
    "duration": 31,
    "start_time": "2022-07-11T16:57:01.493Z"
   },
   {
    "duration": 48,
    "start_time": "2022-07-11T16:57:01.525Z"
   },
   {
    "duration": 32,
    "start_time": "2022-07-11T16:57:01.575Z"
   },
   {
    "duration": 36,
    "start_time": "2022-07-11T16:57:01.609Z"
   },
   {
    "duration": 39,
    "start_time": "2022-07-11T16:57:01.647Z"
   },
   {
    "duration": 41,
    "start_time": "2022-07-11T16:57:01.688Z"
   },
   {
    "duration": 6,
    "start_time": "2022-07-11T16:57:01.731Z"
   },
   {
    "duration": 27,
    "start_time": "2022-07-11T16:57:01.739Z"
   },
   {
    "duration": 29,
    "start_time": "2022-07-11T16:57:01.767Z"
   },
   {
    "duration": 3904,
    "start_time": "2022-07-11T16:57:01.798Z"
   },
   {
    "duration": 11,
    "start_time": "2022-07-11T16:57:05.704Z"
   },
   {
    "duration": 5,
    "start_time": "2022-07-11T16:57:05.716Z"
   },
   {
    "duration": 276,
    "start_time": "2022-07-11T16:57:05.723Z"
   },
   {
    "duration": 10,
    "start_time": "2022-07-11T16:57:06.001Z"
   },
   {
    "duration": 4,
    "start_time": "2022-07-11T16:57:06.022Z"
   },
   {
    "duration": 10,
    "start_time": "2022-07-11T16:57:06.028Z"
   },
   {
    "duration": 527,
    "start_time": "2022-07-11T16:57:06.039Z"
   },
   {
    "duration": 0,
    "start_time": "2022-07-11T16:57:06.570Z"
   },
   {
    "duration": 0,
    "start_time": "2022-07-11T16:57:06.572Z"
   },
   {
    "duration": 0,
    "start_time": "2022-07-11T16:57:06.573Z"
   },
   {
    "duration": 0,
    "start_time": "2022-07-11T16:57:06.575Z"
   },
   {
    "duration": 0,
    "start_time": "2022-07-11T16:57:06.577Z"
   },
   {
    "duration": 0,
    "start_time": "2022-07-11T16:57:06.578Z"
   },
   {
    "duration": 0,
    "start_time": "2022-07-11T16:57:06.579Z"
   },
   {
    "duration": 0,
    "start_time": "2022-07-11T16:57:06.581Z"
   },
   {
    "duration": 0,
    "start_time": "2022-07-11T16:57:06.583Z"
   },
   {
    "duration": 0,
    "start_time": "2022-07-11T16:57:06.585Z"
   },
   {
    "duration": 0,
    "start_time": "2022-07-11T16:57:06.586Z"
   },
   {
    "duration": 0,
    "start_time": "2022-07-11T16:57:06.588Z"
   },
   {
    "duration": 0,
    "start_time": "2022-07-11T16:57:06.623Z"
   },
   {
    "duration": 0,
    "start_time": "2022-07-11T16:57:06.625Z"
   },
   {
    "duration": 0,
    "start_time": "2022-07-11T16:57:06.627Z"
   },
   {
    "duration": 0,
    "start_time": "2022-07-11T16:57:06.628Z"
   },
   {
    "duration": 0,
    "start_time": "2022-07-11T16:57:06.630Z"
   },
   {
    "duration": 0,
    "start_time": "2022-07-11T16:57:06.631Z"
   },
   {
    "duration": 0,
    "start_time": "2022-07-11T16:57:06.632Z"
   },
   {
    "duration": 0,
    "start_time": "2022-07-11T16:57:06.634Z"
   },
   {
    "duration": 0,
    "start_time": "2022-07-11T16:57:06.635Z"
   },
   {
    "duration": 0,
    "start_time": "2022-07-11T16:57:06.636Z"
   },
   {
    "duration": 0,
    "start_time": "2022-07-11T16:57:06.638Z"
   },
   {
    "duration": 0,
    "start_time": "2022-07-11T16:57:06.639Z"
   },
   {
    "duration": 0,
    "start_time": "2022-07-11T16:57:06.640Z"
   },
   {
    "duration": 0,
    "start_time": "2022-07-11T16:57:06.642Z"
   },
   {
    "duration": 0,
    "start_time": "2022-07-11T16:57:06.643Z"
   },
   {
    "duration": 0,
    "start_time": "2022-07-11T16:57:06.645Z"
   },
   {
    "duration": 0,
    "start_time": "2022-07-11T16:57:06.646Z"
   },
   {
    "duration": 0,
    "start_time": "2022-07-11T16:57:06.647Z"
   },
   {
    "duration": 0,
    "start_time": "2022-07-11T16:57:06.648Z"
   },
   {
    "duration": 0,
    "start_time": "2022-07-11T16:57:06.650Z"
   },
   {
    "duration": 0,
    "start_time": "2022-07-11T16:57:06.652Z"
   },
   {
    "duration": 0,
    "start_time": "2022-07-11T16:57:06.653Z"
   },
   {
    "duration": 0,
    "start_time": "2022-07-11T16:57:06.654Z"
   },
   {
    "duration": 0,
    "start_time": "2022-07-11T16:57:06.655Z"
   },
   {
    "duration": 0,
    "start_time": "2022-07-11T16:57:06.657Z"
   },
   {
    "duration": 0,
    "start_time": "2022-07-11T16:57:06.658Z"
   },
   {
    "duration": 2631,
    "start_time": "2022-07-11T16:59:55.337Z"
   },
   {
    "duration": 1210,
    "start_time": "2022-07-11T16:59:57.971Z"
   },
   {
    "duration": 17,
    "start_time": "2022-07-11T16:59:59.183Z"
   },
   {
    "duration": 4,
    "start_time": "2022-07-11T16:59:59.202Z"
   },
   {
    "duration": 27,
    "start_time": "2022-07-11T16:59:59.208Z"
   },
   {
    "duration": 13,
    "start_time": "2022-07-11T16:59:59.237Z"
   },
   {
    "duration": 6,
    "start_time": "2022-07-11T16:59:59.252Z"
   },
   {
    "duration": 14,
    "start_time": "2022-07-11T16:59:59.259Z"
   },
   {
    "duration": 5,
    "start_time": "2022-07-11T16:59:59.275Z"
   },
   {
    "duration": 40,
    "start_time": "2022-07-11T16:59:59.283Z"
   },
   {
    "duration": 6,
    "start_time": "2022-07-11T16:59:59.325Z"
   },
   {
    "duration": 8,
    "start_time": "2022-07-11T16:59:59.333Z"
   },
   {
    "duration": 13,
    "start_time": "2022-07-11T16:59:59.343Z"
   },
   {
    "duration": 3876,
    "start_time": "2022-07-11T16:59:59.358Z"
   },
   {
    "duration": 10,
    "start_time": "2022-07-11T17:00:03.236Z"
   },
   {
    "duration": 12,
    "start_time": "2022-07-11T17:00:03.248Z"
   },
   {
    "duration": 273,
    "start_time": "2022-07-11T17:00:03.262Z"
   },
   {
    "duration": 10,
    "start_time": "2022-07-11T17:00:03.537Z"
   },
   {
    "duration": 6,
    "start_time": "2022-07-11T17:00:03.549Z"
   },
   {
    "duration": 7,
    "start_time": "2022-07-11T17:00:03.557Z"
   },
   {
    "duration": 471,
    "start_time": "2022-07-11T17:00:03.566Z"
   },
   {
    "duration": 170,
    "start_time": "2022-07-11T17:00:04.038Z"
   },
   {
    "duration": 18,
    "start_time": "2022-07-11T17:00:04.210Z"
   },
   {
    "duration": 24,
    "start_time": "2022-07-11T17:00:04.230Z"
   },
   {
    "duration": 320,
    "start_time": "2022-07-11T17:00:04.255Z"
   },
   {
    "duration": 171,
    "start_time": "2022-07-11T17:00:04.577Z"
   },
   {
    "duration": 4,
    "start_time": "2022-07-11T17:00:04.750Z"
   },
   {
    "duration": 15,
    "start_time": "2022-07-11T17:00:04.757Z"
   },
   {
    "duration": 10,
    "start_time": "2022-07-11T17:00:04.774Z"
   },
   {
    "duration": 11,
    "start_time": "2022-07-11T17:00:04.785Z"
   },
   {
    "duration": 33,
    "start_time": "2022-07-11T17:00:04.798Z"
   },
   {
    "duration": 9,
    "start_time": "2022-07-11T17:00:04.833Z"
   },
   {
    "duration": 31,
    "start_time": "2022-07-11T17:00:04.843Z"
   },
   {
    "duration": 21,
    "start_time": "2022-07-11T17:00:04.876Z"
   },
   {
    "duration": 464,
    "start_time": "2022-07-11T17:00:04.898Z"
   },
   {
    "duration": 4,
    "start_time": "2022-07-11T17:00:05.363Z"
   },
   {
    "duration": 11,
    "start_time": "2022-07-11T17:00:05.369Z"
   },
   {
    "duration": 9,
    "start_time": "2022-07-11T17:00:05.382Z"
   },
   {
    "duration": 468,
    "start_time": "2022-07-11T17:00:05.393Z"
   },
   {
    "duration": 6,
    "start_time": "2022-07-11T17:00:05.862Z"
   },
   {
    "duration": 20,
    "start_time": "2022-07-11T17:00:05.869Z"
   },
   {
    "duration": 34,
    "start_time": "2022-07-11T17:00:05.891Z"
   },
   {
    "duration": 101,
    "start_time": "2022-07-11T17:00:05.927Z"
   },
   {
    "duration": 4,
    "start_time": "2022-07-11T17:00:06.030Z"
   },
   {
    "duration": 90,
    "start_time": "2022-07-11T17:00:06.036Z"
   },
   {
    "duration": 14,
    "start_time": "2022-07-11T17:00:06.128Z"
   },
   {
    "duration": 78,
    "start_time": "2022-07-11T17:00:06.144Z"
   },
   {
    "duration": 14,
    "start_time": "2022-07-11T17:00:06.224Z"
   },
   {
    "duration": 84,
    "start_time": "2022-07-11T17:00:06.240Z"
   },
   {
    "duration": 12,
    "start_time": "2022-07-11T17:00:06.327Z"
   },
   {
    "duration": 91,
    "start_time": "2022-07-11T17:00:06.341Z"
   },
   {
    "duration": 96,
    "start_time": "2022-07-11T17:00:06.434Z"
   },
   {
    "duration": 28,
    "start_time": "2022-07-11T17:00:06.531Z"
   },
   {
    "duration": 8,
    "start_time": "2022-07-11T17:00:06.623Z"
   },
   {
    "duration": 89,
    "start_time": "2022-07-11T17:00:06.634Z"
   },
   {
    "duration": 12,
    "start_time": "2022-07-11T17:00:06.724Z"
   },
   {
    "duration": 10,
    "start_time": "2022-07-11T17:00:06.737Z"
   },
   {
    "duration": 79,
    "start_time": "2022-07-11T17:00:06.749Z"
   },
   {
    "duration": 100,
    "start_time": "2022-07-11T17:00:06.830Z"
   },
   {
    "duration": 2751,
    "start_time": "2022-07-11T17:04:53.664Z"
   },
   {
    "duration": 53,
    "start_time": "2022-07-11T17:04:56.417Z"
   },
   {
    "duration": 0,
    "start_time": "2022-07-11T17:04:56.473Z"
   },
   {
    "duration": 0,
    "start_time": "2022-07-11T17:04:56.475Z"
   },
   {
    "duration": 0,
    "start_time": "2022-07-11T17:04:56.476Z"
   },
   {
    "duration": 0,
    "start_time": "2022-07-11T17:04:56.477Z"
   },
   {
    "duration": 0,
    "start_time": "2022-07-11T17:04:56.478Z"
   },
   {
    "duration": 0,
    "start_time": "2022-07-11T17:04:56.478Z"
   },
   {
    "duration": 0,
    "start_time": "2022-07-11T17:04:56.479Z"
   },
   {
    "duration": 0,
    "start_time": "2022-07-11T17:04:56.480Z"
   },
   {
    "duration": 0,
    "start_time": "2022-07-11T17:04:56.481Z"
   },
   {
    "duration": 0,
    "start_time": "2022-07-11T17:04:56.482Z"
   },
   {
    "duration": 0,
    "start_time": "2022-07-11T17:04:56.483Z"
   },
   {
    "duration": 0,
    "start_time": "2022-07-11T17:04:56.485Z"
   },
   {
    "duration": 0,
    "start_time": "2022-07-11T17:04:56.486Z"
   },
   {
    "duration": 0,
    "start_time": "2022-07-11T17:04:56.487Z"
   },
   {
    "duration": 0,
    "start_time": "2022-07-11T17:04:56.488Z"
   },
   {
    "duration": 0,
    "start_time": "2022-07-11T17:04:56.489Z"
   },
   {
    "duration": 0,
    "start_time": "2022-07-11T17:04:56.490Z"
   },
   {
    "duration": 0,
    "start_time": "2022-07-11T17:04:56.492Z"
   },
   {
    "duration": 0,
    "start_time": "2022-07-11T17:04:56.493Z"
   },
   {
    "duration": 0,
    "start_time": "2022-07-11T17:04:56.494Z"
   },
   {
    "duration": 0,
    "start_time": "2022-07-11T17:04:56.495Z"
   },
   {
    "duration": 0,
    "start_time": "2022-07-11T17:04:56.495Z"
   },
   {
    "duration": 0,
    "start_time": "2022-07-11T17:04:56.497Z"
   },
   {
    "duration": 0,
    "start_time": "2022-07-11T17:04:56.498Z"
   },
   {
    "duration": 0,
    "start_time": "2022-07-11T17:04:56.499Z"
   },
   {
    "duration": 0,
    "start_time": "2022-07-11T17:04:56.500Z"
   },
   {
    "duration": 0,
    "start_time": "2022-07-11T17:04:56.501Z"
   },
   {
    "duration": 0,
    "start_time": "2022-07-11T17:04:56.502Z"
   },
   {
    "duration": 0,
    "start_time": "2022-07-11T17:04:56.503Z"
   },
   {
    "duration": 0,
    "start_time": "2022-07-11T17:04:56.504Z"
   },
   {
    "duration": 0,
    "start_time": "2022-07-11T17:04:56.505Z"
   },
   {
    "duration": 0,
    "start_time": "2022-07-11T17:04:56.506Z"
   },
   {
    "duration": 0,
    "start_time": "2022-07-11T17:04:56.507Z"
   },
   {
    "duration": 1,
    "start_time": "2022-07-11T17:04:56.507Z"
   },
   {
    "duration": 0,
    "start_time": "2022-07-11T17:04:56.509Z"
   },
   {
    "duration": 0,
    "start_time": "2022-07-11T17:04:56.509Z"
   },
   {
    "duration": 0,
    "start_time": "2022-07-11T17:04:56.510Z"
   },
   {
    "duration": 0,
    "start_time": "2022-07-11T17:04:56.511Z"
   },
   {
    "duration": 0,
    "start_time": "2022-07-11T17:04:56.522Z"
   },
   {
    "duration": 0,
    "start_time": "2022-07-11T17:04:56.523Z"
   },
   {
    "duration": 0,
    "start_time": "2022-07-11T17:04:56.525Z"
   },
   {
    "duration": 0,
    "start_time": "2022-07-11T17:04:56.525Z"
   },
   {
    "duration": 0,
    "start_time": "2022-07-11T17:04:56.527Z"
   },
   {
    "duration": 0,
    "start_time": "2022-07-11T17:04:56.528Z"
   },
   {
    "duration": 0,
    "start_time": "2022-07-11T17:04:56.529Z"
   },
   {
    "duration": 0,
    "start_time": "2022-07-11T17:04:56.530Z"
   },
   {
    "duration": 0,
    "start_time": "2022-07-11T17:04:56.531Z"
   },
   {
    "duration": 0,
    "start_time": "2022-07-11T17:04:56.532Z"
   },
   {
    "duration": 0,
    "start_time": "2022-07-11T17:04:56.533Z"
   },
   {
    "duration": 0,
    "start_time": "2022-07-11T17:04:56.534Z"
   },
   {
    "duration": 0,
    "start_time": "2022-07-11T17:04:56.535Z"
   },
   {
    "duration": 0,
    "start_time": "2022-07-11T17:04:56.536Z"
   },
   {
    "duration": 0,
    "start_time": "2022-07-11T17:04:56.537Z"
   },
   {
    "duration": 0,
    "start_time": "2022-07-11T17:04:56.538Z"
   },
   {
    "duration": 0,
    "start_time": "2022-07-11T17:04:56.539Z"
   },
   {
    "duration": 0,
    "start_time": "2022-07-11T17:04:56.541Z"
   },
   {
    "duration": 0,
    "start_time": "2022-07-11T17:04:56.542Z"
   },
   {
    "duration": 2659,
    "start_time": "2022-07-11T17:06:05.170Z"
   },
   {
    "duration": 1412,
    "start_time": "2022-07-11T17:06:07.831Z"
   },
   {
    "duration": 0,
    "start_time": "2022-07-11T17:06:09.246Z"
   },
   {
    "duration": 0,
    "start_time": "2022-07-11T17:06:09.248Z"
   },
   {
    "duration": 0,
    "start_time": "2022-07-11T17:06:09.250Z"
   },
   {
    "duration": 0,
    "start_time": "2022-07-11T17:06:09.251Z"
   },
   {
    "duration": 0,
    "start_time": "2022-07-11T17:06:09.252Z"
   },
   {
    "duration": 0,
    "start_time": "2022-07-11T17:06:09.254Z"
   },
   {
    "duration": 0,
    "start_time": "2022-07-11T17:06:09.255Z"
   },
   {
    "duration": 0,
    "start_time": "2022-07-11T17:06:09.257Z"
   },
   {
    "duration": 0,
    "start_time": "2022-07-11T17:06:09.258Z"
   },
   {
    "duration": 0,
    "start_time": "2022-07-11T17:06:09.260Z"
   },
   {
    "duration": 0,
    "start_time": "2022-07-11T17:06:09.261Z"
   },
   {
    "duration": 0,
    "start_time": "2022-07-11T17:06:09.263Z"
   },
   {
    "duration": 0,
    "start_time": "2022-07-11T17:06:09.264Z"
   },
   {
    "duration": 0,
    "start_time": "2022-07-11T17:06:09.266Z"
   },
   {
    "duration": 0,
    "start_time": "2022-07-11T17:06:09.267Z"
   },
   {
    "duration": 0,
    "start_time": "2022-07-11T17:06:09.268Z"
   },
   {
    "duration": 0,
    "start_time": "2022-07-11T17:06:09.270Z"
   },
   {
    "duration": 0,
    "start_time": "2022-07-11T17:06:09.271Z"
   },
   {
    "duration": 0,
    "start_time": "2022-07-11T17:06:09.273Z"
   },
   {
    "duration": 0,
    "start_time": "2022-07-11T17:06:09.275Z"
   },
   {
    "duration": 0,
    "start_time": "2022-07-11T17:06:09.276Z"
   },
   {
    "duration": 0,
    "start_time": "2022-07-11T17:06:09.278Z"
   },
   {
    "duration": 0,
    "start_time": "2022-07-11T17:06:09.323Z"
   },
   {
    "duration": 0,
    "start_time": "2022-07-11T17:06:09.325Z"
   },
   {
    "duration": 0,
    "start_time": "2022-07-11T17:06:09.326Z"
   },
   {
    "duration": 0,
    "start_time": "2022-07-11T17:06:09.328Z"
   },
   {
    "duration": 0,
    "start_time": "2022-07-11T17:06:09.329Z"
   },
   {
    "duration": 0,
    "start_time": "2022-07-11T17:06:09.331Z"
   },
   {
    "duration": 0,
    "start_time": "2022-07-11T17:06:09.332Z"
   },
   {
    "duration": 0,
    "start_time": "2022-07-11T17:06:09.334Z"
   },
   {
    "duration": 0,
    "start_time": "2022-07-11T17:06:09.335Z"
   },
   {
    "duration": 0,
    "start_time": "2022-07-11T17:06:09.337Z"
   },
   {
    "duration": 0,
    "start_time": "2022-07-11T17:06:09.339Z"
   },
   {
    "duration": 0,
    "start_time": "2022-07-11T17:06:09.340Z"
   },
   {
    "duration": 0,
    "start_time": "2022-07-11T17:06:09.341Z"
   },
   {
    "duration": 0,
    "start_time": "2022-07-11T17:06:09.342Z"
   },
   {
    "duration": 0,
    "start_time": "2022-07-11T17:06:09.343Z"
   },
   {
    "duration": 0,
    "start_time": "2022-07-11T17:06:09.345Z"
   },
   {
    "duration": 0,
    "start_time": "2022-07-11T17:06:09.346Z"
   },
   {
    "duration": 0,
    "start_time": "2022-07-11T17:06:09.347Z"
   },
   {
    "duration": 0,
    "start_time": "2022-07-11T17:06:09.348Z"
   },
   {
    "duration": 0,
    "start_time": "2022-07-11T17:06:09.349Z"
   },
   {
    "duration": 0,
    "start_time": "2022-07-11T17:06:09.350Z"
   },
   {
    "duration": 0,
    "start_time": "2022-07-11T17:06:09.351Z"
   },
   {
    "duration": 0,
    "start_time": "2022-07-11T17:06:09.353Z"
   },
   {
    "duration": 0,
    "start_time": "2022-07-11T17:06:09.354Z"
   },
   {
    "duration": 0,
    "start_time": "2022-07-11T17:06:09.355Z"
   },
   {
    "duration": 0,
    "start_time": "2022-07-11T17:06:09.356Z"
   },
   {
    "duration": 0,
    "start_time": "2022-07-11T17:06:09.357Z"
   },
   {
    "duration": 0,
    "start_time": "2022-07-11T17:06:09.358Z"
   },
   {
    "duration": 0,
    "start_time": "2022-07-11T17:06:09.359Z"
   },
   {
    "duration": 0,
    "start_time": "2022-07-11T17:06:09.423Z"
   },
   {
    "duration": 0,
    "start_time": "2022-07-11T17:06:09.424Z"
   },
   {
    "duration": 0,
    "start_time": "2022-07-11T17:06:09.425Z"
   },
   {
    "duration": 0,
    "start_time": "2022-07-11T17:06:09.426Z"
   },
   {
    "duration": 0,
    "start_time": "2022-07-11T17:06:09.427Z"
   },
   {
    "duration": 0,
    "start_time": "2022-07-11T17:06:09.429Z"
   },
   {
    "duration": 2608,
    "start_time": "2022-07-11T17:06:44.034Z"
   },
   {
    "duration": 1230,
    "start_time": "2022-07-11T17:06:46.644Z"
   },
   {
    "duration": 16,
    "start_time": "2022-07-11T17:06:47.875Z"
   },
   {
    "duration": 3,
    "start_time": "2022-07-11T17:06:47.894Z"
   },
   {
    "duration": 31,
    "start_time": "2022-07-11T17:06:47.898Z"
   },
   {
    "duration": 15,
    "start_time": "2022-07-11T17:06:47.931Z"
   },
   {
    "duration": 4,
    "start_time": "2022-07-11T17:06:47.948Z"
   },
   {
    "duration": 21,
    "start_time": "2022-07-11T17:06:47.954Z"
   },
   {
    "duration": 3,
    "start_time": "2022-07-11T17:06:47.976Z"
   },
   {
    "duration": 24,
    "start_time": "2022-07-11T17:06:47.983Z"
   },
   {
    "duration": 18,
    "start_time": "2022-07-11T17:06:48.009Z"
   },
   {
    "duration": 7,
    "start_time": "2022-07-11T17:06:48.029Z"
   },
   {
    "duration": 10,
    "start_time": "2022-07-11T17:06:48.037Z"
   },
   {
    "duration": 3909,
    "start_time": "2022-07-11T17:06:48.049Z"
   },
   {
    "duration": 13,
    "start_time": "2022-07-11T17:06:51.960Z"
   },
   {
    "duration": 6,
    "start_time": "2022-07-11T17:06:51.975Z"
   },
   {
    "duration": 301,
    "start_time": "2022-07-11T17:06:51.983Z"
   },
   {
    "duration": 10,
    "start_time": "2022-07-11T17:06:52.286Z"
   },
   {
    "duration": 9,
    "start_time": "2022-07-11T17:06:52.298Z"
   },
   {
    "duration": 6,
    "start_time": "2022-07-11T17:06:52.323Z"
   },
   {
    "duration": 437,
    "start_time": "2022-07-11T17:06:52.331Z"
   },
   {
    "duration": 180,
    "start_time": "2022-07-11T17:06:52.769Z"
   },
   {
    "duration": 12,
    "start_time": "2022-07-11T17:06:52.951Z"
   },
   {
    "duration": 23,
    "start_time": "2022-07-11T17:06:52.965Z"
   },
   {
    "duration": 305,
    "start_time": "2022-07-11T17:06:52.990Z"
   },
   {
    "duration": 165,
    "start_time": "2022-07-11T17:06:53.297Z"
   },
   {
    "duration": 4,
    "start_time": "2022-07-11T17:06:53.464Z"
   },
   {
    "duration": 8,
    "start_time": "2022-07-11T17:06:53.471Z"
   },
   {
    "duration": 8,
    "start_time": "2022-07-11T17:06:53.480Z"
   },
   {
    "duration": 11,
    "start_time": "2022-07-11T17:06:53.489Z"
   },
   {
    "duration": 34,
    "start_time": "2022-07-11T17:06:53.502Z"
   },
   {
    "duration": 9,
    "start_time": "2022-07-11T17:06:53.537Z"
   },
   {
    "duration": 9,
    "start_time": "2022-07-11T17:06:53.547Z"
   },
   {
    "duration": 15,
    "start_time": "2022-07-11T17:06:53.558Z"
   },
   {
    "duration": 476,
    "start_time": "2022-07-11T17:06:53.575Z"
   },
   {
    "duration": 5,
    "start_time": "2022-07-11T17:06:54.052Z"
   },
   {
    "duration": 15,
    "start_time": "2022-07-11T17:06:54.058Z"
   },
   {
    "duration": 4,
    "start_time": "2022-07-11T17:06:54.075Z"
   },
   {
    "duration": 544,
    "start_time": "2022-07-11T17:06:54.080Z"
   },
   {
    "duration": 6,
    "start_time": "2022-07-11T17:06:54.625Z"
   },
   {
    "duration": 24,
    "start_time": "2022-07-11T17:06:54.632Z"
   },
   {
    "duration": 30,
    "start_time": "2022-07-11T17:06:54.658Z"
   },
   {
    "duration": 41,
    "start_time": "2022-07-11T17:06:54.691Z"
   },
   {
    "duration": 91,
    "start_time": "2022-07-11T17:06:54.735Z"
   },
   {
    "duration": 13,
    "start_time": "2022-07-11T17:06:54.829Z"
   },
   {
    "duration": 4,
    "start_time": "2022-07-11T17:06:54.923Z"
   },
   {
    "duration": 12,
    "start_time": "2022-07-11T17:06:54.928Z"
   },
   {
    "duration": 85,
    "start_time": "2022-07-11T17:06:54.943Z"
   },
   {
    "duration": 8,
    "start_time": "2022-07-11T17:06:55.031Z"
   },
   {
    "duration": 95,
    "start_time": "2022-07-11T17:06:55.042Z"
   },
   {
    "duration": 91,
    "start_time": "2022-07-11T17:06:55.139Z"
   },
   {
    "duration": 98,
    "start_time": "2022-07-11T17:06:55.233Z"
   },
   {
    "duration": 17,
    "start_time": "2022-07-11T17:06:55.333Z"
   },
   {
    "duration": 72,
    "start_time": "2022-07-11T17:06:55.352Z"
   },
   {
    "duration": 11,
    "start_time": "2022-07-11T17:06:55.426Z"
   },
   {
    "duration": 84,
    "start_time": "2022-07-11T17:06:55.440Z"
   },
   {
    "duration": 12,
    "start_time": "2022-07-11T17:06:55.526Z"
   },
   {
    "duration": 90,
    "start_time": "2022-07-11T17:06:55.540Z"
   },
   {
    "duration": 96,
    "start_time": "2022-07-11T17:06:55.633Z"
   },
   {
    "duration": 2656,
    "start_time": "2022-07-11T17:08:54.488Z"
   },
   {
    "duration": 1274,
    "start_time": "2022-07-11T17:08:57.146Z"
   },
   {
    "duration": 19,
    "start_time": "2022-07-11T17:08:58.422Z"
   },
   {
    "duration": 4,
    "start_time": "2022-07-11T17:08:58.443Z"
   },
   {
    "duration": 16,
    "start_time": "2022-07-11T17:08:58.448Z"
   },
   {
    "duration": 12,
    "start_time": "2022-07-11T17:08:58.466Z"
   },
   {
    "duration": 12,
    "start_time": "2022-07-11T17:08:58.479Z"
   },
   {
    "duration": 19,
    "start_time": "2022-07-11T17:08:58.492Z"
   },
   {
    "duration": 9,
    "start_time": "2022-07-11T17:08:58.513Z"
   },
   {
    "duration": 22,
    "start_time": "2022-07-11T17:08:58.526Z"
   },
   {
    "duration": 7,
    "start_time": "2022-07-11T17:08:58.550Z"
   },
   {
    "duration": 6,
    "start_time": "2022-07-11T17:08:58.559Z"
   },
   {
    "duration": 6,
    "start_time": "2022-07-11T17:08:58.567Z"
   },
   {
    "duration": 3767,
    "start_time": "2022-07-11T17:08:58.575Z"
   },
   {
    "duration": 10,
    "start_time": "2022-07-11T17:09:02.344Z"
   },
   {
    "duration": 23,
    "start_time": "2022-07-11T17:09:02.356Z"
   },
   {
    "duration": 271,
    "start_time": "2022-07-11T17:09:02.381Z"
   },
   {
    "duration": 10,
    "start_time": "2022-07-11T17:09:02.654Z"
   },
   {
    "duration": 14,
    "start_time": "2022-07-11T17:09:02.666Z"
   },
   {
    "duration": 20,
    "start_time": "2022-07-11T17:09:02.682Z"
   },
   {
    "duration": 438,
    "start_time": "2022-07-11T17:09:02.704Z"
   },
   {
    "duration": 169,
    "start_time": "2022-07-11T17:09:03.144Z"
   },
   {
    "duration": 15,
    "start_time": "2022-07-11T17:09:03.315Z"
   },
   {
    "duration": 17,
    "start_time": "2022-07-11T17:09:03.332Z"
   },
   {
    "duration": 272,
    "start_time": "2022-07-11T17:09:03.351Z"
   },
   {
    "duration": 169,
    "start_time": "2022-07-11T17:09:03.625Z"
   },
   {
    "duration": 15,
    "start_time": "2022-07-11T17:09:03.796Z"
   },
   {
    "duration": 15,
    "start_time": "2022-07-11T17:09:03.815Z"
   },
   {
    "duration": 14,
    "start_time": "2022-07-11T17:09:03.831Z"
   },
   {
    "duration": 11,
    "start_time": "2022-07-11T17:09:03.846Z"
   },
   {
    "duration": 25,
    "start_time": "2022-07-11T17:09:03.858Z"
   },
   {
    "duration": 9,
    "start_time": "2022-07-11T17:09:03.885Z"
   },
   {
    "duration": 6,
    "start_time": "2022-07-11T17:09:03.896Z"
   },
   {
    "duration": 13,
    "start_time": "2022-07-11T17:09:03.904Z"
   },
   {
    "duration": 396,
    "start_time": "2022-07-11T17:09:03.919Z"
   },
   {
    "duration": 4,
    "start_time": "2022-07-11T17:09:04.322Z"
   },
   {
    "duration": 11,
    "start_time": "2022-07-11T17:09:04.328Z"
   },
   {
    "duration": 6,
    "start_time": "2022-07-11T17:09:04.340Z"
   },
   {
    "duration": 522,
    "start_time": "2022-07-11T17:09:04.348Z"
   },
   {
    "duration": 5,
    "start_time": "2022-07-11T17:09:04.871Z"
   },
   {
    "duration": 20,
    "start_time": "2022-07-11T17:09:04.878Z"
   },
   {
    "duration": 39,
    "start_time": "2022-07-11T17:09:04.900Z"
   },
   {
    "duration": 89,
    "start_time": "2022-07-11T17:09:04.941Z"
   },
   {
    "duration": 91,
    "start_time": "2022-07-11T17:09:05.032Z"
   },
   {
    "duration": 6,
    "start_time": "2022-07-11T17:09:05.126Z"
   },
   {
    "duration": 101,
    "start_time": "2022-07-11T17:09:05.135Z"
   },
   {
    "duration": 23,
    "start_time": "2022-07-11T17:09:05.237Z"
   },
   {
    "duration": 11,
    "start_time": "2022-07-11T17:09:05.262Z"
   },
   {
    "duration": 67,
    "start_time": "2022-07-11T17:09:05.275Z"
   },
   {
    "duration": 87,
    "start_time": "2022-07-11T17:09:05.345Z"
   },
   {
    "duration": 95,
    "start_time": "2022-07-11T17:09:05.434Z"
   },
   {
    "duration": 97,
    "start_time": "2022-07-11T17:09:05.532Z"
   },
   {
    "duration": 19,
    "start_time": "2022-07-11T17:09:05.631Z"
   },
   {
    "duration": 75,
    "start_time": "2022-07-11T17:09:05.652Z"
   },
   {
    "duration": 18,
    "start_time": "2022-07-11T17:09:05.729Z"
   },
   {
    "duration": 4,
    "start_time": "2022-07-11T17:09:05.823Z"
   },
   {
    "duration": 13,
    "start_time": "2022-07-11T17:09:05.828Z"
   },
   {
    "duration": 84,
    "start_time": "2022-07-11T17:09:05.844Z"
   },
   {
    "duration": 99,
    "start_time": "2022-07-11T17:09:05.930Z"
   },
   {
    "duration": 2472,
    "start_time": "2022-07-11T17:37:24.987Z"
   },
   {
    "duration": 1191,
    "start_time": "2022-07-11T17:37:27.461Z"
   },
   {
    "duration": 17,
    "start_time": "2022-07-11T17:37:28.654Z"
   },
   {
    "duration": 3,
    "start_time": "2022-07-11T17:37:28.673Z"
   },
   {
    "duration": 19,
    "start_time": "2022-07-11T17:37:28.678Z"
   },
   {
    "duration": 10,
    "start_time": "2022-07-11T17:37:28.698Z"
   },
   {
    "duration": 3,
    "start_time": "2022-07-11T17:37:28.710Z"
   },
   {
    "duration": 15,
    "start_time": "2022-07-11T17:37:28.723Z"
   },
   {
    "duration": 4,
    "start_time": "2022-07-11T17:37:28.740Z"
   },
   {
    "duration": 23,
    "start_time": "2022-07-11T17:37:28.747Z"
   },
   {
    "duration": 5,
    "start_time": "2022-07-11T17:37:28.772Z"
   },
   {
    "duration": 4,
    "start_time": "2022-07-11T17:37:28.779Z"
   },
   {
    "duration": 6,
    "start_time": "2022-07-11T17:37:28.785Z"
   },
   {
    "duration": 3754,
    "start_time": "2022-07-11T17:37:28.792Z"
   },
   {
    "duration": 12,
    "start_time": "2022-07-11T17:37:32.548Z"
   },
   {
    "duration": 22,
    "start_time": "2022-07-11T17:37:32.562Z"
   },
   {
    "duration": 291,
    "start_time": "2022-07-11T17:37:32.585Z"
   },
   {
    "duration": 13,
    "start_time": "2022-07-11T17:37:32.878Z"
   },
   {
    "duration": 19,
    "start_time": "2022-07-11T17:37:32.893Z"
   },
   {
    "duration": 16,
    "start_time": "2022-07-11T17:37:32.914Z"
   },
   {
    "duration": 20,
    "start_time": "2022-07-11T17:37:32.932Z"
   },
   {
    "duration": 12,
    "start_time": "2022-07-11T17:37:32.954Z"
   },
   {
    "duration": 8,
    "start_time": "2022-07-11T17:37:32.968Z"
   },
   {
    "duration": 15,
    "start_time": "2022-07-11T17:37:32.978Z"
   },
   {
    "duration": 42,
    "start_time": "2022-07-11T17:37:32.995Z"
   },
   {
    "duration": 3,
    "start_time": "2022-07-11T17:37:33.039Z"
   },
   {
    "duration": 24,
    "start_time": "2022-07-11T17:37:33.043Z"
   },
   {
    "duration": 4,
    "start_time": "2022-07-11T17:37:33.070Z"
   },
   {
    "duration": 10,
    "start_time": "2022-07-11T17:37:33.076Z"
   },
   {
    "duration": 4,
    "start_time": "2022-07-11T17:37:33.088Z"
   },
   {
    "duration": 6,
    "start_time": "2022-07-11T17:37:33.094Z"
   },
   {
    "duration": 23,
    "start_time": "2022-07-11T17:37:33.122Z"
   },
   {
    "duration": 8,
    "start_time": "2022-07-11T17:37:33.147Z"
   },
   {
    "duration": 3,
    "start_time": "2022-07-11T17:37:33.157Z"
   },
   {
    "duration": 8,
    "start_time": "2022-07-11T17:37:33.162Z"
   },
   {
    "duration": 424,
    "start_time": "2022-07-11T17:37:33.171Z"
   },
   {
    "duration": 5,
    "start_time": "2022-07-11T17:37:33.597Z"
   },
   {
    "duration": 23,
    "start_time": "2022-07-11T17:37:33.604Z"
   },
   {
    "duration": 5,
    "start_time": "2022-07-11T17:37:33.629Z"
   },
   {
    "duration": 507,
    "start_time": "2022-07-11T17:37:33.636Z"
   },
   {
    "duration": 4,
    "start_time": "2022-07-11T17:37:34.145Z"
   },
   {
    "duration": 7,
    "start_time": "2022-07-11T17:37:34.151Z"
   },
   {
    "duration": 17,
    "start_time": "2022-07-11T17:37:34.159Z"
   },
   {
    "duration": 14,
    "start_time": "2022-07-11T17:37:34.223Z"
   },
   {
    "duration": 15,
    "start_time": "2022-07-11T17:37:34.324Z"
   },
   {
    "duration": 5,
    "start_time": "2022-07-11T17:37:34.422Z"
   },
   {
    "duration": 10,
    "start_time": "2022-07-11T17:37:34.428Z"
   },
   {
    "duration": 8,
    "start_time": "2022-07-11T17:37:34.440Z"
   },
   {
    "duration": 77,
    "start_time": "2022-07-11T17:37:34.450Z"
   },
   {
    "duration": 102,
    "start_time": "2022-07-11T17:37:34.529Z"
   },
   {
    "duration": 90,
    "start_time": "2022-07-11T17:37:34.634Z"
   },
   {
    "duration": 16,
    "start_time": "2022-07-11T17:37:34.726Z"
   },
   {
    "duration": 92,
    "start_time": "2022-07-11T17:37:34.743Z"
   },
   {
    "duration": 18,
    "start_time": "2022-07-11T17:37:34.837Z"
   },
   {
    "duration": 9,
    "start_time": "2022-07-11T17:37:34.922Z"
   },
   {
    "duration": 7,
    "start_time": "2022-07-11T17:37:34.932Z"
   },
   {
    "duration": 83,
    "start_time": "2022-07-11T17:37:34.941Z"
   },
   {
    "duration": 13,
    "start_time": "2022-07-11T17:37:35.025Z"
   },
   {
    "duration": 84,
    "start_time": "2022-07-11T17:37:35.040Z"
   },
   {
    "duration": 96,
    "start_time": "2022-07-11T17:37:35.127Z"
   },
   {
    "duration": 2497,
    "start_time": "2022-07-11T18:29:14.601Z"
   },
   {
    "duration": 1279,
    "start_time": "2022-07-11T18:29:17.100Z"
   },
   {
    "duration": 17,
    "start_time": "2022-07-11T18:29:18.381Z"
   },
   {
    "duration": 4,
    "start_time": "2022-07-11T18:29:18.401Z"
   },
   {
    "duration": 28,
    "start_time": "2022-07-11T18:29:18.406Z"
   },
   {
    "duration": 11,
    "start_time": "2022-07-11T18:29:18.436Z"
   },
   {
    "duration": 5,
    "start_time": "2022-07-11T18:29:18.449Z"
   },
   {
    "duration": 26,
    "start_time": "2022-07-11T18:29:18.456Z"
   },
   {
    "duration": 20,
    "start_time": "2022-07-11T18:29:18.484Z"
   },
   {
    "duration": 28,
    "start_time": "2022-07-11T18:29:18.508Z"
   },
   {
    "duration": 6,
    "start_time": "2022-07-11T18:29:18.538Z"
   },
   {
    "duration": 17,
    "start_time": "2022-07-11T18:29:18.545Z"
   },
   {
    "duration": 8,
    "start_time": "2022-07-11T18:29:18.564Z"
   },
   {
    "duration": 3726,
    "start_time": "2022-07-11T18:29:18.576Z"
   },
   {
    "duration": 10,
    "start_time": "2022-07-11T18:29:22.304Z"
   },
   {
    "duration": 12,
    "start_time": "2022-07-11T18:29:22.315Z"
   },
   {
    "duration": 257,
    "start_time": "2022-07-11T18:29:22.328Z"
   },
   {
    "duration": 10,
    "start_time": "2022-07-11T18:29:22.587Z"
   },
   {
    "duration": 14,
    "start_time": "2022-07-11T18:29:22.598Z"
   },
   {
    "duration": 12,
    "start_time": "2022-07-11T18:29:22.614Z"
   },
   {
    "duration": 18,
    "start_time": "2022-07-11T18:29:22.627Z"
   },
   {
    "duration": 10,
    "start_time": "2022-07-11T18:29:22.647Z"
   },
   {
    "duration": 3,
    "start_time": "2022-07-11T18:29:22.659Z"
   },
   {
    "duration": 5,
    "start_time": "2022-07-11T18:29:22.663Z"
   },
   {
    "duration": 26,
    "start_time": "2022-07-11T18:29:22.670Z"
   },
   {
    "duration": 3,
    "start_time": "2022-07-11T18:29:22.698Z"
   },
   {
    "duration": 50,
    "start_time": "2022-07-11T18:29:22.703Z"
   },
   {
    "duration": 4,
    "start_time": "2022-07-11T18:29:22.757Z"
   },
   {
    "duration": 13,
    "start_time": "2022-07-11T18:29:22.762Z"
   },
   {
    "duration": 11,
    "start_time": "2022-07-11T18:29:22.776Z"
   },
   {
    "duration": 12,
    "start_time": "2022-07-11T18:29:22.789Z"
   },
   {
    "duration": 24,
    "start_time": "2022-07-11T18:29:22.803Z"
   },
   {
    "duration": 121,
    "start_time": "2022-07-11T18:29:22.829Z"
   },
   {
    "duration": 0,
    "start_time": "2022-07-11T18:29:22.952Z"
   },
   {
    "duration": 0,
    "start_time": "2022-07-11T18:29:22.953Z"
   },
   {
    "duration": 0,
    "start_time": "2022-07-11T18:29:22.954Z"
   },
   {
    "duration": 0,
    "start_time": "2022-07-11T18:29:22.956Z"
   },
   {
    "duration": 0,
    "start_time": "2022-07-11T18:29:22.957Z"
   },
   {
    "duration": 0,
    "start_time": "2022-07-11T18:29:22.959Z"
   },
   {
    "duration": 0,
    "start_time": "2022-07-11T18:29:22.961Z"
   },
   {
    "duration": 0,
    "start_time": "2022-07-11T18:29:22.962Z"
   },
   {
    "duration": 0,
    "start_time": "2022-07-11T18:29:22.964Z"
   },
   {
    "duration": 0,
    "start_time": "2022-07-11T18:29:22.965Z"
   },
   {
    "duration": 0,
    "start_time": "2022-07-11T18:29:22.966Z"
   },
   {
    "duration": 0,
    "start_time": "2022-07-11T18:29:22.968Z"
   },
   {
    "duration": 0,
    "start_time": "2022-07-11T18:29:22.970Z"
   },
   {
    "duration": 1,
    "start_time": "2022-07-11T18:29:22.972Z"
   },
   {
    "duration": 0,
    "start_time": "2022-07-11T18:29:22.974Z"
   },
   {
    "duration": 0,
    "start_time": "2022-07-11T18:29:22.975Z"
   },
   {
    "duration": 0,
    "start_time": "2022-07-11T18:29:22.976Z"
   },
   {
    "duration": 0,
    "start_time": "2022-07-11T18:29:22.977Z"
   },
   {
    "duration": 0,
    "start_time": "2022-07-11T18:29:22.979Z"
   },
   {
    "duration": 0,
    "start_time": "2022-07-11T18:29:22.981Z"
   },
   {
    "duration": 0,
    "start_time": "2022-07-11T18:29:22.982Z"
   },
   {
    "duration": 0,
    "start_time": "2022-07-11T18:29:22.983Z"
   },
   {
    "duration": 0,
    "start_time": "2022-07-11T18:29:23.022Z"
   },
   {
    "duration": 0,
    "start_time": "2022-07-11T18:29:23.024Z"
   },
   {
    "duration": 0,
    "start_time": "2022-07-11T18:29:23.025Z"
   },
   {
    "duration": 2790,
    "start_time": "2022-07-11T18:30:53.982Z"
   },
   {
    "duration": 1142,
    "start_time": "2022-07-11T18:30:56.775Z"
   },
   {
    "duration": 17,
    "start_time": "2022-07-11T18:30:57.918Z"
   },
   {
    "duration": 15,
    "start_time": "2022-07-11T18:30:57.937Z"
   },
   {
    "duration": 40,
    "start_time": "2022-07-11T18:30:57.954Z"
   },
   {
    "duration": 26,
    "start_time": "2022-07-11T18:30:57.995Z"
   },
   {
    "duration": 12,
    "start_time": "2022-07-11T18:30:58.023Z"
   },
   {
    "duration": 37,
    "start_time": "2022-07-11T18:30:58.036Z"
   },
   {
    "duration": 2,
    "start_time": "2022-07-11T18:30:58.075Z"
   },
   {
    "duration": 39,
    "start_time": "2022-07-11T18:30:58.080Z"
   },
   {
    "duration": 5,
    "start_time": "2022-07-11T18:30:58.121Z"
   },
   {
    "duration": 8,
    "start_time": "2022-07-11T18:30:58.128Z"
   },
   {
    "duration": 23,
    "start_time": "2022-07-11T18:30:58.138Z"
   },
   {
    "duration": 3796,
    "start_time": "2022-07-11T18:30:58.162Z"
   },
   {
    "duration": 11,
    "start_time": "2022-07-11T18:31:01.959Z"
   },
   {
    "duration": 20,
    "start_time": "2022-07-11T18:31:01.972Z"
   },
   {
    "duration": 277,
    "start_time": "2022-07-11T18:31:01.994Z"
   },
   {
    "duration": 11,
    "start_time": "2022-07-11T18:31:02.273Z"
   },
   {
    "duration": 44,
    "start_time": "2022-07-11T18:31:02.285Z"
   },
   {
    "duration": 40,
    "start_time": "2022-07-11T18:31:02.330Z"
   },
   {
    "duration": 42,
    "start_time": "2022-07-11T18:31:02.372Z"
   },
   {
    "duration": 42,
    "start_time": "2022-07-11T18:31:02.416Z"
   },
   {
    "duration": 20,
    "start_time": "2022-07-11T18:31:02.460Z"
   },
   {
    "duration": 21,
    "start_time": "2022-07-11T18:31:02.482Z"
   },
   {
    "duration": 26,
    "start_time": "2022-07-11T18:31:02.505Z"
   },
   {
    "duration": 3,
    "start_time": "2022-07-11T18:31:02.533Z"
   },
   {
    "duration": 38,
    "start_time": "2022-07-11T18:31:02.537Z"
   },
   {
    "duration": 5,
    "start_time": "2022-07-11T18:31:02.578Z"
   },
   {
    "duration": 14,
    "start_time": "2022-07-11T18:31:02.584Z"
   },
   {
    "duration": 26,
    "start_time": "2022-07-11T18:31:02.600Z"
   },
   {
    "duration": 8,
    "start_time": "2022-07-11T18:31:02.628Z"
   },
   {
    "duration": 29,
    "start_time": "2022-07-11T18:31:02.637Z"
   },
   {
    "duration": 62,
    "start_time": "2022-07-11T18:31:02.668Z"
   },
   {
    "duration": 0,
    "start_time": "2022-07-11T18:31:02.731Z"
   },
   {
    "duration": 0,
    "start_time": "2022-07-11T18:31:02.732Z"
   },
   {
    "duration": 0,
    "start_time": "2022-07-11T18:31:02.733Z"
   },
   {
    "duration": 0,
    "start_time": "2022-07-11T18:31:02.735Z"
   },
   {
    "duration": 0,
    "start_time": "2022-07-11T18:31:02.736Z"
   },
   {
    "duration": 0,
    "start_time": "2022-07-11T18:31:02.737Z"
   },
   {
    "duration": 0,
    "start_time": "2022-07-11T18:31:02.739Z"
   },
   {
    "duration": 0,
    "start_time": "2022-07-11T18:31:02.740Z"
   },
   {
    "duration": 0,
    "start_time": "2022-07-11T18:31:02.741Z"
   },
   {
    "duration": 0,
    "start_time": "2022-07-11T18:31:02.742Z"
   },
   {
    "duration": 1,
    "start_time": "2022-07-11T18:31:02.743Z"
   },
   {
    "duration": 0,
    "start_time": "2022-07-11T18:31:02.744Z"
   },
   {
    "duration": 0,
    "start_time": "2022-07-11T18:31:02.745Z"
   },
   {
    "duration": 0,
    "start_time": "2022-07-11T18:31:02.746Z"
   },
   {
    "duration": 0,
    "start_time": "2022-07-11T18:31:02.747Z"
   },
   {
    "duration": 0,
    "start_time": "2022-07-11T18:31:02.748Z"
   },
   {
    "duration": 0,
    "start_time": "2022-07-11T18:31:02.749Z"
   },
   {
    "duration": 0,
    "start_time": "2022-07-11T18:31:02.751Z"
   },
   {
    "duration": 0,
    "start_time": "2022-07-11T18:31:02.752Z"
   },
   {
    "duration": 0,
    "start_time": "2022-07-11T18:31:02.753Z"
   },
   {
    "duration": 0,
    "start_time": "2022-07-11T18:31:02.754Z"
   },
   {
    "duration": 0,
    "start_time": "2022-07-11T18:31:02.755Z"
   },
   {
    "duration": 0,
    "start_time": "2022-07-11T18:31:02.756Z"
   },
   {
    "duration": 0,
    "start_time": "2022-07-11T18:31:02.757Z"
   },
   {
    "duration": 0,
    "start_time": "2022-07-11T18:31:02.758Z"
   },
   {
    "duration": 2467,
    "start_time": "2022-07-11T18:32:40.420Z"
   },
   {
    "duration": 1233,
    "start_time": "2022-07-11T18:32:42.890Z"
   },
   {
    "duration": 17,
    "start_time": "2022-07-11T18:32:44.125Z"
   },
   {
    "duration": 3,
    "start_time": "2022-07-11T18:32:44.144Z"
   },
   {
    "duration": 18,
    "start_time": "2022-07-11T18:32:44.149Z"
   },
   {
    "duration": 12,
    "start_time": "2022-07-11T18:32:44.168Z"
   },
   {
    "duration": 7,
    "start_time": "2022-07-11T18:32:44.182Z"
   },
   {
    "duration": 16,
    "start_time": "2022-07-11T18:32:44.191Z"
   },
   {
    "duration": 5,
    "start_time": "2022-07-11T18:32:44.208Z"
   },
   {
    "duration": 23,
    "start_time": "2022-07-11T18:32:44.221Z"
   },
   {
    "duration": 6,
    "start_time": "2022-07-11T18:32:44.245Z"
   },
   {
    "duration": 10,
    "start_time": "2022-07-11T18:32:44.253Z"
   },
   {
    "duration": 6,
    "start_time": "2022-07-11T18:32:44.265Z"
   },
   {
    "duration": 3633,
    "start_time": "2022-07-11T18:32:44.273Z"
   },
   {
    "duration": 11,
    "start_time": "2022-07-11T18:32:47.907Z"
   },
   {
    "duration": 10,
    "start_time": "2022-07-11T18:32:47.919Z"
   },
   {
    "duration": 269,
    "start_time": "2022-07-11T18:32:47.930Z"
   },
   {
    "duration": 9,
    "start_time": "2022-07-11T18:32:48.201Z"
   },
   {
    "duration": 12,
    "start_time": "2022-07-11T18:32:48.212Z"
   },
   {
    "duration": 10,
    "start_time": "2022-07-11T18:32:48.225Z"
   },
   {
    "duration": 16,
    "start_time": "2022-07-11T18:32:48.237Z"
   },
   {
    "duration": 10,
    "start_time": "2022-07-11T18:32:48.255Z"
   },
   {
    "duration": 9,
    "start_time": "2022-07-11T18:32:48.266Z"
   },
   {
    "duration": 6,
    "start_time": "2022-07-11T18:32:48.277Z"
   },
   {
    "duration": 28,
    "start_time": "2022-07-11T18:32:48.284Z"
   },
   {
    "duration": 3,
    "start_time": "2022-07-11T18:32:48.322Z"
   },
   {
    "duration": 41,
    "start_time": "2022-07-11T18:32:48.327Z"
   },
   {
    "duration": 4,
    "start_time": "2022-07-11T18:32:48.371Z"
   },
   {
    "duration": 10,
    "start_time": "2022-07-11T18:32:48.377Z"
   },
   {
    "duration": 10,
    "start_time": "2022-07-11T18:32:48.388Z"
   },
   {
    "duration": 7,
    "start_time": "2022-07-11T18:32:48.400Z"
   },
   {
    "duration": 29,
    "start_time": "2022-07-11T18:32:48.409Z"
   },
   {
    "duration": 9,
    "start_time": "2022-07-11T18:32:48.440Z"
   },
   {
    "duration": 118,
    "start_time": "2022-07-11T18:32:48.451Z"
   },
   {
    "duration": 0,
    "start_time": "2022-07-11T18:32:48.570Z"
   },
   {
    "duration": 0,
    "start_time": "2022-07-11T18:32:48.572Z"
   },
   {
    "duration": 0,
    "start_time": "2022-07-11T18:32:48.573Z"
   },
   {
    "duration": 0,
    "start_time": "2022-07-11T18:32:48.574Z"
   },
   {
    "duration": 0,
    "start_time": "2022-07-11T18:32:48.575Z"
   },
   {
    "duration": 0,
    "start_time": "2022-07-11T18:32:48.576Z"
   },
   {
    "duration": 0,
    "start_time": "2022-07-11T18:32:48.577Z"
   },
   {
    "duration": 0,
    "start_time": "2022-07-11T18:32:48.578Z"
   },
   {
    "duration": 0,
    "start_time": "2022-07-11T18:32:48.579Z"
   },
   {
    "duration": 0,
    "start_time": "2022-07-11T18:32:48.580Z"
   },
   {
    "duration": 0,
    "start_time": "2022-07-11T18:32:48.581Z"
   },
   {
    "duration": 0,
    "start_time": "2022-07-11T18:32:48.582Z"
   },
   {
    "duration": 0,
    "start_time": "2022-07-11T18:32:48.584Z"
   },
   {
    "duration": 0,
    "start_time": "2022-07-11T18:32:48.585Z"
   },
   {
    "duration": 0,
    "start_time": "2022-07-11T18:32:48.586Z"
   },
   {
    "duration": 0,
    "start_time": "2022-07-11T18:32:48.587Z"
   },
   {
    "duration": 1,
    "start_time": "2022-07-11T18:32:48.588Z"
   },
   {
    "duration": 0,
    "start_time": "2022-07-11T18:32:48.589Z"
   },
   {
    "duration": 0,
    "start_time": "2022-07-11T18:32:48.590Z"
   },
   {
    "duration": 0,
    "start_time": "2022-07-11T18:32:48.623Z"
   },
   {
    "duration": 0,
    "start_time": "2022-07-11T18:32:48.624Z"
   },
   {
    "duration": 0,
    "start_time": "2022-07-11T18:32:48.625Z"
   },
   {
    "duration": 0,
    "start_time": "2022-07-11T18:32:48.627Z"
   },
   {
    "duration": 0,
    "start_time": "2022-07-11T18:32:48.628Z"
   },
   {
    "duration": 410,
    "start_time": "2022-07-11T18:34:13.700Z"
   },
   {
    "duration": 2541,
    "start_time": "2022-07-11T18:36:44.040Z"
   },
   {
    "duration": 1240,
    "start_time": "2022-07-11T18:36:46.583Z"
   },
   {
    "duration": 16,
    "start_time": "2022-07-11T18:36:47.825Z"
   },
   {
    "duration": 4,
    "start_time": "2022-07-11T18:36:47.844Z"
   },
   {
    "duration": 16,
    "start_time": "2022-07-11T18:36:47.850Z"
   },
   {
    "duration": 12,
    "start_time": "2022-07-11T18:36:47.867Z"
   },
   {
    "duration": 3,
    "start_time": "2022-07-11T18:36:47.881Z"
   },
   {
    "duration": 13,
    "start_time": "2022-07-11T18:36:47.886Z"
   },
   {
    "duration": 5,
    "start_time": "2022-07-11T18:36:47.901Z"
   },
   {
    "duration": 50,
    "start_time": "2022-07-11T18:36:47.908Z"
   },
   {
    "duration": 6,
    "start_time": "2022-07-11T18:36:47.960Z"
   },
   {
    "duration": 5,
    "start_time": "2022-07-11T18:36:47.968Z"
   },
   {
    "duration": 6,
    "start_time": "2022-07-11T18:36:47.975Z"
   },
   {
    "duration": 3671,
    "start_time": "2022-07-11T18:36:47.983Z"
   },
   {
    "duration": 13,
    "start_time": "2022-07-11T18:36:51.656Z"
   },
   {
    "duration": 11,
    "start_time": "2022-07-11T18:36:51.671Z"
   },
   {
    "duration": 278,
    "start_time": "2022-07-11T18:36:51.684Z"
   },
   {
    "duration": 12,
    "start_time": "2022-07-11T18:36:51.964Z"
   },
   {
    "duration": 20,
    "start_time": "2022-07-11T18:36:51.978Z"
   },
   {
    "duration": 8,
    "start_time": "2022-07-11T18:36:52.000Z"
   },
   {
    "duration": 22,
    "start_time": "2022-07-11T18:36:52.009Z"
   },
   {
    "duration": 12,
    "start_time": "2022-07-11T18:36:52.033Z"
   },
   {
    "duration": 13,
    "start_time": "2022-07-11T18:36:52.047Z"
   },
   {
    "duration": 16,
    "start_time": "2022-07-11T18:36:52.062Z"
   },
   {
    "duration": 31,
    "start_time": "2022-07-11T18:36:52.080Z"
   },
   {
    "duration": 10,
    "start_time": "2022-07-11T18:36:52.113Z"
   },
   {
    "duration": 28,
    "start_time": "2022-07-11T18:36:52.125Z"
   },
   {
    "duration": 5,
    "start_time": "2022-07-11T18:36:52.156Z"
   },
   {
    "duration": 24,
    "start_time": "2022-07-11T18:36:52.162Z"
   },
   {
    "duration": 6,
    "start_time": "2022-07-11T18:36:52.187Z"
   },
   {
    "duration": 10,
    "start_time": "2022-07-11T18:36:52.195Z"
   },
   {
    "duration": 29,
    "start_time": "2022-07-11T18:36:52.206Z"
   },
   {
    "duration": 11,
    "start_time": "2022-07-11T18:36:52.237Z"
   },
   {
    "duration": 449,
    "start_time": "2022-07-11T18:36:52.250Z"
   },
   {
    "duration": 22,
    "start_time": "2022-07-11T18:36:52.701Z"
   },
   {
    "duration": 18,
    "start_time": "2022-07-11T18:36:52.725Z"
   },
   {
    "duration": 528,
    "start_time": "2022-07-11T18:36:52.744Z"
   },
   {
    "duration": 6,
    "start_time": "2022-07-11T18:36:53.274Z"
   },
   {
    "duration": 27,
    "start_time": "2022-07-11T18:36:53.282Z"
   },
   {
    "duration": 15,
    "start_time": "2022-07-11T18:36:53.311Z"
   },
   {
    "duration": 98,
    "start_time": "2022-07-11T18:36:53.328Z"
   },
   {
    "duration": 5,
    "start_time": "2022-07-11T18:36:53.429Z"
   },
   {
    "duration": 87,
    "start_time": "2022-07-11T18:36:53.437Z"
   },
   {
    "duration": 13,
    "start_time": "2022-07-11T18:36:53.526Z"
   },
   {
    "duration": 16,
    "start_time": "2022-07-11T18:36:53.540Z"
   },
   {
    "duration": 69,
    "start_time": "2022-07-11T18:36:53.558Z"
   },
   {
    "duration": 8,
    "start_time": "2022-07-11T18:36:53.629Z"
   },
   {
    "duration": 93,
    "start_time": "2022-07-11T18:36:53.639Z"
   },
   {
    "duration": 100,
    "start_time": "2022-07-11T18:36:53.735Z"
   },
   {
    "duration": 94,
    "start_time": "2022-07-11T18:36:53.837Z"
   },
   {
    "duration": 33,
    "start_time": "2022-07-11T18:36:53.933Z"
   },
   {
    "duration": 57,
    "start_time": "2022-07-11T18:36:53.969Z"
   },
   {
    "duration": 14,
    "start_time": "2022-07-11T18:36:54.029Z"
   },
   {
    "duration": 79,
    "start_time": "2022-07-11T18:36:54.045Z"
   },
   {
    "duration": 13,
    "start_time": "2022-07-11T18:36:54.126Z"
   },
   {
    "duration": 83,
    "start_time": "2022-07-11T18:36:54.142Z"
   },
   {
    "duration": 101,
    "start_time": "2022-07-11T18:36:54.227Z"
   },
   {
    "duration": 1273,
    "start_time": "2022-07-11T18:39:08.252Z"
   },
   {
    "duration": 17,
    "start_time": "2022-07-11T18:39:09.527Z"
   },
   {
    "duration": 4,
    "start_time": "2022-07-11T18:39:09.547Z"
   },
   {
    "duration": 19,
    "start_time": "2022-07-11T18:39:09.553Z"
   },
   {
    "duration": 15,
    "start_time": "2022-07-11T18:39:09.574Z"
   },
   {
    "duration": 5,
    "start_time": "2022-07-11T18:39:09.591Z"
   },
   {
    "duration": 15,
    "start_time": "2022-07-11T18:39:09.623Z"
   },
   {
    "duration": 2,
    "start_time": "2022-07-11T18:39:09.640Z"
   },
   {
    "duration": 33,
    "start_time": "2022-07-11T18:39:09.645Z"
   },
   {
    "duration": 6,
    "start_time": "2022-07-11T18:39:09.679Z"
   },
   {
    "duration": 39,
    "start_time": "2022-07-11T18:39:09.687Z"
   },
   {
    "duration": 6,
    "start_time": "2022-07-11T18:39:09.727Z"
   },
   {
    "duration": 3968,
    "start_time": "2022-07-11T18:39:09.734Z"
   },
   {
    "duration": 13,
    "start_time": "2022-07-11T18:39:13.703Z"
   },
   {
    "duration": 5,
    "start_time": "2022-07-11T18:39:13.718Z"
   },
   {
    "duration": 301,
    "start_time": "2022-07-11T18:39:13.724Z"
   },
   {
    "duration": 11,
    "start_time": "2022-07-11T18:39:14.027Z"
   },
   {
    "duration": 7,
    "start_time": "2022-07-11T18:39:14.039Z"
   },
   {
    "duration": 7,
    "start_time": "2022-07-11T18:39:14.048Z"
   },
   {
    "duration": 13,
    "start_time": "2022-07-11T18:39:14.057Z"
   },
   {
    "duration": 12,
    "start_time": "2022-07-11T18:39:14.071Z"
   },
   {
    "duration": 40,
    "start_time": "2022-07-11T18:39:14.084Z"
   },
   {
    "duration": 5,
    "start_time": "2022-07-11T18:39:14.126Z"
   },
   {
    "duration": 32,
    "start_time": "2022-07-11T18:39:14.133Z"
   },
   {
    "duration": 3,
    "start_time": "2022-07-11T18:39:14.168Z"
   },
   {
    "duration": 56,
    "start_time": "2022-07-11T18:39:14.173Z"
   },
   {
    "duration": 5,
    "start_time": "2022-07-11T18:39:14.233Z"
   },
   {
    "duration": 15,
    "start_time": "2022-07-11T18:39:14.240Z"
   },
   {
    "duration": 7,
    "start_time": "2022-07-11T18:39:14.257Z"
   },
   {
    "duration": 8,
    "start_time": "2022-07-11T18:39:14.266Z"
   },
   {
    "duration": 47,
    "start_time": "2022-07-11T18:39:14.276Z"
   },
   {
    "duration": 11,
    "start_time": "2022-07-11T18:39:14.325Z"
   },
   {
    "duration": 551,
    "start_time": "2022-07-11T18:39:14.338Z"
   },
   {
    "duration": 5,
    "start_time": "2022-07-11T18:39:14.891Z"
   },
   {
    "duration": 25,
    "start_time": "2022-07-11T18:39:14.898Z"
   },
   {
    "duration": 469,
    "start_time": "2022-07-11T18:39:14.925Z"
   },
   {
    "duration": 4,
    "start_time": "2022-07-11T18:39:15.396Z"
   },
   {
    "duration": 19,
    "start_time": "2022-07-11T18:39:15.402Z"
   },
   {
    "duration": 17,
    "start_time": "2022-07-11T18:39:15.423Z"
   },
   {
    "duration": 88,
    "start_time": "2022-07-11T18:39:15.441Z"
   },
   {
    "duration": 4,
    "start_time": "2022-07-11T18:39:15.530Z"
   },
   {
    "duration": 4,
    "start_time": "2022-07-11T18:39:15.624Z"
   },
   {
    "duration": 107,
    "start_time": "2022-07-11T18:39:15.630Z"
   },
   {
    "duration": 14,
    "start_time": "2022-07-11T18:39:15.740Z"
   },
   {
    "duration": 9,
    "start_time": "2022-07-11T18:39:15.757Z"
   },
   {
    "duration": 60,
    "start_time": "2022-07-11T18:39:15.768Z"
   },
   {
    "duration": 94,
    "start_time": "2022-07-11T18:39:15.830Z"
   },
   {
    "duration": 96,
    "start_time": "2022-07-11T18:39:15.926Z"
   },
   {
    "duration": 10,
    "start_time": "2022-07-11T18:39:16.025Z"
   },
   {
    "duration": 18,
    "start_time": "2022-07-11T18:39:16.037Z"
   },
   {
    "duration": 67,
    "start_time": "2022-07-11T18:39:16.058Z"
   },
   {
    "duration": 7,
    "start_time": "2022-07-11T18:39:16.127Z"
   },
   {
    "duration": 87,
    "start_time": "2022-07-11T18:39:16.136Z"
   },
   {
    "duration": 7,
    "start_time": "2022-07-11T18:39:16.225Z"
   },
   {
    "duration": 90,
    "start_time": "2022-07-11T18:39:16.234Z"
   },
   {
    "duration": 97,
    "start_time": "2022-07-11T18:39:16.326Z"
   },
   {
    "duration": 5836,
    "start_time": "2022-07-11T18:40:18.952Z"
   },
   {
    "duration": 1235,
    "start_time": "2022-07-11T18:40:24.790Z"
   },
   {
    "duration": 18,
    "start_time": "2022-07-11T18:40:26.026Z"
   },
   {
    "duration": 5,
    "start_time": "2022-07-11T18:40:26.046Z"
   },
   {
    "duration": 22,
    "start_time": "2022-07-11T18:40:26.053Z"
   },
   {
    "duration": 13,
    "start_time": "2022-07-11T18:40:26.076Z"
   },
   {
    "duration": 4,
    "start_time": "2022-07-11T18:40:26.090Z"
   },
   {
    "duration": 27,
    "start_time": "2022-07-11T18:40:26.096Z"
   },
   {
    "duration": 2,
    "start_time": "2022-07-11T18:40:26.125Z"
   },
   {
    "duration": 29,
    "start_time": "2022-07-11T18:40:26.130Z"
   },
   {
    "duration": 6,
    "start_time": "2022-07-11T18:40:26.161Z"
   },
   {
    "duration": 9,
    "start_time": "2022-07-11T18:40:26.170Z"
   },
   {
    "duration": 6,
    "start_time": "2022-07-11T18:40:26.181Z"
   },
   {
    "duration": 3613,
    "start_time": "2022-07-11T18:40:26.188Z"
   },
   {
    "duration": 11,
    "start_time": "2022-07-11T18:40:29.803Z"
   },
   {
    "duration": 5,
    "start_time": "2022-07-11T18:40:29.815Z"
   },
   {
    "duration": 274,
    "start_time": "2022-07-11T18:40:29.821Z"
   },
   {
    "duration": 10,
    "start_time": "2022-07-11T18:40:30.097Z"
   },
   {
    "duration": 18,
    "start_time": "2022-07-11T18:40:30.108Z"
   },
   {
    "duration": 23,
    "start_time": "2022-07-11T18:40:30.128Z"
   },
   {
    "duration": 26,
    "start_time": "2022-07-11T18:40:30.153Z"
   },
   {
    "duration": 20,
    "start_time": "2022-07-11T18:40:30.181Z"
   },
   {
    "duration": 23,
    "start_time": "2022-07-11T18:40:30.203Z"
   },
   {
    "duration": 31,
    "start_time": "2022-07-11T18:40:30.228Z"
   },
   {
    "duration": 37,
    "start_time": "2022-07-11T18:40:30.261Z"
   },
   {
    "duration": 27,
    "start_time": "2022-07-11T18:40:30.300Z"
   },
   {
    "duration": 35,
    "start_time": "2022-07-11T18:40:30.329Z"
   },
   {
    "duration": 4,
    "start_time": "2022-07-11T18:40:30.368Z"
   },
   {
    "duration": 20,
    "start_time": "2022-07-11T18:40:30.373Z"
   },
   {
    "duration": 16,
    "start_time": "2022-07-11T18:40:30.395Z"
   },
   {
    "duration": 26,
    "start_time": "2022-07-11T18:40:30.413Z"
   },
   {
    "duration": 35,
    "start_time": "2022-07-11T18:40:30.440Z"
   },
   {
    "duration": 13,
    "start_time": "2022-07-11T18:40:30.476Z"
   },
   {
    "duration": 405,
    "start_time": "2022-07-11T18:40:30.490Z"
   },
   {
    "duration": 4,
    "start_time": "2022-07-11T18:40:30.896Z"
   },
   {
    "duration": 34,
    "start_time": "2022-07-11T18:40:30.902Z"
   },
   {
    "duration": 556,
    "start_time": "2022-07-11T18:40:30.937Z"
   },
   {
    "duration": 4,
    "start_time": "2022-07-11T18:40:31.495Z"
   },
   {
    "duration": 14,
    "start_time": "2022-07-11T18:40:31.501Z"
   },
   {
    "duration": 20,
    "start_time": "2022-07-11T18:40:31.522Z"
   },
   {
    "duration": 86,
    "start_time": "2022-07-11T18:40:31.544Z"
   },
   {
    "duration": 90,
    "start_time": "2022-07-11T18:40:31.633Z"
   },
   {
    "duration": 97,
    "start_time": "2022-07-11T18:40:31.726Z"
   },
   {
    "duration": 11,
    "start_time": "2022-07-11T18:40:31.825Z"
   },
   {
    "duration": 14,
    "start_time": "2022-07-11T18:40:31.838Z"
   },
   {
    "duration": 72,
    "start_time": "2022-07-11T18:40:31.853Z"
   },
   {
    "duration": 96,
    "start_time": "2022-07-11T18:40:31.928Z"
   },
   {
    "duration": 111,
    "start_time": "2022-07-11T18:40:32.026Z"
   },
   {
    "duration": 92,
    "start_time": "2022-07-11T18:40:32.139Z"
   },
   {
    "duration": 82,
    "start_time": "2022-07-11T18:40:32.233Z"
   },
   {
    "duration": 19,
    "start_time": "2022-07-11T18:40:32.317Z"
   },
   {
    "duration": 86,
    "start_time": "2022-07-11T18:40:32.338Z"
   },
   {
    "duration": 97,
    "start_time": "2022-07-11T18:40:32.426Z"
   },
   {
    "duration": 12,
    "start_time": "2022-07-11T18:40:32.525Z"
   },
   {
    "duration": 19,
    "start_time": "2022-07-11T18:40:32.538Z"
   },
   {
    "duration": 68,
    "start_time": "2022-07-11T18:40:32.559Z"
   },
   {
    "duration": 99,
    "start_time": "2022-07-11T18:40:32.630Z"
   },
   {
    "duration": 2563,
    "start_time": "2022-07-11T19:02:03.074Z"
   },
   {
    "duration": 1200,
    "start_time": "2022-07-11T19:02:05.639Z"
   },
   {
    "duration": 16,
    "start_time": "2022-07-11T19:02:06.841Z"
   },
   {
    "duration": 3,
    "start_time": "2022-07-11T19:02:06.859Z"
   },
   {
    "duration": 23,
    "start_time": "2022-07-11T19:02:06.864Z"
   },
   {
    "duration": 10,
    "start_time": "2022-07-11T19:02:06.889Z"
   },
   {
    "duration": 16,
    "start_time": "2022-07-11T19:02:06.901Z"
   },
   {
    "duration": 21,
    "start_time": "2022-07-11T19:02:06.918Z"
   },
   {
    "duration": 12,
    "start_time": "2022-07-11T19:02:06.941Z"
   },
   {
    "duration": 24,
    "start_time": "2022-07-11T19:02:06.956Z"
   },
   {
    "duration": 6,
    "start_time": "2022-07-11T19:02:06.982Z"
   },
   {
    "duration": 21,
    "start_time": "2022-07-11T19:02:06.989Z"
   },
   {
    "duration": 7,
    "start_time": "2022-07-11T19:02:07.011Z"
   },
   {
    "duration": 3589,
    "start_time": "2022-07-11T19:02:07.020Z"
   },
   {
    "duration": 17,
    "start_time": "2022-07-11T19:02:10.611Z"
   },
   {
    "duration": 13,
    "start_time": "2022-07-11T19:02:10.630Z"
   },
   {
    "duration": 265,
    "start_time": "2022-07-11T19:02:10.645Z"
   },
   {
    "duration": 13,
    "start_time": "2022-07-11T19:02:10.911Z"
   },
   {
    "duration": 6,
    "start_time": "2022-07-11T19:02:10.925Z"
   },
   {
    "duration": 7,
    "start_time": "2022-07-11T19:02:10.933Z"
   },
   {
    "duration": 123,
    "start_time": "2022-07-11T19:02:10.941Z"
   },
   {
    "duration": 0,
    "start_time": "2022-07-11T19:02:11.066Z"
   },
   {
    "duration": 0,
    "start_time": "2022-07-11T19:02:11.068Z"
   },
   {
    "duration": 0,
    "start_time": "2022-07-11T19:02:11.069Z"
   },
   {
    "duration": 0,
    "start_time": "2022-07-11T19:02:11.071Z"
   },
   {
    "duration": 0,
    "start_time": "2022-07-11T19:02:11.072Z"
   },
   {
    "duration": 0,
    "start_time": "2022-07-11T19:02:11.073Z"
   },
   {
    "duration": 0,
    "start_time": "2022-07-11T19:02:11.074Z"
   },
   {
    "duration": 0,
    "start_time": "2022-07-11T19:02:11.075Z"
   },
   {
    "duration": 0,
    "start_time": "2022-07-11T19:02:11.076Z"
   },
   {
    "duration": 0,
    "start_time": "2022-07-11T19:02:11.077Z"
   },
   {
    "duration": 0,
    "start_time": "2022-07-11T19:02:11.078Z"
   },
   {
    "duration": 0,
    "start_time": "2022-07-11T19:02:11.080Z"
   },
   {
    "duration": 0,
    "start_time": "2022-07-11T19:02:11.081Z"
   },
   {
    "duration": 0,
    "start_time": "2022-07-11T19:02:11.082Z"
   },
   {
    "duration": 0,
    "start_time": "2022-07-11T19:02:11.084Z"
   },
   {
    "duration": 0,
    "start_time": "2022-07-11T19:02:11.085Z"
   },
   {
    "duration": 0,
    "start_time": "2022-07-11T19:02:11.123Z"
   },
   {
    "duration": 0,
    "start_time": "2022-07-11T19:02:11.124Z"
   },
   {
    "duration": 0,
    "start_time": "2022-07-11T19:02:11.125Z"
   },
   {
    "duration": 0,
    "start_time": "2022-07-11T19:02:11.126Z"
   },
   {
    "duration": 0,
    "start_time": "2022-07-11T19:02:11.127Z"
   },
   {
    "duration": 0,
    "start_time": "2022-07-11T19:02:11.128Z"
   },
   {
    "duration": 0,
    "start_time": "2022-07-11T19:02:11.129Z"
   },
   {
    "duration": 0,
    "start_time": "2022-07-11T19:02:11.130Z"
   },
   {
    "duration": 0,
    "start_time": "2022-07-11T19:02:11.131Z"
   },
   {
    "duration": 0,
    "start_time": "2022-07-11T19:02:11.132Z"
   },
   {
    "duration": 0,
    "start_time": "2022-07-11T19:02:11.134Z"
   },
   {
    "duration": 0,
    "start_time": "2022-07-11T19:02:11.135Z"
   },
   {
    "duration": 0,
    "start_time": "2022-07-11T19:02:11.137Z"
   },
   {
    "duration": 0,
    "start_time": "2022-07-11T19:02:11.138Z"
   },
   {
    "duration": 0,
    "start_time": "2022-07-11T19:02:11.139Z"
   },
   {
    "duration": 0,
    "start_time": "2022-07-11T19:02:11.140Z"
   },
   {
    "duration": 0,
    "start_time": "2022-07-11T19:02:11.141Z"
   },
   {
    "duration": 0,
    "start_time": "2022-07-11T19:02:11.142Z"
   },
   {
    "duration": 0,
    "start_time": "2022-07-11T19:02:11.143Z"
   },
   {
    "duration": 0,
    "start_time": "2022-07-11T19:02:11.144Z"
   },
   {
    "duration": 2598,
    "start_time": "2022-07-11T19:03:46.768Z"
   },
   {
    "duration": 1139,
    "start_time": "2022-07-11T19:03:49.369Z"
   },
   {
    "duration": 17,
    "start_time": "2022-07-11T19:03:50.510Z"
   },
   {
    "duration": 4,
    "start_time": "2022-07-11T19:03:50.529Z"
   },
   {
    "duration": 22,
    "start_time": "2022-07-11T19:03:50.534Z"
   },
   {
    "duration": 10,
    "start_time": "2022-07-11T19:03:50.558Z"
   },
   {
    "duration": 4,
    "start_time": "2022-07-11T19:03:50.569Z"
   },
   {
    "duration": 13,
    "start_time": "2022-07-11T19:03:50.575Z"
   },
   {
    "duration": 3,
    "start_time": "2022-07-11T19:03:50.590Z"
   },
   {
    "duration": 44,
    "start_time": "2022-07-11T19:03:50.596Z"
   },
   {
    "duration": 7,
    "start_time": "2022-07-11T19:03:50.642Z"
   },
   {
    "duration": 6,
    "start_time": "2022-07-11T19:03:50.651Z"
   },
   {
    "duration": 6,
    "start_time": "2022-07-11T19:03:50.658Z"
   },
   {
    "duration": 3697,
    "start_time": "2022-07-11T19:03:50.666Z"
   },
   {
    "duration": 13,
    "start_time": "2022-07-11T19:03:54.365Z"
   },
   {
    "duration": 12,
    "start_time": "2022-07-11T19:03:54.380Z"
   },
   {
    "duration": 327,
    "start_time": "2022-07-11T19:03:54.395Z"
   },
   {
    "duration": 11,
    "start_time": "2022-07-11T19:03:54.724Z"
   },
   {
    "duration": 10,
    "start_time": "2022-07-11T19:03:54.737Z"
   },
   {
    "duration": 20,
    "start_time": "2022-07-11T19:03:54.749Z"
   },
   {
    "duration": 127,
    "start_time": "2022-07-11T19:03:54.771Z"
   },
   {
    "duration": 0,
    "start_time": "2022-07-11T19:03:54.901Z"
   },
   {
    "duration": 0,
    "start_time": "2022-07-11T19:03:54.902Z"
   },
   {
    "duration": 0,
    "start_time": "2022-07-11T19:03:54.903Z"
   },
   {
    "duration": 1,
    "start_time": "2022-07-11T19:03:54.904Z"
   },
   {
    "duration": 0,
    "start_time": "2022-07-11T19:03:54.906Z"
   },
   {
    "duration": 0,
    "start_time": "2022-07-11T19:03:54.907Z"
   },
   {
    "duration": 0,
    "start_time": "2022-07-11T19:03:54.908Z"
   },
   {
    "duration": 0,
    "start_time": "2022-07-11T19:03:54.909Z"
   },
   {
    "duration": 0,
    "start_time": "2022-07-11T19:03:54.910Z"
   },
   {
    "duration": 0,
    "start_time": "2022-07-11T19:03:54.923Z"
   },
   {
    "duration": 0,
    "start_time": "2022-07-11T19:03:54.924Z"
   },
   {
    "duration": 1,
    "start_time": "2022-07-11T19:03:54.925Z"
   },
   {
    "duration": 0,
    "start_time": "2022-07-11T19:03:54.926Z"
   },
   {
    "duration": 0,
    "start_time": "2022-07-11T19:03:54.927Z"
   },
   {
    "duration": 0,
    "start_time": "2022-07-11T19:03:54.928Z"
   },
   {
    "duration": 0,
    "start_time": "2022-07-11T19:03:54.929Z"
   },
   {
    "duration": 0,
    "start_time": "2022-07-11T19:03:54.930Z"
   },
   {
    "duration": 0,
    "start_time": "2022-07-11T19:03:54.931Z"
   },
   {
    "duration": 0,
    "start_time": "2022-07-11T19:03:54.932Z"
   },
   {
    "duration": 0,
    "start_time": "2022-07-11T19:03:54.933Z"
   },
   {
    "duration": 0,
    "start_time": "2022-07-11T19:03:54.933Z"
   },
   {
    "duration": 0,
    "start_time": "2022-07-11T19:03:54.934Z"
   },
   {
    "duration": 0,
    "start_time": "2022-07-11T19:03:54.935Z"
   },
   {
    "duration": 0,
    "start_time": "2022-07-11T19:03:54.936Z"
   },
   {
    "duration": 0,
    "start_time": "2022-07-11T19:03:54.937Z"
   },
   {
    "duration": 0,
    "start_time": "2022-07-11T19:03:54.938Z"
   },
   {
    "duration": 0,
    "start_time": "2022-07-11T19:03:54.939Z"
   },
   {
    "duration": 0,
    "start_time": "2022-07-11T19:03:54.940Z"
   },
   {
    "duration": 0,
    "start_time": "2022-07-11T19:03:54.941Z"
   },
   {
    "duration": 0,
    "start_time": "2022-07-11T19:03:54.942Z"
   },
   {
    "duration": 0,
    "start_time": "2022-07-11T19:03:54.943Z"
   },
   {
    "duration": 0,
    "start_time": "2022-07-11T19:03:54.944Z"
   },
   {
    "duration": 0,
    "start_time": "2022-07-11T19:03:54.945Z"
   },
   {
    "duration": 0,
    "start_time": "2022-07-11T19:03:54.948Z"
   },
   {
    "duration": 0,
    "start_time": "2022-07-11T19:03:54.950Z"
   },
   {
    "duration": 0,
    "start_time": "2022-07-11T19:03:54.951Z"
   },
   {
    "duration": 2713,
    "start_time": "2022-07-11T19:04:30.945Z"
   },
   {
    "duration": 1282,
    "start_time": "2022-07-11T19:04:33.660Z"
   },
   {
    "duration": 20,
    "start_time": "2022-07-11T19:04:34.944Z"
   },
   {
    "duration": 4,
    "start_time": "2022-07-11T19:04:34.965Z"
   },
   {
    "duration": 25,
    "start_time": "2022-07-11T19:04:34.971Z"
   },
   {
    "duration": 13,
    "start_time": "2022-07-11T19:04:34.998Z"
   },
   {
    "duration": 13,
    "start_time": "2022-07-11T19:04:35.013Z"
   },
   {
    "duration": 14,
    "start_time": "2022-07-11T19:04:35.028Z"
   },
   {
    "duration": 2,
    "start_time": "2022-07-11T19:04:35.044Z"
   },
   {
    "duration": 31,
    "start_time": "2022-07-11T19:04:35.048Z"
   },
   {
    "duration": 7,
    "start_time": "2022-07-11T19:04:35.081Z"
   },
   {
    "duration": 16,
    "start_time": "2022-07-11T19:04:35.089Z"
   },
   {
    "duration": 20,
    "start_time": "2022-07-11T19:04:35.108Z"
   },
   {
    "duration": 3501,
    "start_time": "2022-07-11T19:04:35.133Z"
   },
   {
    "duration": 11,
    "start_time": "2022-07-11T19:04:38.636Z"
   },
   {
    "duration": 6,
    "start_time": "2022-07-11T19:04:38.649Z"
   },
   {
    "duration": 298,
    "start_time": "2022-07-11T19:04:38.656Z"
   },
   {
    "duration": 11,
    "start_time": "2022-07-11T19:04:38.955Z"
   },
   {
    "duration": 9,
    "start_time": "2022-07-11T19:04:38.967Z"
   },
   {
    "duration": 8,
    "start_time": "2022-07-11T19:04:38.977Z"
   },
   {
    "duration": 445,
    "start_time": "2022-07-11T19:04:38.986Z"
   },
   {
    "duration": 14,
    "start_time": "2022-07-11T19:04:39.432Z"
   },
   {
    "duration": 13,
    "start_time": "2022-07-11T19:04:39.448Z"
   },
   {
    "duration": 450,
    "start_time": "2022-07-11T19:04:39.462Z"
   },
   {
    "duration": 10,
    "start_time": "2022-07-11T19:04:39.913Z"
   },
   {
    "duration": 21,
    "start_time": "2022-07-11T19:04:39.925Z"
   },
   {
    "duration": 9,
    "start_time": "2022-07-11T19:04:39.948Z"
   },
   {
    "duration": 34,
    "start_time": "2022-07-11T19:04:39.959Z"
   },
   {
    "duration": 21,
    "start_time": "2022-07-11T19:04:39.995Z"
   },
   {
    "duration": 15,
    "start_time": "2022-07-11T19:04:40.018Z"
   },
   {
    "duration": 6,
    "start_time": "2022-07-11T19:04:40.035Z"
   },
   {
    "duration": 8,
    "start_time": "2022-07-11T19:04:40.042Z"
   },
   {
    "duration": 41,
    "start_time": "2022-07-11T19:04:40.051Z"
   },
   {
    "duration": 21,
    "start_time": "2022-07-11T19:04:40.094Z"
   },
   {
    "duration": 441,
    "start_time": "2022-07-11T19:04:40.117Z"
   },
   {
    "duration": 467,
    "start_time": "2022-07-11T19:04:40.560Z"
   },
   {
    "duration": 159,
    "start_time": "2022-07-11T19:04:41.028Z"
   },
   {
    "duration": 4,
    "start_time": "2022-07-11T19:04:41.189Z"
   },
   {
    "duration": 13,
    "start_time": "2022-07-11T19:04:41.195Z"
   },
   {
    "duration": 23,
    "start_time": "2022-07-11T19:04:41.210Z"
   },
   {
    "duration": 92,
    "start_time": "2022-07-11T19:04:41.240Z"
   },
   {
    "duration": 97,
    "start_time": "2022-07-11T19:04:41.335Z"
   },
   {
    "duration": 89,
    "start_time": "2022-07-11T19:04:41.434Z"
   },
   {
    "duration": 10,
    "start_time": "2022-07-11T19:04:41.525Z"
   },
   {
    "duration": 7,
    "start_time": "2022-07-11T19:04:41.536Z"
   },
   {
    "duration": 9,
    "start_time": "2022-07-11T19:04:41.546Z"
   },
   {
    "duration": 76,
    "start_time": "2022-07-11T19:04:41.557Z"
   },
   {
    "duration": 98,
    "start_time": "2022-07-11T19:04:41.635Z"
   },
   {
    "duration": 93,
    "start_time": "2022-07-11T19:04:41.737Z"
   },
   {
    "duration": 12,
    "start_time": "2022-07-11T19:04:41.832Z"
   },
   {
    "duration": 14,
    "start_time": "2022-07-11T19:04:41.846Z"
   },
   {
    "duration": 63,
    "start_time": "2022-07-11T19:04:41.862Z"
   },
   {
    "duration": 14,
    "start_time": "2022-07-11T19:04:41.927Z"
   },
   {
    "duration": 82,
    "start_time": "2022-07-11T19:04:41.943Z"
   },
   {
    "duration": 13,
    "start_time": "2022-07-11T19:04:42.027Z"
   },
   {
    "duration": 87,
    "start_time": "2022-07-11T19:04:42.042Z"
   },
   {
    "duration": 96,
    "start_time": "2022-07-11T19:04:42.132Z"
   },
   {
    "duration": 2499,
    "start_time": "2022-07-11T19:05:57.346Z"
   },
   {
    "duration": 1265,
    "start_time": "2022-07-11T19:05:59.847Z"
   },
   {
    "duration": 18,
    "start_time": "2022-07-11T19:06:01.114Z"
   },
   {
    "duration": 4,
    "start_time": "2022-07-11T19:06:01.133Z"
   },
   {
    "duration": 22,
    "start_time": "2022-07-11T19:06:01.139Z"
   },
   {
    "duration": 27,
    "start_time": "2022-07-11T19:06:01.162Z"
   },
   {
    "duration": 7,
    "start_time": "2022-07-11T19:06:01.190Z"
   },
   {
    "duration": 20,
    "start_time": "2022-07-11T19:06:01.198Z"
   },
   {
    "duration": 3,
    "start_time": "2022-07-11T19:06:01.219Z"
   },
   {
    "duration": 35,
    "start_time": "2022-07-11T19:06:01.223Z"
   },
   {
    "duration": 25,
    "start_time": "2022-07-11T19:06:01.260Z"
   },
   {
    "duration": 37,
    "start_time": "2022-07-11T19:06:01.287Z"
   },
   {
    "duration": 37,
    "start_time": "2022-07-11T19:06:01.326Z"
   },
   {
    "duration": 3502,
    "start_time": "2022-07-11T19:06:01.367Z"
   },
   {
    "duration": 11,
    "start_time": "2022-07-11T19:06:04.871Z"
   },
   {
    "duration": 27,
    "start_time": "2022-07-11T19:06:04.884Z"
   },
   {
    "duration": 249,
    "start_time": "2022-07-11T19:06:04.913Z"
   },
   {
    "duration": 10,
    "start_time": "2022-07-11T19:06:05.163Z"
   },
   {
    "duration": 5,
    "start_time": "2022-07-11T19:06:05.175Z"
   },
   {
    "duration": 7,
    "start_time": "2022-07-11T19:06:05.181Z"
   },
   {
    "duration": 413,
    "start_time": "2022-07-11T19:06:05.190Z"
   },
   {
    "duration": 19,
    "start_time": "2022-07-11T19:06:05.605Z"
   },
   {
    "duration": 10,
    "start_time": "2022-07-11T19:06:05.626Z"
   },
   {
    "duration": 449,
    "start_time": "2022-07-11T19:06:05.638Z"
   },
   {
    "duration": 3,
    "start_time": "2022-07-11T19:06:06.089Z"
   },
   {
    "duration": 12,
    "start_time": "2022-07-11T19:06:06.094Z"
   },
   {
    "duration": 17,
    "start_time": "2022-07-11T19:06:06.108Z"
   },
   {
    "duration": 22,
    "start_time": "2022-07-11T19:06:06.127Z"
   },
   {
    "duration": 12,
    "start_time": "2022-07-11T19:06:06.150Z"
   },
   {
    "duration": 6,
    "start_time": "2022-07-11T19:06:06.164Z"
   },
   {
    "duration": 6,
    "start_time": "2022-07-11T19:06:06.171Z"
   },
   {
    "duration": 9,
    "start_time": "2022-07-11T19:06:06.179Z"
   },
   {
    "duration": 24,
    "start_time": "2022-07-11T19:06:06.189Z"
   },
   {
    "duration": 21,
    "start_time": "2022-07-11T19:06:06.214Z"
   },
   {
    "duration": 365,
    "start_time": "2022-07-11T19:06:06.237Z"
   },
   {
    "duration": 405,
    "start_time": "2022-07-11T19:06:06.604Z"
   },
   {
    "duration": 176,
    "start_time": "2022-07-11T19:06:07.011Z"
   },
   {
    "duration": 5,
    "start_time": "2022-07-11T19:06:07.189Z"
   },
   {
    "duration": 8,
    "start_time": "2022-07-11T19:06:07.195Z"
   },
   {
    "duration": 24,
    "start_time": "2022-07-11T19:06:07.205Z"
   },
   {
    "duration": 97,
    "start_time": "2022-07-11T19:06:07.235Z"
   },
   {
    "duration": 90,
    "start_time": "2022-07-11T19:06:07.336Z"
   },
   {
    "duration": 94,
    "start_time": "2022-07-11T19:06:07.429Z"
   },
   {
    "duration": 8,
    "start_time": "2022-07-11T19:06:07.525Z"
   },
   {
    "duration": 12,
    "start_time": "2022-07-11T19:06:07.534Z"
   },
   {
    "duration": 12,
    "start_time": "2022-07-11T19:06:07.548Z"
   },
   {
    "duration": 22,
    "start_time": "2022-07-11T19:06:07.624Z"
   },
   {
    "duration": 14,
    "start_time": "2022-07-11T19:06:07.723Z"
   },
   {
    "duration": 92,
    "start_time": "2022-07-11T19:06:07.739Z"
   },
   {
    "duration": 99,
    "start_time": "2022-07-11T19:06:07.832Z"
   },
   {
    "duration": 25,
    "start_time": "2022-07-11T19:06:07.932Z"
   },
   {
    "duration": 64,
    "start_time": "2022-07-11T19:06:07.959Z"
   },
   {
    "duration": 14,
    "start_time": "2022-07-11T19:06:08.026Z"
   },
   {
    "duration": 85,
    "start_time": "2022-07-11T19:06:08.042Z"
   },
   {
    "duration": 28,
    "start_time": "2022-07-11T19:06:08.129Z"
   },
   {
    "duration": 80,
    "start_time": "2022-07-11T19:06:08.160Z"
   },
   {
    "duration": 185,
    "start_time": "2022-07-11T19:06:08.242Z"
   },
   {
    "duration": 49,
    "start_time": "2022-07-11T19:10:27.823Z"
   },
   {
    "duration": 2697,
    "start_time": "2022-07-11T19:20:29.202Z"
   },
   {
    "duration": 1337,
    "start_time": "2022-07-11T19:20:31.902Z"
   },
   {
    "duration": 18,
    "start_time": "2022-07-11T19:20:33.241Z"
   },
   {
    "duration": 4,
    "start_time": "2022-07-11T19:20:33.262Z"
   },
   {
    "duration": 20,
    "start_time": "2022-07-11T19:20:33.268Z"
   },
   {
    "duration": 10,
    "start_time": "2022-07-11T19:20:33.289Z"
   },
   {
    "duration": 4,
    "start_time": "2022-07-11T19:20:33.301Z"
   },
   {
    "duration": 31,
    "start_time": "2022-07-11T19:20:33.306Z"
   },
   {
    "duration": 5,
    "start_time": "2022-07-11T19:20:33.339Z"
   },
   {
    "duration": 26,
    "start_time": "2022-07-11T19:20:33.347Z"
   },
   {
    "duration": 6,
    "start_time": "2022-07-11T19:20:33.374Z"
   },
   {
    "duration": 9,
    "start_time": "2022-07-11T19:20:33.381Z"
   },
   {
    "duration": 12,
    "start_time": "2022-07-11T19:20:33.391Z"
   },
   {
    "duration": 3760,
    "start_time": "2022-07-11T19:20:33.422Z"
   },
   {
    "duration": 12,
    "start_time": "2022-07-11T19:20:37.184Z"
   },
   {
    "duration": 4,
    "start_time": "2022-07-11T19:20:37.197Z"
   },
   {
    "duration": 303,
    "start_time": "2022-07-11T19:20:37.203Z"
   },
   {
    "duration": 11,
    "start_time": "2022-07-11T19:20:37.507Z"
   },
   {
    "duration": 16,
    "start_time": "2022-07-11T19:20:37.519Z"
   },
   {
    "duration": 9,
    "start_time": "2022-07-11T19:20:37.538Z"
   },
   {
    "duration": 433,
    "start_time": "2022-07-11T19:20:37.549Z"
   },
   {
    "duration": 12,
    "start_time": "2022-07-11T19:20:37.984Z"
   },
   {
    "duration": 33,
    "start_time": "2022-07-11T19:20:37.998Z"
   },
   {
    "duration": 460,
    "start_time": "2022-07-11T19:20:38.034Z"
   },
   {
    "duration": 4,
    "start_time": "2022-07-11T19:20:38.496Z"
   },
   {
    "duration": 9,
    "start_time": "2022-07-11T19:20:38.501Z"
   },
   {
    "duration": 21,
    "start_time": "2022-07-11T19:20:38.511Z"
   },
   {
    "duration": 10,
    "start_time": "2022-07-11T19:20:38.536Z"
   },
   {
    "duration": 12,
    "start_time": "2022-07-11T19:20:38.548Z"
   },
   {
    "duration": 6,
    "start_time": "2022-07-11T19:20:38.561Z"
   },
   {
    "duration": 5,
    "start_time": "2022-07-11T19:20:38.569Z"
   },
   {
    "duration": 8,
    "start_time": "2022-07-11T19:20:38.576Z"
   },
   {
    "duration": 50,
    "start_time": "2022-07-11T19:20:38.585Z"
   },
   {
    "duration": 22,
    "start_time": "2022-07-11T19:20:38.637Z"
   },
   {
    "duration": 444,
    "start_time": "2022-07-11T19:20:38.661Z"
   },
   {
    "duration": 433,
    "start_time": "2022-07-11T19:20:39.107Z"
   },
   {
    "duration": 179,
    "start_time": "2022-07-11T19:20:39.543Z"
   },
   {
    "duration": 6,
    "start_time": "2022-07-11T19:20:39.724Z"
   },
   {
    "duration": 19,
    "start_time": "2022-07-11T19:20:39.733Z"
   },
   {
    "duration": 21,
    "start_time": "2022-07-11T19:20:39.754Z"
   },
   {
    "duration": 144,
    "start_time": "2022-07-11T19:20:39.778Z"
   },
   {
    "duration": 104,
    "start_time": "2022-07-11T19:20:39.925Z"
   },
   {
    "duration": 19,
    "start_time": "2022-07-11T19:20:40.032Z"
   },
   {
    "duration": 8,
    "start_time": "2022-07-11T19:20:40.053Z"
   },
   {
    "duration": 38,
    "start_time": "2022-07-11T19:20:40.063Z"
   },
   {
    "duration": 29,
    "start_time": "2022-07-11T19:20:40.103Z"
   },
   {
    "duration": 92,
    "start_time": "2022-07-11T19:20:40.137Z"
   },
   {
    "duration": 103,
    "start_time": "2022-07-11T19:20:40.231Z"
   },
   {
    "duration": 102,
    "start_time": "2022-07-11T19:20:40.337Z"
   },
   {
    "duration": 98,
    "start_time": "2022-07-11T19:20:40.441Z"
   },
   {
    "duration": 10,
    "start_time": "2022-07-11T19:20:40.541Z"
   },
   {
    "duration": 14,
    "start_time": "2022-07-11T19:20:40.553Z"
   },
   {
    "duration": 62,
    "start_time": "2022-07-11T19:20:40.568Z"
   },
   {
    "duration": 9,
    "start_time": "2022-07-11T19:20:40.633Z"
   },
   {
    "duration": 91,
    "start_time": "2022-07-11T19:20:40.644Z"
   },
   {
    "duration": 12,
    "start_time": "2022-07-11T19:20:40.737Z"
   },
   {
    "duration": 11,
    "start_time": "2022-07-11T19:20:40.751Z"
   },
   {
    "duration": 18,
    "start_time": "2022-07-11T19:20:40.822Z"
   },
   {
    "duration": 7,
    "start_time": "2022-07-11T19:33:04.301Z"
   },
   {
    "duration": 5,
    "start_time": "2022-07-11T19:33:11.838Z"
   },
   {
    "duration": 18,
    "start_time": "2022-07-11T19:35:02.878Z"
   },
   {
    "duration": 2626,
    "start_time": "2022-07-11T19:37:31.179Z"
   },
   {
    "duration": 1258,
    "start_time": "2022-07-11T19:37:33.807Z"
   },
   {
    "duration": 18,
    "start_time": "2022-07-11T19:37:35.067Z"
   },
   {
    "duration": 4,
    "start_time": "2022-07-11T19:37:35.087Z"
   },
   {
    "duration": 25,
    "start_time": "2022-07-11T19:37:35.092Z"
   },
   {
    "duration": 11,
    "start_time": "2022-07-11T19:37:35.118Z"
   },
   {
    "duration": 4,
    "start_time": "2022-07-11T19:37:35.130Z"
   },
   {
    "duration": 14,
    "start_time": "2022-07-11T19:37:35.135Z"
   },
   {
    "duration": 3,
    "start_time": "2022-07-11T19:37:35.150Z"
   },
   {
    "duration": 29,
    "start_time": "2022-07-11T19:37:35.155Z"
   },
   {
    "duration": 6,
    "start_time": "2022-07-11T19:37:35.186Z"
   },
   {
    "duration": 33,
    "start_time": "2022-07-11T19:37:35.193Z"
   },
   {
    "duration": 11,
    "start_time": "2022-07-11T19:37:35.227Z"
   },
   {
    "duration": 3492,
    "start_time": "2022-07-11T19:37:35.240Z"
   },
   {
    "duration": 12,
    "start_time": "2022-07-11T19:37:38.734Z"
   },
   {
    "duration": 5,
    "start_time": "2022-07-11T19:37:38.748Z"
   },
   {
    "duration": 295,
    "start_time": "2022-07-11T19:37:38.755Z"
   },
   {
    "duration": 10,
    "start_time": "2022-07-11T19:37:39.052Z"
   },
   {
    "duration": 6,
    "start_time": "2022-07-11T19:37:39.064Z"
   },
   {
    "duration": 10,
    "start_time": "2022-07-11T19:37:39.072Z"
   },
   {
    "duration": 423,
    "start_time": "2022-07-11T19:37:39.084Z"
   },
   {
    "duration": 17,
    "start_time": "2022-07-11T19:37:39.509Z"
   },
   {
    "duration": 11,
    "start_time": "2022-07-11T19:37:39.527Z"
   },
   {
    "duration": 451,
    "start_time": "2022-07-11T19:37:39.539Z"
   },
   {
    "duration": 5,
    "start_time": "2022-07-11T19:37:39.995Z"
   },
   {
    "duration": 18,
    "start_time": "2022-07-11T19:37:40.005Z"
   },
   {
    "duration": 15,
    "start_time": "2022-07-11T19:37:40.026Z"
   },
   {
    "duration": 10,
    "start_time": "2022-07-11T19:37:40.046Z"
   },
   {
    "duration": 11,
    "start_time": "2022-07-11T19:37:40.058Z"
   },
   {
    "duration": 12,
    "start_time": "2022-07-11T19:37:40.071Z"
   },
   {
    "duration": 12,
    "start_time": "2022-07-11T19:37:40.084Z"
   },
   {
    "duration": 13,
    "start_time": "2022-07-11T19:37:40.097Z"
   },
   {
    "duration": 38,
    "start_time": "2022-07-11T19:37:40.113Z"
   },
   {
    "duration": 20,
    "start_time": "2022-07-11T19:37:40.153Z"
   },
   {
    "duration": 397,
    "start_time": "2022-07-11T19:37:40.174Z"
   },
   {
    "duration": 396,
    "start_time": "2022-07-11T19:37:40.573Z"
   },
   {
    "duration": 167,
    "start_time": "2022-07-11T19:37:40.971Z"
   },
   {
    "duration": 5,
    "start_time": "2022-07-11T19:37:41.140Z"
   },
   {
    "duration": 10,
    "start_time": "2022-07-11T19:37:41.146Z"
   },
   {
    "duration": 17,
    "start_time": "2022-07-11T19:37:41.157Z"
   },
   {
    "duration": 11,
    "start_time": "2022-07-11T19:37:41.223Z"
   },
   {
    "duration": 90,
    "start_time": "2022-07-11T19:37:41.236Z"
   },
   {
    "duration": 94,
    "start_time": "2022-07-11T19:37:41.329Z"
   },
   {
    "duration": 7,
    "start_time": "2022-07-11T19:37:41.425Z"
   },
   {
    "duration": 13,
    "start_time": "2022-07-11T19:37:41.434Z"
   },
   {
    "duration": 76,
    "start_time": "2022-07-11T19:37:41.450Z"
   },
   {
    "duration": 11,
    "start_time": "2022-07-11T19:37:41.528Z"
   },
   {
    "duration": 97,
    "start_time": "2022-07-11T19:37:41.541Z"
   },
   {
    "duration": 93,
    "start_time": "2022-07-11T19:37:41.639Z"
   },
   {
    "duration": 97,
    "start_time": "2022-07-11T19:37:41.734Z"
   },
   {
    "duration": 18,
    "start_time": "2022-07-11T19:37:41.832Z"
   },
   {
    "duration": 75,
    "start_time": "2022-07-11T19:37:41.851Z"
   },
   {
    "duration": 4,
    "start_time": "2022-07-11T19:37:41.928Z"
   },
   {
    "duration": 89,
    "start_time": "2022-07-11T19:37:41.934Z"
   },
   {
    "duration": 6,
    "start_time": "2022-07-11T19:37:42.025Z"
   },
   {
    "duration": 9,
    "start_time": "2022-07-11T19:37:42.032Z"
   },
   {
    "duration": 85,
    "start_time": "2022-07-11T19:37:42.043Z"
   },
   {
    "duration": 97,
    "start_time": "2022-07-11T19:37:42.131Z"
   },
   {
    "duration": 2899,
    "start_time": "2022-07-11T19:51:33.758Z"
   },
   {
    "duration": 1415,
    "start_time": "2022-07-11T19:51:36.659Z"
   },
   {
    "duration": 16,
    "start_time": "2022-07-11T19:51:38.076Z"
   },
   {
    "duration": 18,
    "start_time": "2022-07-11T19:51:38.094Z"
   },
   {
    "duration": 29,
    "start_time": "2022-07-11T19:51:38.114Z"
   },
   {
    "duration": 12,
    "start_time": "2022-07-11T19:51:38.146Z"
   },
   {
    "duration": 7,
    "start_time": "2022-07-11T19:51:38.160Z"
   },
   {
    "duration": 15,
    "start_time": "2022-07-11T19:51:38.168Z"
   },
   {
    "duration": 22,
    "start_time": "2022-07-11T19:51:38.185Z"
   },
   {
    "duration": 44,
    "start_time": "2022-07-11T19:51:38.210Z"
   },
   {
    "duration": 8,
    "start_time": "2022-07-11T19:51:38.256Z"
   },
   {
    "duration": 8,
    "start_time": "2022-07-11T19:51:38.267Z"
   },
   {
    "duration": 15,
    "start_time": "2022-07-11T19:51:38.277Z"
   },
   {
    "duration": 4110,
    "start_time": "2022-07-11T19:51:38.294Z"
   },
   {
    "duration": 17,
    "start_time": "2022-07-11T19:51:42.406Z"
   },
   {
    "duration": 8,
    "start_time": "2022-07-11T19:51:42.427Z"
   },
   {
    "duration": 362,
    "start_time": "2022-07-11T19:51:42.438Z"
   },
   {
    "duration": 11,
    "start_time": "2022-07-11T19:51:42.802Z"
   },
   {
    "duration": 6,
    "start_time": "2022-07-11T19:51:42.815Z"
   },
   {
    "duration": 32,
    "start_time": "2022-07-11T19:51:42.824Z"
   },
   {
    "duration": 574,
    "start_time": "2022-07-11T19:51:42.859Z"
   },
   {
    "duration": 17,
    "start_time": "2022-07-11T19:51:43.436Z"
   },
   {
    "duration": 12,
    "start_time": "2022-07-11T19:51:43.455Z"
   },
   {
    "duration": 534,
    "start_time": "2022-07-11T19:51:43.469Z"
   },
   {
    "duration": 5,
    "start_time": "2022-07-11T19:51:44.007Z"
   },
   {
    "duration": 11,
    "start_time": "2022-07-11T19:51:44.022Z"
   },
   {
    "duration": 22,
    "start_time": "2022-07-11T19:51:44.036Z"
   },
   {
    "duration": 8,
    "start_time": "2022-07-11T19:51:44.063Z"
   },
   {
    "duration": 22,
    "start_time": "2022-07-11T19:51:44.073Z"
   },
   {
    "duration": 9,
    "start_time": "2022-07-11T19:51:44.098Z"
   },
   {
    "duration": 16,
    "start_time": "2022-07-11T19:51:44.108Z"
   },
   {
    "duration": 16,
    "start_time": "2022-07-11T19:51:44.127Z"
   },
   {
    "duration": 62,
    "start_time": "2022-07-11T19:51:44.145Z"
   },
   {
    "duration": 29,
    "start_time": "2022-07-11T19:51:44.209Z"
   },
   {
    "duration": 562,
    "start_time": "2022-07-11T19:51:44.244Z"
   },
   {
    "duration": 576,
    "start_time": "2022-07-11T19:51:44.809Z"
   },
   {
    "duration": 190,
    "start_time": "2022-07-11T19:51:45.387Z"
   },
   {
    "duration": 5,
    "start_time": "2022-07-11T19:51:45.579Z"
   },
   {
    "duration": 19,
    "start_time": "2022-07-11T19:51:45.586Z"
   },
   {
    "duration": 33,
    "start_time": "2022-07-11T19:51:45.607Z"
   },
   {
    "duration": 183,
    "start_time": "2022-07-11T19:51:45.653Z"
   },
   {
    "duration": 87,
    "start_time": "2022-07-11T19:51:45.839Z"
   },
   {
    "duration": 28,
    "start_time": "2022-07-11T19:51:45.935Z"
   },
   {
    "duration": 16,
    "start_time": "2022-07-11T19:51:45.965Z"
   },
   {
    "duration": 13,
    "start_time": "2022-07-11T19:51:45.983Z"
   },
   {
    "duration": 130,
    "start_time": "2022-07-11T19:51:45.998Z"
   },
   {
    "duration": 106,
    "start_time": "2022-07-11T19:51:46.130Z"
   },
   {
    "duration": 28,
    "start_time": "2022-07-11T19:51:46.239Z"
   },
   {
    "duration": 171,
    "start_time": "2022-07-11T19:51:46.270Z"
   },
   {
    "duration": 15,
    "start_time": "2022-07-11T19:51:46.450Z"
   },
   {
    "duration": 67,
    "start_time": "2022-07-11T19:51:46.468Z"
   },
   {
    "duration": 87,
    "start_time": "2022-07-11T19:51:46.538Z"
   },
   {
    "duration": 15,
    "start_time": "2022-07-11T19:51:46.628Z"
   },
   {
    "duration": 12,
    "start_time": "2022-07-11T19:51:46.645Z"
   },
   {
    "duration": 10,
    "start_time": "2022-07-11T19:51:46.659Z"
   },
   {
    "duration": 259,
    "start_time": "2022-07-11T19:51:46.671Z"
   },
   {
    "duration": 0,
    "start_time": "2022-07-11T19:51:46.933Z"
   },
   {
    "duration": 2567,
    "start_time": "2022-07-11T19:53:26.956Z"
   },
   {
    "duration": 1311,
    "start_time": "2022-07-11T19:53:29.526Z"
   },
   {
    "duration": 18,
    "start_time": "2022-07-11T19:53:30.839Z"
   },
   {
    "duration": 11,
    "start_time": "2022-07-11T19:53:30.859Z"
   },
   {
    "duration": 43,
    "start_time": "2022-07-11T19:53:30.872Z"
   },
   {
    "duration": 44,
    "start_time": "2022-07-11T19:53:30.917Z"
   },
   {
    "duration": 45,
    "start_time": "2022-07-11T19:53:30.963Z"
   },
   {
    "duration": 64,
    "start_time": "2022-07-11T19:53:31.011Z"
   },
   {
    "duration": 27,
    "start_time": "2022-07-11T19:53:31.078Z"
   },
   {
    "duration": 51,
    "start_time": "2022-07-11T19:53:31.107Z"
   },
   {
    "duration": 16,
    "start_time": "2022-07-11T19:53:31.160Z"
   },
   {
    "duration": 34,
    "start_time": "2022-07-11T19:53:31.178Z"
   },
   {
    "duration": 31,
    "start_time": "2022-07-11T19:53:31.215Z"
   },
   {
    "duration": 3600,
    "start_time": "2022-07-11T19:53:31.250Z"
   },
   {
    "duration": 11,
    "start_time": "2022-07-11T19:53:34.852Z"
   },
   {
    "duration": 4,
    "start_time": "2022-07-11T19:53:34.864Z"
   },
   {
    "duration": 292,
    "start_time": "2022-07-11T19:53:34.870Z"
   },
   {
    "duration": 10,
    "start_time": "2022-07-11T19:53:35.164Z"
   },
   {
    "duration": 18,
    "start_time": "2022-07-11T19:53:35.176Z"
   },
   {
    "duration": 8,
    "start_time": "2022-07-11T19:53:35.196Z"
   },
   {
    "duration": 445,
    "start_time": "2022-07-11T19:53:35.206Z"
   },
   {
    "duration": 16,
    "start_time": "2022-07-11T19:53:35.653Z"
   },
   {
    "duration": 15,
    "start_time": "2022-07-11T19:53:35.671Z"
   },
   {
    "duration": 470,
    "start_time": "2022-07-11T19:53:35.688Z"
   },
   {
    "duration": 4,
    "start_time": "2022-07-11T19:53:36.160Z"
   },
   {
    "duration": 11,
    "start_time": "2022-07-11T19:53:36.166Z"
   },
   {
    "duration": 17,
    "start_time": "2022-07-11T19:53:36.178Z"
   },
   {
    "duration": 10,
    "start_time": "2022-07-11T19:53:36.197Z"
   },
   {
    "duration": 8,
    "start_time": "2022-07-11T19:53:36.222Z"
   },
   {
    "duration": 6,
    "start_time": "2022-07-11T19:53:36.232Z"
   },
   {
    "duration": 6,
    "start_time": "2022-07-11T19:53:36.239Z"
   },
   {
    "duration": 8,
    "start_time": "2022-07-11T19:53:36.246Z"
   },
   {
    "duration": 36,
    "start_time": "2022-07-11T19:53:36.256Z"
   },
   {
    "duration": 44,
    "start_time": "2022-07-11T19:53:36.294Z"
   },
   {
    "duration": 434,
    "start_time": "2022-07-11T19:53:36.340Z"
   },
   {
    "duration": 468,
    "start_time": "2022-07-11T19:53:36.776Z"
   },
   {
    "duration": 167,
    "start_time": "2022-07-11T19:53:37.245Z"
   },
   {
    "duration": 5,
    "start_time": "2022-07-11T19:53:37.422Z"
   },
   {
    "duration": 15,
    "start_time": "2022-07-11T19:53:37.428Z"
   },
   {
    "duration": 10,
    "start_time": "2022-07-11T19:53:37.445Z"
   },
   {
    "duration": 71,
    "start_time": "2022-07-11T19:53:37.460Z"
   },
   {
    "duration": 92,
    "start_time": "2022-07-11T19:53:37.534Z"
   },
   {
    "duration": 93,
    "start_time": "2022-07-11T19:53:37.631Z"
   },
   {
    "duration": 6,
    "start_time": "2022-07-11T19:53:37.726Z"
   },
   {
    "duration": 9,
    "start_time": "2022-07-11T19:53:37.734Z"
   },
   {
    "duration": 13,
    "start_time": "2022-07-11T19:53:37.745Z"
   },
   {
    "duration": 10,
    "start_time": "2022-07-11T19:53:37.824Z"
   },
   {
    "duration": 96,
    "start_time": "2022-07-11T19:53:37.837Z"
   },
   {
    "duration": 97,
    "start_time": "2022-07-11T19:53:37.935Z"
   },
   {
    "duration": 91,
    "start_time": "2022-07-11T19:53:38.034Z"
   },
   {
    "duration": 18,
    "start_time": "2022-07-11T19:53:38.128Z"
   },
   {
    "duration": 77,
    "start_time": "2022-07-11T19:53:38.147Z"
   },
   {
    "duration": 10,
    "start_time": "2022-07-11T19:53:38.226Z"
   },
   {
    "duration": 97,
    "start_time": "2022-07-11T19:53:38.238Z"
   },
   {
    "duration": 10,
    "start_time": "2022-07-11T19:53:38.337Z"
   },
   {
    "duration": 78,
    "start_time": "2022-07-11T19:53:38.350Z"
   },
   {
    "duration": 102,
    "start_time": "2022-07-11T19:53:38.430Z"
   },
   {
    "duration": 10,
    "start_time": "2022-07-11T21:05:52.683Z"
   },
   {
    "duration": 12,
    "start_time": "2022-07-11T21:05:55.452Z"
   },
   {
    "duration": 11,
    "start_time": "2022-07-11T21:05:57.901Z"
   },
   {
    "duration": 2823,
    "start_time": "2022-07-11T21:33:42.489Z"
   },
   {
    "duration": 1253,
    "start_time": "2022-07-11T21:33:45.314Z"
   },
   {
    "duration": 16,
    "start_time": "2022-07-11T21:33:46.569Z"
   },
   {
    "duration": 4,
    "start_time": "2022-07-11T21:33:46.586Z"
   },
   {
    "duration": 16,
    "start_time": "2022-07-11T21:33:46.591Z"
   },
   {
    "duration": 20,
    "start_time": "2022-07-11T21:33:46.609Z"
   },
   {
    "duration": 8,
    "start_time": "2022-07-11T21:33:46.631Z"
   },
   {
    "duration": 21,
    "start_time": "2022-07-11T21:33:46.642Z"
   },
   {
    "duration": 5,
    "start_time": "2022-07-11T21:33:46.665Z"
   },
   {
    "duration": 30,
    "start_time": "2022-07-11T21:33:46.672Z"
   },
   {
    "duration": 5,
    "start_time": "2022-07-11T21:33:46.704Z"
   },
   {
    "duration": 17,
    "start_time": "2022-07-11T21:33:46.710Z"
   },
   {
    "duration": 18,
    "start_time": "2022-07-11T21:33:46.729Z"
   },
   {
    "duration": 3823,
    "start_time": "2022-07-11T21:33:46.748Z"
   },
   {
    "duration": 11,
    "start_time": "2022-07-11T21:33:50.573Z"
   },
   {
    "duration": 4,
    "start_time": "2022-07-11T21:33:50.586Z"
   },
   {
    "duration": 278,
    "start_time": "2022-07-11T21:33:50.592Z"
   },
   {
    "duration": 10,
    "start_time": "2022-07-11T21:33:50.872Z"
   },
   {
    "duration": 5,
    "start_time": "2022-07-11T21:33:50.884Z"
   },
   {
    "duration": 6,
    "start_time": "2022-07-11T21:33:50.891Z"
   },
   {
    "duration": 424,
    "start_time": "2022-07-11T21:33:50.898Z"
   },
   {
    "duration": 15,
    "start_time": "2022-07-11T21:33:51.325Z"
   },
   {
    "duration": 36,
    "start_time": "2022-07-11T21:33:51.342Z"
   },
   {
    "duration": 508,
    "start_time": "2022-07-11T21:33:51.380Z"
   },
   {
    "duration": 4,
    "start_time": "2022-07-11T21:33:51.890Z"
   },
   {
    "duration": 11,
    "start_time": "2022-07-11T21:33:51.895Z"
   },
   {
    "duration": 19,
    "start_time": "2022-07-11T21:33:51.908Z"
   },
   {
    "duration": 13,
    "start_time": "2022-07-11T21:33:51.933Z"
   },
   {
    "duration": 12,
    "start_time": "2022-07-11T21:33:51.947Z"
   },
   {
    "duration": 13,
    "start_time": "2022-07-11T21:33:51.961Z"
   },
   {
    "duration": 11,
    "start_time": "2022-07-11T21:33:51.976Z"
   },
   {
    "duration": 14,
    "start_time": "2022-07-11T21:33:51.989Z"
   },
   {
    "duration": 51,
    "start_time": "2022-07-11T21:33:52.005Z"
   },
   {
    "duration": 23,
    "start_time": "2022-07-11T21:33:52.058Z"
   },
   {
    "duration": 448,
    "start_time": "2022-07-11T21:33:52.083Z"
   },
   {
    "duration": 469,
    "start_time": "2022-07-11T21:33:52.533Z"
   },
   {
    "duration": 185,
    "start_time": "2022-07-11T21:33:53.004Z"
   },
   {
    "duration": 7,
    "start_time": "2022-07-11T21:33:53.191Z"
   },
   {
    "duration": 10,
    "start_time": "2022-07-11T21:33:53.200Z"
   },
   {
    "duration": 22,
    "start_time": "2022-07-11T21:33:53.223Z"
   },
   {
    "duration": 85,
    "start_time": "2022-07-11T21:33:53.248Z"
   },
   {
    "duration": 192,
    "start_time": "2022-07-11T21:33:53.335Z"
   },
   {
    "duration": 11,
    "start_time": "2022-07-11T21:33:53.531Z"
   },
   {
    "duration": 6,
    "start_time": "2022-07-11T21:33:53.545Z"
   },
   {
    "duration": 14,
    "start_time": "2022-07-11T21:33:53.553Z"
   },
   {
    "duration": 60,
    "start_time": "2022-07-11T21:33:53.569Z"
   },
   {
    "duration": 12,
    "start_time": "2022-07-11T21:33:53.631Z"
   },
   {
    "duration": 102,
    "start_time": "2022-07-11T21:33:53.725Z"
   },
   {
    "duration": 5,
    "start_time": "2022-07-11T21:33:53.829Z"
   },
   {
    "duration": 21,
    "start_time": "2022-07-11T21:33:53.836Z"
   },
   {
    "duration": 9,
    "start_time": "2022-07-11T21:33:53.859Z"
   },
   {
    "duration": 56,
    "start_time": "2022-07-11T21:33:53.870Z"
   },
   {
    "duration": 98,
    "start_time": "2022-07-11T21:33:53.928Z"
   },
   {
    "duration": 7,
    "start_time": "2022-07-11T21:33:54.029Z"
   },
   {
    "duration": 8,
    "start_time": "2022-07-11T21:33:54.039Z"
   },
   {
    "duration": 75,
    "start_time": "2022-07-11T21:33:54.049Z"
   },
   {
    "duration": 13,
    "start_time": "2022-07-11T21:33:54.127Z"
   },
   {
    "duration": 18,
    "start_time": "2022-07-11T21:33:54.224Z"
   }
  ],
  "hide_input": false,
  "kernelspec": {
   "display_name": "Python 3 (ipykernel)",
   "language": "python",
   "name": "python3"
  },
  "language_info": {
   "codemirror_mode": {
    "name": "ipython",
    "version": 3
   },
   "file_extension": ".py",
   "mimetype": "text/x-python",
   "name": "python",
   "nbconvert_exporter": "python",
   "pygments_lexer": "ipython3",
   "version": "3.10.4"
  },
  "toc": {
   "base_numbering": 1,
   "nav_menu": {},
   "number_sections": true,
   "sideBar": true,
   "skip_h1_title": true,
   "title_cell": "Table of Contents",
   "title_sidebar": "Contents",
   "toc_cell": false,
   "toc_position": {},
   "toc_section_display": true,
   "toc_window_display": false
  },
  "varInspector": {
   "cols": {
    "lenName": 16,
    "lenType": 16,
    "lenVar": 40
   },
   "kernels_config": {
    "python": {
     "delete_cmd_postfix": "",
     "delete_cmd_prefix": "del ",
     "library": "var_list.py",
     "varRefreshCmd": "print(var_dic_list())"
    },
    "r": {
     "delete_cmd_postfix": ") ",
     "delete_cmd_prefix": "rm(",
     "library": "var_list.r",
     "varRefreshCmd": "cat(var_dic_list()) "
    }
   },
   "types_to_exclude": [
    "module",
    "function",
    "builtin_function_or_method",
    "instance",
    "_Feature"
   ],
   "window_display": false
  }
 },
 "nbformat": 4,
 "nbformat_minor": 4
}
